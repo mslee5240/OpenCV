{
 "cells": [
  {
   "cell_type": "markdown",
   "metadata": {
    "id": "vElVQ5qdAX6r"
   },
   "source": [
    "## **캘리포니아 주택 가격 예측하기**"
   ]
  },
  {
   "cell_type": "markdown",
   "metadata": {
    "id": "JUhgVx20Ag_I"
   },
   "source": [
    "### 1.데이터 로드하고 전처리하기\n",
    "- 라이브러리 가져오기"
   ]
  },
  {
   "cell_type": "code",
   "execution_count": 1,
   "metadata": {
    "id": "VYah3VJacsFm"
   },
   "outputs": [],
   "source": [
    "from sklearn.datasets import fetch_california_housing\n",
    "from sklearn.model_selection import train_test_split\n",
    "from sklearn.preprocessing import StandardScaler\n",
    "\n",
    "import numpy as np\n",
    "import tensorflow as tf\n",
    "from tensorflow import keras\n",
    "import matplotlib.pyplot as plt\n",
    "import pandas as pd"
   ]
  },
  {
   "cell_type": "markdown",
   "metadata": {
    "id": "KxkxJUE0cySd"
   },
   "source": [
    "- 데이터 로드하기"
   ]
  },
  {
   "cell_type": "code",
   "execution_count": 2,
   "metadata": {
    "id": "EDFiRwl4csXU"
   },
   "outputs": [],
   "source": [
    "housing = fetch_california_housing()"
   ]
  },
  {
   "cell_type": "code",
   "execution_count": 3,
   "metadata": {
    "id": "pYIvKnrJLYU_"
   },
   "outputs": [
    {
     "data": {
      "text/plain": [
       "['DESCR', 'data', 'feature_names', 'frame', 'target', 'target_names']"
      ]
     },
     "execution_count": 3,
     "metadata": {},
     "output_type": "execute_result"
    }
   ],
   "source": [
    "dir(housing)"
   ]
  },
  {
   "cell_type": "code",
   "execution_count": 4,
   "metadata": {
    "id": "tfOITkakmbIy"
   },
   "outputs": [],
   "source": [
    "X = housing.data\n",
    "y = housing.target"
   ]
  },
  {
   "cell_type": "markdown",
   "metadata": {
    "id": "WanJXv9PKu9L"
   },
   "source": [
    "- 학습용/검증용/테스트 데이터셋 분리하기"
   ]
  },
  {
   "cell_type": "code",
   "execution_count": 5,
   "metadata": {
    "id": "1XMy_YjDKvQd"
   },
   "outputs": [
    {
     "name": "stdout",
     "output_type": "stream",
     "text": [
      "(16512, 8) (4128, 8) (16512,) (4128,)\n",
      "(13209, 8) (3303, 8) (13209,) (3303,)\n"
     ]
    }
   ],
   "source": [
    "# 전체 데이터 => 학습용/테스트용 데이터로 분리하기 (random_state=42 지정)\n",
    "X_train_full, X_test, y_train_full, y_test = train_test_split(X, y, test_size=0.2, random_state=42)\n",
    "\n",
    "print(X_train_full.shape, X_test.shape, y_train_full.shape, y_test.shape)\n",
    "\n",
    "# 학습용 데이터 => 학습용/검증용 데이터로 분리하기(random_state=42 지정)\n",
    "X_train, X_valid, y_train, y_valid = train_test_split(X_train_full, y_train_full, test_size=0.2, random_state=42)\n",
    "print(X_train.shape, X_valid.shape, y_train.shape, y_valid.shape)"
   ]
  },
  {
   "cell_type": "markdown",
   "metadata": {
    "id": "S0gKadTSc3em"
   },
   "source": [
    "- 데이터 전처리하기 - 스케일링하기\n",
    "    - fit() 단계: 데이터의 각 특성(컬럼)에 대한 평균(mean)과 표준편차(standard deviation)를 계산해요. 이런 통계치는 데이터를 스케일링할 때 사용.\n",
    "    - transform() 단계: fit()에서 계산한 평균과 표준편차를 사용해 데이터를 변환. 구체적으로, 각 특성의 값에서 평균을 빼고 그 결과를 표준편차로 나눠줌으로써 데이터를 스케일링. 이 메서드는 학습 데이터에 대해 사용. 학습 데이터를 기준으로 데이터셋의 스케일을 조정하는 통계치를 계산하고, 이를 바탕으로 학습/검증/테스트 데이터셋을 변환."
   ]
  },
  {
   "cell_type": "code",
   "execution_count": 6,
   "metadata": {
    "id": "SSVqkZ6o_pY7"
   },
   "outputs": [],
   "source": [
    "scaler = StandardScaler()\n",
    "\n",
    "X_train = scaler.fit_transform(X_train)\n",
    "X_valid = scaler.transform(X_valid)\n",
    "X_test = scaler.transform(X_test)"
   ]
  },
  {
   "cell_type": "markdown",
   "metadata": {
    "id": "QmIzD6wdA1ph"
   },
   "source": [
    "- 랜덤 씨드 설정하기"
   ]
  },
  {
   "cell_type": "code",
   "execution_count": 7,
   "metadata": {
    "id": "Y30O2o_0Av6t"
   },
   "outputs": [],
   "source": [
    "np.random.seed(42)\n",
    "tf.random.set_seed(42)"
   ]
  },
  {
   "cell_type": "markdown",
   "metadata": {
    "id": "9r9Mv9EcA8Jp"
   },
   "source": [
    "### 2.모델 구성하고 학습하기"
   ]
  },
  {
   "cell_type": "markdown",
   "metadata": {
    "id": "vf9bx2QGfk_m"
   },
   "source": [
    "- 모델 구성하기"
   ]
  },
  {
   "cell_type": "code",
   "execution_count": 8,
   "metadata": {
    "id": "cWaO8LkEBF6k"
   },
   "outputs": [
    {
     "name": "stdout",
     "output_type": "stream",
     "text": [
      "Model: \"sequential\"\n",
      "_________________________________________________________________\n",
      " Layer (type)                Output Shape              Param #   \n",
      "=================================================================\n",
      " dense (Dense)               (None, 30)                270       \n",
      "                                                                 \n",
      " dense_1 (Dense)             (None, 32)                992       \n",
      "                                                                 \n",
      " dense_2 (Dense)             (None, 1)                 33        \n",
      "                                                                 \n",
      "=================================================================\n",
      "Total params: 1,295\n",
      "Trainable params: 1,295\n",
      "Non-trainable params: 0\n",
      "_________________________________________________________________\n"
     ]
    }
   ],
   "source": [
    "# input_shape 선언하고\n",
    "# 2개의 은닉층과 각 은닉층은 30개의 노드로 구성된 회귀 모델을 구성합니다.\n",
    "\n",
    "# input_shape = (8,)\n",
    "input_shape = (X_train.shape[1],)\n",
    "model = keras.models.Sequential([\n",
    "    tf.keras.layers.Input(shape=input_shape),     # 확장성이 좋은 코드\n",
    "    tf.keras.layers.Dense(30, activation='relu'),\n",
    "    tf.keras.layers.Dense(32, activation='relu'),\n",
    "    tf.keras.layers.Dense(1)\n",
    "])\n",
    "\n",
    "model.summary()"
   ]
  },
  {
   "cell_type": "markdown",
   "metadata": {
    "id": "lz8bVUCWfnGl"
   },
   "source": [
    "- 모델 컴파일하기"
   ]
  },
  {
   "cell_type": "code",
   "execution_count": 10,
   "metadata": {
    "id": "eckAuXepfXsy"
   },
   "outputs": [],
   "source": [
    "# loss = \"mean_squared_error\", optimizer = 'SGD(learning_rate=1e-3)'로 지정\n",
    "model.compile(optimizer='SGD', loss='mse', metrics=['MSE'])      # ... 코드 입력"
   ]
  },
  {
   "cell_type": "markdown",
   "metadata": {
    "id": "97fORCHZfpkb"
   },
   "source": [
    "- 모델 학습하기"
   ]
  },
  {
   "cell_type": "code",
   "execution_count": 11,
   "metadata": {
    "id": "gyhswJVJfYJv"
   },
   "outputs": [
    {
     "name": "stdout",
     "output_type": "stream",
     "text": [
      "Epoch 1/20\n",
      "413/413 [==============================] - 1s 2ms/step - loss: 1.0846 - MSE: 1.0846 - val_loss: 288.2638 - val_MSE: 288.2638\n",
      "Epoch 2/20\n",
      "413/413 [==============================] - 1s 2ms/step - loss: nan - MSE: nan - val_loss: nan - val_MSE: nan\n",
      "Epoch 3/20\n",
      "413/413 [==============================] - 1s 2ms/step - loss: nan - MSE: nan - val_loss: nan - val_MSE: nan\n",
      "Epoch 4/20\n",
      "413/413 [==============================] - 1s 2ms/step - loss: nan - MSE: nan - val_loss: nan - val_MSE: nan\n",
      "Epoch 5/20\n",
      "413/413 [==============================] - 1s 2ms/step - loss: nan - MSE: nan - val_loss: nan - val_MSE: nan\n",
      "Epoch 6/20\n",
      "413/413 [==============================] - 1s 2ms/step - loss: nan - MSE: nan - val_loss: nan - val_MSE: nan\n",
      "Epoch 7/20\n",
      "413/413 [==============================] - 1s 2ms/step - loss: nan - MSE: nan - val_loss: nan - val_MSE: nan\n",
      "Epoch 8/20\n",
      "413/413 [==============================] - 1s 2ms/step - loss: nan - MSE: nan - val_loss: nan - val_MSE: nan\n",
      "Epoch 9/20\n",
      "413/413 [==============================] - 1s 3ms/step - loss: nan - MSE: nan - val_loss: nan - val_MSE: nan\n",
      "Epoch 10/20\n",
      "413/413 [==============================] - 1s 2ms/step - loss: nan - MSE: nan - val_loss: nan - val_MSE: nan\n",
      "Epoch 11/20\n",
      "413/413 [==============================] - 1s 3ms/step - loss: nan - MSE: nan - val_loss: nan - val_MSE: nan\n",
      "Epoch 12/20\n",
      "413/413 [==============================] - 1s 2ms/step - loss: nan - MSE: nan - val_loss: nan - val_MSE: nan\n",
      "Epoch 13/20\n",
      "413/413 [==============================] - 1s 2ms/step - loss: nan - MSE: nan - val_loss: nan - val_MSE: nan\n",
      "Epoch 14/20\n",
      "413/413 [==============================] - 1s 2ms/step - loss: nan - MSE: nan - val_loss: nan - val_MSE: nan\n",
      "Epoch 15/20\n",
      "413/413 [==============================] - 1s 2ms/step - loss: nan - MSE: nan - val_loss: nan - val_MSE: nan\n",
      "Epoch 16/20\n",
      "413/413 [==============================] - 1s 2ms/step - loss: nan - MSE: nan - val_loss: nan - val_MSE: nan\n",
      "Epoch 17/20\n",
      "413/413 [==============================] - 1s 2ms/step - loss: nan - MSE: nan - val_loss: nan - val_MSE: nan\n",
      "Epoch 18/20\n",
      "413/413 [==============================] - 1s 2ms/step - loss: nan - MSE: nan - val_loss: nan - val_MSE: nan\n",
      "Epoch 19/20\n",
      "413/413 [==============================] - 1s 2ms/step - loss: nan - MSE: nan - val_loss: nan - val_MSE: nan\n",
      "Epoch 20/20\n",
      "413/413 [==============================] - 1s 2ms/step - loss: nan - MSE: nan - val_loss: nan - val_MSE: nan\n"
     ]
    }
   ],
   "source": [
    "# 학습 데이터, epochs = 20, 검증용 데이터 지정하여 학습한 후 결과를 history에 저장하기\n",
    "history = model.fit(X_train, y_train, epochs=20, validation_data=(X_valid, y_valid))"
   ]
  },
  {
   "cell_type": "markdown",
   "metadata": {
    "id": "06rj8FvhBK7s"
   },
   "source": [
    "### 3.모델 평가하고 예측하기"
   ]
  },
  {
   "cell_type": "code",
   "execution_count": 12,
   "metadata": {
    "id": "GeOZtw1CBP3Y"
   },
   "outputs": [
    {
     "name": "stdout",
     "output_type": "stream",
     "text": [
      "129/129 [==============================] - 0s 3ms/step - loss: nan - MSE: nan\n",
      "129/129 [==============================] - 0s 907us/step\n"
     ]
    },
    {
     "data": {
      "text/plain": [
       "array([[nan],\n",
       "       [nan],\n",
       "       [nan],\n",
       "       ...,\n",
       "       [nan],\n",
       "       [nan],\n",
       "       [nan]], dtype=float32)"
      ]
     },
     "execution_count": 12,
     "metadata": {},
     "output_type": "execute_result"
    }
   ],
   "source": [
    "# 테스트 데이터로 평가하기\n",
    "mse_test = model.evaluate(X_test, y_test)\n",
    "\n",
    "# 테스트 데이터로 예측하기\n",
    "X_new = X_test[:3]\n",
    "y_pred = model.predict(X_test)\n",
    "y_pred"
   ]
  },
  {
   "cell_type": "markdown",
   "metadata": {
    "id": "0zDVg2tpBWum"
   },
   "source": [
    "### 4.학습 과정 살펴보기"
   ]
  },
  {
   "cell_type": "code",
   "execution_count": 13,
   "metadata": {
    "id": "UKTw7tdkBc0I"
   },
   "outputs": [
    {
     "data": {
      "image/png": "[encoded data removed]",
      "text/plain": [
       "<Figure size 640x480 with 1 Axes>"
      ]
     },
     "metadata": {},
     "output_type": "display_data"
    }
   ],
   "source": [
    "# 방법1\n",
    "plt.plot(pd.DataFrame(history.history))\n",
    "plt.grid(True)\n",
    "plt.gca().set_ylim(0, 1)\n",
    "plt.show()"
   ]
  },
  {
   "cell_type": "code",
   "execution_count": null,
   "metadata": {
    "id": "C2WNsVnBS0_r"
   },
   "outputs": [],
   "source": [
    "# 학습과정 나타내기 방법2\n",
    "fig , ax = plt.subplots(1,2)\n",
    "train_acc = history.history['MSE']\n",
    "train_loss = history.history['loss']\n",
    "val_acc = history.history['val_MSE']\n",
    "val_loss = history.history['val_loss']\n",
    "fig.set_size_inches(15,7)\n",
    "\n",
    "epochs = range(1, len(train_acc) + 1)\n",
    "\n",
    "ax[0].plot(epochs , train_acc , 'go-' , label = 'Training MSE')\n",
    "ax[0].plot(epochs , val_acc , 'ro-' , label = 'Validation MSE')\n",
    "ax[0].set_title('Training & Validation MSE')\n",
    "ax[0].legend()\n",
    "ax[0].set_xlabel(\"Epochs\")\n",
    "ax[0].set_ylabel(\"MSE\")\n",
    "\n",
    "ax[1].plot(epochs , train_loss , 'g-o' , label = 'Training Loss')\n",
    "ax[1].plot(epochs , val_loss , 'r-o' , label = 'Validation Loss')\n",
    "ax[1].set_title('Testing & Validation Loss')\n",
    "ax[1].legend()\n",
    "ax[1].set_xlabel(\"Epochs\")\n",
    "ax[1].set_ylabel(\"Loss\")\n",
    "plt.show()"
   ]
  },
  {
   "cell_type": "markdown",
   "metadata": {
    "id": "oHKRNDo_BleV"
   },
   "source": [
    "### 5.저장 및 불러오기"
   ]
  },
  {
   "cell_type": "code",
   "execution_count": null,
   "metadata": {
    "id": "ARIbqXTACKX7"
   },
   "outputs": [],
   "source": [
    "# 모델 구성하기\n",
    "model = keras.models.Sequential([\n",
    "    keras.layers.Dense(30, activation=\"relu\", input_shape=[8]),\n",
    "    keras.layers.Dense(30, activation=\"relu\"),\n",
    "    keras.layers.Dense(1)\n",
    "])"
   ]
  },
  {
   "cell_type": "code",
   "execution_count": null,
   "metadata": {
    "id": "z_AKyQgWCNgo"
   },
   "outputs": [],
   "source": [
    "# 모델 컴파일하기 : optimizer='sgd', loss='mean_squared_error', metrics=['accuracy']\n",
    "model.compile(loss=...  # ... 코드 입력\n",
    "\n",
    "# 모델 학습하기\n",
    "history = ...         # ... 코드 입력\n",
    "\n",
    "# 모델 평가하기\n",
    "mse_test = ...         # ... 코드 입력\n",
    "\n",
    "# 모델 예측하기\n",
    "model.predict(X_new)"
   ]
  },
  {
   "cell_type": "markdown",
   "metadata": {
    "id": "dZftyaMYFZQB"
   },
   "source": [
    "- 모델 저장하고 불러우고"
   ]
  },
  {
   "cell_type": "code",
   "execution_count": null,
   "metadata": {
    "id": "JapjteQHF-Ao"
   },
   "outputs": [],
   "source": [
    "#model.save(\"my_keras_model.h5\")\n",
    "#model = keras.models.load_model(\"my_keras_model.h5\")\n",
    "\n",
    "model.save(\"my_keras_model.keras\")\n",
    "\n",
    "model = keras.models.load_model(\"my_keras_model.keras\")"
   ]
  },
  {
   "cell_type": "markdown",
   "metadata": {
    "id": "QTcQQnUsCzqw"
   },
   "source": [
    "### 6.훈련과정에서 콜백 사용하기"
   ]
  },
  {
   "cell_type": "code",
   "execution_count": null,
   "metadata": {
    "id": "uIC8HFxjC6fJ"
   },
   "outputs": [],
   "source": [
    "keras.backend.clear_session()\n",
    "np.random.seed(42)\n",
    "tf.random.set_seed(42)"
   ]
  },
  {
   "cell_type": "markdown",
   "metadata": {
    "id": "KzUJkVzUjfT2"
   },
   "source": [
    "- 모델 구성하기"
   ]
  },
  {
   "cell_type": "code",
   "execution_count": null,
   "metadata": {
    "id": "sIckSJGbC6mA"
   },
   "outputs": [],
   "source": [
    "model2 = keras.models.Sequential([\n",
    "    keras.layers.Dense(30, activation=\"relu\", input_shape=[8]),\n",
    "    keras.layers.Dense(30, activation=\"relu\"),\n",
    "    keras.layers.Dense(1)\n",
    "])"
   ]
  },
  {
   "cell_type": "markdown",
   "metadata": {
    "id": "KLOfZ5ysjdg3"
   },
   "source": [
    "- 모델 컴파일하기"
   ]
  },
  {
   "cell_type": "code",
   "execution_count": null,
   "metadata": {
    "id": "W_NenqDdjYny"
   },
   "outputs": [],
   "source": [
    "model2.compile(optimizer='sgd', loss='mean_squared_error', metrics=['accuracy'])"
   ]
  },
  {
   "cell_type": "code",
   "execution_count": null,
   "metadata": {
    "id": "9FPB3uRmDHE8"
   },
   "outputs": [],
   "source": [
    "\n",
    "# 체크 포인트 저장하기\n",
    "early_stop = keras.callbacks.EarlyStopping(patience=10,\n",
    "                                                  restore_best_weights=True)\n",
    "# 조기 종료하기\n",
    "check_point = keras.callbacks.ModelCheckpoint(\"my_keras_model.h5\", save_best_only=True)\n",
    "\n",
    "# 콜백 적용하여 학습하기\n",
    "history = model2.fit(X_train, y_train, epochs=100,\n",
    "                    validation_data=(X_valid, y_valid),\n",
    "                    callbacks=[check_point, early_stop])"
   ]
  }
 ],
 "metadata": {
  "colab": {
   "authorship_tag": "ABX9TyN9NhUlUaotJn5Da8JOp3nw",
   "private_outputs": true,
   "provenance": []
  },
  "kernelspec": {
   "display_name": "mygpu",
   "language": "python",
   "name": "python3"
  },
  "language_info": {
   "codemirror_mode": {
    "name": "ipython",
    "version": 3
   },
   "file_extension": ".py",
   "mimetype": "text/x-python",
   "name": "python",
   "nbconvert_exporter": "python",
   "pygments_lexer": "ipython3",
   "version": "3.10.16"
  }
 },
 "nbformat": 4,
 "nbformat_minor": 0
}
