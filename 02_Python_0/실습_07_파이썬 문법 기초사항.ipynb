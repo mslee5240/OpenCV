{
 "cells": [
  {
   "cell_type": "markdown",
   "metadata": {},
   "source": [
    "## **예제로 파이썬 만나보기**\n",
    "\n",
    " 1.gtts 모듈 설치  \n",
    " 2.관련 모듈 import  \n",
    " 3.지원 언어 파악하기기  \n",
    " 4.텍스트 음성 변환  "
   ]
  },
  {
   "cell_type": "code",
   "execution_count": 5,
   "metadata": {},
   "outputs": [
    {
     "name": "stdout",
     "output_type": "stream",
     "text": [
      "Requirement already satisfied: gtts in c:\\users\\biz\\anaconda3\\lib\\site-packages (2.5.3)\n",
      "Requirement already satisfied: requests<3,>=2.27 in c:\\users\\biz\\anaconda3\\lib\\site-packages (from gtts) (2.31.0)\n",
      "Requirement already satisfied: click<8.2,>=7.1 in c:\\users\\biz\\anaconda3\\lib\\site-packages (from gtts) (8.1.7)\n",
      "Requirement already satisfied: colorama in c:\\users\\biz\\appdata\\roaming\\python\\python311\\site-packages (from click<8.2,>=7.1->gtts) (0.4.6)\n",
      "Requirement already satisfied: charset-normalizer<4,>=2 in c:\\users\\biz\\anaconda3\\lib\\site-packages (from requests<3,>=2.27->gtts) (2.0.4)\n",
      "Requirement already satisfied: idna<4,>=2.5 in c:\\users\\biz\\anaconda3\\lib\\site-packages (from requests<3,>=2.27->gtts) (3.4)\n",
      "Requirement already satisfied: urllib3<3,>=1.21.1 in c:\\users\\biz\\anaconda3\\lib\\site-packages (from requests<3,>=2.27->gtts) (2.0.7)\n",
      "Requirement already satisfied: certifi>=2017.4.17 in c:\\users\\biz\\anaconda3\\lib\\site-packages (from requests<3,>=2.27->gtts) (2024.2.2)\n"
     ]
    }
   ],
   "source": [
    "# 1.gtts 모듈 설치\n",
    "# https://gtts.readthedocs.io/en/latest/index.html\n",
    "!pip install gtts "
   ]
  },
  {
   "cell_type": "code",
   "execution_count": 6,
   "metadata": {},
   "outputs": [],
   "source": [
    "# 2.관련 모듈 import\n",
    "import os\n",
    "import gtts \n",
    "import IPython.display "
   ]
  },
  {
   "cell_type": "code",
   "execution_count": 7,
   "metadata": {},
   "outputs": [
    {
     "name": "stdout",
     "output_type": "stream",
     "text": [
      "{'af': 'Afrikaans', 'am': 'Amharic', 'ar': 'Arabic', 'bg': 'Bulgarian', 'bn': 'Bengali', 'bs': 'Bosnian', 'ca': 'Catalan', 'cs': 'Czech', 'cy': 'Welsh', 'da': 'Danish', 'de': 'German', 'el': 'Greek', 'en': 'English', 'es': 'Spanish', 'et': 'Estonian', 'eu': 'Basque', 'fi': 'Finnish', 'fr': 'French', 'gl': 'Galician', 'gu': 'Gujarati', 'ha': 'Hausa', 'hi': 'Hindi', 'hr': 'Croatian', 'hu': 'Hungarian', 'id': 'Indonesian', 'is': 'Icelandic', 'it': 'Italian', 'iw': 'Hebrew', 'ja': 'Japanese', 'jw': 'Javanese', 'km': 'Khmer', 'kn': 'Kannada', 'ko': 'Korean', 'la': 'Latin', 'lt': 'Lithuanian', 'lv': 'Latvian', 'ml': 'Malayalam', 'mr': 'Marathi', 'ms': 'Malay', 'my': 'Myanmar (Burmese)', 'ne': 'Nepali', 'nl': 'Dutch', 'no': 'Norwegian', 'pa': 'Punjabi (Gurmukhi)', 'pl': 'Polish', 'pt': 'Portuguese (Brazil)', 'pt-PT': 'Portuguese (Portugal)', 'ro': 'Romanian', 'ru': 'Russian', 'si': 'Sinhala', 'sk': 'Slovak', 'sq': 'Albanian', 'sr': 'Serbian', 'su': 'Sundanese', 'sv': 'Swedish', 'sw': 'Swahili', 'ta': 'Tamil', 'te': 'Telugu', 'th': 'Thai', 'tl': 'Filipino', 'tr': 'Turkish', 'uk': 'Ukrainian', 'ur': 'Urdu', 'vi': 'Vietnamese', 'yue': 'Cantonese', 'zh-CN': 'Chinese (Simplified)', 'zh-TW': 'Chinese (Mandarin/Taiwan)', 'zh': 'Chinese (Mandarin)'}\n"
     ]
    }
   ],
   "source": [
    "# 3.지원 언어 파악하기\n",
    "print(gtts.lang.tts_langs())"
   ]
  },
  {
   "cell_type": "code",
   "execution_count": 4,
   "metadata": {},
   "outputs": [
    {
     "data": {
      "text/html": [
       "\n",
       "                <audio  controls=\"controls\" autoplay=\"autoplay\">\n",
       "                    <source src=\"data:audio/mpeg;base64,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\" type=\"audio/mpeg\" />\n",
       "                    Your browser does not support the audio element.\n",
       "                </audio>\n",
       "              "
      ],
      "text/plain": [
       "<IPython.lib.display.Audio object>"
      ]
     },
     "metadata": {},
     "output_type": "display_data"
    }
   ],
   "source": [
    "# 4.텍스트 음성 변환\n",
    "text = \"안녕하세요. 파이썬 수업입니다.\"\n",
    "\n",
    "tts = gtts.gTTS(text=text, lang='ko')\n",
    "tts.save(\"tts.mp3\")\n",
    "\n",
    "sound_file = 'tts.mp3'\n",
    "wn = IPython.display.Audio(sound_file, autoplay=True)\n",
    "IPython.display.display(wn)"
   ]
  },
  {
   "cell_type": "markdown",
   "metadata": {},
   "source": [
    "# 07_파이썬 문법 기초 사항"
   ]
  },
  {
   "cell_type": "markdown",
   "metadata": {},
   "source": [
    "### 1. 할당 구문"
   ]
  },
  {
   "cell_type": "code",
   "execution_count": 10,
   "metadata": {},
   "outputs": [
    {
     "data": {
      "text/plain": [
       "'Python'"
      ]
     },
     "execution_count": 10,
     "metadata": {},
     "output_type": "execute_result"
    }
   ],
   "source": [
    "str1 = 'Python'\n",
    "str1"
   ]
  },
  {
   "cell_type": "markdown",
   "metadata": {},
   "source": [
    "### 2. 문장쓰기"
   ]
  },
  {
   "cell_type": "code",
   "execution_count": 13,
   "metadata": {},
   "outputs": [],
   "source": [
    "num1 = 1\n",
    "num2 = 2"
   ]
  },
  {
   "cell_type": "code",
   "execution_count": 15,
   "metadata": {},
   "outputs": [
    {
     "name": "stdout",
     "output_type": "stream",
     "text": [
      "1\n",
      "2\n"
     ]
    }
   ],
   "source": [
    "print(num1)\n",
    "print(num2)"
   ]
  },
  {
   "cell_type": "code",
   "execution_count": 2,
   "metadata": {},
   "outputs": [],
   "source": [
    "num1 = 1 ; num2 = 2"
   ]
  },
  {
   "cell_type": "code",
   "execution_count": 3,
   "metadata": {},
   "outputs": [],
   "source": [
    "num3 = num1 + num2"
   ]
  },
  {
   "cell_type": "code",
   "execution_count": 4,
   "metadata": {},
   "outputs": [],
   "source": [
    "num4 = 'a' + 'b' + \\\n",
    "    'c' + 'd'     "
   ]
  },
  {
   "cell_type": "code",
   "execution_count": 5,
   "metadata": {},
   "outputs": [],
   "source": [
    "num5 = ('a' + 'b' +\n",
    "    'c' + 'd')                     "
   ]
  },
  {
   "cell_type": "code",
   "execution_count": 6,
   "metadata": {},
   "outputs": [],
   "source": [
    "str = 'python'\n",
    "str1 = \"python\"\n",
    "version = 3.7 "
   ]
  },
  {
   "cell_type": "markdown",
   "metadata": {},
   "source": [
    "### 3. 주석 "
   ]
  },
  {
   "cell_type": "code",
   "execution_count": 7,
   "metadata": {},
   "outputs": [],
   "source": [
    "#  한줄 주석에는 # 기호를 씀\n",
    "\n",
    "# 변수에 값 지정하기\n",
    "num = 1"
   ]
  },
  {
   "cell_type": "code",
   "execution_count": null,
   "metadata": {},
   "outputs": [],
   "source": [
    "# 여러줄 주석\n",
    "\"\"\"\n",
    "여러줄 주석은 없으나 \n",
    "다중 문자열에 사용하는 “”” ~ “”” 형태로 사용하기도 함\n",
    "\"\"\""
   ]
  },
  {
   "cell_type": "markdown",
   "metadata": {},
   "source": [
    "### 4. 들여쓰기"
   ]
  },
  {
   "cell_type": "code",
   "execution_count": 10,
   "metadata": {},
   "outputs": [
    {
     "name": "stdout",
     "output_type": "stream",
     "text": [
      "0\n",
      "0\n",
      "0\n",
      "1\n",
      "1\n",
      "1\n",
      "2\n",
      "2\n",
      "2\n",
      "3\n",
      "3\n",
      "3\n",
      "4\n",
      "4\n",
      "4\n"
     ]
    }
   ],
   "source": [
    "# 반복문\n",
    "for i in range(5):\n",
    "    print(i)\n",
    "    print(i)\n",
    "    print(i)"
   ]
  },
  {
   "cell_type": "code",
   "execution_count": null,
   "metadata": {},
   "outputs": [],
   "source": [
    "# 함수 \n",
    "def print_information():\n",
    "    \"\"\"\n",
    "    여러줄 주석은 없으나 \n",
    "    다중 문자열에 사용하는 “”” ~ “”” 형태로 사용하기도 함\n",
    "    \"\"\"\n",
    "    print(\"kang\")\n",
    "    print(\"010-100-1000\")\n",
    "    \n",
    "print_information()"
   ]
  },
  {
   "cell_type": "code",
   "execution_count": null,
   "metadata": {},
   "outputs": [],
   "source": [
    "for i in range(5):\n",
    "    print_information()"
   ]
  },
  {
   "cell_type": "code",
   "execution_count": 11,
   "metadata": {},
   "outputs": [],
   "source": [
    "a = 1"
   ]
  },
  {
   "cell_type": "code",
   "execution_count": 12,
   "metadata": {},
   "outputs": [
    {
     "data": {
      "text/plain": [
       "1"
      ]
     },
     "execution_count": 12,
     "metadata": {},
     "output_type": "execute_result"
    }
   ],
   "source": [
    " a"
   ]
  },
  {
   "cell_type": "markdown",
   "metadata": {},
   "source": [
    "### 연습문제"
   ]
  },
  {
   "cell_type": "code",
   "execution_count": 13,
   "metadata": {},
   "outputs": [
    {
     "name": "stdout",
     "output_type": "stream",
     "text": [
      "python 사용 버전은 3.11 입니다\n"
     ]
    }
   ],
   "source": [
    "'''\n",
    "주석, 변수명, 숫자와 문자열\n",
    "테스트 프로그램\n",
    "'''\n",
    "\n",
    "...          # .. code here\n",
    "...      # .. code here\n",
    "\n",
    "# print 함수는 내용을 출력해주는 함수입니다\n",
    "# print 함수를 사용하여 아래와 같은 결과가 출력되도록 코드를 작성해 보세요\n",
    "\n",
    "print(f'{program_name} 사용 버전은 {version} 입니다') # .. code here"
   ]
  },
  {
   "cell_type": "code",
   "execution_count": null,
   "metadata": {},
   "outputs": [],
   "source": []
  }
 ],
 "metadata": {
  "kernelspec": {
   "display_name": "Python 3 (ipykernel)",
   "language": "python",
   "name": "python3"
  },
  "language_info": {
   "codemirror_mode": {
    "name": "ipython",
    "version": 3
   },
   "file_extension": ".py",
   "mimetype": "text/x-python",
   "name": "python",
   "nbconvert_exporter": "python",
   "pygments_lexer": "ipython3",
   "version": "3.11.7"
  }
 },
 "nbformat": 4,
 "nbformat_minor": 4
}
