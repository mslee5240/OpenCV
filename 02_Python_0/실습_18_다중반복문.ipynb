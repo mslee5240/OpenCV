{
 "cells": [
  {
   "cell_type": "markdown",
   "metadata": {},
   "source": [
    "# 18_다중반복문"
   ]
  },
  {
   "cell_type": "code",
   "execution_count": 2,
   "metadata": {},
   "outputs": [
    {
     "name": "stdin",
     "output_type": "stream",
     "text": [
      "출력할 하트수를 입력하세요 >  4\n"
     ]
    },
    {
     "name": "stdout",
     "output_type": "stream",
     "text": [
      "♥♥♥♥"
     ]
    }
   ],
   "source": [
    "a = int(input('출력할 하트수를 입력하세요 > '))\n",
    "\n",
    "for i in range(1, a+1) :\n",
    "    print('♥', end='')"
   ]
  },
  {
   "cell_type": "code",
   "execution_count": 5,
   "metadata": {},
   "outputs": [
    {
     "name": "stdin",
     "output_type": "stream",
     "text": [
      "하트를 몇 줄 출력할까요? :  5\n",
      "출력할 하트 수를 입력하세요 :  3\n"
     ]
    },
    {
     "name": "stdout",
     "output_type": "stream",
     "text": [
      "\n",
      "♥♥♥\n",
      "♥♥♥\n",
      "♥♥♥\n",
      "♥♥♥\n",
      "♥♥♥"
     ]
    }
   ],
   "source": [
    "# 이중 for문을 사용하여 하트를 여러 줄에 출력하기 - 줄과 하트 수 입력받기\n",
    "\n",
    "a = int(input('하트를 몇 줄 출력할까요? : '))   # 가변 이중 loop 입력을 받아서 \n",
    "b = int(input('출력할 하트 수를 입력하세요 : '))\n",
    "\n",
    "for i in range(1, a+1):\n",
    "    print()\n",
    "    for j in range(1, b+1):\n",
    "        print('♥', end='')"
   ]
  },
  {
   "cell_type": "code",
   "execution_count": 6,
   "metadata": {},
   "outputs": [
    {
     "name": "stdin",
     "output_type": "stream",
     "text": [
      "하트를 몇 줄 출력할까요? :  5\n"
     ]
    },
    {
     "name": "stdout",
     "output_type": "stream",
     "text": [
      "\n",
      "♥\n",
      "♥♥\n",
      "♥♥♥\n",
      "♥♥♥♥\n",
      "♥♥♥♥♥"
     ]
    }
   ],
   "source": [
    "# 라인수와 하트 수가 같게 출력하기\n",
    "\n",
    "a = int(input('하트를 몇 줄 출력할까요? : '))   # 가변 이중 loop 입력을 받아서 \n",
    "\n",
    "# code here\n",
    "\n",
    "\n",
    "\n",
    "\n"
   ]
  },
  {
   "cell_type": "code",
   "execution_count": 2,
   "metadata": {},
   "outputs": [
    {
     "name": "stdout",
     "output_type": "stream",
     "text": [
      "2 * 1 =  2\n",
      "2 * 2 =  4\n",
      "2 * 3 =  6\n",
      "2 * 4 =  8\n",
      "2 * 5 = 10\n",
      "2 * 6 = 12\n",
      "2 * 7 = 14\n",
      "2 * 8 = 16\n",
      "2 * 9 = 18\n",
      "\n",
      "3 * 1 =  3\n",
      "3 * 2 =  6\n",
      "3 * 3 =  9\n",
      "3 * 4 = 12\n",
      "3 * 5 = 15\n",
      "3 * 6 = 18\n",
      "3 * 7 = 21\n",
      "3 * 8 = 24\n",
      "3 * 9 = 27\n",
      "\n",
      "4 * 1 =  4\n",
      "4 * 2 =  8\n",
      "4 * 3 = 12\n",
      "4 * 4 = 16\n",
      "4 * 5 = 20\n",
      "4 * 6 = 24\n",
      "4 * 7 = 28\n",
      "4 * 8 = 32\n",
      "4 * 9 = 36\n",
      "\n",
      "5 * 1 =  5\n",
      "5 * 2 = 10\n",
      "5 * 3 = 15\n",
      "5 * 4 = 20\n",
      "5 * 5 = 25\n",
      "5 * 6 = 30\n",
      "5 * 7 = 35\n",
      "5 * 8 = 40\n",
      "5 * 9 = 45\n",
      "\n",
      "6 * 1 =  6\n",
      "6 * 2 = 12\n",
      "6 * 3 = 18\n",
      "6 * 4 = 24\n",
      "6 * 5 = 30\n",
      "6 * 6 = 36\n",
      "6 * 7 = 42\n",
      "6 * 8 = 48\n",
      "6 * 9 = 54\n",
      "\n",
      "7 * 1 =  7\n",
      "7 * 2 = 14\n",
      "7 * 3 = 21\n",
      "7 * 4 = 28\n",
      "7 * 5 = 35\n",
      "7 * 6 = 42\n",
      "7 * 7 = 49\n",
      "7 * 8 = 56\n",
      "7 * 9 = 63\n",
      "\n",
      "8 * 1 =  8\n",
      "8 * 2 = 16\n",
      "8 * 3 = 24\n",
      "8 * 4 = 32\n",
      "8 * 5 = 40\n",
      "8 * 6 = 48\n",
      "8 * 7 = 56\n",
      "8 * 8 = 64\n",
      "8 * 9 = 72\n",
      "\n",
      "9 * 1 =  9\n",
      "9 * 2 = 18\n",
      "9 * 3 = 27\n",
      "9 * 4 = 36\n",
      "9 * 5 = 45\n",
      "9 * 6 = 54\n",
      "9 * 7 = 63\n",
      "9 * 8 = 72\n",
      "9 * 9 = 81\n",
      "\n"
     ]
    }
   ],
   "source": [
    "# 이중 포문\n",
    "i , j = 0, 0\n",
    "\n",
    "for i in range (2,10,1) :\n",
    "    for j in range(1,10,1) :\n",
    "        print('%d * %d = %2d' %(i, j , i *j))\n",
    "    print()\n",
    "    "
   ]
  },
  {
   "cell_type": "code",
   "execution_count": 1,
   "metadata": {},
   "outputs": [
    {
     "name": "stdout",
     "output_type": "stream",
     "text": [
      " 2 *  1 =  2 3 *  1 =  3 4 *  1 =  4 5 *  1 =  5 6 *  1 =  6 7 *  1 =  7 8 *  1 =  8 9 *  1 =  9\n",
      " 2 *  2 =  4 3 *  2 =  6 4 *  2 =  8 5 *  2 = 10 6 *  2 = 12 7 *  2 = 14 8 *  2 = 16 9 *  2 = 18\n",
      " 2 *  3 =  6 3 *  3 =  9 4 *  3 = 12 5 *  3 = 15 6 *  3 = 18 7 *  3 = 21 8 *  3 = 24 9 *  3 = 27\n",
      " 2 *  4 =  8 3 *  4 = 12 4 *  4 = 16 5 *  4 = 20 6 *  4 = 24 7 *  4 = 28 8 *  4 = 32 9 *  4 = 36\n",
      " 2 *  5 = 10 3 *  5 = 15 4 *  5 = 20 5 *  5 = 25 6 *  5 = 30 7 *  5 = 35 8 *  5 = 40 9 *  5 = 45\n",
      " 2 *  6 = 12 3 *  6 = 18 4 *  6 = 24 5 *  6 = 30 6 *  6 = 36 7 *  6 = 42 8 *  6 = 48 9 *  6 = 54\n",
      " 2 *  7 = 14 3 *  7 = 21 4 *  7 = 28 5 *  7 = 35 6 *  7 = 42 7 *  7 = 49 8 *  7 = 56 9 *  7 = 63\n",
      " 2 *  8 = 16 3 *  8 = 24 4 *  8 = 32 5 *  8 = 40 6 *  8 = 48 7 *  8 = 56 8 *  8 = 64 9 *  8 = 72\n",
      " 2 *  9 = 18 3 *  9 = 27 4 *  9 = 36 5 *  9 = 45 6 *  9 = 54 7 *  9 = 63 8 *  9 = 72 9 *  9 = 81\n"
     ]
    }
   ],
   "source": [
    "# 이중 포문\n",
    "i, j , line = 0, 0, ''\n",
    "\n",
    "for i in range(1,10) :\n",
    "    line = ''\n",
    "    for j in range(2, 10):\n",
    "        line = line + str('%2d * %2d = %2d' % (j, i , j *i))\n",
    "    print(line)"
   ]
  },
  {
   "cell_type": "code",
   "execution_count": 15,
   "metadata": {},
   "outputs": [
    {
     "name": "stdout",
     "output_type": "stream",
     "text": [
      " 2 * 1 =  2 2 * 2 =  4 2 * 3 =  6 2 * 4 =  8 2 * 5 = 10 2 * 6 = 12 2 * 7 = 14 2 * 8 = 16 2 * 9 = 18\n",
      " 3 * 1 =  3 3 * 2 =  6 3 * 3 =  9 3 * 4 = 12 3 * 5 = 15 3 * 6 = 18 3 * 7 = 21 3 * 8 = 24 3 * 9 = 27\n",
      " 4 * 1 =  4 4 * 2 =  8 4 * 3 = 12 4 * 4 = 16 4 * 5 = 20 4 * 6 = 24 4 * 7 = 28 4 * 8 = 32 4 * 9 = 36\n",
      " 5 * 1 =  5 5 * 2 = 10 5 * 3 = 15 5 * 4 = 20 5 * 5 = 25 5 * 6 = 30 5 * 7 = 35 5 * 8 = 40 5 * 9 = 45\n",
      " 6 * 1 =  6 6 * 2 = 12 6 * 3 = 18 6 * 4 = 24 6 * 5 = 30 6 * 6 = 36 6 * 7 = 42 6 * 8 = 48 6 * 9 = 54\n",
      " 7 * 1 =  7 7 * 2 = 14 7 * 3 = 21 7 * 4 = 28 7 * 5 = 35 7 * 6 = 42 7 * 7 = 49 7 * 8 = 56 7 * 9 = 63\n",
      " 8 * 1 =  8 8 * 2 = 16 8 * 3 = 24 8 * 4 = 32 8 * 5 = 40 8 * 6 = 48 8 * 7 = 56 8 * 8 = 64 8 * 9 = 72\n",
      " 9 * 1 =  9 9 * 2 = 18 9 * 3 = 27 9 * 4 = 36 9 * 5 = 45 9 * 6 = 54 9 * 7 = 63 9 * 8 = 72 9 * 9 = 81\n"
     ]
    }
   ],
   "source": [
    "# 중첩된 while 반복문\n",
    "dan = 2\n",
    "while dan <= 9 :\n",
    "    num = 1\n",
    "    while num <= 9 :\n",
    "        result = dan * num\n",
    "        print( '%2d'%dan, '*',num,'= %2d' %result , end ='')\n",
    "        num = num + 1\n",
    "    print()\n",
    "    dan = dan + 1"
   ]
  },
  {
   "cell_type": "markdown",
   "metadata": {},
   "source": [
    "### 8. 입력 값을 하트로 나타내기\n",
    "숫자를 입력 받아 입력 받은 숫자만큼 한 줄에  하트( \\u를 출력하세요.\u000b",
    "예를 들어 345를 입력하면 첫줄에 하트 3개, 두번째 줄에 4개, 세번째 줄에 5개를 출력함"
   ]
  },
  {
   "cell_type": "code",
   "execution_count": 3,
   "metadata": {},
   "outputs": [
    {
     "name": "stdout",
     "output_type": "stream",
     "text": [
      "숫자를 입력하세요 > 2451\n",
      "♥♥\n",
      "♥♥♥♥\n",
      "♥♥♥♥♥\n",
      "♥\n"
     ]
    }
   ],
   "source": [
    "i, k, heartNum = 0, 0, 0                      # 변수 초기화를 해주지 않으면 반복 실행시 값이 유지됨\n",
    "numStr, ch, heartStr = '', '', ''\n",
    "\n",
    "numStr = input('숫자를 입력하세요 > ')           # 문자열에서 인덱싱하기 , input은 string으로 받음\n",
    "\n",
    "i = 0\n",
    "ch = numStr[i]\n",
    "\n",
    "while True :\n",
    "    heartNum = int(ch)\n",
    "    \n",
    "    heartStr = ''\n",
    "    for k in range(0, heartNum) :\n",
    "        heartStr += '♥'\n",
    "        k += 1\n",
    "    print(heartStr)\n",
    "    \n",
    "    i += 1\n",
    "    if i > len(numStr) - 1 : \n",
    "        break\n",
    "        \n",
    "    ch = numStr[i]"
   ]
  },
  {
   "cell_type": "code",
   "execution_count": null,
   "metadata": {},
   "outputs": [],
   "source": []
  }
 ],
 "metadata": {
  "kernelspec": {
   "display_name": "Python 3 (ipykernel)",
   "language": "python",
   "name": "python3"
  },
  "language_info": {
   "codemirror_mode": {
    "name": "ipython",
    "version": 3
   },
   "file_extension": ".py",
   "mimetype": "text/x-python",
   "name": "python",
   "nbconvert_exporter": "python",
   "pygments_lexer": "ipython3",
   "version": "3.11.7"
  }
 },
 "nbformat": 4,
 "nbformat_minor": 4
}
