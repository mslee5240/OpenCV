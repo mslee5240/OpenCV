{
 "cells": [
  {
   "cell_type": "markdown",
   "metadata": {},
   "source": [
    "# 08_데이터저장-객체와 변수"
   ]
  },
  {
   "cell_type": "markdown",
   "metadata": {},
   "source": [
    "### 1. 객체 선언"
   ]
  },
  {
   "cell_type": "markdown",
   "metadata": {},
   "source": [
    "http://pythontutor.com/live.html#mode=edit"
   ]
  },
  {
   "cell_type": "markdown",
   "metadata": {},
   "source": [
    "# **변수**"
   ]
  },
  {
   "cell_type": "markdown",
   "metadata": {},
   "source": [
    "## **[1] 변수란?**\n",
    "- 데이터를 저장하고 추후에 사용할 수 있게 해주는 저장 공간\n",
    "- 이름과 값으로 구성\n",
    "- 이름은 변수를 참조할 때 사용되고 값은 실제 데이터를 의미"
   ]
  },
  {
   "cell_type": "markdown",
   "metadata": {},
   "source": [
    "### 2. 변수를 만드는 방법\n",
    "- **`변수 이름 = 저장할 값`**\n",
    "- 파이썬에서 '='는 변수를 저장할 때 사용하고, 등호는 '=='를 이용합니다."
   ]
  },
  {
   "cell_type": "markdown",
   "metadata": {},
   "source": [
    "### 3. 변수명 생성 규칙\n",
    "- **영문자 + 숫자(혹은 언더바 `_`)**의 형식을 사용합니다.\r",
    "    >- ex) `a, a1, data1, data_12\n",
    "    `\r\n",
    "- 주의할            -\n",
    " - 숫자가 맨 앞에 오면 안됩니    -\r\n",
    " - 언더바 외 특수문자가 들어가면 안됩    -.\r\n",
    " - 공백이 들어가면 안    -다.\r\n",
    " - 소문자와 대문자는 구분되어 사용됩니다."
   ]
  },
  {
   "cell_type": "code",
   "execution_count": null,
   "metadata": {},
   "outputs": [],
   "source": [
    "number = 4"
   ]
  },
  {
   "cell_type": "code",
   "execution_count": null,
   "metadata": {},
   "outputs": [],
   "source": [
    "number_7 = 5                      #변수명에 숫자,문자, 밑줄 사용가능\n",
    "type(number_7)"
   ]
  },
  {
   "cell_type": "code",
   "execution_count": null,
   "metadata": {},
   "outputs": [],
   "source": [
    "num = 9\n",
    "id(num)"
   ]
  },
  {
   "cell_type": "code",
   "execution_count": null,
   "metadata": {},
   "outputs": [],
   "source": [
    "Num = 7\n",
    "id(Num)"
   ]
  },
  {
   "cell_type": "code",
   "execution_count": null,
   "metadata": {},
   "outputs": [],
   "source": [
    "number 2 = 20                     # 변수명에 공백 사용할 수 없음"
   ]
  },
  {
   "cell_type": "code",
   "execution_count": null,
   "metadata": {},
   "outputs": [],
   "source": [
    "1num = 4                          # 변수명은 숫자로 시작할 수 없음"
   ]
  },
  {
   "cell_type": "code",
   "execution_count": null,
   "metadata": {},
   "outputs": [],
   "source": [
    "학생수 = 8                        # 변수명에 한글 사용 가능"
   ]
  },
  {
   "cell_type": "code",
   "execution_count": null,
   "metadata": {},
   "outputs": [],
   "source": [
    "학생수"
   ]
  },
  {
   "cell_type": "code",
   "execution_count": null,
   "metadata": {},
   "outputs": [],
   "source": [
    "class = 16                       # 변수명에 키워드 안됨"
   ]
  },
  {
   "cell_type": "code",
   "execution_count": null,
   "metadata": {},
   "outputs": [],
   "source": [
    "import keyword\n",
    "print(keyword.kwlist)"
   ]
  },
  {
   "cell_type": "code",
   "execution_count": null,
   "metadata": {},
   "outputs": [],
   "source": [
    "del(학생수)                   # 객체 삭제 : del"
   ]
  },
  {
   "cell_type": "code",
   "execution_count": null,
   "metadata": {},
   "outputs": [],
   "source": [
    "학생수                 # 객체 삭제하면 더 이상 사용할수 없음"
   ]
  },
  {
   "cell_type": "markdown",
   "metadata": {},
   "source": [
    "## **4. 변수의 종류**\n",
    "- 변수의 종류를 자료형이라고 부릅니다.\n",
    "- 많이 사용 하는 자료형들의 종류\n",
    " - 숫자형\n",
    " - 문자형\n",
    " - 리스트(list)\n",
    " - 튜플(tuple)\n",
    " - 딕셔너리(dict)\n",
    " - 집합(set)"
   ]
  },
  {
   "cell_type": "code",
   "execution_count": null,
   "metadata": {},
   "outputs": [],
   "source": []
  }
 ],
 "metadata": {
  "kernelspec": {
   "display_name": "Python 3 (ipykernel)",
   "language": "python",
   "name": "python3"
  },
  "language_info": {
   "codemirror_mode": {
    "name": "ipython",
    "version": 3
   },
   "file_extension": ".py",
   "mimetype": "text/x-python",
   "name": "python",
   "nbconvert_exporter": "python",
   "pygments_lexer": "ipython3",
   "version": "3.11.7"
  }
 },
 "nbformat": 4,
 "nbformat_minor": 4
}
