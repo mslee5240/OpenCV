{
 "cells": [
  {
   "cell_type": "markdown",
   "metadata": {},
   "source": [
    "### 1. 표준모듈"
   ]
  },
  {
   "cell_type": "code",
   "execution_count": 1,
   "metadata": {},
   "outputs": [
    {
     "name": "stdout",
     "output_type": "stream",
     "text": [
      "('_ast', '_bisect', '_blake2', '_codecs', '_codecs_cn', '_codecs_hk', '_codecs_iso2022', '_codecs_jp', '_codecs_kr', '_codecs_tw', '_collections', '_csv', '_datetime', '_functools', '_heapq', '_imp', '_io', '_json', '_locale', '_lsprof', '_md5', '_multibytecodec', '_opcode', '_operator', '_pickle', '_random', '_sha1', '_sha256', '_sha3', '_sha512', '_signal', '_sre', '_stat', '_string', '_struct', '_symtable', '_thread', '_tracemalloc', '_warnings', '_weakref', '_winapi', 'array', 'atexit', 'audioop', 'binascii', 'builtins', 'cmath', 'errno', 'faulthandler', 'gc', 'itertools', 'marshal', 'math', 'mmap', 'msvcrt', 'nt', 'parser', 'sys', 'time', 'winreg', 'xxsubtype', 'zipimport', 'zlib')\n"
     ]
    }
   ],
   "source": [
    "import sys\n",
    "print(sys.builtin_module_names)"
   ]
  },
  {
   "cell_type": "markdown",
   "metadata": {},
   "source": [
    "### 2.사용자정의 모델 : 모듈만들기(주피터노트북에서)"
   ]
  },
  {
   "cell_type": "code",
   "execution_count": 8,
   "metadata": {},
   "outputs": [],
   "source": [
    "# calculator.py 파일을 먼저 만들고 같은 폴더 혹은 sys.path로 이동시켜두어야함"
   ]
  },
  {
   "cell_type": "markdown",
   "metadata": {},
   "source": [
    "### 2-1.주피터 노트북 매직커맨드 "
   ]
  },
  {
   "cell_type": "code",
   "execution_count": 8,
   "metadata": {},
   "outputs": [
    {
     "name": "stdout",
     "output_type": "stream",
     "text": [
      "Overwriting calculator.py\n"
     ]
    }
   ],
   "source": [
    "%%writefile calculator.py\n",
    "\n",
    "def plus(x, y) :\n",
    "    return x + y\n",
    "def minus(x, y) :\n",
    "    return x - y\n",
    "def multiply(x, y) :\n",
    "    return x * y\n",
    "def divide(x, y) :\n",
    "    return x / y\n"
   ]
  },
  {
   "cell_type": "code",
   "execution_count": 4,
   "metadata": {},
   "outputs": [
    {
     "name": "stdout",
     "output_type": "stream",
     "text": [
      " C 드라이브의 볼륨에는 이름이 없습니다.\n",
      " 볼륨 일련 번호: 1883-3B55\n",
      "\n",
      " C:\\Users\\biz\\IntelWF_K_T\\AI4FW009_Python_실습파일 디렉터리\n",
      "\n",
      "2024-10-15  오후 03:48    <DIR>          .\n",
      "2024-10-15  오후 03:13    <DIR>          ..\n",
      "2024-10-14  오후 04:58    <DIR>          .ipynb_checkpoints\n",
      "2024-10-15  오후 01:55    <DIR>          __pycache__\n",
      "2024-04-22  오전 11:09            22,228 22_파이썬프로그래밍_추가실습예제.zip\n",
      "2024-10-15  오후 03:48               153 calculator.py\n",
      "2024-03-14  오전 12:09    <DIR>          datafile\n",
      "2024-10-15  오후 01:54               224 find.py\n",
      "2024-10-15  오후 02:52               456 pet.py\n",
      "2024-10-11  오후 02:49             1,688 python_1011.ipynb\n",
      "2024-10-15  오후 01:55                30 test.py\n",
      "2024-10-15  오후 01:54               234 test_main.py\n",
      "2024-10-11  오후 04:18            25,536 tts.mp3\n",
      "2024-10-11  오후 04:49            45,417 실습_07_파이썬 문법 기초사항.ipynb\n",
      "2024-10-14  오전 09:31             5,708 실습_08_데이터저장-객체와변수.ipynb\n",
      "2024-10-14  오전 10:00            11,273 실습_09_파이썬자료형-기본자료형.ipynb\n",
      "2024-10-14  오전 10:32             7,274 실습_10_수다루기-연산자.ipynb\n",
      "2024-10-14  오전 11:20            16,677 실습_11_문자열 다루기.ipynb\n",
      "2024-10-14  오전 11:41            14,810 실습_12_표준 입출력함수.ipynb\n",
      "2024-10-14  오후 12:21             5,539 실습_13_미니프로그램1.ipynb\n",
      "2024-10-14  오후 12:27             4,686 실습_14_미니 프로그램2.ipynb\n",
      "2024-10-14  오후 12:43             4,357 실습_15_제어문-조건문.ipynb\n",
      "2024-10-14  오후 02:29             6,408 실습_16_제어문-while 반복문.ipynb\n",
      "2024-10-14  오후 02:34             5,240 실습_17_제어문-For반복문.ipynb\n",
      "2024-10-14  오후 02:49             9,268 실습_18_다중반복문.ipynb\n",
      "2024-10-14  오후 03:54             7,288 실습_19_미니 프로그램3.ipynb\n",
      "2024-10-14  오후 04:50            16,220 실습_20_파이썬자료형-복합자료형1(리스트).ipynb\n",
      "2024-10-14  오후 04:52            13,100 실습_21_파이썬자료형-복합자료형2(튜플).ipynb\n",
      "2024-10-14  오후 04:58             7,813 실습_22_파이썬자료형-복합자료형3(딕셔너리).ipynb\n",
      "2024-10-14  오후 05:00             6,540 실습_23_파이썬자료형-복합자료형4(집합).ipynb\n",
      "2024-10-15  오전 11:48             8,306 실습_24_복합자료형 심화.ipynb\n",
      "2024-10-15  오후 01:56            10,071 실습_25_함수1.ipynb\n",
      "2024-10-15  오후 12:39            12,544 실습_26_함수2.ipynb\n",
      "2024-10-15  오후 02:56             8,818 실습_27_객체와 클래스.ipynb\n",
      "2024-10-15  오후 03:47            28,846 실습_28_모듈.ipynb\n",
      "2020-11-09  오후 04:07             3,497 실습_29_함수 및 모듈 더 짚어보기.ipynb\n",
      "2024-07-08  오후 12:48             3,994 실습_30_예외처리.ipynb\n",
      "2023-09-10  오후 11:14             7,444 실습_31_파일 입출력.ipynb\n",
      "2023-09-10  오후 11:15             5,776 실습_32_미니 프로그램4.ipynb\n",
      "              34개 파일             327,463 바이트\n",
      "               5개 디렉터리  26,099,892,224 바이트 남음\n"
     ]
    }
   ],
   "source": [
    "%ls"
   ]
  },
  {
   "cell_type": "code",
   "execution_count": 1,
   "metadata": {},
   "outputs": [
    {
     "name": "stdout",
     "output_type": "stream",
     "text": [
      "7\n"
     ]
    }
   ],
   "source": [
    "%run add.py"
   ]
  },
  {
   "cell_type": "code",
   "execution_count": 1,
   "metadata": {},
   "outputs": [
    {
     "data": {
      "text/plain": [
       "\u001b[1;31mDocstring:\u001b[0m\n",
       "Run the named file inside IPython as a program.\n",
       "\n",
       "Usage::\n",
       "\n",
       "  %run [-n -i -e -G]\n",
       "       [( -t [-N<N>] | -d [-b<N>] | -p [profile options] )]\n",
       "       ( -m mod | filename ) [args]\n",
       "\n",
       "The filename argument should be either a pure Python script (with\n",
       "extension ``.py``), or a file with custom IPython syntax (such as\n",
       "magics). If the latter, the file can be either a script with ``.ipy``\n",
       "extension, or a Jupyter notebook with ``.ipynb`` extension. When running\n",
       "a Jupyter notebook, the output from print statements and other\n",
       "displayed objects will appear in the terminal (even matplotlib figures\n",
       "will open, if a terminal-compliant backend is being used). Note that,\n",
       "at the system command line, the ``jupyter run`` command offers similar\n",
       "functionality for executing notebooks (albeit currently with some\n",
       "differences in supported options).\n",
       "\n",
       "Parameters after the filename are passed as command-line arguments to\n",
       "the program (put in sys.argv). Then, control returns to IPython's\n",
       "prompt.\n",
       "\n",
       "This is similar to running at a system prompt ``python file args``,\n",
       "but with the advantage of giving you IPython's tracebacks, and of\n",
       "loading all variables into your interactive namespace for further use\n",
       "(unless -p is used, see below).\n",
       "\n",
       "The file is executed in a namespace initially consisting only of\n",
       "``__name__=='__main__'`` and sys.argv constructed as indicated. It thus\n",
       "sees its environment as if it were being run as a stand-alone program\n",
       "(except for sharing global objects such as previously imported\n",
       "modules). But after execution, the IPython interactive namespace gets\n",
       "updated with all variables defined in the program (except for __name__\n",
       "and sys.argv). This allows for very convenient loading of code for\n",
       "interactive work, while giving each program a 'clean sheet' to run in.\n",
       "\n",
       "Arguments are expanded using shell-like glob match.  Patterns\n",
       "'*', '?', '[seq]' and '[!seq]' can be used.  Additionally,\n",
       "tilde '~' will be expanded into user's home directory.  Unlike\n",
       "real shells, quotation does not suppress expansions.  Use\n",
       "*two* back slashes (e.g. ``\\\\*``) to suppress expansions.\n",
       "To completely disable these expansions, you can use -G flag.\n",
       "\n",
       "On Windows systems, the use of single quotes `'` when specifying\n",
       "a file is not supported. Use double quotes `\"`.\n",
       "\n",
       "Options:\n",
       "\n",
       "-n\n",
       "  __name__ is NOT set to '__main__', but to the running file's name\n",
       "  without extension (as python does under import).  This allows running\n",
       "  scripts and reloading the definitions in them without calling code\n",
       "  protected by an ``if __name__ == \"__main__\"`` clause.\n",
       "\n",
       "-i\n",
       "  run the file in IPython's namespace instead of an empty one. This\n",
       "  is useful if you are experimenting with code written in a text editor\n",
       "  which depends on variables defined interactively.\n",
       "\n",
       "-e\n",
       "  ignore sys.exit() calls or SystemExit exceptions in the script\n",
       "  being run.  This is particularly useful if IPython is being used to\n",
       "  run unittests, which always exit with a sys.exit() call.  In such\n",
       "  cases you are interested in the output of the test results, not in\n",
       "  seeing a traceback of the unittest module.\n",
       "\n",
       "-t\n",
       "  print timing information at the end of the run.  IPython will give\n",
       "  you an estimated CPU time consumption for your script, which under\n",
       "  Unix uses the resource module to avoid the wraparound problems of\n",
       "  time.clock().  Under Unix, an estimate of time spent on system tasks\n",
       "  is also given (for Windows platforms this is reported as 0.0).\n",
       "\n",
       "If -t is given, an additional ``-N<N>`` option can be given, where <N>\n",
       "must be an integer indicating how many times you want the script to\n",
       "run.  The final timing report will include total and per run results.\n",
       "\n",
       "For example (testing the script uniq_stable.py)::\n",
       "\n",
       "    In [1]: run -t uniq_stable\n",
       "\n",
       "    IPython CPU timings (estimated):\n",
       "      User  :    0.19597 s.\n",
       "      System:        0.0 s.\n",
       "\n",
       "    In [2]: run -t -N5 uniq_stable\n",
       "\n",
       "    IPython CPU timings (estimated):\n",
       "    Total runs performed: 5\n",
       "      Times :      Total       Per run\n",
       "      User  :   0.910862 s,  0.1821724 s.\n",
       "      System:        0.0 s,        0.0 s.\n",
       "\n",
       "-d\n",
       "  run your program under the control of pdb, the Python debugger.\n",
       "  This allows you to execute your program step by step, watch variables,\n",
       "  etc.  Internally, what IPython does is similar to calling::\n",
       "\n",
       "      pdb.run('execfile(\"YOURFILENAME\")')\n",
       "\n",
       "  with a breakpoint set on line 1 of your file.  You can change the line\n",
       "  number for this automatic breakpoint to be <N> by using the -bN option\n",
       "  (where N must be an integer). For example::\n",
       "\n",
       "      %run -d -b40 myscript\n",
       "\n",
       "  will set the first breakpoint at line 40 in myscript.py.  Note that\n",
       "  the first breakpoint must be set on a line which actually does\n",
       "  something (not a comment or docstring) for it to stop execution.\n",
       "\n",
       "  Or you can specify a breakpoint in a different file::\n",
       "\n",
       "      %run -d -b myotherfile.py:20 myscript\n",
       "\n",
       "  When the pdb debugger starts, you will see a (Pdb) prompt.  You must\n",
       "  first enter 'c' (without quotes) to start execution up to the first\n",
       "  breakpoint.\n",
       "\n",
       "  Entering 'help' gives information about the use of the debugger.  You\n",
       "  can easily see pdb's full documentation with \"import pdb;pdb.help()\"\n",
       "  at a prompt.\n",
       "\n",
       "-p\n",
       "  run program under the control of the Python profiler module (which\n",
       "  prints a detailed report of execution times, function calls, etc).\n",
       "\n",
       "  You can pass other options after -p which affect the behavior of the\n",
       "  profiler itself. See the docs for %prun for details.\n",
       "\n",
       "  In this mode, the program's variables do NOT propagate back to the\n",
       "  IPython interactive namespace (because they remain in the namespace\n",
       "  where the profiler executes them).\n",
       "\n",
       "  Internally this triggers a call to %prun, see its documentation for\n",
       "  details on the options available specifically for profiling.\n",
       "\n",
       "There is one special usage for which the text above doesn't apply:\n",
       "if the filename ends with .ipy[nb], the file is run as ipython script,\n",
       "just as if the commands were written on IPython prompt.\n",
       "\n",
       "-m\n",
       "  specify module name to load instead of script path. Similar to\n",
       "  the -m option for the python interpreter. Use this option last if you\n",
       "  want to combine with other %run options. Unlike the python interpreter\n",
       "  only source modules are allowed no .pyc or .pyo files.\n",
       "  For example::\n",
       "\n",
       "      %run -m example\n",
       "\n",
       "  will run the example module.\n",
       "\n",
       "-G\n",
       "  disable shell-like glob expansion of arguments.\n",
       "\u001b[1;31mFile:\u001b[0m      c:\\users\\biz\\appdata\\roaming\\python\\python311\\site-packages\\ipython\\core\\magics\\execution.py"
      ]
     },
     "metadata": {},
     "output_type": "display_data"
    }
   ],
   "source": [
    "%run?"
   ]
  },
  {
   "cell_type": "markdown",
   "metadata": {},
   "source": [
    "### 3.import 사용법"
   ]
  },
  {
   "cell_type": "code",
   "execution_count": 1,
   "metadata": {},
   "outputs": [
    {
     "name": "stdout",
     "output_type": "stream",
     "text": [
      "30 -10 200 0.5\n"
     ]
    }
   ],
   "source": [
    "...    # ... 코드 입력\n",
    "\n",
    "x = 10\n",
    "y = 20\n",
    "\n",
    "ans1 = calculator.plus(x, y)\n",
    "ans2 = calculator.minus(x, y)\n",
    "ans3 = calculator.multiply(x, y)\n",
    "ans4 = calculator.divide(x, y)\n",
    "\n",
    "print(ans1, ans2, ans3, ans4)"
   ]
  },
  {
   "cell_type": "code",
   "execution_count": 2,
   "metadata": {},
   "outputs": [
    {
     "name": "stdout",
     "output_type": "stream",
     "text": [
      "9\n"
     ]
    }
   ],
   "source": [
    "...    # ... 코드 입력\n",
    "\n",
    "print(c.plus(5,4))"
   ]
  },
  {
   "cell_type": "code",
   "execution_count": 3,
   "metadata": {},
   "outputs": [
    {
     "name": "stdout",
     "output_type": "stream",
     "text": [
      "5\n"
     ]
    }
   ],
   "source": [
    "...    # ... 코드 입력\n",
    "\n",
    "print(minus(10,5))"
   ]
  },
  {
   "cell_type": "code",
   "execution_count": 16,
   "metadata": {},
   "outputs": [
    {
     "name": "stdout",
     "output_type": "stream",
     "text": [
      "15\n"
     ]
    }
   ],
   "source": [
    "from calculator import *\n",
    "print(multiply(3,5))"
   ]
  },
  {
   "cell_type": "markdown",
   "metadata": {},
   "source": [
    "### 연습문제 : pet 클래스 불러오기"
   ]
  },
  {
   "cell_type": "code",
   "execution_count": 2,
   "metadata": {},
   "outputs": [
    {
     "name": "stdout",
     "output_type": "stream",
     "text": [
      "Writing pet.py\n"
     ]
    }
   ],
   "source": [
    "%%writefile pet.py\n",
    "# 클래스를 모듈로 저장하기\n",
    "\n",
    "class Dog:\n",
    "    '''강아지 클래스 '''\n",
    "    def __init__(self,name,age) :\n",
    "        self.name = name\n",
    "        self.age = age\n",
    "        \n",
    "    def bark(self) :\n",
    "        print(self.name, 'is barking')   \n",
    "        \n",
    "class Cat:\n",
    "    '''고양이 클래스 '''\n",
    "    def __init__(self,name,color) :\n",
    "        self.name = name\n",
    "        self.color = color\n",
    "        \n",
    "    def show_color(self) :\n",
    "        print(self.name, 'is', self.color)     "
   ]
  },
  {
   "cell_type": "code",
   "execution_count": 3,
   "metadata": {},
   "outputs": [
    {
     "name": "stdout",
     "output_type": "stream",
     "text": [
      "happy is barking\n",
      "Kitty is white\n"
     ]
    }
   ],
   "source": [
    "# 저장된 클래스 모듈을 불러와 사용하기\n",
    "# code here\n",
    "\n",
    "\n",
    "\n",
    "\n",
    "\n",
    "\n"
   ]
  },
  {
   "cell_type": "markdown",
   "metadata": {},
   "source": [
    "### 4. 모듈 찾는 순서"
   ]
  },
  {
   "cell_type": "code",
   "execution_count": 18,
   "metadata": {},
   "outputs": [
    {
     "name": "stdout",
     "output_type": "stream",
     "text": [
      "('_ast', '_bisect', '_blake2', '_codecs', '_codecs_cn', '_codecs_hk', '_codecs_iso2022', '_codecs_jp', '_codecs_kr', '_codecs_tw', '_collections', '_csv', '_datetime', '_functools', '_heapq', '_imp', '_io', '_json', '_locale', '_lsprof', '_md5', '_multibytecodec', '_opcode', '_operator', '_pickle', '_random', '_sha1', '_sha256', '_sha3', '_sha512', '_signal', '_sre', '_stat', '_string', '_struct', '_symtable', '_thread', '_tracemalloc', '_warnings', '_weakref', '_winapi', 'array', 'atexit', 'audioop', 'binascii', 'builtins', 'cmath', 'errno', 'faulthandler', 'gc', 'itertools', 'marshal', 'math', 'mmap', 'msvcrt', 'nt', 'parser', 'sys', 'time', 'winreg', 'xxsubtype', 'zipimport', 'zlib')\n"
     ]
    }
   ],
   "source": [
    "import sys\n",
    "print(sys.builtin_module_names)"
   ]
  },
  {
   "cell_type": "code",
   "execution_count": 17,
   "metadata": {},
   "outputs": [
    {
     "name": "stdout",
     "output_type": "stream",
     "text": [
      "('_ast', '_bisect', '_blake2', '_codecs', '_codecs_cn', '_codecs_hk', '_codecs_iso2022', '_codecs_jp', '_codecs_kr', '_codecs_tw', '_collections', '_csv', '_datetime', '_functools', '_heapq', '_imp', '_io', '_json', '_locale', '_lsprof', '_md5', '_multibytecodec', '_opcode', '_operator', '_pickle', '_random', '_sha1', '_sha256', '_sha3', '_sha512', '_signal', '_sre', '_stat', '_string', '_struct', '_symtable', '_thread', '_tracemalloc', '_warnings', '_weakref', '_winapi', 'array', 'atexit', 'audioop', 'binascii', 'builtins', 'cmath', 'errno', 'faulthandler', 'gc', 'itertools', 'marshal', 'math', 'mmap', 'msvcrt', 'nt', 'parser', 'sys', 'time', 'winreg', 'xxsubtype', 'zipimport', 'zlib')\n"
     ]
    }
   ],
   "source": [
    "from sys import *\n",
    "print(builtin_module_names)"
   ]
  },
  {
   "cell_type": "code",
   "execution_count": 23,
   "metadata": {},
   "outputs": [
    {
     "data": {
      "text/plain": [
       "['__doc__',\n",
       " '__loader__',\n",
       " '__name__',\n",
       " '__package__',\n",
       " '__spec__',\n",
       " 'acos',\n",
       " 'acosh',\n",
       " 'asin',\n",
       " 'asinh',\n",
       " 'atan',\n",
       " 'atan2',\n",
       " 'atanh',\n",
       " 'ceil',\n",
       " 'copysign',\n",
       " 'cos',\n",
       " 'cosh',\n",
       " 'degrees',\n",
       " 'e',\n",
       " 'erf',\n",
       " 'erfc',\n",
       " 'exp',\n",
       " 'expm1',\n",
       " 'fabs',\n",
       " 'factorial',\n",
       " 'floor',\n",
       " 'fmod',\n",
       " 'frexp',\n",
       " 'fsum',\n",
       " 'gamma',\n",
       " 'gcd',\n",
       " 'hypot',\n",
       " 'inf',\n",
       " 'isclose',\n",
       " 'isfinite',\n",
       " 'isinf',\n",
       " 'isnan',\n",
       " 'ldexp',\n",
       " 'lgamma',\n",
       " 'log',\n",
       " 'log10',\n",
       " 'log1p',\n",
       " 'log2',\n",
       " 'modf',\n",
       " 'nan',\n",
       " 'pi',\n",
       " 'pow',\n",
       " 'radians',\n",
       " 'sin',\n",
       " 'sinh',\n",
       " 'sqrt',\n",
       " 'tan',\n",
       " 'tanh',\n",
       " 'tau',\n",
       " 'trunc']"
      ]
     },
     "execution_count": 23,
     "metadata": {},
     "output_type": "execute_result"
    }
   ],
   "source": [
    "import math\n",
    "dir(math)"
   ]
  },
  {
   "cell_type": "code",
   "execution_count": 1,
   "metadata": {},
   "outputs": [
    {
     "data": {
      "text/plain": [
       "['C:\\\\Users\\\\cooju\\\\Documents\\\\0.KW-AI\\\\02_실습_파이썬기초',\n",
       " 'C:\\\\Users\\\\cooju\\\\Anaconda3\\\\python38.zip',\n",
       " 'C:\\\\Users\\\\cooju\\\\Anaconda3\\\\DLLs',\n",
       " 'C:\\\\Users\\\\cooju\\\\Anaconda3\\\\lib',\n",
       " 'C:\\\\Users\\\\cooju\\\\Anaconda3',\n",
       " '',\n",
       " 'C:\\\\Users\\\\cooju\\\\Anaconda3\\\\lib\\\\site-packages',\n",
       " 'C:\\\\Users\\\\cooju\\\\Anaconda3\\\\lib\\\\site-packages\\\\win32',\n",
       " 'C:\\\\Users\\\\cooju\\\\Anaconda3\\\\lib\\\\site-packages\\\\win32\\\\lib',\n",
       " 'C:\\\\Users\\\\cooju\\\\Anaconda3\\\\lib\\\\site-packages\\\\Pythonwin',\n",
       " 'C:\\\\Users\\\\cooju\\\\Anaconda3\\\\lib\\\\site-packages\\\\IPython\\\\extensions',\n",
       " 'C:\\\\Users\\\\cooju\\\\.ipython']"
      ]
     },
     "execution_count": 1,
     "metadata": {},
     "output_type": "execute_result"
    }
   ],
   "source": [
    "# import 하면 모듈 찾기위해 다음 경로로 순서 검색\n",
    "# 1.현재 디렉토리\n",
    "# 2.환경변수 PYTHONPATH에 지정된 경로\n",
    "# 3.Python이 설치된 경로 및 그 밑의 라이브러리 경로\n",
    "# 원하는 경로가 있으면 sys.path.append()\n",
    "\n",
    "import sys\n",
    "sys.path"
   ]
  },
  {
   "cell_type": "code",
   "execution_count": 8,
   "metadata": {},
   "outputs": [
    {
     "name": "stdout",
     "output_type": "stream",
     "text": [
      "\n",
      "C:\\ProgramData\\Anaconda3\\python36.zip\n",
      "C:\\ProgramData\\Anaconda3\\DLLs\n",
      "C:\\ProgramData\\Anaconda3\\lib\n",
      "C:\\ProgramData\\Anaconda3\n",
      "C:\\ProgramData\\Anaconda3\\lib\\site-packages\n",
      "C:\\ProgramData\\Anaconda3\\lib\\site-packages\\win32\n",
      "C:\\ProgramData\\Anaconda3\\lib\\site-packages\\win32\\lib\n",
      "C:\\ProgramData\\Anaconda3\\lib\\site-packages\\Pythonwin\n",
      "C:\\ProgramData\\Anaconda3\\lib\\site-packages\\IPython\\extensions\n",
      "C:\\Users\\coojugi\\.ipython\n"
     ]
    }
   ],
   "source": [
    "for path in sys.path :\n",
    "    print(path)"
   ]
  },
  {
   "cell_type": "code",
   "execution_count": 25,
   "metadata": {},
   "outputs": [
    {
     "name": "stdout",
     "output_type": "stream",
     "text": [
      "beginning of sub.py...\n",
      "name : sub\n",
      "end of sub.py...\n"
     ]
    }
   ],
   "source": [
    "# 사용자 정의한 모듈 위치\n",
    "import sub"
   ]
  },
  {
   "cell_type": "code",
   "execution_count": 9,
   "metadata": {},
   "outputs": [
    {
     "data": {
      "text/plain": [
       "'C:\\\\Users\\\\coojugi\\\\Documents\\\\0.광운창작소_빅데이터와인공지능\\\\01~02 파이썬기초'"
      ]
     },
     "execution_count": 9,
     "metadata": {},
     "output_type": "execute_result"
    }
   ],
   "source": [
    "%pwd"
   ]
  },
  {
   "cell_type": "code",
   "execution_count": 10,
   "metadata": {},
   "outputs": [],
   "source": [
    "sys.path.append('/users/coojugi/Documents/0.광운창작소_빅데이터와인공지능/01~02 파이썬기초') "
   ]
  },
  {
   "cell_type": "code",
   "execution_count": 11,
   "metadata": {},
   "outputs": [
    {
     "data": {
      "text/plain": [
       "['',\n",
       " 'C:\\\\ProgramData\\\\Anaconda3\\\\python36.zip',\n",
       " 'C:\\\\ProgramData\\\\Anaconda3\\\\DLLs',\n",
       " 'C:\\\\ProgramData\\\\Anaconda3\\\\lib',\n",
       " 'C:\\\\ProgramData\\\\Anaconda3',\n",
       " 'C:\\\\ProgramData\\\\Anaconda3\\\\lib\\\\site-packages',\n",
       " 'C:\\\\ProgramData\\\\Anaconda3\\\\lib\\\\site-packages\\\\win32',\n",
       " 'C:\\\\ProgramData\\\\Anaconda3\\\\lib\\\\site-packages\\\\win32\\\\lib',\n",
       " 'C:\\\\ProgramData\\\\Anaconda3\\\\lib\\\\site-packages\\\\Pythonwin',\n",
       " 'C:\\\\ProgramData\\\\Anaconda3\\\\lib\\\\site-packages\\\\IPython\\\\extensions',\n",
       " 'C:\\\\Users\\\\coojugi\\\\.ipython',\n",
       " '/users/coojugi/Documents/0.광운창작소_빅데이터와인공지능/01~02 파이썬기초']"
      ]
     },
     "execution_count": 11,
     "metadata": {},
     "output_type": "execute_result"
    }
   ],
   "source": [
    "sys.path"
   ]
  },
  {
   "cell_type": "code",
   "execution_count": 54,
   "metadata": {},
   "outputs": [
    {
     "data": {
      "text/plain": [
       "''"
      ]
     },
     "execution_count": 54,
     "metadata": {},
     "output_type": "execute_result"
    }
   ],
   "source": [
    "sys.path[0]"
   ]
  },
  {
   "cell_type": "code",
   "execution_count": 38,
   "metadata": {},
   "outputs": [
    {
     "name": "stdout",
     "output_type": "stream",
     "text": [
      "\n",
      "C:\\ProgramData\\Anaconda3\\python36.zip\n",
      "C:\\ProgramData\\Anaconda3\\DLLs\n",
      "C:\\ProgramData\\Anaconda3\\lib\n",
      "C:\\ProgramData\\Anaconda3\n",
      "C:\\ProgramData\\Anaconda3\\lib\\site-packages\n",
      "C:\\ProgramData\\Anaconda3\\lib\\site-packages\\win32\n",
      "C:\\ProgramData\\Anaconda3\\lib\\site-packages\\win32\\lib\n",
      "C:\\ProgramData\\Anaconda3\\lib\\site-packages\\Pythonwin\n",
      "C:\\ProgramData\\Anaconda3\\lib\\site-packages\\IPython\\extensions\n",
      "C:\\Users\\coojugi\\.ipython\n",
      "/users/coojugi/python_myModue/\n"
     ]
    }
   ],
   "source": [
    "import sys\n",
    "for path in sys.path :\n",
    "    print(path)"
   ]
  },
  {
   "cell_type": "code",
   "execution_count": 58,
   "metadata": {},
   "outputs": [],
   "source": [
    "# append 하는 입력 방식 3가지\n",
    "sys.path.append(r'C:\\Users\\coojugi\\python_myModule') \n",
    "sys.path.append('C:\\\\Users\\\\coojugi\\\\python_project')\n",
    "sys.path.append('C:/Users/coojugi/python_project')"
   ]
  }
 ],
 "metadata": {
  "kernelspec": {
   "display_name": "Python 3 (ipykernel)",
   "language": "python",
   "name": "python3"
  },
  "language_info": {
   "codemirror_mode": {
    "name": "ipython",
    "version": 3
   },
   "file_extension": ".py",
   "mimetype": "text/x-python",
   "name": "python",
   "nbconvert_exporter": "python",
   "pygments_lexer": "ipython3",
   "version": "3.11.7"
  }
 },
 "nbformat": 4,
 "nbformat_minor": 4
}
