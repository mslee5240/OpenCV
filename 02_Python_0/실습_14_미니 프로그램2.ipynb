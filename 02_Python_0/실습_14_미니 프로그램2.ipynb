{
 "cells": [
  {
   "cell_type": "markdown",
   "metadata": {},
   "source": [
    "# 14_미니프로젝트2"
   ]
  },
  {
   "cell_type": "markdown",
   "metadata": {},
   "source": [
    "### 4. 성적처리 프로그램 만들기\n",
    "세 과목(국어, 수학, 영어) 성적을 입력(정수로)받아 세 과목의 총점과 평균을 구하는 프로그램을 작성하세요.  \n",
    "평균은 소수점 둘째 자리까지 출력되도록 합니다. \n",
    "\n",
    "- 프로그램 실행화면  \n",
    "  국어 점수를 입력하세요 : 78  \n",
    "  영어 점수를 입력하세요 : 90  \n",
    "  수학 점수를 입력하세요 : 86  \n",
    "\n",
    "  과목별 성적  \n",
    "  '===============================  \n",
    "  국어 : 78 , 영어 : 90, 수학: 86\n",
    "\n",
    "  ===============================  \n",
    "  총점 : 254  \n",
    "  평균 : 84.67"
   ]
  },
  {
   "cell_type": "code",
   "execution_count": 4,
   "metadata": {},
   "outputs": [
    {
     "name": "stdout",
     "output_type": "stream",
     "text": [
      "국어 점수를 입력하세요78\n",
      "영어 점수를 입력하세요90\n",
      "수학 점수를 입력하세요86\n",
      "\n",
      "과목별 성적\n",
      "====================\n",
      "국어: 78 , 영어: 90 ,수학: 86\n",
      "====================\n",
      "총점: 254\n",
      "평균: 84.67\n"
     ]
    }
   ],
   "source": [
    "\n",
    "\n",
    "\n",
    "\n",
    "\n",
    "\n",
    "\n",
    "\n",
    "\n",
    "\n",
    "\n",
    "\n"
   ]
  },
  {
   "cell_type": "markdown",
   "metadata": {},
   "source": [
    "### 5. BMI(Body Mass Index) 지수 구하기 - 입출력함수\n",
    "키와 몸무게를 입력받아 BMI 지수를 출력하는 프로그램을 작성하세요.  \n",
    "BMI 지수는 소수점 2째자리까지 반올림하여 나타내세요.  \n",
    "BMI(신체질량지수) 지수 : 몸무게(kg) / (키(m)/100) **2 \n",
    "\n",
    "- 프로그램 실행화면  \n",
    "  이름을 입력하세요 : 파이썬  \n",
    "  키(cm)를 정수로 입력하세요 : 183   \n",
    "  몸무게(kg)를 정수로 입력하세요 : 77   \n",
    "  \n",
    "  파이썬 님의 키는  183 cm이고 몸무게는  77 kg 입니다.  \n",
    "  BMI 지수는  22.99 입니다."
   ]
  },
  {
   "cell_type": "code",
   "execution_count": 2,
   "metadata": {},
   "outputs": [
    {
     "name": "stdout",
     "output_type": "stream",
     "text": [
      "이름을 입력하세요 : kang\n",
      "키(cm)를 정수로 입력하세요 : 188\n",
      "몸무게(kg)를 정수로 입력하세요 : 77\n",
      "\n",
      "kang 님의 키는  188 cm이고 몸무게는  77 kg입니다\n",
      "BMI 지수는  21.79 입니다\n"
     ]
    }
   ],
   "source": [
    "\n",
    "\n",
    "\n",
    "\n",
    "\n"
   ]
  },
  {
   "cell_type": "markdown",
   "metadata": {},
   "source": [
    "### 6. 주민등록번호 처리하기\n",
    "파이썬씨의 주민등록번호는 921120-1068234이다.  \n",
    "파이썬씨는 몇년생이며 성별을 나타내는 숫자를 찾아 출력해 보세요\n",
    "\n",
    "- 프로그램 실행화면  \n",
    "  92년생  \n",
    "  1"
   ]
  },
  {
   "cell_type": "code",
   "execution_count": 8,
   "metadata": {},
   "outputs": [
    {
     "name": "stdout",
     "output_type": "stream",
     "text": [
      "92 년생\n",
      "1\n"
     ]
    }
   ],
   "source": [
    "\n",
    "\n",
    "\n",
    "\n",
    "\n"
   ]
  }
 ],
 "metadata": {
  "kernelspec": {
   "display_name": "Python 3 (ipykernel)",
   "language": "python",
   "name": "python3"
  },
  "language_info": {
   "codemirror_mode": {
    "name": "ipython",
    "version": 3
   },
   "file_extension": ".py",
   "mimetype": "text/x-python",
   "name": "python",
   "nbconvert_exporter": "python",
   "pygments_lexer": "ipython3",
   "version": "3.11.7"
  }
 },
 "nbformat": 4,
 "nbformat_minor": 4
}
