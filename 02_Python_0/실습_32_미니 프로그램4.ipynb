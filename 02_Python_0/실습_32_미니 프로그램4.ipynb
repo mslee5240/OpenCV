{
 "cells": [
  {
   "cell_type": "markdown",
   "metadata": {},
   "source": [
    "# 32_미니프로젝트4"
   ]
  },
  {
   "cell_type": "markdown",
   "metadata": {},
   "source": [
    "### 10. 숫자 맞추기 게임\n",
    "컴퓨터의 random 기능을 사용하여 1부터 50사이의 정수 하나를 임의로 선택하게 하고 \n",
    "사용자가 컴퓨터가 선택한 수를 맞추는 프로그램을 작성하세요.\n",
    "최종적으로 몇 번의 guess로 맞췄는지와 컴퓨터가 선택한 숫자를 출력한다.\n",
    "\n",
    "- 프로그램 실행화면  \n",
    "  숫자를 맞춰보세요(1~50) : 40  \n",
    "  더 작은 수를 선택하세요  \n",
    "  숫자를 맞춰보세요(1~50) : 35  \n",
    "  더 작은 수를 선택하세요  \n",
    "  숫자를 맞춰보세요(1~50) : 20  \n",
    "  더 큰 수를 선택하세요  \n",
    "  숫자를 맞춰보세요(1~50) : 25  \n",
    "      \n",
    "  4번 만에 맞췄습니다. 컴퓨터가 선정한 숫자는 25입니다    "
   ]
  },
  {
   "cell_type": "code",
   "execution_count": 3,
   "metadata": {},
   "outputs": [
    {
     "name": "stdout",
     "output_type": "stream",
     "text": [
      "숫자를 맞춰보세요(1~50): 28\n",
      "더 작은 수를 선택하세요\n",
      "숫자를 맞춰보세요(1~50): 25\n",
      "더 작은 수를 선택하세요\n",
      "숫자를 맞춰보세요(1~50): 20\n",
      "더 작은 수를 선택하세요\n",
      "숫자를 맞춰보세요(1~50): 15\n",
      "더 작은 수를 선택하세요\n",
      "숫자를 맞춰보세요(1~50): 10\n",
      "더 작은 수를 선택하세요\n",
      "숫자를 맞춰보세요(1~50): 5\n",
      "더 큰 수를 선택하세요\n",
      "숫자를 맞춰보세요(1~50): 8\n",
      "더 작은 수를 선택하세요\n",
      "숫자를 맞춰보세요(1~50): 7\n",
      "더 작은 수를 선택하세요\n",
      "숫자를 맞춰보세요(1~50): 6\n",
      "9 번 만에 맞췄습니다. 입력한 숫자는 6 입니다\n"
     ]
    }
   ],
   "source": [
    "#code here\n",
    "\n",
    "\n",
    "\n",
    "\n",
    "\n",
    "\n",
    "\n",
    "\n",
    "\n",
    "\n",
    "\n",
    "\n"
   ]
  },
  {
   "cell_type": "markdown",
   "metadata": {},
   "source": [
    "### 11. 여러가지 다각형 그리기\n",
    "다각형을 그리는 함수를 만들고 3~12각형을 그리는 프로그램을 작성해보세요\n",
    "\n",
    "- 프로그램 실행화면  \n",
    "  3~12각형 다각형을 그립니다."
   ]
  },
  {
   "cell_type": "code",
   "execution_count": null,
   "metadata": {},
   "outputs": [
    {
     "name": "stdout",
     "output_type": "stream",
     "text": [
      "3~12각형 도형을 그립니다\n"
     ]
    }
   ],
   "source": [
    "#code here\n",
    "\n",
    "\n",
    "\n",
    "\n",
    "\n",
    "\n",
    "\n",
    "\n",
    "\n",
    "\n",
    "\n",
    "\n"
   ]
  },
  {
   "cell_type": "markdown",
   "metadata": {},
   "source": [
    "### 12. 로또 번호 추첨하기\n",
    "random 모듈을 이용하여 6개의 로또 번호를 생성하는 프로그램을 작성하세요\n",
    "\n",
    "- 프로그램 실행화면  \n",
    "  로또번호를 추첨합니다  \n",
    "  23 8 42 10 44 6 "
   ]
  },
  {
   "cell_type": "code",
   "execution_count": 5,
   "metadata": {},
   "outputs": [
    {
     "name": "stdout",
     "output_type": "stream",
     "text": [
      "Overwriting rotto.py\n"
     ]
    }
   ],
   "source": [
    "#code here\n",
    "\n",
    "\n",
    "\n",
    "\n",
    "\n",
    "\n",
    "\n",
    "\n",
    "\n",
    "\n",
    "\n",
    "\n",
    "\n",
    "\n",
    "\n"
   ]
  },
  {
   "cell_type": "code",
   "execution_count": 8,
   "metadata": {},
   "outputs": [
    {
     "name": "stdout",
     "output_type": "stream",
     "text": [
      "로또번호를 추첨합니다\n",
      "1 20 12 44 43 24 보너스번호:  6\n"
     ]
    }
   ],
   "source": [
    "%run rotto.py"
   ]
  },
  {
   "cell_type": "code",
   "execution_count": 4,
   "metadata": {},
   "outputs": [
    {
     "name": "stdout",
     "output_type": "stream",
     "text": [
      "로또번호를 추첨합니다\n",
      "23 8 42 10 44 6 "
     ]
    }
   ],
   "source": [
    "#1.리스트를 이용하여 1~45 숫자를 넣어두고 이들을 무작위로 섞어서 6개숫자 추출\n",
    "import random\n",
    "class Numinit:\n",
    "    def __init__(self,num):\n",
    "        self.num = num\n",
    "        \n",
    "class Process:\n",
    "    def __init__(self):\n",
    "        self.numlist = []\n",
    "        for i in range(1,46):\n",
    "            self.numlist.append(Numinit(i))\n",
    "            \n",
    "    def choice_num(self):\n",
    "        random.shuffle(self.numlist)\n",
    "        return self.numlist[0:6]\n",
    "    \n",
    "class Inout:\n",
    "    def __init__(self):\n",
    "        self.pro = Process()\n",
    "    def play_start(self):\n",
    "        choice = self.pro.choice_num()\n",
    "        for info in choice :\n",
    "            print('%d'%(info.num), end=' ')\n",
    "            \n",
    "a = Inout()\n",
    "print('로또번호를 추첨합니다')\n",
    "a.play_start()"
   ]
  }
 ],
 "metadata": {
  "kernelspec": {
   "display_name": "Python 3 (ipykernel)",
   "language": "python",
   "name": "python3"
  },
  "language_info": {
   "codemirror_mode": {
    "name": "ipython",
    "version": 3
   },
   "file_extension": ".py",
   "mimetype": "text/x-python",
   "name": "python",
   "nbconvert_exporter": "python",
   "pygments_lexer": "ipython3",
   "version": "3.11.7"
  }
 },
 "nbformat": 4,
 "nbformat_minor": 4
}
