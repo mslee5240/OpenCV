{
 "cells": [
  {
   "cell_type": "markdown",
   "metadata": {},
   "source": [
    "# 26_함수2: 전역/지역변수, 함수인수, 람다함수"
   ]
  },
  {
   "cell_type": "code",
   "execution_count": null,
   "metadata": {},
   "outputs": [],
   "source": [
    "# 계산기 프로그램 : 전역변수 , 지역변수\n",
    "def calc(x, y, op):\n",
    "    result = 0\n",
    "    if op == '+' :\n",
    "        result = x + y\n",
    "    elif op == '-' :\n",
    "        result = x - y\n",
    "    elif op == '*' :\n",
    "        result = x * y\n",
    "    elif op == '/' :\n",
    "        result = x / y\n",
    "    \n",
    "    return result        \n",
    "\n",
    "var1, var2 , calcResult = 0, 0, 0\n",
    "oper = ''\n",
    "oper = input('계산할 연산자(+,-,*,/) 를 입력하세요: ')\n",
    "var1 = int(input('첫번째 수를 입력하세요: '))\n",
    "var2 = int(input('두번째 수를 입력하세요: '))     \n",
    "\n",
    "print()\n",
    "print('계산기실행')\n",
    "calcResult = calc(var1, var2, oper)\n",
    "print('%d %s %d = %d' %(var1, oper, var2, calcResult))\n",
    "    "
   ]
  },
  {
   "cell_type": "code",
   "execution_count": null,
   "metadata": {},
   "outputs": [],
   "source": [
    "#매개변수가 2,3개까지 처리\n",
    "def para_func( x1, x2, x3 = 0) :\n",
    "    result = 0\n",
    "    result = x1 + x2 + x3\n",
    "        \n",
    "    return result \n",
    "\n",
    "sum = 0\n",
    "sum = para_func(10, 20)\n",
    "print('매개변수가 2개인 함수 호출 결과 : %2d' %sum)\n",
    "sum = para_func(10, 20, 30)\n",
    "print('매개변수가 3개인 함수 호출 결과 : %2d' %sum)"
   ]
  },
  {
   "cell_type": "code",
   "execution_count": null,
   "metadata": {},
   "outputs": [],
   "source": [
    "# 가변 매개변수1 : 매개변수 앞에 * 붙임 , 이렇게 하면 매개변수가 튜플 형식으로 넘어와 튜플을 처리하는 방식으로 함수안에서 사용\n",
    "def para_func( *para) :\n",
    "    result = 0\n",
    "    for num in para :\n",
    "        result = result + num\n",
    "        \n",
    "    return result \n",
    "\n",
    "sum = 0\n",
    "sum = para_func(10, 20)\n",
    "print('매개변수가 2개인 함수 호출 결과 : %2d' %sum)\n",
    "sum = para_func(10, 20, 30)\n",
    "print('매개변수가 3개인 함수 호출 결과 : %2d' %sum)"
   ]
  },
  {
   "cell_type": "code",
   "execution_count": null,
   "metadata": {},
   "outputs": [],
   "source": [
    "# 가변 매개변수2\n",
    "def  merge_string ( *text_list) :     # 가변매개변수 : 튜플\n",
    "    result = ''\n",
    "    for s in text_list :\n",
    "        result = result + s\n",
    "    \n",
    "    return result\n",
    "\n",
    "merge_string( '파이썬', '공부를', '해요')      # 문자를 추가해 사용해보기"
   ]
  },
  {
   "cell_type": "code",
   "execution_count": null,
   "metadata": {},
   "outputs": [],
   "source": [
    "# 가변 매개변수1 : 매개변수 앞에 ** 붙임 , 이렇게 하면 매개변수가 딕셔너리형식\n",
    "def name_age(**lists):\n",
    "    print(lists)\n",
    "\n",
    "name_age(Alice=10, Paul=12)\n",
    "print('-----------------------------')\n",
    "name_age(Cindy=5, David=7, Tom=10)"
   ]
  },
  {
   "cell_type": "code",
   "execution_count": null,
   "metadata": {},
   "outputs": [],
   "source": [
    "# 가변 매개변수1 : 매개변수 앞에 ** 붙임 , 이렇게 하면 매개변수가 딕셔너리형식으로 넘어와 딕셔너리 방식으로 함수안에서 사용\n",
    "def print_dic(**persons) :                             \n",
    "    for k in persons.keys() :\n",
    "        print('{0} : {1}'.format(k, persons[k]))\n",
    "        \n",
    "print_dic(소녀시대 = 7, 블랙핑크= 4, 트와이스 = 9)          # 함수 오출시 딕셔너리 형식의 매개변수 키=값 형식으로 사용해야함"
   ]
  },
  {
   "cell_type": "code",
   "execution_count": null,
   "metadata": {},
   "outputs": [],
   "source": [
    "# 일반매개변수와 가변 매개변수 혼용1 : (일반, *가변)\n",
    "def print_args(argc, *argv) :\n",
    "    for i in range(argc) :\n",
    "        print(argv[i])\n",
    "        \n",
    "print_args(3, '파이썬','연습', '문제')  # 가변 매개변수 앞에 정의된 일반 매개변수는 키워드매개변수 로 호출할 수 없음)"
   ]
  },
  {
   "cell_type": "code",
   "execution_count": null,
   "metadata": {},
   "outputs": [],
   "source": [
    "print_args(argc=3, '파이썬','연습', '문제')"
   ]
  },
  {
   "cell_type": "code",
   "execution_count": null,
   "metadata": {},
   "outputs": [],
   "source": [
    "# 일반매개변수와 가변 매개변수 혼용2 : (*가변, 일반)   \n",
    "def print_args(*argv, argc) :\n",
    "    for i in range(argc) :\n",
    "        print(argv[i])\n",
    "        \n",
    "print_args('파이썬','연습', '문제', 3)  # 가변 매개변수 뒤에 정의된 일반 매개변수는 반드시 키워드매개변수 로 호출)"
   ]
  },
  {
   "cell_type": "code",
   "execution_count": null,
   "metadata": {},
   "outputs": [],
   "source": [
    "print_args('파이썬','연습', '문제', argc=3)"
   ]
  },
  {
   "cell_type": "code",
   "execution_count": null,
   "metadata": {},
   "outputs": [],
   "source": [
    "#람다함수 - map, filter - 2개는 내장함수, reduce-외장함수(임포트해야함) 랑 함께사용하면 파워풀\n",
    "def add(x, y) :\n",
    "    return x + y"
   ]
  },
  {
   "cell_type": "code",
   "execution_count": null,
   "metadata": {},
   "outputs": [],
   "source": [
    "lambda x, y : x + y"
   ]
  },
  {
   "cell_type": "code",
   "execution_count": 1,
   "metadata": {},
   "outputs": [
    {
     "data": {
      "text/plain": [
       "[3, 5, 3]"
      ]
     },
     "execution_count": 1,
     "metadata": {},
     "output_type": "execute_result"
    }
   ],
   "source": [
    "# map 함수 사용\n",
    "names = ['Tom','Alice', 'Bob']\n",
    "A = ...   # ... 코드 입력\n",
    "#print(A)\n",
    "list(A)"
   ]
  },
  {
   "cell_type": "code",
   "execution_count": null,
   "metadata": {},
   "outputs": [],
   "source": [
    "list(A)"
   ]
  },
  {
   "cell_type": "code",
   "execution_count": 2,
   "metadata": {},
   "outputs": [
    {
     "data": {
      "text/plain": [
       "[11, 22, 33, 44]"
      ]
     },
     "execution_count": 2,
     "metadata": {},
     "output_type": "execute_result"
    }
   ],
   "source": [
    "# lambda 사용하기\n",
    "a = [1, 2, 3, 4]; b = [10, 20, 30, 40]\n",
    "list(map(... ))   # ... 코드 입력"
   ]
  },
  {
   "cell_type": "code",
   "execution_count": 3,
   "metadata": {},
   "outputs": [
    {
     "data": {
      "text/plain": [
       "[1, 4, 9, 16, 25]"
      ]
     },
     "execution_count": 3,
     "metadata": {},
     "output_type": "execute_result"
    }
   ],
   "source": [
    "# map() 사용하기\n",
    "def f(x):\n",
    "    return x * x\n",
    "\n",
    "X = [1, 2, 3, 4, 5]\n",
    "list(map(...))  # ... 코드 입력"
   ]
  },
  {
   "cell_type": "code",
   "execution_count": 4,
   "metadata": {},
   "outputs": [
    {
     "data": {
      "text/plain": [
       "[1, 9, 36]"
      ]
     },
     "execution_count": 4,
     "metadata": {},
     "output_type": "execute_result"
    }
   ],
   "source": [
    "X = [1, 3, 6]\n",
    "Y = map(lambda a : a * a, X)\n",
    "list(Y)"
   ]
  },
  {
   "cell_type": "code",
   "execution_count": 5,
   "metadata": {},
   "outputs": [
    {
     "data": {
      "text/plain": [
       "[7, 9]"
      ]
     },
     "execution_count": 5,
     "metadata": {},
     "output_type": "execute_result"
    }
   ],
   "source": [
    "# filter함수 \n",
    "X = [1, 3, 5, 7, 9]\n",
    "result = ...(lambda x: x>5, X)  # ... 코드 입력\n",
    "list(result)"
   ]
  },
  {
   "cell_type": "code",
   "execution_count": 6,
   "metadata": {},
   "outputs": [
    {
     "data": {
      "text/plain": [
       "[1, 3, 5, 7, 9]"
      ]
     },
     "execution_count": 6,
     "metadata": {},
     "output_type": "execute_result"
    }
   ],
   "source": [
    "list(filter(lambda x: x%2 == 1 , range(11)))"
   ]
  }
 ],
 "metadata": {
  "kernelspec": {
   "display_name": "Python 3 (ipykernel)",
   "language": "python",
   "name": "python3"
  },
  "language_info": {
   "codemirror_mode": {
    "name": "ipython",
    "version": 3
   },
   "file_extension": ".py",
   "mimetype": "text/x-python",
   "name": "python",
   "nbconvert_exporter": "python",
   "pygments_lexer": "ipython3",
   "version": "3.11.7"
  }
 },
 "nbformat": 4,
 "nbformat_minor": 4
}
