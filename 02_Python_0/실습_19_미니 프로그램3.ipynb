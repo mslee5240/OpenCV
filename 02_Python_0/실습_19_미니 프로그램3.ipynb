{
 "cells": [
  {
   "cell_type": "markdown",
   "metadata": {},
   "source": [
    "# 19_미니프로젝트3(조건문,반복문)"
   ]
  },
  {
   "cell_type": "markdown",
   "metadata": {},
   "source": [
    "### 7. 로그인 프로그램\n",
    "입력된 아이디가 저장된 아이디인지 확인하는 프로그램을 작성하세요\n",
    "\n",
    "- 프로그램 실행화면  \n",
    "  아이디를 입력하세요 : python  \n",
    "  환영합니다"
   ]
  },
  {
   "cell_type": "code",
   "execution_count": 2,
   "metadata": {},
   "outputs": [
    {
     "name": "stdout",
     "output_type": "stream",
     "text": [
      "아이디를 입력하세요 : python\n",
      "환영합니다\n"
     ]
    }
   ],
   "source": [
    "id = 'python'\n",
    "input_value = input('아이디를 입력하세요 : ')\n",
    "\n",
    "\n",
    "\n",
    "\n"
   ]
  },
  {
   "cell_type": "markdown",
   "metadata": {},
   "source": [
    "### 7-1. 로그인 프로그램\n",
    "7번 문제를 한 번만 체크하지 말고 입력한 아이디가 일치할 때 까지 반복하는 프로그램을 작성하세요\n",
    "\n",
    "- 프로그램 실행화면  \n",
    "  아이디를 입력하세요 : python1\n",
    "  아이디를 찾을 수 없습니다. 다시 시도하여 주세요\n",
    "  \n",
    "  아이디를 입력하세요 : python\n",
    "  환영합니다"
   ]
  },
  {
   "cell_type": "code",
   "execution_count": 3,
   "metadata": {},
   "outputs": [
    {
     "name": "stdout",
     "output_type": "stream",
     "text": [
      "아이디를 입력하세요 : py\n",
      "등록되지 않은 아이디입니다. 다시 시도해 주세요\n",
      "아이디를 입력하세요 : python\n",
      "환영합니다\n"
     ]
    }
   ],
   "source": [
    "id = 'python'\n",
    "\n",
    "\n",
    "\n",
    "\n",
    "\n",
    "\n"
   ]
  },
  {
   "cell_type": "markdown",
   "metadata": {},
   "source": [
    "### 8. 약수 개수 구하기\n",
    "하나의 양의 정수를 입력받아 그 약수를 구하여 출력하고 약수 갯수도 구하는 프로그램을 작성하세요\n",
    "\n",
    "- 프로그램 실행화면  \n",
    "  약수를 구할 정수를 입력하세요: 10  \n",
    "  1  \n",
    "  2  \n",
    "  5  \n",
    "  10  \n",
    "    \n",
    "  10의 약수 개수 : 4    "
   ]
  },
  {
   "cell_type": "code",
   "execution_count": 4,
   "metadata": {},
   "outputs": [
    {
     "name": "stdin",
     "output_type": "stream",
     "text": [
      "약수를 구할 정수를 입력하세요 >   10\n"
     ]
    },
    {
     "name": "stdout",
     "output_type": "stream",
     "text": [
      "12510\n",
      "5\n",
      "약수의 개수 =  4\n"
     ]
    }
   ],
   "source": [
    "n = int(input('약수를 구할 정수를 입력하세요 >  '))\n",
    "array = ''\n",
    "count = 0\n",
    "\n",
    "# code here\n",
    "\n",
    "\n",
    "\n",
    "\n",
    "print(array)\n",
    "print(\"약수의 개수 = \", count)\n"
   ]
  },
  {
   "cell_type": "code",
   "execution_count": 2,
   "metadata": {},
   "outputs": [
    {
     "name": "stdin",
     "output_type": "stream",
     "text": [
      "약수를 구할 정수를 입력하세요 >   10\n"
     ]
    },
    {
     "name": "stdout",
     "output_type": "stream",
     "text": [
      "1\n",
      "2\n",
      "5\n",
      "10\n"
     ]
    }
   ],
   "source": [
    "n = int(input('약수를 구할 정수를 입력하세요 >  '))\n",
    "\n",
    "for i in range(1, n+1):\n",
    "    if n % i == 0:\n",
    "        print(i)"
   ]
  },
  {
   "cell_type": "markdown",
   "metadata": {},
   "source": [
    "### 9. 최댓값 구하기\n",
    "다섯 개의 정수를 하나씩 입력받아 그 정수중에서 가장 큰 값을 출력하는 프로그램을 작성하세요  \n",
    "\n",
    "- 정수입력 : 2    \n",
    "  정수입력 : 4   \n",
    "  정수입력 : 10   \n",
    "  정수입력 : 8   \n",
    "  정수입력 : 6  \n",
    "  \n",
    "  최댓값 : 10\n"
   ]
  },
  {
   "cell_type": "code",
   "execution_count": 6,
   "metadata": {},
   "outputs": [
    {
     "name": "stdout",
     "output_type": "stream",
     "text": [
      "정수 입력 : 3\n",
      "정수 입력 : 6\n",
      "정수 입력 : 2\n",
      "정수 입력 : 8\n",
      "정수 입력 : 10\n",
      "최댓값:  10\n"
     ]
    }
   ],
   "source": [
    "n = int(input('정수 입력 : '))\n",
    "max = n\n",
    "count = 1\n",
    "\n",
    "# code here\n",
    "\n",
    "\n",
    "\n",
    "\n",
    "\n",
    "print('\\n최댓값: ', max)\n"
   ]
  }
 ],
 "metadata": {
  "kernelspec": {
   "display_name": "Python 3 (ipykernel)",
   "language": "python",
   "name": "python3"
  },
  "language_info": {
   "codemirror_mode": {
    "name": "ipython",
    "version": 3
   },
   "file_extension": ".py",
   "mimetype": "text/x-python",
   "name": "python",
   "nbconvert_exporter": "python",
   "pygments_lexer": "ipython3",
   "version": "3.11.7"
  }
 },
 "nbformat": 4,
 "nbformat_minor": 4
}
