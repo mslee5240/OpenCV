{
 "cells": [
  {
   "cell_type": "markdown",
   "metadata": {
    "id": "8GXMJ80rANCA"
   },
   "source": [
    "## 1-1. 클래스 정의와 객체 생성: 생성자 + 메서드"
   ]
  },
  {
   "cell_type": "code",
   "execution_count": null,
   "metadata": {
    "id": "niE2xrKteSKM",
    "outputId": "2e827d84-b475-4971-b5be-5c2c971c6dd6",
    "scrolled": true
   },
   "outputs": [
    {
     "name": "stdout",
     "output_type": "stream",
     "text": [
      "blue\n",
      "2000\n",
      "<class '__main__.Car'>\n"
     ]
    }
   ],
   "source": [
    "# 클래스 선언하기\n",
    "class Car:\n",
    "    def __init__(self, make, model, year):\n",
    "        self.make = make\n",
    "        self.model = model\n",
    "        self.year = year\n",
    "        self.odometer_reading = 0\n",
    "    \n",
    "    def drive(self, distance):\n",
    "        self.odometer_reading += distance\n",
    "        return f\"Driving {distance} kilometers.\"\n",
    "\n",
    "# 객체 생성\n",
    "my_car = Car(\"KIA\", \"Sorento\", 2025)\n",
    "print(my_car.drive(100))  # 출력: Driving 100\n",
    "\n",
    "    print(type(my_car))"
   ]
  },
  {
   "cell_type": "markdown",
   "metadata": {},
   "source": [
    "## 1-2. 클래스 정의와 객체 생성"
   ]
  },
  {
   "cell_type": "code",
   "execution_count": null,
   "metadata": {
    "id": "YwNfSkDOeSKQ",
    "scrolled": true
   },
   "outputs": [],
   "source": [
    "# 1) 클래스 선언하기\n",
    "class Dog:\n",
    "    '''\n",
    "    강아지를 이름과 나이로 표현하는 클래스\n",
    "    속성은 강아지 객체를 구성하는 데이터를 나타냄\n",
    "    '''\n",
    "    def __init__(self,name,age) :\n",
    "        self.name = name\n",
    "        self.age = age\n",
    "\n",
    "    def bark(self) :\n",
    "        print(self.name, 'is barking')"
   ]
  },
  {
   "cell_type": "code",
   "execution_count": null,
   "metadata": {
    "id": "7b4May3heSKR",
    "outputId": "72b638c5-6773-45a6-d3c1-f98d7d90460c",
    "scrolled": true
   },
   "outputs": [
    {
     "name": "stdout",
     "output_type": "stream",
     "text": [
      "Happy is barking\n",
      "Happy is 5 years old\n"
     ]
    }
   ],
   "source": [
    "# 2) 객체 생성하여 사용하기\n",
    "x = Dog('Happy', 5)\n",
    "x.bark()\n",
    "print(x.name, 'is', x.age, 'years old')"
   ]
  },
  {
   "cell_type": "raw",
   "metadata": {
    "id": "JKJusS3GeSKR"
   },
   "source": [
    "## **연습 문제** - Cat 클래스 생성 및 사용하기   "
   ]
  },
  {
   "cell_type": "code",
   "execution_count": null,
   "metadata": {
    "colab": {
     "base_uri": "https://localhost:8080/"
    },
    "id": "Yk5-MTq1eSKT",
    "outputId": "1510fdd7-7678-4127-8def-02f1798b6329"
   },
   "outputs": [
    {
     "name": "stdout",
     "output_type": "stream",
     "text": [
      "kitty is white\n"
     ]
    }
   ],
   "source": [
    "# 1) Cat 클래스를 정의한다 : 생성자 메서드,  이름과 색상을 출력하는 인스턴스 메서드 정의\n",
    "# 생성자 : name과 color를 매개변수로 받아 인스턴스 변수를 초기화 - name, color\n",
    "# 메서드 : show_color() - 고양이의 이름과 색상을 출력\n",
    "# Code here\n",
    "\n",
    "\n",
    "\n",
    "# 2) Cat 클래스의 인스턴스 생성\n",
    "# Code here\n",
    "\n",
    "\n",
    "\n",
    "# 3) 고양이의 색상 출력\n",
    "# Code here\n",
    "\n"
   ]
  },
  {
   "cell_type": "markdown",
   "metadata": {},
   "source": [
    "## 2. 생성자와 소멸자"
   ]
  },
  {
   "cell_type": "code",
   "execution_count": 3,
   "metadata": {},
   "outputs": [
    {
     "name": "stdout",
     "output_type": "stream",
     "text": [
      "Resource DB Connection created\n",
      "Resource DB Connection cleaned up\n"
     ]
    }
   ],
   "source": [
    "class Resource:\n",
    "    def __init__(self, name):\n",
    "        self.name = name\n",
    "        print(f\"Resource {name} created\")\n",
    "    \n",
    "    def __del__(self):\n",
    "        print(f\"Resource {self.name} cleaned up\")\n",
    "\n",
    "# 객체 생성 및 소멸\n",
    "r = Resource(\"DB Connection\")  # 출력: Resource DB Connection created\n",
    "del r  # 출력: Resource DB Connection cleaned up"
   ]
  },
  {
   "cell_type": "code",
   "execution_count": 1,
   "metadata": {},
   "outputs": [],
   "source": [
    "# 클래스 소멸자 알아보기\n",
    "class UserInfo:\n",
    "    def __init__(self, name):\n",
    "        self.name = name\n",
    "\n",
    "    def print_info(self):\n",
    "        print(\"Name: \" + self.name)\n",
    "\n",
    "    def __del__(self):   # 객체가 삭제될 때 호출되는 소멸자 메서드\n",
    "        print(\"Instance removed!\")"
   ]
  },
  {
   "cell_type": "markdown",
   "metadata": {
    "id": "O_y3nFUNG9ns"
   },
   "source": [
    "## 3. 클래스에서 self의 이해하기"
   ]
  },
  {
   "cell_type": "code",
   "execution_count": null,
   "metadata": {
    "colab": {
     "base_uri": "https://localhost:8080/"
    },
    "id": "xq8ADlJseSKU",
    "outputId": "51e0a878-6b3e-43b1-ce1f-da98cc63b988"
   },
   "outputs": [
    {
     "name": "stdout",
     "output_type": "stream",
     "text": [
      "['__class__', '__delattr__', '__dict__', '__dir__', '__doc__', '__eq__', '__format__', '__ge__', '__getattribute__', '__gt__', '__hash__', '__init__', '__init_subclass__', '__le__', '__lt__', '__module__', '__ne__', '__new__', '__reduce__', '__reduce_ex__', '__repr__', '__setattr__', '__sizeof__', '__str__', '__subclasshook__', '__weakref__', 'function1', 'function2']\n",
      "136432065411824\n",
      "136432065411824\n",
      "function2 called!\n",
      "function1 called!\n",
      "None\n"
     ]
    }
   ],
   "source": [
    "# 클래스에서 self의 이해\n",
    "class SelfTest:\n",
    "    def function1():\n",
    "        print(\"function1 called!\")\n",
    "\n",
    "    def function2(self):\n",
    "        print(id(self))\n",
    "        print(\"function2 called!\")\n",
    "\n",
    "f = SelfTest()\n",
    "print(dir(f))\n",
    "\n",
    "print(id(f))\n",
    "f.function2()    # SelfTest.function2(f)\n",
    "#f.function1() #예외 발생\n",
    "print(SelfTest.function1())"
   ]
  },
  {
   "cell_type": "markdown",
   "metadata": {
    "id": "bbzBnCUGHB0g"
   },
   "source": [
    "## 4. 클래스 변수 , 인스턴스 변수"
   ]
  },
  {
   "cell_type": "code",
   "execution_count": null,
   "metadata": {
    "colab": {
     "base_uri": "https://localhost:8080/"
    },
    "id": "LoN3GLI_eSKV",
    "outputId": "034842ff-9afb-4295-8a04-957af540b1f6"
   },
   "outputs": [
    {
     "name": "stdout",
     "output_type": "stream",
     "text": [
      "Kim\n",
      "Park\n",
      "{'name': 'Kim'}\n",
      "{'name': 'Park'}\n",
      "{'__module__': '__main__', 'stock_num': 2, '__init__': <function Warehouse.__init__ at 0x7c15907be320>, '__del__': <function Warehouse.__del__ at 0x7c15907bf370>, '__dict__': <attribute '__dict__' of 'Warehouse' objects>, '__weakref__': <attribute '__weakref__' of 'Warehouse' objects>, '__doc__': None}\n",
      "2\n",
      "2\n"
     ]
    }
   ],
   "source": [
    "# 클래스 변수 , 인스턴스 변수\n",
    "class Warehouse:\n",
    "    # 클래스 변수\n",
    "    stock_num = 0\n",
    "\n",
    "    def __init__(self, name):\n",
    "        # 인스턴스 변수\n",
    "        self.name = name\n",
    "        Warehouse.stock_num += 1\n",
    "\n",
    "    def __del__(self):\n",
    "        Warehouse.stock_num -= 1\n",
    "\n",
    "user1 = Warehouse('Kim')\n",
    "user2 = Warehouse('Park')\n",
    "\n",
    "print(user1.name)\n",
    "print(user2.name)\n",
    "print(user1.__dict__)\n",
    "print(user2.__dict__)\n",
    "print(Warehouse.__dict__)  # 클래스 네임스페이스 , 클래스 변수 (공유)\n",
    "\n",
    "# Warehouse.stock_num = 50 # 직접 접근 가능\n",
    "\n",
    "print(user1.stock_num)\n",
    "print(user2.stock_num)"
   ]
  },
  {
   "cell_type": "code",
   "execution_count": 2,
   "metadata": {},
   "outputs": [
    {
     "name": "stdout",
     "output_type": "stream",
     "text": [
      "Instance removed!\n"
     ]
    },
    {
     "data": {
      "text/plain": [
       "<__main__.UserInfo at 0x2ec0465a8d0>"
      ]
     },
     "execution_count": 2,
     "metadata": {},
     "output_type": "execute_result"
    }
   ],
   "source": [
    "# 객체 생성하여 저장할 변수 지정 안함 => 소멸자 실행됨\n",
    "UserInfo(\"Kim\")\n",
    "UserInfo(\"Park\")"
   ]
  },
  {
   "cell_type": "code",
   "execution_count": 3,
   "metadata": {
    "colab": {
     "base_uri": "https://localhost:8080/"
    },
    "id": "FPoc1S52eSKW",
    "outputId": "922f1d70-442b-4c76-b749-5a978e9badae"
   },
   "outputs": [
    {
     "name": "stdout",
     "output_type": "stream",
     "text": [
      "id : 3212709502736\n",
      "id : 3212709502992\n",
      "Name: Kim\n",
      "Name: Park\n",
      "user1 :  {'name': 'Kim'}\n",
      "user2 :  {'name': 'Park'}\n",
      "Kim\n",
      "Park\n"
     ]
    }
   ],
   "source": [
    "# 객체 생성하여 저장할 변수 지정함 => 소멸자 실행안됨\n",
    "user1 = UserInfo(\"Kim\")\n",
    "user2 = UserInfo(\"Park\")\n",
    "\n",
    "print(f'id : {id(user1)}')\n",
    "print(f'id : {id(user2)}')\n",
    "\n",
    "user1.print_info()\n",
    "user2.print_info()\n",
    "\n",
    "print('user1 : ', user1.__dict__)  # 클래스 네임스페이스 확인\n",
    "print('user2 : ', user2.__dict__)\n",
    "\n",
    "print(user1.name)\n",
    "print(user2.name)"
   ]
  },
  {
   "cell_type": "code",
   "execution_count": null,
   "metadata": {
    "colab": {
     "base_uri": "https://localhost:8080/"
    },
    "id": "JddqKK2qeSKW",
    "outputId": "0438dd2a-5c93-4839-acad-bd778618899e"
   },
   "outputs": [
    {
     "name": "stdout",
     "output_type": "stream",
     "text": [
      "id : 136432064738592\n",
      "id : 136432064741136\n",
      "Name: Kim\n",
      "Name: Park\n",
      "user1 :  {'name': 'Kim'}\n",
      "user2 :  {'name': 'Park'}\n",
      "Kim\n",
      "Instance removed!\n",
      "Instance removed!\n",
      "Instance removed!\n",
      "Instance removed!\n"
     ]
    }
   ],
   "source": [
    "user1 = UserInfo(\"Kim\")\n",
    "user2 = UserInfo(\"Park\")\n",
    "\n",
    "print(f'id : {id(user1)}')\n",
    "print(f'id : {id(user2)}')\n",
    "\n",
    "user1.print_info()\n",
    "user2.print_info()\n",
    "\n",
    "print('user1 : ', user1.__dict__)  # 클래스 네임스페이스 확인\n",
    "print('user2 : ', user2.__dict__)\n",
    "\n",
    "print(user1.name)\n",
    "print(user2.name)\n",
    "\n",
    "# 명시적으로 객체 삭제\n",
    "del user1\n",
    "del user2"
   ]
  },
  {
   "cell_type": "markdown",
   "metadata": {},
   "source": [
    "## 연습문제 : 은행 계좌 클래스 구현\n",
    "\n",
    "> 요구사항:   \n",
    "    - BankAccount 클래스 생성   \n",
    "    - 계좌번호, 소유자 이름, 잔액 속성 구현     \n",
    "    - 입금, 출금, 잔액 조회 메서드 구현    \n",
    "    - 출금 시 잔액 부족 처리 구현     "
   ]
  },
  {
   "cell_type": "code",
   "execution_count": null,
   "metadata": {},
   "outputs": [],
   "source": [
    "# code here\n",
    "\n"
   ]
  },
  {
   "cell_type": "markdown",
   "metadata": {
    "id": "TWvm8D16eSKX"
   },
   "source": [
    "## 5. 상속"
   ]
  },
  {
   "cell_type": "code",
   "execution_count": null,
   "metadata": {
    "id": "02JNFAWfFxVO"
   },
   "outputs": [],
   "source": [
    "# 상속\n",
    "class Base:\n",
    "    def base_method(self):\n",
    "        print(\"base_method\")\n",
    "\n",
    "class Derived(Base):\n",
    "    pass\n",
    "\n",
    "base = Base()\n",
    "base.base_method()\n",
    "derived = Derived()\n",
    "derived.base_method()"
   ]
  },
  {
   "cell_type": "code",
   "execution_count": null,
   "metadata": {
    "colab": {
     "base_uri": "https://localhost:8080/"
    },
    "id": "4Q88LTv4Fy1b",
    "outputId": "9e833103-36ca-4bb8-a3bf-e9a3de6d969c"
   },
   "outputs": [
    {
     "name": "stdout",
     "output_type": "stream",
     "text": [
      "엄마는\n",
      "키가 크다.\n",
      "공부를 잘한다.\n",
      "딸은\n",
      "키가 크다.\n",
      "공부를 잘한다.\n",
      "운동을 잘한다.\n"
     ]
    }
   ],
   "source": [
    "# 상속 예시\n",
    "class Mother():\n",
    "    def characteristic(self):\n",
    "        print(\"키가 크다.\")\n",
    "        print(\"공부를 잘한다.\")\n",
    "\n",
    "class Daughter(Mother):\n",
    "    def characteristic(self):\n",
    "        super().characteristic()\n",
    "        print(\"운동을 잘한다.\")\n",
    "\n",
    "엄마 = Mother()\n",
    "딸 = Daughter()\n",
    "\n",
    "print(\"엄마는\")\n",
    "엄마.characteristic()\n",
    "print(\"딸은\")\n",
    "딸.characteristic()"
   ]
  },
  {
   "cell_type": "code",
   "execution_count": null,
   "metadata": {
    "colab": {
     "base_uri": "https://localhost:8080/"
    },
    "id": "Q_5bWY1IeSKX",
    "outputId": "4adcab66-d847-4c1d-9bdb-adf8ff5e7265"
   },
   "outputs": [
    {
     "name": "stdout",
     "output_type": "stream",
     "text": [
      "제 이름은 송강호 입니다. 직업은 배우 입니다.\n",
      "대표 작품은 기생충 입니다.\n"
     ]
    }
   ],
   "source": [
    "# 부모 클래스\n",
    "class Person:\n",
    "    \"\"\"Parent Class\"\"\"\n",
    "    def __init__(self, name, job):\n",
    "        self.name = name\n",
    "        self.job = job\n",
    "\n",
    "    def introduce(self):\n",
    "        print(f'제 이름은 {self.name} 입니다. 직업은 {self.job} 입니다.')\n",
    "\n",
    "# 자식 클래스\n",
    "class Actor(Person):\n",
    "    def __init__(self, name, best_movie):\n",
    "        super().__init__(name, job=\"배우\")\n",
    "        self.best_movie = best_movie\n",
    "\n",
    "    def filmography(self):\n",
    "        print(f'대표 작품은 {self.best_movie} 입니다.')\n",
    "\n",
    "    def introduce(self):\n",
    "        super().introduce()\n",
    "\n",
    "# 객체 생성\n",
    "actor_song = Actor('송강호', best_movie='기생충')\n",
    "\n",
    "# 상속된 메서드 호출\n",
    "...   # ... Code here\n",
    "...   # ... Code here"
   ]
  },
  {
   "cell_type": "code",
   "execution_count": null,
   "metadata": {
    "colab": {
     "base_uri": "https://localhost:8080/"
    },
    "id": "_uCwe51eVghP",
    "outputId": "82425fd1-aaa6-4fc3-b191-624019b83d35"
   },
   "outputs": [
    {
     "data": {
      "text/plain": [
       "['__class__',\n",
       " '__delattr__',\n",
       " '__dict__',\n",
       " '__dir__',\n",
       " '__doc__',\n",
       " '__eq__',\n",
       " '__format__',\n",
       " '__ge__',\n",
       " '__getattribute__',\n",
       " '__gt__',\n",
       " '__hash__',\n",
       " '__init__',\n",
       " '__init_subclass__',\n",
       " '__le__',\n",
       " '__lt__',\n",
       " '__module__',\n",
       " '__ne__',\n",
       " '__new__',\n",
       " '__reduce__',\n",
       " '__reduce_ex__',\n",
       " '__repr__',\n",
       " '__setattr__',\n",
       " '__sizeof__',\n",
       " '__str__',\n",
       " '__subclasshook__',\n",
       " '__weakref__',\n",
       " 'best_movie',\n",
       " 'filmography',\n",
       " 'introduce',\n",
       " 'job',\n",
       " 'name']"
      ]
     },
     "execution_count": 17,
     "metadata": {},
     "output_type": "execute_result"
    }
   ],
   "source": [
    "dir(actor_song)"
   ]
  },
  {
   "cell_type": "markdown",
   "metadata": {
    "id": "isJajr0peSKY"
   },
   "source": [
    "## 6. 오버라이딩\n",
    "자식 클래스가 부모 클래스의 메서드를 새롭게 정의하는 것\n",
    "- 부모 클래스는 공통된 기능을 정의해 둠\n",
    "- 자식 클래스는 이 기능을 같은 이름으로 다시 정의하여 부모와는 다른 행동을 할 수 있게 함\n",
    "- 메서드 이름과 인자는 부모와 자식에서 동일\n",
    "- 오버라이딩된 메서드에서도 super().메서드이름()을 사용하면 부모 클래스의 기능을 그대로 호출하면서 자식 클래스의 기능도 추가로 수행"
   ]
  },
  {
   "cell_type": "code",
   "execution_count": null,
   "metadata": {
    "colab": {
     "base_uri": "https://localhost:8080/"
    },
    "id": "pXE7C-crGDvy",
    "outputId": "668aa4bd-e1a7-4a7a-d486-0f32cdc94823"
   },
   "outputs": [
    {
     "name": "stdout",
     "output_type": "stream",
     "text": [
      "A\n",
      "B\n"
     ]
    }
   ],
   "source": [
    "#오버라이딩\n",
    "class A:\n",
    "    def method(self):\n",
    "        print(\"A\")\n",
    "\n",
    "class B(A):        # B는 A를 상속하지만, A의 method()를 물려받는 대신 자신만의 버전을오버라이딩함\n",
    "    def method(self):\n",
    "        print(\"B\")\n",
    "\n",
    "A().method()\n",
    "B().method()"
   ]
  },
  {
   "cell_type": "code",
   "execution_count": null,
   "metadata": {
    "colab": {
     "base_uri": "https://localhost:8080/"
    },
    "id": "4C6HG3g7eSKY",
    "outputId": "147f4167-0aae-4847-c798-b526d84e3863"
   },
   "outputs": [
    {
     "name": "stdout",
     "output_type": "stream",
     "text": [
      "기본 교통수단이 출발합니다.\n",
      "자동차가 엔진을 켜고 출발합니다.\n",
      "자전거가 페달을 밟고 출발합니다.\n"
     ]
    }
   ],
   "source": [
    "class Vehicle:\n",
    "    def start(self):\n",
    "        print(\"기본 교통수단이 출발합니다.\")\n",
    "\n",
    "class Car(Vehicle):  # Car는 Vehicle을 상속하지만, 자신만의 출발 방식을 오버라이딩함\n",
    "    def start(self):\n",
    "        print(\"자동차가 엔진을 켜고 출발합니다.\")\n",
    "\n",
    "class Bicycle(Vehicle):  # Bicycle도 Vehicle을 상속하지만, 자신만의 출발 방식을 오버라이딩함\n",
    "    def start(self):\n",
    "        print(\"자전거가 페달을 밟고 출발합니다.\")\n",
    "\n",
    "# 부모 클래스와 자식 클래스의 메서드 호출\n",
    "vehicle = Vehicle()\n",
    "car = Car()\n",
    "bicycle = Bicycle()\n",
    "\n",
    "vehicle.start()    # 기본 교통수단이 출발합니다.\n",
    "car.start()        # 자동차가 엔진을 켜고 출발합니다.\n",
    "bicycle.start()    # 자전거가 페달을 밟고 출발합니다."
   ]
  },
  {
   "cell_type": "code",
   "execution_count": null,
   "metadata": {
    "id": "ymGlY0KyeSKY"
   },
   "outputs": [],
   "source": [
    "# 메서드 오버라이딩\n",
    "class Mother():\n",
    "    def characteristic(self):\n",
    "        print(\"키가 크다.\")\n",
    "        print(\"공부를 잘한다.\")\n",
    "\n",
    "class Daughter(Mother):\n",
    "    def characteristic(self):\n",
    "        super().characteristic()\n",
    "        print(\"운동을 잘한다.\")\n",
    "\n",
    "엄마 = Mother()\n",
    "딸 = Daughter()\n",
    "\n",
    "# 엄마.characteristic()와 딸.characteristic() 메서드를 명시적으로 호출하여 특성 출력\n",
    "print(\"엄마는\")\n",
    "엄마.characteristic()\n",
    "print(\"딸은\")\n",
    "딸.characteristic()"
   ]
  },
  {
   "cell_type": "code",
   "execution_count": null,
   "metadata": {
    "id": "yylrZy0UeSKY"
   },
   "outputs": [],
   "source": [
    "# 생성자 오버라이딩\n",
    "class Mother():\n",
    "    def __init__(self):\n",
    "        print(\"키가 크다.\")\n",
    "        print(\"공부를 잘한다.\")\n",
    "\n",
    "class Daughter(Mother):\n",
    "    def __init__(self):\n",
    "        super().__init__()\n",
    "        print(\"운동을 잘한다.\")\n",
    "\n",
    "# 객체 생성 시에 자동으로 __init__() 생성자가 호출되어 특성이 출력\n",
    "print(\"엄마는\")\n",
    "엄마 = Mother()\n",
    "print(\"딸은\")\n",
    "딸 = Daughter()"
   ]
  },
  {
   "cell_type": "markdown",
   "metadata": {
    "id": "vX1b3ZOGGR8S"
   },
   "source": [
    "## 상속과 오버라이딩 예시 - Pytorch vs Tensorflow"
   ]
  },
  {
   "cell_type": "code",
   "execution_count": null,
   "metadata": {
    "id": "4Dwc_reqGQ-L"
   },
   "outputs": [],
   "source": [
    "import torch\n",
    "import torch.nn as nn\n",
    "\n",
    "# Custom Neural Network by inheriting nn.Module\n",
    "class CustomModel(nn.Module):\n",
    "    def __init__(self):\n",
    "        super(CustomModel, self).__init__()  # 부모 클래스 초기화\n",
    "        self.layer1 = nn.Linear(10, 20)     # 입력 10, 출력 20\n",
    "        self.layer2 = nn.Linear(20, 1)      # 입력 20, 출력 1\n",
    "\n",
    "    # Overriding the forward method\n",
    "    def forward(self, x):\n",
    "        x = torch.relu(self.layer1(x))      # 첫 번째 레이어 + 활성화 함수\n",
    "        x = self.layer2(x)                  # 두 번째 레이어\n",
    "        return x\n",
    "\n",
    "# 모델 생성 및 사용\n",
    "model = CustomModel()\n",
    "sample_input = torch.randn(1, 10)  # 샘플 입력 (1x10)\n",
    "output = model(sample_input)       # 순전파 실행\n",
    "print(output)"
   ]
  },
  {
   "cell_type": "code",
   "execution_count": null,
   "metadata": {
    "id": "Nr-kIwoSGWFo"
   },
   "outputs": [],
   "source": [
    "# tensorflow\n",
    "import tensorflow as tf\n",
    "\n",
    "# Custom Neural Network by inheriting tf.keras.Model\n",
    "class CustomModel(tf.keras.Model):\n",
    "    def __init__(self):\n",
    "        super(CustomModel, self).__init__()  # 부모 클래스 초기화\n",
    "        self.dense1 = tf.keras.layers.Dense(20, activation='relu')  # 첫 번째 Dense Layer\n",
    "        self.dense2 = tf.keras.layers.Dense(1)                     # 두 번째 Dense Layer\n",
    "\n",
    "    # Overriding the call method\n",
    "    def call(self, inputs):\n",
    "        x = self.dense1(inputs)  # 첫 번째 레이어\n",
    "        x = self.dense2(x)       # 두 번째 레이어\n",
    "        return x\n",
    "\n",
    "# 모델 생성 및 사용\n",
    "model = CustomModel()\n",
    "sample_input = tf.random.normal([1, 10])  # 샘플 입력 (1x10)\n",
    "output = model(sample_input)              # 순전파 실행\n",
    "print(output)\n"
   ]
  },
  {
   "cell_type": "code",
   "execution_count": null,
   "metadata": {
    "id": "PMNwvjHRGXge"
   },
   "outputs": [],
   "source": [
    "# TensorFlow의 Keras API- Sequential API : keras 사용하여 간단한 신경망 설계시 사용\n",
    "import tensorflow as tf\n",
    "\n",
    "model = tf.keras.Sequential([\n",
    "    tf.keras.layers.Dense(64, activation='relu'),\n",
    "    tf.keras.layers.Dense(10, activation='softmax')\n",
    "])"
   ]
  },
  {
   "cell_type": "markdown",
   "metadata": {
    "id": "SaB1uvPTA7tA"
   },
   "source": [
    "## 클래스를 사용한 게임 예제"
   ]
  },
  {
   "cell_type": "code",
   "execution_count": 2,
   "metadata": {
    "colab": {
     "base_uri": "https://localhost:8080/"
    },
    "id": "DOk5kn6BBkc_",
    "outputId": "e2ae7d1f-957f-4ff5-bf45-40f30d713906"
   },
   "outputs": [
    {
     "name": "stdout",
     "output_type": "stream",
     "text": [
      "Ball position: (11, 6)\n",
      "Ball position: (12, 7)\n",
      "Ball position: (13, 8)\n",
      "Ball position: (14, 9)\n",
      "Ball position: (15, 10)\n",
      "Ball position: (16, 9)\n",
      "Ball position: (17, 8)\n",
      "Ball position: (18, 7)\n",
      "Ball position: (19, 6)\n",
      "Ball position: (20, 5)\n",
      "Ball position: (19, 4)\n",
      "Ball position: (18, 3)\n",
      "Ball position: (17, 2)\n",
      "Ball position: (16, 1)\n",
      "Ball position: (15, 0)\n",
      "Ball position: (14, 1)\n",
      "Ball position: (13, 2)\n",
      "Ball position: (12, 3)\n",
      "Ball position: (11, 4)\n",
      "Ball position: (10, 5)\n"
     ]
    }
   ],
   "source": [
    "import time\n",
    "import random\n",
    "\n",
    "class Ball:\n",
    "    def __init__(self, x, y, dx, dy):\n",
    "        self.x = x\n",
    "        self.y = y\n",
    "        self.dx = dx\n",
    "        self.dy = dy\n",
    "\n",
    "    def move(self):\n",
    "        self.x += self.dx\n",
    "        self.y += self.dy\n",
    "        if self.x <= 0 or self.x >= 20:  # X 경계\n",
    "            self.dx *= -1\n",
    "        if self.y <= 0 or self.y >= 10:  # Y 경계\n",
    "            self.dy *= -1\n",
    "\n",
    "    def __str__(self):\n",
    "        return f\"Ball position: ({self.x}, {self.y})\"\n",
    "\n",
    "ball = Ball(10, 5, 1, 1)\n",
    "\n",
    "for _ in range(20):\n",
    "    ball.move()\n",
    "    print(ball)\n",
    "    time.sleep(0.5)\n"
   ]
  },
  {
   "cell_type": "markdown",
   "metadata": {
    "id": "kPxxXLTLCO7X"
   },
   "source": [
    "## 간단한 공 튀기기 게임\n",
    "- 목표: 화면에서 공이 튀어 다니며, 플레이어는 막대로 공을 받는 게임을 구현합니다.\n",
    "- 연습할 클래스:\n",
    "    - Ball: 공의 위치, 속도, 이동 로직 관리.\n",
    "    - Paddle: 막대의 위치, 크기, 이동 로직 관리.\n",
    "    - Game: 전체 게임의 흐름 제어."
   ]
  },
  {
   "cell_type": "code",
   "execution_count": 5,
   "metadata": {},
   "outputs": [
    {
     "name": "stdout",
     "output_type": "stream",
     "text": [
      "Collecting pygame\n",
      "  Downloading pygame-2.6.1-cp311-cp311-win_amd64.whl.metadata (13 kB)\n",
      "Downloading pygame-2.6.1-cp311-cp311-win_amd64.whl (10.6 MB)\n",
      "   ---------------------------------------- 0.0/10.6 MB ? eta -:--:--\n",
      "   ---------------------------------------- 0.0/10.6 MB 640.0 kB/s eta 0:00:17\n",
      "    --------------------------------------- 0.2/10.6 MB 2.3 MB/s eta 0:00:05\n",
      "   - -------------------------------------- 0.5/10.6 MB 3.9 MB/s eta 0:00:03\n",
      "   --- ------------------------------------ 0.8/10.6 MB 4.8 MB/s eta 0:00:03\n",
      "   ---- ----------------------------------- 1.2/10.6 MB 5.4 MB/s eta 0:00:02\n",
      "   ----- ---------------------------------- 1.6/10.6 MB 5.9 MB/s eta 0:00:02\n",
      "   ------- -------------------------------- 2.0/10.6 MB 6.3 MB/s eta 0:00:02\n",
      "   -------- ------------------------------- 2.3/10.6 MB 6.5 MB/s eta 0:00:02\n",
      "   ---------- ----------------------------- 2.7/10.6 MB 6.5 MB/s eta 0:00:02\n",
      "   ----------- ---------------------------- 3.1/10.6 MB 6.9 MB/s eta 0:00:02\n",
      "   ------------ --------------------------- 3.4/10.6 MB 6.7 MB/s eta 0:00:02\n",
      "   -------------- ------------------------- 3.8/10.6 MB 7.1 MB/s eta 0:00:01\n",
      "   --------------- ------------------------ 4.2/10.6 MB 7.2 MB/s eta 0:00:01\n",
      "   ----------------- ---------------------- 4.6/10.6 MB 7.3 MB/s eta 0:00:01\n",
      "   ------------------ --------------------- 5.0/10.6 MB 7.4 MB/s eta 0:00:01\n",
      "   ------------------- -------------------- 5.2/10.6 MB 7.3 MB/s eta 0:00:01\n",
      "   -------------------- ------------------- 5.3/10.6 MB 7.1 MB/s eta 0:00:01\n",
      "   --------------------- ------------------ 5.7/10.6 MB 7.0 MB/s eta 0:00:01\n",
      "   ---------------------- ----------------- 6.0/10.6 MB 7.0 MB/s eta 0:00:01\n",
      "   ------------------------ --------------- 6.5/10.6 MB 7.1 MB/s eta 0:00:01\n",
      "   -------------------------- ------------- 7.0/10.6 MB 7.2 MB/s eta 0:00:01\n",
      "   --------------------------- ------------ 7.4/10.6 MB 7.2 MB/s eta 0:00:01\n",
      "   ----------------------------- ---------- 7.8/10.6 MB 7.3 MB/s eta 0:00:01\n",
      "   ------------------------------ --------- 8.0/10.6 MB 7.2 MB/s eta 0:00:01\n",
      "   ------------------------------- -------- 8.4/10.6 MB 7.2 MB/s eta 0:00:01\n",
      "   -------------------------------- ------- 8.7/10.6 MB 7.2 MB/s eta 0:00:01\n",
      "   ---------------------------------- ----- 9.0/10.6 MB 7.2 MB/s eta 0:00:01\n",
      "   ----------------------------------- ---- 9.4/10.6 MB 7.2 MB/s eta 0:00:01\n",
      "   ------------------------------------ --- 9.7/10.6 MB 7.2 MB/s eta 0:00:01\n",
      "   ------------------------------------- -- 10.1/10.6 MB 7.2 MB/s eta 0:00:01\n",
      "   ---------------------------------------  10.4/10.6 MB 7.5 MB/s eta 0:00:01\n",
      "   ---------------------------------------  10.6/10.6 MB 7.5 MB/s eta 0:00:01\n",
      "   ---------------------------------------- 10.6/10.6 MB 7.4 MB/s eta 0:00:00\n",
      "Installing collected packages: pygame\n",
      "Successfully installed pygame-2.6.1\n"
     ]
    }
   ],
   "source": [
    "!pip install pygame"
   ]
  },
  {
   "cell_type": "code",
   "execution_count": 6,
   "metadata": {
    "colab": {
     "base_uri": "https://localhost:8080/",
     "height": 349
    },
    "id": "447efCEUA7M4",
    "outputId": "addcab9d-0d82-4c22-d176-fc7492ef0013"
   },
   "outputs": [
    {
     "name": "stdout",
     "output_type": "stream",
     "text": [
      "pygame 2.6.1 (SDL 2.28.4, Python 3.11.7)\n",
      "Hello from the pygame community. https://www.pygame.org/contribute.html\n"
     ]
    }
   ],
   "source": [
    "# 1. 단순 공 튀기기\n",
    "\n",
    "import pygame\n",
    "import random\n",
    "\n",
    "# Pygame 초기화\n",
    "pygame.init()\n",
    "\n",
    "# 화면 설정\n",
    "SCREEN_WIDTH, SCREEN_HEIGHT = 800, 600\n",
    "screen = pygame.display.set_mode((SCREEN_WIDTH, SCREEN_HEIGHT))\n",
    "pygame.display.set_caption(\"Simple Ball Game\")\n",
    "\n",
    "# 색상 정의\n",
    "WHITE = (255, 255, 255)\n",
    "BLACK = (0, 0, 0)\n",
    "RED = (255, 0, 0)\n",
    "\n",
    "# FPS 설정\n",
    "clock = pygame.time.Clock()\n",
    "FPS = 60\n",
    "\n",
    "# Ball 클래스\n",
    "class Ball:\n",
    "    def __init__(self, x, y, radius, speed_x, speed_y, color):\n",
    "        self.x = x\n",
    "        self.y = y\n",
    "        self.radius = radius\n",
    "        self.speed_x = speed_x\n",
    "        self.speed_y = speed_y\n",
    "        self.color = color\n",
    "\n",
    "    def move(self):\n",
    "        self.x += self.speed_x\n",
    "        self.y += self.speed_y\n",
    "\n",
    "        # 화면 경계 충돌 체크\n",
    "        if self.x - self.radius < 0 or self.x + self.radius > SCREEN_WIDTH:\n",
    "            self.speed_x *= -1\n",
    "        if self.y - self.radius < 0 or self.y + self.radius > SCREEN_HEIGHT:\n",
    "            self.speed_y *= -1\n",
    "\n",
    "    def draw(self, screen):\n",
    "        pygame.draw.circle(screen, self.color, (self.x, self.y), self.radius)\n",
    "\n",
    "# Paddle 클래스\n",
    "class Paddle:\n",
    "    def __init__(self, x, y, width, height, color):\n",
    "        self.x = x\n",
    "        self.y = y\n",
    "        self.width = width\n",
    "        self.height = height\n",
    "        self.color = color\n",
    "        self.speed = 10\n",
    "\n",
    "    def move(self, keys):\n",
    "        if keys[pygame.K_LEFT] and self.x > 0:\n",
    "            self.x -= self.speed\n",
    "        if keys[pygame.K_RIGHT] and self.x + self.width < SCREEN_WIDTH:\n",
    "            self.x += self.speed\n",
    "\n",
    "    def draw(self, screen):\n",
    "        pygame.draw.rect(screen, self.color, (self.x, self.y, self.width, self.height))\n",
    "\n",
    "# Game 클래스\n",
    "class Game:\n",
    "    def __init__(self):\n",
    "        self.ball = Ball(400, 300, 15, 4, 4, RED)\n",
    "        self.paddle = Paddle(350, 550, 100, 20, WHITE)\n",
    "        self.running = True\n",
    "\n",
    "    def run(self):\n",
    "        while self.running:\n",
    "            screen.fill(BLACK)\n",
    "\n",
    "            for event in pygame.event.get():\n",
    "                if event.type == pygame.QUIT:\n",
    "                    self.running = False\n",
    "\n",
    "            keys = pygame.key.get_pressed()\n",
    "            self.paddle.move(keys)\n",
    "            self.ball.move()\n",
    "\n",
    "            # Paddle과 Ball 충돌 체크\n",
    "            if (\n",
    "                self.paddle.x < self.ball.x < self.paddle.x + self.paddle.width\n",
    "                and self.paddle.y < self.ball.y + self.ball.radius < self.paddle.y + self.paddle.height\n",
    "            ):\n",
    "                self.ball.speed_y *= -1\n",
    "\n",
    "            self.ball.draw(screen)\n",
    "            self.paddle.draw(screen)\n",
    "\n",
    "            pygame.display.flip()\n",
    "            clock.tick(FPS)\n",
    "\n",
    "        pygame.quit()\n",
    "\n",
    "# 게임 실행\n",
    "if __name__ == \"__main__\":\n",
    "    Game().run()\n"
   ]
  },
  {
   "cell_type": "code",
   "execution_count": null,
   "metadata": {
    "id": "dNSey2fUG_71"
   },
   "outputs": [],
   "source": [
    "# 2. 시간 및 횟수 제한 적용\n",
    "\n",
    "import pygame\n",
    "import random\n",
    "import time\n",
    "\n",
    "# Pygame 초기화\n",
    "pygame.init()\n",
    "\n",
    "# 화면 설정\n",
    "SCREEN_WIDTH, SCREEN_HEIGHT = 800, 600\n",
    "screen = pygame.display.set_mode((SCREEN_WIDTH, SCREEN_HEIGHT))\n",
    "pygame.display.set_caption(\"Simple Ball Game with Auto End\")\n",
    "\n",
    "# 색상 정의\n",
    "WHITE = (255, 255, 255)\n",
    "BLACK = (0, 0, 0)\n",
    "RED = (255, 0, 0)\n",
    "\n",
    "# FPS 설정\n",
    "clock = pygame.time.Clock()\n",
    "FPS = 60\n",
    "\n",
    "# Ball 클래스\n",
    "class Ball:\n",
    "    def __init__(self, x, y, radius, speed_x, speed_y, color):\n",
    "        self.x = x\n",
    "        self.y = y\n",
    "        self.radius = radius\n",
    "        self.speed_x = speed_x\n",
    "        self.speed_y = speed_y\n",
    "        self.color = color\n",
    "\n",
    "    def move(self):\n",
    "        self.x += self.speed_x\n",
    "        self.y += self.speed_y\n",
    "\n",
    "        # 화면 경계 충돌 체크\n",
    "        if self.x - self.radius < 0 or self.x + self.radius > SCREEN_WIDTH:\n",
    "            self.speed_x *= -1\n",
    "        if self.y - self.radius < 0:\n",
    "            self.speed_y *= -1\n",
    "\n",
    "    def draw(self, screen):\n",
    "        pygame.draw.circle(screen, self.color, (self.x, self.y), self.radius)\n",
    "\n",
    "# Paddle 클래스\n",
    "class Paddle:\n",
    "    def __init__(self, x, y, width, height, color):\n",
    "        self.x = x\n",
    "        self.y = y\n",
    "        self.width = width\n",
    "        self.height = height\n",
    "        self.color = color\n",
    "        self.speed = 10\n",
    "\n",
    "    def move(self, keys):\n",
    "        if keys[pygame.K_LEFT] and self.x > 0:\n",
    "            self.x -= self.speed\n",
    "        if keys[pygame.K_RIGHT] and self.x + self.width < SCREEN_WIDTH:\n",
    "            self.x += self.speed\n",
    "\n",
    "    def draw(self, screen):\n",
    "        pygame.draw.rect(screen, self.color, (self.x, self.y, self.width, self.height))\n",
    "\n",
    "# Game 클래스\n",
    "class Game:\n",
    "    def __init__(self, max_misses=3, max_time=30):\n",
    "        self.ball = Ball(400, 300, 15, 4, 4, RED)\n",
    "        self.paddle = Paddle(350, 550, 100, 20, WHITE)\n",
    "        self.running = True\n",
    "        self.misses = 0\n",
    "        self.max_misses = max_misses\n",
    "        self.start_time = time.time()\n",
    "        self.max_time = max_time  # 게임 최대 시간(초)\n",
    "\n",
    "    def run(self):\n",
    "        while self.running:\n",
    "            screen.fill(BLACK)\n",
    "\n",
    "            # 게임 종료 조건\n",
    "            elapsed_time = time.time() - self.start_time\n",
    "            if self.misses >= self.max_misses:\n",
    "                print(\"게임 종료: 공을 너무 많이 놓쳤습니다!\")\n",
    "                self.running = False\n",
    "            elif elapsed_time >= self.max_time:\n",
    "                print(\"게임 종료: 시간 초과!\")\n",
    "                self.running = False\n",
    "\n",
    "            for event in pygame.event.get():\n",
    "                if event.type == pygame.QUIT:\n",
    "                    self.running = False\n",
    "\n",
    "            keys = pygame.key.get_pressed()\n",
    "            self.paddle.move(keys)\n",
    "            self.ball.move()\n",
    "\n",
    "            # Paddle과 Ball 충돌 체크\n",
    "            if (\n",
    "                self.paddle.x < self.ball.x < self.paddle.x + self.paddle.width\n",
    "                and self.paddle.y < self.ball.y + self.ball.radius < self.paddle.y + self.paddle.height\n",
    "            ):\n",
    "                self.ball.speed_y *= -1\n",
    "            elif self.ball.y + self.ball.radius > SCREEN_HEIGHT:  # 공이 화면 아래로 떨어지면\n",
    "                self.misses += 1\n",
    "                print(f\"놓친 공: {self.misses}/{self.max_misses}\")\n",
    "\n",
    "            self.ball.draw(screen)\n",
    "            self.paddle.draw(screen)\n",
    "\n",
    "            pygame.display.flip()\n",
    "            clock.tick(FPS)\n",
    "\n",
    "        pygame.quit()\n",
    "\n",
    "# 게임 실행\n",
    "if __name__ == \"__main__\":\n",
    "    Game(max_misses=3, max_time=30).run()\n"
   ]
  },
  {
   "cell_type": "code",
   "execution_count": null,
   "metadata": {
    "id": "0STHhTCdHVN0"
   },
   "outputs": [],
   "source": [
    "# 3.상속 개념 적용\n",
    "\n",
    "# GameObject 부모 클래스\n",
    "class GameObject:\n",
    "    def __init__(self, x, y, width, height, color):\n",
    "        self.x = x\n",
    "        self.y = y\n",
    "        self.width = width\n",
    "        self.height = height\n",
    "        self.color = color\n",
    "\n",
    "    def draw(self, screen):\n",
    "        pygame.draw.rect(screen, self.color, (self.x, self.y, self.width, self.height))\n",
    "\n",
    "# Ball 클래스 (GameObject 상속)\n",
    "class Ball(GameObject):\n",
    "    def __init__(self, x, y, radius, speed_x, speed_y, color):\n",
    "        super().__init__(x, y, radius * 2, radius * 2, color)\n",
    "        self.radius = radius\n",
    "        self.speed_x = speed_x\n",
    "        self.speed_y = speed_y\n",
    "\n",
    "    def move(self):\n",
    "        self.x += self.speed_x\n",
    "        self.y += self.speed_y\n",
    "\n",
    "        if self.x - self.radius < 0 or self.x + self.radius > SCREEN_WIDTH:\n",
    "            self.speed_x *= -1\n",
    "        if self.y - self.radius < 0:\n",
    "            self.speed_y *= -1\n",
    "\n",
    "    def draw(self, screen):\n",
    "        pygame.draw.circle(screen, self.color, (self.x, self.y), self.radius)\n",
    "\n",
    "# Paddle 클래스 (GameObject 상속)\n",
    "class Paddle(GameObject):\n",
    "    def __init__(self, x, y, width, height, color):\n",
    "        super().__init__(x, y, width, height, color)\n",
    "        self.speed = 10\n",
    "\n",
    "    def move(self, keys):\n",
    "        if keys[pygame.K_LEFT] and self.x > 0:\n",
    "            self.x -= self.speed\n",
    "        if keys[pygame.K_RIGHT] and self.x + self.width < SCREEN_WIDTH:\n",
    "            self.x += self.speed\n"
   ]
  }
 ],
 "metadata": {
  "colab": {
   "provenance": [],
   "toc_visible": true
  },
  "kernelspec": {
   "display_name": "Python 3 (ipykernel)",
   "language": "python",
   "name": "python3"
  },
  "language_info": {
   "codemirror_mode": {
    "name": "ipython",
    "version": 3
   },
   "file_extension": ".py",
   "mimetype": "text/x-python",
   "name": "python",
   "nbconvert_exporter": "python",
   "pygments_lexer": "ipython3",
   "version": "3.11.7"
  }
 },
 "nbformat": 4,
 "nbformat_minor": 4
}
