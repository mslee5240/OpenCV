{
 "cells": [
  {
   "cell_type": "markdown",
   "metadata": {},
   "source": [
    "### 1.유용한 문자열 함수 ( 엄밀히 말하면 메서드)"
   ]
  },
  {
   "cell_type": "code",
   "execution_count": null,
   "metadata": {},
   "outputs": [],
   "source": [
    "# upper() \n",
    "name = 'kang'\n",
    "name.upper()"
   ]
  },
  {
   "cell_type": "code",
   "execution_count": null,
   "metadata": {},
   "outputs": [],
   "source": [
    "# lower() \n",
    "a = 'DReam'\n",
    "a.lower()"
   ]
  },
  {
   "cell_type": "code",
   "execution_count": null,
   "metadata": {},
   "outputs": [],
   "source": [
    "b = 'hello' ; c = 'WORLD'\n",
    "b.islower()"
   ]
  },
  {
   "cell_type": "code",
   "execution_count": null,
   "metadata": {},
   "outputs": [],
   "source": [
    "c.isupper()"
   ]
  },
  {
   "cell_type": "code",
   "execution_count": null,
   "metadata": {},
   "outputs": [],
   "source": [
    "# capitalize() \n",
    "d = 'hello world'\n",
    "d.capitalize()"
   ]
  },
  {
   "cell_type": "code",
   "execution_count": null,
   "metadata": {},
   "outputs": [],
   "source": [
    "# title() \n",
    "e = 'life is short'\n",
    "e.title()"
   ]
  },
  {
   "cell_type": "code",
   "execution_count": null,
   "metadata": {},
   "outputs": [],
   "source": [
    "a = 'i like him'\n",
    "a.istitle()"
   ]
  },
  {
   "cell_type": "code",
   "execution_count": null,
   "metadata": {},
   "outputs": [],
   "source": [
    "# count() \n",
    "state.count('s')"
   ]
  },
  {
   "cell_type": "code",
   "execution_count": null,
   "metadata": {},
   "outputs": [],
   "source": [
    "state.count('ssi')"
   ]
  },
  {
   "cell_type": "code",
   "execution_count": null,
   "metadata": {},
   "outputs": [],
   "source": [
    "# join() : 문자열.join(리스트) \n",
    "name = ['kang','Kim','Yang']\n",
    "dash = '-'\n",
    "dash.join(name)"
   ]
  },
  {
   "cell_type": "code",
   "execution_count": null,
   "metadata": {},
   "outputs": [],
   "source": [
    "# split() \n",
    "my_list = 'kang kim yang jung'\n",
    "my_list.split()"
   ]
  },
  {
   "cell_type": "code",
   "execution_count": null,
   "metadata": {},
   "outputs": [],
   "source": [
    "my_date = '2019/10/16'\n",
    "my_date.split('/')"
   ]
  },
  {
   "cell_type": "code",
   "execution_count": null,
   "metadata": {},
   "outputs": [],
   "source": [
    "import time \n",
    "t1 = time.time()\n",
    "time.sleep(10)\n",
    "t2 = time.time()\n",
    "\n",
    "spendtime = t2 - t1\n",
    "print('Start time: ', t1)\n",
    "print('End time: ', t2)\n",
    "print('Wait {0} seconds'.format(spendtime))"
   ]
  },
  {
   "cell_type": "code",
   "execution_count": null,
   "metadata": {},
   "outputs": [],
   "source": [
    "# 복불복 게임\n",
    "import random\n",
    "import time\n",
    "play =['까나리액젓','콜라','레몬','커피','간장']\n",
    "print('복불복게임을 시작합니다. 1초후에 알려줄께요')\n",
    "time.sleep(1)\n",
    "print('바로바로',random.choice(play))"
   ]
  },
  {
   "cell_type": "markdown",
   "metadata": {},
   "source": [
    "### 연습문제"
   ]
  },
  {
   "cell_type": "code",
   "execution_count": 2,
   "metadata": {},
   "outputs": [
    {
     "name": "stdout",
     "output_type": "stream",
     "text": [
      "문자추출:\t man\n"
     ]
    }
   ],
   "source": [
    "# 1.다음 문자열 \"Niceman\" 에서 \"man\" 문자열만 추출해보세요. ( .index()사용 )\n",
    "str = \"Niceman\"\n",
    "manIdx = ...      # ... 코드 입력 \n",
    "print('문자추출:\\t', ... ) # ... 코드 입력 "
   ]
  },
  {
   "cell_type": "code",
   "execution_count": 3,
   "metadata": {},
   "outputs": [
    {
     "name": "stdout",
     "output_type": "stream",
     "text": [
      "- 제거:\t 01077779999\n"
     ]
    }
   ],
   "source": [
    "# 2.다음 문자열에서 '-'를 제거 후 출력하세요. : \"010-7777-9999\"\n",
    "import re\n",
    "phoneNumber = \"010-7777-9999\"\n",
    "print('- 제거:\\t', re.sub('...', '', phoneNumber))  # ... 코드 입력 "
   ]
  },
  {
   "cell_type": "code",
   "execution_count": 4,
   "metadata": {},
   "outputs": [
    {
     "name": "stdout",
     "output_type": "stream",
     "text": [
      "http제거:\t daum.net\n"
     ]
    }
   ],
   "source": [
    "# 3. 다음 문자열(URL)에서 \"http://\" 부분을 제거 후 출력하세요. : \"http://daum.net\"\n",
    "url = \"http://daum.net\"\n",
    "urlIdx = url.index('''http://''')   # ... 코드 입력\n",
    "print('http제거:\\t', url[urlIdx + 7:])  # ... 코드 입력"
   ]
  },
  {
   "cell_type": "code",
   "execution_count": 5,
   "metadata": {},
   "outputs": [
    {
     "name": "stdout",
     "output_type": "stream",
     "text": [
      "NICEMAN\n",
      "niceman\n"
     ]
    }
   ],
   "source": [
    "# 4. 다음 문자열을 모두 대문자, 소문자로 각각 출력해보세요. : \"NiceMan\"\n",
    "\n",
    "str = \"NiceMan\"\n",
    "print(...)    # ... 코드 입력\n",
    "print(...)    # ... 코드 입력"
   ]
  },
  {
   "cell_type": "code",
   "execution_count": null,
   "metadata": {},
   "outputs": [],
   "source": []
  }
 ],
 "metadata": {
  "kernelspec": {
   "display_name": "Python 3 (ipykernel)",
   "language": "python",
   "name": "python3"
  },
  "language_info": {
   "codemirror_mode": {
    "name": "ipython",
    "version": 3
   },
   "file_extension": ".py",
   "mimetype": "text/x-python",
   "name": "python",
   "nbconvert_exporter": "python",
   "pygments_lexer": "ipython3",
   "version": "3.11.7"
  }
 },
 "nbformat": 4,
 "nbformat_minor": 4
}
