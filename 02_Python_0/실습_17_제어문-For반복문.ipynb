{
 "cells": [
  {
   "cell_type": "markdown",
   "metadata": {},
   "source": [
    "# 17_제어문-For반복문\n",
    "- 가장 많이 쓰이는 반복문\r\n",
    "- 리스트/튜플/문자열의 첫 번째 요소부터 마지막 요소까지 차례로 변수를 받아 반복적으로 수행문을 실행합니다.\r",
    "```python\n",
    "\r\n",
    "\r\n",
    "    for 변수 in 리스트/튜플/문자열:\r\n",
    "        수행문1\r\n",
    "        수행문2\r\n",
    "    \n",
    "```    ..."
   ]
  },
  {
   "cell_type": "code",
   "execution_count": 1,
   "metadata": {},
   "outputs": [
    {
     "name": "stdout",
     "output_type": "stream",
     "text": [
      "hello\n",
      "hello\n",
      "hello\n",
      "hello\n",
      "hello\n",
      "hello\n",
      "hello\n",
      "hello\n",
      "hello\n",
      "hello\n"
     ]
    }
   ],
   "source": [
    "# for문 - range()를 사용하여 hello 를 다섯번 출력하기\n",
    "\n",
    "for i in range(10):\n",
    "    print('hello')"
   ]
  },
  {
   "cell_type": "code",
   "execution_count": 2,
   "metadata": {},
   "outputs": [
    {
     "name": "stdout",
     "output_type": "stream",
     "text": [
      "더할 숫자값을 입력하세요 >  10\n",
      "1부터 10까지의 숫자 합은 55 입니다\n"
     ]
    }
   ],
   "source": [
    "# for문 - range()를 사용하여 1~10까지 합계 구하기 \n",
    "\n",
    "sum = 0\n",
    "for i in range(1,11):\n",
    "    sum = sum + i\n",
    "\n",
    "print(f'1부터 10까지의 숫자 합은 {sum} 입니다')"
   ]
  },
  {
   "cell_type": "code",
   "execution_count": 2,
   "metadata": {},
   "outputs": [
    {
     "name": "stdin",
     "output_type": "stream",
     "text": [
      "더할 숫자값을 입력하세요 >   100\n"
     ]
    },
    {
     "name": "stdout",
     "output_type": "stream",
     "text": [
      "1부터 100까지의 숫자 합은 2500 입니다\n"
     ]
    }
   ],
   "source": [
    "# for문 - range()를 사용하여 1~10까지 홀수의 합계\n",
    "\n",
    "num = int(input('더할 숫자값을 입력하세요 >  '))\n",
    "\n",
    "sum = 0\n",
    "# code here\n",
    "\n",
    "\n",
    "\n",
    "print(f'1부터 {num}까지의 숫자 합은 {sum} 입니다')"
   ]
  },
  {
   "cell_type": "code",
   "execution_count": 2,
   "metadata": {},
   "outputs": [
    {
     "name": "stdout",
     "output_type": "stream",
     "text": [
      "값을 입력하세요 : 5\n",
      "1에서  5까지의 합계: 15\n"
     ]
    }
   ],
   "source": [
    "# for문 - range()를 사용하여 키보드로 입력한 값까지 합계 구하기\n",
    "\n",
    "num = int(input('더할 숫자값을 입력하세요 >  '))\n",
    "\n",
    "sum = 0\n",
    "for i in range(1,num+1):\n",
    "    sum = sum + i\n",
    "\n",
    "print(f'1부터 {num}까지의 숫자 합은 {sum} 입니다')\n"
   ]
  },
  {
   "cell_type": "code",
   "execution_count": 3,
   "metadata": {},
   "outputs": [
    {
     "name": "stdin",
     "output_type": "stream",
     "text": [
      "팩토리얼 숫자값을 입력하세요 >   5\n"
     ]
    },
    {
     "name": "stdout",
     "output_type": "stream",
     "text": [
      "5 != 120\n"
     ]
    }
   ],
   "source": [
    "# 입력받은 숫자까지의 팩토리얼 계산하기 : fact = fact * i\n",
    "\n",
    "num = int(input('팩토리얼 숫자값을 입력하세요 >  '))\n",
    "\n",
    "fac = 1\n",
    "# code here\n",
    "\n",
    "\n",
    "print( num, '!=' , fac)"
   ]
  },
  {
   "cell_type": "code",
   "execution_count": 4,
   "metadata": {},
   "outputs": [
    {
     "name": "stdin",
     "output_type": "stream",
     "text": [
      "단을 입력하세요=> 3\n"
     ]
    },
    {
     "name": "stdout",
     "output_type": "stream",
     "text": [
      "3 *1 = 3\n",
      "3 *2 = 6\n",
      "3 *3 = 9\n",
      "3 *4 = 12\n",
      "3 *5 = 15\n",
      "3 *6 = 18\n",
      "3 *7 = 21\n",
      "3 *8 = 24\n",
      "3 *9 = 27\n"
     ]
    }
   ],
   "source": [
    "# for문 - range()를 사용하여 입력받은 구구단 계산 나타내기\n",
    "\n",
    "dan = int(input('단을 입력하세요=>'))\n",
    "\n",
    "# num = 1\n",
    "# while num <= 9 :\n",
    "#     print(f'{dan} *{num} = {dan * num}')\n",
    "#     num = num + 1\n",
    "\n",
    "for i in range(1, 10):\n",
    "    print(f'{dan} *{i} = {dan * i}')"
   ]
  },
  {
   "cell_type": "code",
   "execution_count": null,
   "metadata": {},
   "outputs": [],
   "source": [
    "# while 문을 사용하여 입력받은 구구단 계산을 나타내보세요\n",
    "\n",
    "\n",
    "\n",
    "\n"
   ]
  },
  {
   "cell_type": "code",
   "execution_count": 6,
   "metadata": {},
   "outputs": [
    {
     "name": "stdout",
     "output_type": "stream",
     "text": [
      "eoo"
     ]
    }
   ],
   "source": [
    "text = \"Hello, World!\"\n",
    "vowels = \"AEIOUaeiou\"\n",
    "\n",
    "for char in text:\n",
    "    if char not in vowels:\n",
    "        continue\n",
    "    print(char, end=\"\")  "
   ]
  },
  {
   "cell_type": "markdown",
   "metadata": {},
   "source": [
    "## **연습문제**"
   ]
  },
  {
   "cell_type": "markdown",
   "metadata": {},
   "source": [
    "### 1. 입력 받은 문자열을 다음과 같이 출력해보세요.\n",
    "\n",
    "    입력 받은 문자열이 'Hello, Python'일 때:\n",
    "\n",
    "    H\n",
    "    eH\n",
    "    leH\n",
    "    lleH\n",
    "    olleH\n",
    "    ,olleH\n",
    "    ,olleH\n",
    "    P ,olleH\n",
    "    yP ,olleH\n",
    "    tyP ,olleH\n",
    "    htyP ,olleH\n",
    "    ohtyP ,olleH\n",
    "    nohtyP ,olleH"
   ]
  },
  {
   "cell_type": "code",
   "execution_count": null,
   "metadata": {},
   "outputs": [],
   "source": [
    "# code here\n",
    "\n"
   ]
  },
  {
   "cell_type": "markdown",
   "metadata": {},
   "source": [
    "### 2. 아래 리스트는 반 학생들의 수학 점수 리스트입니다. 각 등급별 학생수를 구하세요.\n",
    "    81~100: A\n",
    "    61~80: B\n",
    "    41~60: C\n",
    "    0~40: D"
   ]
  },
  {
   "cell_type": "code",
   "execution_count": null,
   "metadata": {},
   "outputs": [],
   "source": [
    "score_list = [20,100,45,50,60,85,70,75,80,90,95,25,90]"
   ]
  }
 ],
 "metadata": {
  "kernelspec": {
   "display_name": "Python 3 (ipykernel)",
   "language": "python",
   "name": "python3"
  },
  "language_info": {
   "codemirror_mode": {
    "name": "ipython",
    "version": 3
   },
   "file_extension": ".py",
   "mimetype": "text/x-python",
   "name": "python",
   "nbconvert_exporter": "python",
   "pygments_lexer": "ipython3",
   "version": "3.11.7"
  }
 },
 "nbformat": 4,
 "nbformat_minor": 4
}
