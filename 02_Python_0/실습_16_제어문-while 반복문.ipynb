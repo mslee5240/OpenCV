{
 "cells": [
  {
   "cell_type": "markdown",
   "metadata": {},
   "source": [
    "# 16_제어문-while 반복문 "
   ]
  },
  {
   "cell_type": "markdown",
   "metadata": {},
   "source": [
    "### 1. 기본 while 반복문"
   ]
  },
  {
   "cell_type": "markdown",
   "metadata": {},
   "source": [
    "- 특정 조건이 지속될 때까지 반복하여 수행합니다.\n",
    "\n",
    "```python\n",
    "while 조건식 :  \n",
    "    #명령문1  \n",
    "    #명령문2  \n",
    "```"
   ]
  },
  {
   "cell_type": "code",
   "execution_count": 1,
   "metadata": {},
   "outputs": [
    {
     "name": "stdout",
     "output_type": "stream",
     "text": [
      "1\n",
      "2\n",
      "3\n",
      "4\n",
      "5\n"
     ]
    }
   ],
   "source": [
    "# 1부터 5까지 출력하기\n",
    "\n",
    "a = 1\n",
    "while a <=5 :\n",
    "    print(a)\n",
    "    a = a + 1    # a += 1"
   ]
  },
  {
   "cell_type": "markdown",
   "metadata": {},
   "source": [
    "- 짜장면을 열 그릇 먹으면 무료 쿠폰을 받는다는 것을 while문으로 표현하면?"
   ]
  },
  {
   "cell_type": "code",
   "execution_count": null,
   "metadata": {},
   "outputs": [],
   "source": [
    "jajang = 0\n",
    "while jajang < 10:\n",
    "    jajang += 1\n",
    "    print(f'짜장면을 {jajang}그릇 먹었습니다.')\n",
    "\n",
    "    if jajang == 10:\n",
    "        print('무료 쿠폰을 받았습니다.')"
   ]
  },
  {
   "cell_type": "markdown",
   "metadata": {},
   "source": [
    "|jajang|조건문|조건문 판단|수행문|while문|\n",
    "|:-----|:---|:---|:---|:---|\n",
    "|0|0 < 10|참|짜장면을 1그릇 먹었습니다.|\t반복|\n",
    "|1|1 < 10|참|짜장면을 2그릇 먹었습니다.|\t반복|\n",
    "|2|2 < 10|참|짜장면을 3그릇 먹었습니다.|\t반복|\n",
    "|3|3 < 10|참|짜장면을 4그릇 먹었습니다.|\t반복|\n",
    "|4|4 < 10|참|짜장면을 5그릇 먹었습니다.|\t반복|\n",
    "|5|5 < 10|참|짜장면을 6그릇 먹었습니다.|\t반복|\n",
    "|6|6 < 10|참|짜장면을 7그릇 먹었습니다.|\t반복|\n",
    "|7|7 < 10|참|짜장면을 8그릇 먹었습니다.|\t반복|\n",
    "|8|8 < 10|참|짜장면을 9그릇 먹었습니다.|\t반복|\n",
    "|9|9 < 10|참|짜장면을 10그릇 먹었습니다. 무료 쿠폰을 받았습니다.|\t반복|\n",
    "|10|10 < 10|거짓||\t\t종료|"
   ]
  },
  {
   "cell_type": "markdown",
   "metadata": {},
   "source": [
    "### **`while`문 강제로 빠져나가기**\n",
    "- `while`문은 조건이 거짓이 되면 끝나게 되는데, 중간에 특정 조건에 다다르면 빠져나가고 싶을 때는 `break`를 쓰면 됩니다."
   ]
  },
  {
   "cell_type": "code",
   "execution_count": null,
   "metadata": {},
   "outputs": [],
   "source": [
    "jajang = 0\n",
    "while True:\n",
    "    jajang += 1\n",
    "    print(f'짜장면을 {jajang}그릇 먹었습니다.')\n",
    "\n",
    "    if jajang == 10:\n",
    "        print('무료 쿠폰을 받았습니다.')\n",
    "        break"
   ]
  },
  {
   "cell_type": "markdown",
   "metadata": {},
   "source": [
    "### **특정 조건에서 수행문을 건너뛰고 계속 `while`문을 반복하려면?**\n",
    "- 1~10까지의 숫자 중 홀수만 출력하는 코드는 다음과 같이 짤 수 있습니다.\n",
    "- - `continue`는 해당 조건에서 그 루프가 끝나고 다음 루프로 넘어가도록 합니다."
   ]
  },
  {
   "cell_type": "code",
   "execution_count": null,
   "metadata": {},
   "outputs": [],
   "source": [
    "a = 0\n",
    "while a < 10:\n",
    "    a += 1\n",
    "    if a % 2 == 0:\n",
    "        continue\n",
    "    print(a)"
   ]
  },
  {
   "cell_type": "markdown",
   "metadata": {},
   "source": [
    "## <연습 문제>\n",
    "\n",
    "### 1.1~10까지의 합 (while 문 사용) - 1 + 2 + 3 + ..... + 100"
   ]
  },
  {
   "cell_type": "code",
   "execution_count": 4,
   "metadata": {},
   "outputs": [
    {
     "name": "stdout",
     "output_type": "stream",
     "text": [
      "a =  1 sum =  1\n",
      "a =  2 sum =  3\n",
      "a =  3 sum =  6\n",
      "a =  4 sum =  10\n",
      "a =  5 sum =  15\n",
      "a =  6 sum =  21\n",
      "a =  7 sum =  28\n",
      "a =  8 sum =  36\n",
      "a =  9 sum =  45\n",
      "a =  10 sum =  55\n",
      "sum =  55\n"
     ]
    }
   ],
   "source": [
    "# 1~10까지의 합 (while 문 사용)\n",
    "a = 1\n",
    "sum = 0\n",
    "\n",
    "# code here\n",
    "\n",
    "\n",
    "\n",
    "\n"
   ]
  },
  {
   "cell_type": "code",
   "execution_count": 2,
   "metadata": {},
   "outputs": [
    {
     "name": "stdout",
     "output_type": "stream",
     "text": [
      "a =  2 sum =  2\n",
      "a =  4 sum =  6\n",
      "a =  6 sum =  12\n",
      "a =  8 sum =  20\n",
      "a =  10 sum =  30\n"
     ]
    }
   ],
   "source": [
    "# 1부터 10까지 짝수의 합 구하기(1) : 숫자를 2씩 증가시키는 방법\n",
    "a = 2\n",
    "sum = 0\n",
    "while a <= 10 :\n",
    "    sum = sum + a \n",
    "    print('a = ', a, 'sum = ', sum)\n",
    "    a = a + 2  "
   ]
  },
  {
   "cell_type": "markdown",
   "metadata": {},
   "source": [
    "### 2. 1부터 10까지 짝수의 합 구하기(2) : 조건문으로 짝수 판별"
   ]
  },
  {
   "cell_type": "code",
   "execution_count": 8,
   "metadata": {},
   "outputs": [
    {
     "name": "stdout",
     "output_type": "stream",
     "text": [
      "a =  2 sum =  2\n",
      "a =  4 sum =  6\n",
      "a =  6 sum =  12\n",
      "a =  8 sum =  20\n",
      "a =  10 sum =  30\n"
     ]
    }
   ],
   "source": [
    "# 1부터 10까지 짝수의 합 구하기(2) : 조건문으로 짝수 판별\n",
    "\n",
    "a = 1\n",
    "sum = 0\n",
    "# code here\n",
    "\n",
    "\n",
    "\n",
    "\n"
   ]
  },
  {
   "cell_type": "code",
   "execution_count": 6,
   "metadata": {},
   "outputs": [
    {
     "name": "stdout",
     "output_type": "stream",
     "text": [
      "a =  1\n",
      "a =  2\n",
      "a =  4\n",
      "a =  5\n",
      "a =  7\n",
      "a =  8\n",
      "a =  10\n",
      "92\n"
     ]
    }
   ],
   "source": [
    "a = 1\n",
    "\n",
    "while a <= 10 :\n",
    "  \n",
    "    if a % 3 == 0 : \n",
    "        a += 1\n",
    "        continue           \n",
    "    print('a = ', a)\n",
    "    sum = sum + a\n",
    "    a += 1\n",
    "    \n",
    "print(sum)"
   ]
  },
  {
   "cell_type": "markdown",
   "metadata": {},
   "source": [
    "### 3.원하는 조건을 입력 받을 때까지 계속 입력받는 프로그램"
   ]
  },
  {
   "cell_type": "code",
   "execution_count": 8,
   "metadata": {},
   "outputs": [
    {
     "name": "stdout",
     "output_type": "stream",
     "text": [
      "\n",
      "1. 추가\n",
      "2. 삭제\n",
      "3. 목록\n",
      "4. 종료\n",
      "\n",
      "원하는 번호를 입력하세요!\n",
      "\n"
     ]
    },
    {
     "name": "stdin",
     "output_type": "stream",
     "text": [
      " 3\n"
     ]
    },
    {
     "name": "stdout",
     "output_type": "stream",
     "text": [
      "\n",
      "1. 추가\n",
      "2. 삭제\n",
      "3. 목록\n",
      "4. 종료\n",
      "\n",
      "원하는 번호를 입력하세요!\n",
      "\n"
     ]
    },
    {
     "name": "stdin",
     "output_type": "stream",
     "text": [
      " 4\n"
     ]
    },
    {
     "name": "stdout",
     "output_type": "stream",
     "text": [
      "프로그램을 종료합니다\n"
     ]
    }
   ],
   "source": [
    "# 원하는 조건을 입력 받을 때까지 계속 입력받는 프로그램\n",
    "\n",
    "prompt = '''\n",
    "1. 추가\n",
    "2. 삭제\n",
    "3. 목록\n",
    "4. 종료\n",
    "\n",
    "원하는 번호를 입력하세요!\n",
    "'''\n",
    "\n",
    "num = 0\n",
    "# code here\n",
    "\n",
    "\n",
    "\n"
   ]
  },
  {
   "cell_type": "code",
   "execution_count": 10,
   "metadata": {},
   "outputs": [
    {
     "name": "stdin",
     "output_type": "stream",
     "text": [
      "계산할 구구단을 입력하세요  4\n"
     ]
    },
    {
     "name": "stdout",
     "output_type": "stream",
     "text": [
      "4 *  1 = 4\n",
      "4 *  2 = 8\n",
      "4 *  3 = 12\n",
      "4 *  4 = 16\n",
      "4 *  5 = 20\n",
      "4 *  6 = 24\n",
      "4 *  7 = 28\n",
      "4 *  8 = 32\n",
      "4 *  9 = 36\n"
     ]
    }
   ],
   "source": [
    "# 구구단 입력(input() 사용)을 받아 결과를 출력하는 프로그램\n",
    "\n",
    "a = 1\n",
    "dan = int(input('계산할 구구단을 입력하세요 '))\n",
    "\n",
    "while a <= 9 :\n",
    "    print(f'{dan} *  {a} = { dan * a}')\n",
    "    a += 1\n"
   ]
  },
  {
   "cell_type": "code",
   "execution_count": null,
   "metadata": {},
   "outputs": [],
   "source": []
  }
 ],
 "metadata": {
  "kernelspec": {
   "display_name": "Python 3 (ipykernel)",
   "language": "python",
   "name": "python3"
  },
  "language_info": {
   "codemirror_mode": {
    "name": "ipython",
    "version": 3
   },
   "file_extension": ".py",
   "mimetype": "text/x-python",
   "name": "python",
   "nbconvert_exporter": "python",
   "pygments_lexer": "ipython3",
   "version": "3.11.7"
  }
 },
 "nbformat": 4,
 "nbformat_minor": 4
}
