{
 "cells": [
  {
   "cell_type": "markdown",
   "metadata": {},
   "source": [
    "# 15_제어문-조건문"
   ]
  },
  {
   "cell_type": "markdown",
   "metadata": {},
   "source": [
    "### 1. if문\n",
    "조건의 참과 거짓을 판단해 그에 따라 동작을 수행합니다.\n",
    "\n",
    "    > 날씨가 맑으면 공원에 가고, 날씨가 흐리면 카페에 가고, 그 외의 날씨에는 집에 있는다.\n",
    "\n",
    "이것을 파이썬으로 표현하려면? `if, elif, else` 조건문을 사용합니다.\n",
    "\n",
    "    if 날씨가 맑다:\n",
    "        공원에 간다\n",
    "    elif 날씨가 흐리다:\n",
    "        카페에 간다\n",
    "    else:\n",
    "        집에 있는다"
   ]
  },
  {
   "cell_type": "code",
   "execution_count": 1,
   "metadata": {},
   "outputs": [
    {
     "ename": "IndentationError",
     "evalue": "expected an indented block after 'if' statement on line 4 (321233653.py, line 5)",
     "output_type": "error",
     "traceback": [
      "\u001b[1;36m  Cell \u001b[1;32mIn[1], line 5\u001b[1;36m\u001b[0m\n\u001b[1;33m    print('구입할 수 있습니다')\u001b[0m\n\u001b[1;37m    ^\u001b[0m\n\u001b[1;31mIndentationError\u001b[0m\u001b[1;31m:\u001b[0m expected an indented block after 'if' statement on line 4\n"
     ]
    }
   ],
   "source": [
    "pencil_price = 8000             # if문\n",
    "money = 7000\n",
    "\n",
    "if pencil_price <= money :\n",
    "print('구입할 수 있습니다')\n",
    "else:\n",
    "print('돈이 부족하여 구매할 수 없습니다')"
   ]
  },
  {
   "cell_type": "markdown",
   "metadata": {},
   "source": [
    "### 2. if-else문"
   ]
  },
  {
   "cell_type": "code",
   "execution_count": 6,
   "metadata": {},
   "outputs": [
    {
     "name": "stdin",
     "output_type": "stream",
     "text": [
      "나이를 입력하세요 70\n"
     ]
    },
    {
     "name": "stdout",
     "output_type": "stream",
     "text": [
      "경로 우대에 해당됩니다\n"
     ]
    }
   ],
   "source": [
    "senior_age = 65\n",
    "\n",
    "age = int(input('나이를 입력하세요'))\n",
    "\n",
    "if  age > senior_age :\n",
    "    print('경로 우대에 해당됩니다')\n",
    "else:\n",
    "    print('경로 우대 대상이 아닙니다')"
   ]
  },
  {
   "cell_type": "markdown",
   "metadata": {},
   "source": [
    "### 3. if-elif-else문"
   ]
  },
  {
   "cell_type": "markdown",
   "metadata": {},
   "source": [
    "### <연습 문제>\n",
    "- point가 3000점 이상 : 최우수고객\n",
    "- point가 2000점 이상 :   우수고객\n",
    "- 이외 : 일반고객\n",
    "\n",
    "point를 입력받아 고객 등급 출력해보기"
   ]
  },
  {
   "cell_type": "code",
   "execution_count": 4,
   "metadata": {},
   "outputs": [
    {
     "name": "stdout",
     "output_type": "stream",
     "text": [
      "포인트를 입력하세요 > 2500\n",
      "우수고객\n"
     ]
    }
   ],
   "source": [
    "# code here\n",
    "\n",
    "\n",
    "\n"
   ]
  },
  {
   "cell_type": "markdown",
   "metadata": {},
   "source": [
    "### 4. 중첩 if 문"
   ]
  },
  {
   "cell_type": "markdown",
   "metadata": {},
   "source": [
    "- score가 70점 이상 : 통과\n",
    "  - 90점 이상 : A장학금 대상자\n",
    "  - 80점 이상 : B장학금 대상자\n",
    "- score가 60점 이상 : 조건부 통과\n",
    "- 이외 : 재수강 대상\n",
    "\n",
    "score를 입력받아 pass 상황 출력해보기"
   ]
  },
  {
   "cell_type": "code",
   "execution_count": 3,
   "metadata": {},
   "outputs": [
    {
     "name": "stdin",
     "output_type": "stream",
     "text": [
      "점수를 입력하세요:  65\n"
     ]
    },
    {
     "name": "stdout",
     "output_type": "stream",
     "text": [
      "조건부통과\n"
     ]
    }
   ],
   "source": [
    "score = int(input('점수를 입력하세요: '))\n",
    "\n",
    "if score >= 70:\n",
    "    print('통과')\n",
    "    if score >= 90:\n",
    "        print('A장학금대상')\n",
    "    elif score >= 80:\n",
    "        print('B장학금대상')\n",
    "elif score >= 60:\n",
    "    print('조건부통과')  # 60 <= score < 70\n",
    "else:\n",
    "    print('재수강대상')"
   ]
  },
  {
   "cell_type": "markdown",
   "metadata": {},
   "source": [
    "## **연습문제**"
   ]
  },
  {
   "cell_type": "markdown",
   "metadata": {},
   "source": [
    "### 1. 정수를 입력 받아서, 그 정수가 1과 10 사이의 정수인지 여부를 판단해보세요."
   ]
  },
  {
   "cell_type": "code",
   "execution_count": null,
   "metadata": {},
   "outputs": [],
   "source": [
    "# code here\n",
    "\n"
   ]
  },
  {
   "cell_type": "markdown",
   "metadata": {},
   "source": [
    "### 2. 세 개의 정수를 입력 받은 후 가장 큰 숫자를 출력해보세요."
   ]
  },
  {
   "cell_type": "code",
   "execution_count": null,
   "metadata": {},
   "outputs": [],
   "source": [
    "# code here\n",
    "\n"
   ]
  },
  {
   "cell_type": "markdown",
   "metadata": {},
   "source": [
    "### 3. 다음 리스트의 중앙값을 각각 구하세요.\n",
    "- 중앙값 구하는 방법\n",
    " 1.   데이터를 작은 수부터 큰 수 순서대로 정렬\n",
    " 2.   데이터의 개수가 홀수라면 정렬된 결과의 가운데 수\n",
    " 3.   데이터의 개수가 짝수라면 정렬된 결"
   ]
  },
  {
   "cell_type": "code",
   "execution_count": null,
   "metadata": {},
   "outputs": [],
   "source": [
    "x = [1,100,90,32,78,40,2]"
   ]
  },
  {
   "cell_type": "code",
   "execution_count": null,
   "metadata": {},
   "outputs": [],
   "source": [
    "# code here\n",
    "\n"
   ]
  }
 ],
 "metadata": {
  "kernelspec": {
   "display_name": "Python 3 (ipykernel)",
   "language": "python",
   "name": "python3"
  },
  "language_info": {
   "codemirror_mode": {
    "name": "ipython",
    "version": 3
   },
   "file_extension": ".py",
   "mimetype": "text/x-python",
   "name": "python",
   "nbconvert_exporter": "python",
   "pygments_lexer": "ipython3",
   "version": "3.11.7"
  }
 },
 "nbformat": 4,
 "nbformat_minor": 4
}
