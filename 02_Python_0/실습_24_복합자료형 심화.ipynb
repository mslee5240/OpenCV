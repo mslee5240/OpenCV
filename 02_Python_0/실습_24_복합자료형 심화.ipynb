{
 "cells": [
  {
   "cell_type": "markdown",
   "metadata": {},
   "source": [
    "# 24_복합자료형 심화"
   ]
  },
  {
   "cell_type": "markdown",
   "metadata": {},
   "source": [
    "### 1. 컴프리헨션(함축)\n",
    "- 리스트 안에 `for`문을 포함하여 한 줄로 편하게 코드를 작성할 수 있게 하는 문법입니다.\n",
    "\r\n",
    "\r\n",
    "    [표현식 for 항목 in 반복가능객체 if 조건문]"
   ]
  },
  {
   "cell_type": "code",
   "execution_count": null,
   "metadata": {},
   "outputs": [],
   "source": [
    "# 순차적인 리스트를 한줄로\n",
    "numList = []\n",
    "for num in range(1,21) :\n",
    "    if num % 3 == 0 :\n",
    "        numList.append(num)\n",
    "    \n",
    "print(numList)"
   ]
  },
  {
   "cell_type": "code",
   "execution_count": 1,
   "metadata": {},
   "outputs": [
    {
     "name": "stdout",
     "output_type": "stream",
     "text": [
      "[1, 2, 3, 4, 5, 6, 7, 8, 9, 10, 11, 12, 13, 14, 15, 16, 17, 18, 19, 20]\n"
     ]
    }
   ],
   "source": [
    "# 컴프리헨션 적용하기\n",
    "numList = [num for num in range(1,21)]\n",
    "\n",
    "print(numList)"
   ]
  },
  {
   "cell_type": "code",
   "execution_count": 4,
   "metadata": {},
   "outputs": [
    {
     "name": "stdout",
     "output_type": "stream",
     "text": [
      "[1, 4, 9, 16, 25]\n"
     ]
    }
   ],
   "source": [
    "# 컴프리헨션 적용하기\n",
    "numList = ...    # ... 코드 입력\n",
    "print(numList)"
   ]
  },
  {
   "cell_type": "code",
   "execution_count": 2,
   "metadata": {},
   "outputs": [
    {
     "name": "stdout",
     "output_type": "stream",
     "text": [
      "[3, 6, 9, 12, 15, 18]\n"
     ]
    }
   ],
   "source": [
    "# 컴프리헨션 적용하기\n",
    "numList =  # ... 코드 입력\n",
    "print(numList)"
   ]
  },
  {
   "cell_type": "code",
   "execution_count": 3,
   "metadata": {},
   "outputs": [
    {
     "name": "stdout",
     "output_type": "stream",
     "text": [
      "[0, 0, 3, 0, 0, 6, 0, 0, 9, 0, 0, 12, 0, 0, 15, 0, 0, 18, 0, 0]\n"
     ]
    }
   ],
   "source": [
    "numList = [num if num % 3 == 0 else 0 for num in range(1,21) ]\n",
    "print(numList)"
   ]
  },
  {
   "cell_type": "code",
   "execution_count": null,
   "metadata": {},
   "outputs": [],
   "source": [
    "if __name__ == \"__main__\":\n",
    "    arr = [[0 for _ in range(5)] for _ in range(5)]\n",
    "    print(arr)"
   ]
  },
  {
   "cell_type": "code",
   "execution_count": 5,
   "metadata": {},
   "outputs": [
    {
     "name": "stdout",
     "output_type": "stream",
     "text": [
      "a\n",
      "b\n",
      "c\n"
     ]
    }
   ],
   "source": [
    "d = {'a':1, 'b':3, 'c':2}\n",
    "for i in d :\n",
    "    print(i)"
   ]
  },
  {
   "cell_type": "markdown",
   "metadata": {},
   "source": [
    "### 연습문제 - 컴프리헨션 적용하기"
   ]
  },
  {
   "cell_type": "code",
   "execution_count": 6,
   "metadata": {},
   "outputs": [
    {
     "name": "stdout",
     "output_type": "stream",
     "text": [
      "[('a', 1), ('b', 3), ('c', 2)]\n"
     ]
    }
   ],
   "source": [
    "# 1. 딕셔너리 데이터를 다음 출력과 같이 튜플로 가져와 리스트에 저장하세요.\n",
    "q = {'a':1, 'b':3, 'c':2}\n",
    "q1 = ...                    # ... 코드 입력\n",
    "print(q1)"
   ]
  },
  {
   "cell_type": "code",
   "execution_count": 1,
   "metadata": {},
   "outputs": [
    {
     "name": "stdout",
     "output_type": "stream",
     "text": [
      "갑을병\n"
     ]
    }
   ],
   "source": [
    "# 2. 다음 리스트 중에서 '정' 글자를 제외하고 출력하세요.\n",
    "q2 = [\"갑\", \"을\", \"병\", \"정\"]\n",
    "\n",
    "print(''.join(... ))    # ... 코드 입력"
   ]
  },
  {
   "cell_type": "code",
   "execution_count": 3,
   "metadata": {},
   "outputs": [
    {
     "name": "stdout",
     "output_type": "stream",
     "text": [
      "['study', 'python', 'anaconda']\n"
     ]
    }
   ],
   "source": [
    "# 3. 아래 리스트 항목 중에서 5글자 이상의 단어만 출력하세요.\n",
    "q3 = [\"nice\", \"study\", \"python\", \"anaconda\", \"!\"]\n",
    "\n",
    "print(... )    # ... 코드 입력"
   ]
  },
  {
   "cell_type": "code",
   "execution_count": 4,
   "metadata": {},
   "outputs": [
    {
     "name": "stdout",
     "output_type": "stream",
     "text": [
      "['b', 'c', 'e', 'h']\n"
     ]
    }
   ],
   "source": [
    "# 4. 아래 리스트 항목 중에서 소문자만 출력하세요.\n",
    "q4 = [\"A\", \"b\", \"c\", \"D\", \"e\", \"F\", \"G\", \"h\"]\n",
    "\n",
    "print(... )    # ... 코드 입력"
   ]
  },
  {
   "cell_type": "markdown",
   "metadata": {},
   "source": [
    "### **2. Dict comprehension이란?**\n",
    "- `list comprehension`과 마찬가지로 딕셔너리도 for문을 간편하게 이용할 수 있다."
   ]
  },
  {
   "cell_type": "code",
   "execution_count": null,
   "metadata": {},
   "outputs": [],
   "source": [
    "names = ['Merry','John','Chris']\n",
    "num = [1,2,3]\n",
    "\n",
    "dic = {names[i]:num[i] for i in range(len(names))}\n",
    "print(dic)"
   ]
  },
  {
   "cell_type": "code",
   "execution_count": null,
   "metadata": {},
   "outputs": [],
   "source": [
    "names = ['Merry','John','Chris']\n",
    "num = [1,2,3]\n",
    "\n",
    "dic = {k:v for k, v in zip(names, num)}\n",
    "print(dic)"
   ]
  },
  {
   "cell_type": "markdown",
   "metadata": {},
   "source": [
    "### **연습문제**"
   ]
  },
  {
   "cell_type": "markdown",
   "metadata": {},
   "source": [
    "#### 다음 딕셔너리의 키와 값을 바꾸어 출력해보세요. (값을 키로, 키를 값으로)"
   ]
  },
  {
   "cell_type": "code",
   "execution_count": null,
   "metadata": {},
   "outputs": [],
   "source": [
    "id_name = {1: 'Merry', 2: 'John', 3: 'Chris'}\n",
    "name_id = ...   # ... code here\n",
    "print(name_id)"
   ]
  },
  {
   "cell_type": "markdown",
   "metadata": {},
   "source": [
    "### 3. 동시에 여러 리스트에 접근하기 : zip()"
   ]
  },
  {
   "cell_type": "code",
   "execution_count": 7,
   "metadata": {},
   "outputs": [
    {
     "name": "stdout",
     "output_type": "stream",
     "text": [
      "떡볶이 --> 단무지\n",
      "라면 --> 김치\n",
      "오뎅 --> 쿨피스\n"
     ]
    }
   ],
   "source": [
    "foods = ['떡볶이','라면','오뎅','피자']\n",
    "sides = ['단무지', '김치', '쿨피스']\n",
    "\n",
    "for food, side in ... :    # ... 코드 입력 \n",
    "    print(food, '-->' ,side)"
   ]
  },
  {
   "cell_type": "code",
   "execution_count": null,
   "metadata": {},
   "outputs": [],
   "source": [
    "tupList = list(zip(foods, sides))   # zip 함수: 두 리스트를 튜플로\n",
    "tupList"
   ]
  },
  {
   "cell_type": "code",
   "execution_count": null,
   "metadata": {},
   "outputs": [],
   "source": [
    "my_dic = dict(zip(foods, sides))   # zip 함수: 두 리스트를 튜플로\n",
    "my_dic"
   ]
  },
  {
   "cell_type": "markdown",
   "metadata": {},
   "source": [
    "### 3. 리스트 복사 시 유의사항 : deepcopy - copy()"
   ]
  },
  {
   "cell_type": "code",
   "execution_count": null,
   "metadata": {},
   "outputs": [],
   "source": [
    "orgList = ['떡볶이','라면','오뎅','피자']\n",
    "newList = orgList\n",
    "print(newList)"
   ]
  },
  {
   "cell_type": "code",
   "execution_count": null,
   "metadata": {},
   "outputs": [],
   "source": [
    "newList[0] = '짬봉'\n",
    "newList.append('깐풍기')\n",
    "newList"
   ]
  },
  {
   "cell_type": "code",
   "execution_count": null,
   "metadata": {},
   "outputs": [],
   "source": [
    "orgList                            # 대입한 경우 같은 메모리를 사용"
   ]
  },
  {
   "cell_type": "code",
   "execution_count": null,
   "metadata": {},
   "outputs": [],
   "source": [
    "newList1 = orgList[:]"
   ]
  },
  {
   "cell_type": "code",
   "execution_count": null,
   "metadata": {},
   "outputs": [],
   "source": [
    "newList1.append('군만두')\n",
    "newList1"
   ]
  },
  {
   "cell_type": "code",
   "execution_count": null,
   "metadata": {},
   "outputs": [],
   "source": [
    "orgList"
   ]
  },
  {
   "cell_type": "code",
   "execution_count": null,
   "metadata": {},
   "outputs": [],
   "source": [
    "newList2 = orgList.copy()"
   ]
  },
  {
   "cell_type": "code",
   "execution_count": null,
   "metadata": {},
   "outputs": [],
   "source": [
    "newList2.append('양장피')\n",
    "newList2"
   ]
  },
  {
   "cell_type": "code",
   "execution_count": null,
   "metadata": {},
   "outputs": [],
   "source": [
    "orgList"
   ]
  }
 ],
 "metadata": {
  "kernelspec": {
   "display_name": "Python 3 (ipykernel)",
   "language": "python",
   "name": "python3"
  },
  "language_info": {
   "codemirror_mode": {
    "name": "ipython",
    "version": 3
   },
   "file_extension": ".py",
   "mimetype": "text/x-python",
   "name": "python",
   "nbconvert_exporter": "python",
   "pygments_lexer": "ipython3",
   "version": "3.11.7"
  }
 },
 "nbformat": 4,
 "nbformat_minor": 4
}
