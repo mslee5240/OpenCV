{
  "cells": [
    {
      "cell_type": "markdown",
      "metadata": {
        "id": "w1qakXJOYs7j"
      },
      "source": [
        "### <font color=red>**★ 사용안내 ★**</font>\n",
        "#### **파일을 불러오기한 후 상단메뉴 [파일> Drive 사본 저장]을 실행하면 사용자 구글드라이브 [Colab Notebooks] 폴더에 본 파일이 저장되어 지속적으로 사용할 수 있습니다**"
      ]
    },
    {
      "cell_type": "markdown",
      "metadata": {
        "id": "vqthW1ejDucN"
      },
      "source": [
        "## **마케팅 전략 수립을 위한 고객 군집화**"
      ]
    },
    {
      "cell_type": "markdown",
      "metadata": {
        "id": "ufEUFl40sAtW"
      },
      "source": [
        "K-means 알고리즘 특징\n",
        "- K-means은 군집을 원 모양으로 간주 한다.\n",
        "- 모든 특성은 동일한 Scale을 가져야 한다.\n",
        "- 이상치에 취약하다."
      ]
    },
    {
      "cell_type": "markdown",
      "metadata": {
        "id": "_t-4r9TmExcN"
      },
      "source": [
        "## <font color=green>**[ 데이터 준비 ]**"
      ]
    },
    {
      "cell_type": "markdown",
      "metadata": {
        "id": "pDqQe3OcD8Yg"
      },
      "source": [
        "### **Step 0 : 파일 다운로드하기**\n",
        "- 아래 셀을 실행시켜 프로젝트에 사용할 데이터 파일을 colab 작업환경으로 다운로드한다.\n",
        "> 'Mall_Customer.csv'\n",
        "\n",
        "\n",
        "\n"
      ]
    },
    {
      "cell_type": "code",
      "execution_count": null,
      "metadata": {
        "colab": {
          "base_uri": "https://localhost:8080/"
        },
        "id": "W-gLko6_EMyu",
        "outputId": "ef3ed655-572e-4a41-fd24-f2e16192c8bf"
      },
      "outputs": [
        {
          "name": "stdout",
          "output_type": "stream",
          "text": [
            "Downloading...\n",
            "From: https://drive.google.com/uc?id=10OpMbi6xol04ovtv4ZQD4f38fYEUODpe\n",
            "To: /content/II_03_Mall_Customers.csv\n",
            "\r  0% 0.00/3.97k [00:00<?, ?B/s]\r100% 3.97k/3.97k [00:00<00:00, 7.34MB/s]\n"
          ]
        }
      ],
      "source": [
        "# colab 사용용\n",
        "#!gdown 10OpMbi6xol04ovtv4ZQD4f38fYEUODpe"
      ]
    },
    {
      "cell_type": "markdown",
      "metadata": {
        "id": "hg_0VmYreEwz"
      },
      "source": [
        "### **Step 1 : 라이브러리 가져오기**"
      ]
    },
    {
      "cell_type": "code",
      "execution_count": null,
      "metadata": {
        "id": "SKFoRCyms4gj"
      },
      "outputs": [],
      "source": [
        "import pandas as pd"
      ]
    },
    {
      "cell_type": "markdown",
      "metadata": {
        "id": "r9vzolmQFdPs"
      },
      "source": [
        "### **Step 2 : 데이터 읽기 및 정보 파악하기**\n",
        "**1) 데이터 가져와 저장하기**\n",
        "- 파일을 읽어 저장 후 내용을 출력한다."
      ]
    },
    {
      "cell_type": "code",
      "execution_count": null,
      "metadata": {
        "colab": {
          "base_uri": "https://localhost:8080/"
        },
        "id": "SYNCtm6WtRSQ",
        "outputId": "c465b985-f4b0-49ec-c0a8-ba3829cbd858"
      },
      "outputs": [
        {
          "data": {
            "text/html": [
              "\n",
              "  <div id=\"df-61f4b32c-2737-4b2d-a11f-7cc5aeb62504\">\n",
              "    <div class=\"colab-df-container\">\n",
              "      <div>\n",
              "<style scoped>\n",
              "    .dataframe tbody tr th:only-of-type {\n",
              "        vertical-align: middle;\n",
              "    }\n",
              "\n",
              "    .dataframe tbody tr th {\n",
              "        vertical-align: top;\n",
              "    }\n",
              "\n",
              "    .dataframe thead th {\n",
              "        text-align: right;\n",
              "    }\n",
              "</style>\n",
              "<table border=\"1\" class=\"dataframe\">\n",
              "  <thead>\n",
              "    <tr style=\"text-align: right;\">\n",
              "      <th></th>\n",
              "      <th>CustomerID</th>\n",
              "      <th>Gender</th>\n",
              "      <th>Age</th>\n",
              "      <th>Annual_Income</th>\n",
              "      <th>Spending_Score</th>\n",
              "    </tr>\n",
              "  </thead>\n",
              "  <tbody>\n",
              "    <tr>\n",
              "      <th>0</th>\n",
              "      <td>1</td>\n",
              "      <td>Male</td>\n",
              "      <td>19</td>\n",
              "      <td>15</td>\n",
              "      <td>39</td>\n",
              "    </tr>\n",
              "    <tr>\n",
              "      <th>1</th>\n",
              "      <td>2</td>\n",
              "      <td>Male</td>\n",
              "      <td>21</td>\n",
              "      <td>15</td>\n",
              "      <td>81</td>\n",
              "    </tr>\n",
              "    <tr>\n",
              "      <th>2</th>\n",
              "      <td>3</td>\n",
              "      <td>Female</td>\n",
              "      <td>20</td>\n",
              "      <td>16</td>\n",
              "      <td>6</td>\n",
              "    </tr>\n",
              "    <tr>\n",
              "      <th>3</th>\n",
              "      <td>4</td>\n",
              "      <td>Female</td>\n",
              "      <td>23</td>\n",
              "      <td>16</td>\n",
              "      <td>77</td>\n",
              "    </tr>\n",
              "    <tr>\n",
              "      <th>4</th>\n",
              "      <td>5</td>\n",
              "      <td>Female</td>\n",
              "      <td>31</td>\n",
              "      <td>17</td>\n",
              "      <td>40</td>\n",
              "    </tr>\n",
              "  </tbody>\n",
              "</table>\n",
              "</div>\n",
              "      <button class=\"colab-df-convert\" onclick=\"convertToInteractive('df-61f4b32c-2737-4b2d-a11f-7cc5aeb62504')\"\n",
              "              title=\"Convert this dataframe to an interactive table.\"\n",
              "              style=\"display:none;\">\n",
              "        \n",
              "  <svg xmlns=\"http://www.w3.org/2000/svg\" height=\"24px\"viewBox=\"0 0 24 24\"\n",
              "       width=\"24px\">\n",
              "    <path d=\"M0 0h24v24H0V0z\" fill=\"none\"/>\n",
              "    <path d=\"M18.56 5.44l.94 2.06.94-2.06 2.06-.94-2.06-.94-.94-2.06-.94 2.06-2.06.94zm-11 1L8.5 8.5l.94-2.06 2.06-.94-2.06-.94L8.5 2.5l-.94 2.06-2.06.94zm10 10l.94 2.06.94-2.06 2.06-.94-2.06-.94-.94-2.06-.94 2.06-2.06.94z\"/><path d=\"M17.41 7.96l-1.37-1.37c-.4-.4-.92-.59-1.43-.59-.52 0-1.04.2-1.43.59L10.3 9.45l-7.72 7.72c-.78.78-.78 2.05 0 2.83L4 21.41c.39.39.9.59 1.41.59.51 0 1.02-.2 1.41-.59l7.78-7.78 2.81-2.81c.8-.78.8-2.07 0-2.86zM5.41 20L4 18.59l7.72-7.72 1.47 1.35L5.41 20z\"/>\n",
              "  </svg>\n",
              "      </button>\n",
              "      \n",
              "  <style>\n",
              "    .colab-df-container {\n",
              "      display:flex;\n",
              "      flex-wrap:wrap;\n",
              "      gap: 12px;\n",
              "    }\n",
              "\n",
              "    .colab-df-convert {\n",
              "      background-color: #E8F0FE;\n",
              "      border: none;\n",
              "      border-radius: 50%;\n",
              "      cursor: pointer;\n",
              "      display: none;\n",
              "      fill: #1967D2;\n",
              "      height: 32px;\n",
              "      padding: 0 0 0 0;\n",
              "      width: 32px;\n",
              "    }\n",
              "\n",
              "    .colab-df-convert:hover {\n",
              "      background-color: #E2EBFA;\n",
              "      box-shadow: 0px 1px 2px rgba(60, 64, 67, 0.3), 0px 1px 3px 1px rgba(60, 64, 67, 0.15);\n",
              "      fill: #174EA6;\n",
              "    }\n",
              "\n",
              "    [theme=dark] .colab-df-convert {\n",
              "      background-color: #3B4455;\n",
              "      fill: #D2E3FC;\n",
              "    }\n",
              "\n",
              "    [theme=dark] .colab-df-convert:hover {\n",
              "      background-color: #434B5C;\n",
              "      box-shadow: 0px 1px 3px 1px rgba(0, 0, 0, 0.15);\n",
              "      filter: drop-shadow(0px 1px 2px rgba(0, 0, 0, 0.3));\n",
              "      fill: #FFFFFF;\n",
              "    }\n",
              "  </style>\n",
              "\n",
              "      <script>\n",
              "        const buttonEl =\n",
              "          document.querySelector('#df-61f4b32c-2737-4b2d-a11f-7cc5aeb62504 button.colab-df-convert');\n",
              "        buttonEl.style.display =\n",
              "          google.colab.kernel.accessAllowed ? 'block' : 'none';\n",
              "\n",
              "        async function convertToInteractive(key) {\n",
              "          const element = document.querySelector('#df-61f4b32c-2737-4b2d-a11f-7cc5aeb62504');\n",
              "          const dataTable =\n",
              "            await google.colab.kernel.invokeFunction('convertToInteractive',\n",
              "                                                     [key], {});\n",
              "          if (!dataTable) return;\n",
              "\n",
              "          const docLinkHtml = 'Like what you see? Visit the ' +\n",
              "            '<a target=\"_blank\" href=https://colab.research.google.com/notebooks/data_table.ipynb>data table notebook</a>'\n",
              "            + ' to learn more about interactive tables.';\n",
              "          element.innerHTML = '';\n",
              "          dataTable['output_type'] = 'display_data';\n",
              "          await google.colab.output.renderOutput(dataTable, element);\n",
              "          const docLink = document.createElement('div');\n",
              "          docLink.innerHTML = docLinkHtml;\n",
              "          element.appendChild(docLink);\n",
              "        }\n",
              "      </script>\n",
              "    </div>\n",
              "  </div>\n",
              "  "
            ],
            "text/plain": [
              "   CustomerID  Gender  Age  Annual_Income  Spending_Score\n",
              "0           1    Male   19             15              39\n",
              "1           2    Male   21             15              81\n",
              "2           3  Female   20             16               6\n",
              "3           4  Female   23             16              77\n",
              "4           5  Female   31             17              40"
            ]
          },
          "execution_count": 3,
          "metadata": {},
          "output_type": "execute_result"
        }
      ],
      "source": [
        "df = pd.read_csv('data/Mall_Customers.csv')\n",
        "df.head()"
      ]
    },
    {
      "cell_type": "markdown",
      "metadata": {
        "id": "jOD6cUHIUIzW"
      },
      "source": [
        "**데이터 열 :**  \n",
        "\n",
        "| 열 번호 | 컬럼명 | 설명 |\n",
        "|---------|----------|------|\n",
        "| 0       | CustomerID | 고객번호\n",
        "| 1       | Gender     | 성별 (Male/Female)\n",
        "| 2       | Age        | 나이 (숫자)\n",
        "| 3       | Annual Inocme  |연소득 (숫자, 단위: 1,000$)\n",
        "| 4       | Spending Score | 소비지수, 고객의 성향에 따른 지수 (1~100)\n"
      ]
    },
    {
      "cell_type": "markdown",
      "metadata": {
        "id": "e3ZgDO2fIekM"
      },
      "source": [
        "2) 데이터 정보 파악"
      ]
    },
    {
      "cell_type": "code",
      "execution_count": null,
      "metadata": {
        "colab": {
          "base_uri": "https://localhost:8080/"
        },
        "id": "9zrFXeWBIn1q",
        "outputId": "7e5d833f-54b2-45a9-ab28-65d6e0ade8ed"
      },
      "outputs": [
        {
          "data": {
            "text/plain": [
              "(200, 5)"
            ]
          },
          "execution_count": 4,
          "metadata": {},
          "output_type": "execute_result"
        }
      ],
      "source": [
        "df.shape"
      ]
    },
    {
      "cell_type": "code",
      "execution_count": null,
      "metadata": {
        "colab": {
          "base_uri": "https://localhost:8080/"
        },
        "id": "D8zKJBCvIgrI",
        "outputId": "ca4c7d71-8c74-427e-e92d-3752b0e73d8c"
      },
      "outputs": [
        {
          "name": "stdout",
          "output_type": "stream",
          "text": [
            "<class 'pandas.core.frame.DataFrame'>\n",
            "RangeIndex: 200 entries, 0 to 199\n",
            "Data columns (total 5 columns):\n",
            " #   Column          Non-Null Count  Dtype \n",
            "---  ------          --------------  ----- \n",
            " 0   CustomerID      200 non-null    int64 \n",
            " 1   Gender          200 non-null    object\n",
            " 2   Age             200 non-null    int64 \n",
            " 3   Annual_Income   200 non-null    int64 \n",
            " 4   Spending_Score  200 non-null    int64 \n",
            "dtypes: int64(4), object(1)\n",
            "memory usage: 7.9+ KB\n"
          ]
        }
      ],
      "source": [
        "df.info()"
      ]
    },
    {
      "cell_type": "code",
      "execution_count": null,
      "metadata": {
        "colab": {
          "base_uri": "https://localhost:8080/"
        },
        "id": "E04Wh-JbcIMs",
        "outputId": "4b8d069d-0c4b-4710-a105-4d6785fbe817"
      },
      "outputs": [
        {
          "data": {
            "text/plain": [
              "Index(['CustomerID', 'Gender', 'Age', 'Annual_Income', 'Spending_Score'], dtype='object')"
            ]
          },
          "execution_count": 6,
          "metadata": {},
          "output_type": "execute_result"
        }
      ],
      "source": [
        "df.columns"
      ]
    },
    {
      "cell_type": "markdown",
      "metadata": {
        "id": "Ld9Ut8XnOoqG"
      },
      "source": [
        "3) 데이터 처리"
      ]
    },
    {
      "cell_type": "code",
      "execution_count": null,
      "metadata": {
        "colab": {
          "base_uri": "https://localhost:8080/"
        },
        "id": "BDDlL52Kcml9",
        "outputId": "248ba194-ad2e-441a-dd30-116556118ce4"
      },
      "outputs": [
        {
          "data": {
            "text/plain": [
              "CustomerID        0\n",
              "Gender            0\n",
              "Age               0\n",
              "Annual_Income     0\n",
              "Spending_Score    0\n",
              "dtype: int64"
            ]
          },
          "execution_count": 7,
          "metadata": {},
          "output_type": "execute_result"
        }
      ],
      "source": [
        "df.isnull().sum()"
      ]
    },
    {
      "cell_type": "markdown",
      "metadata": {
        "id": "U-mCQQuCdLJu"
      },
      "source": [
        "### **Step 3 : 기계학습 데이터 준비**"
      ]
    },
    {
      "cell_type": "markdown",
      "metadata": {
        "id": "SKUqHDIldfTf"
      },
      "source": [
        "1) 특성/타켓 지정하기\n",
        "> 특성행렬 (Features) : X   \n",
        "\n",
        "-  X : Annual_Income, Spending_Score"
      ]
    },
    {
      "cell_type": "code",
      "execution_count": null,
      "metadata": {
        "id": "dd6VtO_rQp7q"
      },
      "outputs": [],
      "source": [
        "X = #코드작성"
      ]
    },
    {
      "cell_type": "code",
      "execution_count": null,
      "metadata": {
        "colab": {
          "base_uri": "https://localhost:8080/"
        },
        "id": "CeHlRz8Zg6Zp",
        "outputId": "9ba2efa2-b5a0-4211-e9e1-8828f9ec8692"
      },
      "outputs": [
        {
          "data": {
            "text/html": [
              "\n",
              "  <div id=\"df-b6b18fa5-d6e0-41b7-8cad-2a33190c8f5f\">\n",
              "    <div class=\"colab-df-container\">\n",
              "      <div>\n",
              "<style scoped>\n",
              "    .dataframe tbody tr th:only-of-type {\n",
              "        vertical-align: middle;\n",
              "    }\n",
              "\n",
              "    .dataframe tbody tr th {\n",
              "        vertical-align: top;\n",
              "    }\n",
              "\n",
              "    .dataframe thead th {\n",
              "        text-align: right;\n",
              "    }\n",
              "</style>\n",
              "<table border=\"1\" class=\"dataframe\">\n",
              "  <thead>\n",
              "    <tr style=\"text-align: right;\">\n",
              "      <th></th>\n",
              "      <th>Annual_Income</th>\n",
              "      <th>Spending_Score</th>\n",
              "    </tr>\n",
              "  </thead>\n",
              "  <tbody>\n",
              "    <tr>\n",
              "      <th>0</th>\n",
              "      <td>15</td>\n",
              "      <td>39</td>\n",
              "    </tr>\n",
              "    <tr>\n",
              "      <th>1</th>\n",
              "      <td>15</td>\n",
              "      <td>81</td>\n",
              "    </tr>\n",
              "    <tr>\n",
              "      <th>2</th>\n",
              "      <td>16</td>\n",
              "      <td>6</td>\n",
              "    </tr>\n",
              "    <tr>\n",
              "      <th>3</th>\n",
              "      <td>16</td>\n",
              "      <td>77</td>\n",
              "    </tr>\n",
              "    <tr>\n",
              "      <th>4</th>\n",
              "      <td>17</td>\n",
              "      <td>40</td>\n",
              "    </tr>\n",
              "  </tbody>\n",
              "</table>\n",
              "</div>\n",
              "      <button class=\"colab-df-convert\" onclick=\"convertToInteractive('df-b6b18fa5-d6e0-41b7-8cad-2a33190c8f5f')\"\n",
              "              title=\"Convert this dataframe to an interactive table.\"\n",
              "              style=\"display:none;\">\n",
              "        \n",
              "  <svg xmlns=\"http://www.w3.org/2000/svg\" height=\"24px\"viewBox=\"0 0 24 24\"\n",
              "       width=\"24px\">\n",
              "    <path d=\"M0 0h24v24H0V0z\" fill=\"none\"/>\n",
              "    <path d=\"M18.56 5.44l.94 2.06.94-2.06 2.06-.94-2.06-.94-.94-2.06-.94 2.06-2.06.94zm-11 1L8.5 8.5l.94-2.06 2.06-.94-2.06-.94L8.5 2.5l-.94 2.06-2.06.94zm10 10l.94 2.06.94-2.06 2.06-.94-2.06-.94-.94-2.06-.94 2.06-2.06.94z\"/><path d=\"M17.41 7.96l-1.37-1.37c-.4-.4-.92-.59-1.43-.59-.52 0-1.04.2-1.43.59L10.3 9.45l-7.72 7.72c-.78.78-.78 2.05 0 2.83L4 21.41c.39.39.9.59 1.41.59.51 0 1.02-.2 1.41-.59l7.78-7.78 2.81-2.81c.8-.78.8-2.07 0-2.86zM5.41 20L4 18.59l7.72-7.72 1.47 1.35L5.41 20z\"/>\n",
              "  </svg>\n",
              "      </button>\n",
              "      \n",
              "  <style>\n",
              "    .colab-df-container {\n",
              "      display:flex;\n",
              "      flex-wrap:wrap;\n",
              "      gap: 12px;\n",
              "    }\n",
              "\n",
              "    .colab-df-convert {\n",
              "      background-color: #E8F0FE;\n",
              "      border: none;\n",
              "      border-radius: 50%;\n",
              "      cursor: pointer;\n",
              "      display: none;\n",
              "      fill: #1967D2;\n",
              "      height: 32px;\n",
              "      padding: 0 0 0 0;\n",
              "      width: 32px;\n",
              "    }\n",
              "\n",
              "    .colab-df-convert:hover {\n",
              "      background-color: #E2EBFA;\n",
              "      box-shadow: 0px 1px 2px rgba(60, 64, 67, 0.3), 0px 1px 3px 1px rgba(60, 64, 67, 0.15);\n",
              "      fill: #174EA6;\n",
              "    }\n",
              "\n",
              "    [theme=dark] .colab-df-convert {\n",
              "      background-color: #3B4455;\n",
              "      fill: #D2E3FC;\n",
              "    }\n",
              "\n",
              "    [theme=dark] .colab-df-convert:hover {\n",
              "      background-color: #434B5C;\n",
              "      box-shadow: 0px 1px 3px 1px rgba(0, 0, 0, 0.15);\n",
              "      filter: drop-shadow(0px 1px 2px rgba(0, 0, 0, 0.3));\n",
              "      fill: #FFFFFF;\n",
              "    }\n",
              "  </style>\n",
              "\n",
              "      <script>\n",
              "        const buttonEl =\n",
              "          document.querySelector('#df-b6b18fa5-d6e0-41b7-8cad-2a33190c8f5f button.colab-df-convert');\n",
              "        buttonEl.style.display =\n",
              "          google.colab.kernel.accessAllowed ? 'block' : 'none';\n",
              "\n",
              "        async function convertToInteractive(key) {\n",
              "          const element = document.querySelector('#df-b6b18fa5-d6e0-41b7-8cad-2a33190c8f5f');\n",
              "          const dataTable =\n",
              "            await google.colab.kernel.invokeFunction('convertToInteractive',\n",
              "                                                     [key], {});\n",
              "          if (!dataTable) return;\n",
              "\n",
              "          const docLinkHtml = 'Like what you see? Visit the ' +\n",
              "            '<a target=\"_blank\" href=https://colab.research.google.com/notebooks/data_table.ipynb>data table notebook</a>'\n",
              "            + ' to learn more about interactive tables.';\n",
              "          element.innerHTML = '';\n",
              "          dataTable['output_type'] = 'display_data';\n",
              "          await google.colab.output.renderOutput(dataTable, element);\n",
              "          const docLink = document.createElement('div');\n",
              "          docLink.innerHTML = docLinkHtml;\n",
              "          element.appendChild(docLink);\n",
              "        }\n",
              "      </script>\n",
              "    </div>\n",
              "  </div>\n",
              "  "
            ],
            "text/plain": [
              "   Annual_Income  Spending_Score\n",
              "0             15              39\n",
              "1             15              81\n",
              "2             16               6\n",
              "3             16              77\n",
              "4             17              40"
            ]
          },
          "execution_count": 9,
          "metadata": {},
          "output_type": "execute_result"
        }
      ],
      "source": [
        "X.head()"
      ]
    },
    {
      "cell_type": "markdown",
      "metadata": {
        "id": "TKWRL6g2hcXN"
      },
      "source": [
        "## <font color=green>**[ 기계학습 군집화 모델 구현하기 ]**"
      ]
    },
    {
      "cell_type": "markdown",
      "metadata": {
        "id": "J76rNFcyhgXl"
      },
      "source": [
        "### **Step 1. 라이브러리 가져오기**\n",
        "> sklearn.cluster.KMeans : sklearn 라이브러리의 의 군집 KMeans 알고리즘 적용"
      ]
    },
    {
      "cell_type": "code",
      "execution_count": null,
      "metadata": {
        "id": "hfZlp76Vhbr6"
      },
      "outputs": [],
      "source": [
        "from sklearn.cluster import KMeans\n",
        "import matplotlib.pyplot as plt\n",
        "from sklearn.metrics import silhouette_samples, silhouette_score"
      ]
    },
    {
      "cell_type": "markdown",
      "metadata": {
        "id": "Nbn6Fh8LhquV"
      },
      "source": [
        "### **Step 2. 모델 객체 생성**\n",
        "> KMeans() 선언하여 모델 객체 생성하기"
      ]
    },
    {
      "cell_type": "code",
      "execution_count": null,
      "metadata": {
        "id": "pbj8tF4CI_r2"
      },
      "outputs": [],
      "source": [
        "k = 5                           # 군집 개수\n",
        "model_km = #코드작성"
      ]
    },
    {
      "cell_type": "markdown",
      "metadata": {
        "id": "GiXsiNgzh4VK"
      },
      "source": [
        "### **Step 3. 모델 학습**\n",
        "> 데이터(X)로 선언한 모델(model_km)을 이용하여 학습(fit)하기"
      ]
    },
    {
      "cell_type": "markdown",
      "metadata": {
        "id": "aKsGoFJdiENw"
      },
      "source": [
        "- X 데이터 프레임에 대해 모델 학습"
      ]
    },
    {
      "cell_type": "code",
      "execution_count": null,
      "metadata": {
        "colab": {
          "base_uri": "https://localhost:8080/"
        },
        "id": "fdEbLKDDh_3j",
        "outputId": "f352e61a-1766-43a9-b98c-a6154b9fc8ce"
      },
      "outputs": [
        {
          "data": {
            "text/plain": [
              "KMeans(n_clusters=5)"
            ]
          },
          "execution_count": 12,
          "metadata": {},
          "output_type": "execute_result"
        }
      ],
      "source": [
        "#코드작성\n"
      ]
    },
    {
      "cell_type": "markdown",
      "metadata": {
        "id": "lL046McCic9d"
      },
      "source": [
        "- 각 클러스터의 중심점 확인"
      ]
    },
    {
      "cell_type": "code",
      "execution_count": null,
      "metadata": {
        "colab": {
          "base_uri": "https://localhost:8080/"
        },
        "id": "RQNPMQGlPyXa",
        "outputId": "6f0c0c06-27d1-4702-95e8-1f0afbe172a1"
      },
      "outputs": [
        {
          "data": {
            "text/plain": [
              "array([[55.2962963 , 49.51851852],\n",
              "       [86.53846154, 82.12820513],\n",
              "       [26.30434783, 20.91304348],\n",
              "       [88.2       , 17.11428571],\n",
              "       [25.72727273, 79.36363636]])"
            ]
          },
          "execution_count": 13,
          "metadata": {},
          "output_type": "execute_result"
        }
      ],
      "source": [
        "#코드작성\n"
      ]
    },
    {
      "cell_type": "code",
      "execution_count": null,
      "metadata": {
        "colab": {
          "base_uri": "https://localhost:8080/"
        },
        "id": "uGpAzPwEP_Cf",
        "outputId": "cc062c34-725b-4a0a-8253-3065e5e2568f"
      },
      "outputs": [
        {
          "data": {
            "text/plain": [
              "array([2, 4, 2, 4, 2, 4, 2, 4, 2, 4, 2, 4, 2, 4, 2, 4, 2, 4, 2, 4, 2, 4,\n",
              "       2, 4, 2, 4, 2, 4, 2, 4, 2, 4, 2, 4, 2, 4, 2, 4, 2, 4, 2, 4, 2, 0,\n",
              "       2, 4, 0, 0, 0, 0, 0, 0, 0, 0, 0, 0, 0, 0, 0, 0, 0, 0, 0, 0, 0, 0,\n",
              "       0, 0, 0, 0, 0, 0, 0, 0, 0, 0, 0, 0, 0, 0, 0, 0, 0, 0, 0, 0, 0, 0,\n",
              "       0, 0, 0, 0, 0, 0, 0, 0, 0, 0, 0, 0, 0, 0, 0, 0, 0, 0, 0, 0, 0, 0,\n",
              "       0, 0, 0, 0, 0, 0, 0, 0, 0, 0, 0, 0, 0, 1, 3, 1, 0, 1, 3, 1, 3, 1,\n",
              "       0, 1, 3, 1, 3, 1, 3, 1, 3, 1, 0, 1, 3, 1, 3, 1, 3, 1, 3, 1, 3, 1,\n",
              "       3, 1, 3, 1, 3, 1, 3, 1, 3, 1, 3, 1, 3, 1, 3, 1, 3, 1, 3, 1, 3, 1,\n",
              "       3, 1, 3, 1, 3, 1, 3, 1, 3, 1, 3, 1, 3, 1, 3, 1, 3, 1, 3, 1, 3, 1,\n",
              "       3, 1], dtype=int32)"
            ]
          },
          "execution_count": 14,
          "metadata": {},
          "output_type": "execute_result"
        }
      ],
      "source": [
        "model_km.labels_"
      ]
    },
    {
      "cell_type": "markdown",
      "metadata": {
        "id": "OLFL_gHZCfH8"
      },
      "source": [
        "- 각 군집의 데이터 수를 확인한다."
      ]
    },
    {
      "cell_type": "code",
      "execution_count": null,
      "metadata": {
        "colab": {
          "base_uri": "https://localhost:8080/"
        },
        "id": "_57RCtVB6xNn",
        "outputId": "89867442-907b-4604-96b1-29e6b66388a5"
      },
      "outputs": [
        {
          "data": {
            "text/plain": [
              "0    81\n",
              "1    39\n",
              "3    35\n",
              "2    23\n",
              "4    22\n",
              "dtype: int64"
            ]
          },
          "execution_count": 15,
          "metadata": {},
          "output_type": "execute_result"
        }
      ],
      "source": [
        "#코드작성\n"
      ]
    },
    {
      "cell_type": "markdown",
      "metadata": {
        "id": "SvWV11bpQc2G"
      },
      "source": [
        "### **Step 4. 모델 예측**"
      ]
    },
    {
      "cell_type": "markdown",
      "metadata": {
        "id": "ypeI8ZiYi0mf"
      },
      "source": [
        "> 데이터(X)로 속하는 그룹을 예측하기(predict())   "
      ]
    },
    {
      "cell_type": "code",
      "execution_count": null,
      "metadata": {
        "colab": {
          "base_uri": "https://localhost:8080/"
        },
        "id": "nK3RljXXi6JC",
        "outputId": "92443093-8cbb-4f7b-c185-aa3c5dcfa171"
      },
      "outputs": [
        {
          "data": {
            "image/png": "[encoded data removed]",
            "text/plain": [
              "<Figure size 432x288 with 1 Axes>"
            ]
          },
          "metadata": {
            "needs_background": "light"
          },
          "output_type": "display_data"
        }
      ],
      "source": [
        "plt.figure()\n",
        "\n",
        "plt.title( 'Clustering of Customers, k=' + str(k) )\n",
        "plt.xlabel( X.columns[0])   # Annual_Income\n",
        "plt.ylabel( X.columns[1])   # Spending_Score\n",
        "\n",
        "colors = ['C0','C1','C2','C3','C4','C5','C6','C7','C8','C9']\n",
        "\n",
        "for i in range(k) :\n",
        "    plt.scatter( X.iloc[model_km.labels_==i, 0],\n",
        "                 X.iloc[model_km.labels_==i, 1],\n",
        "                 c = colors[i%10],  label = 'Cluster '+ str(i) )\n",
        "\n",
        "plt.scatter( model_km.cluster_centers_[:, 0],\n",
        "             model_km.cluster_centers_[:, 1],\n",
        "             c='black', marker='*', s=200, label='Centroids' )\n",
        "\n",
        "plt.legend()\n",
        "plt.show()"
      ]
    },
    {
      "cell_type": "markdown",
      "metadata": {
        "id": "vjXgmLitOyDK"
      },
      "source": [
        "- 고객 분류 (그룹 0-4는 학습시마다 변경되므로 A-E 로 구분함)\n",
        "\n",
        "  >그룹 A : 연소득이 높고 소비지수도 높은 고객\n",
        "\n",
        "  >그룹 B : 연소득이 높고 소비지수는 낮은 고객\n",
        "\n",
        "  >그룹 C : 연소득은 낮고 소비지수는 높은 고객\n",
        "\n",
        "  >그룹 D : 연소득과 소비지수가 모두 중간인 고객\n",
        "\n",
        "  >그룹 E : 연소득이 낮고 소비지수도 낮은 고객"
      ]
    },
    {
      "cell_type": "markdown",
      "metadata": {
        "id": "zpY8z93XCn4N"
      },
      "source": [
        "- 특정 고객이 어느 그룹에 속하는지 확인해 보자. ( 연소득 : 85 K$, 소비지수 : 65 )"
      ]
    },
    {
      "cell_type": "code",
      "execution_count": null,
      "metadata": {
        "colab": {
          "base_uri": "https://localhost:8080/"
        },
        "id": "M1y9qvPiCjl6",
        "outputId": "ba1ca884-1769-4dd0-9c56-5e1f83b3d507"
      },
      "outputs": [
        {
          "name": "stdout",
          "output_type": "stream",
          "text": [
            "[1]\n"
          ]
        }
      ],
      "source": [
        "print ( #코드작성 ( pd.DataFrame( {'Annual_Income'  : [85],\n",
        "                                         'Spending_Score' : [65]} )))"
      ]
    },
    {
      "cell_type": "code",
      "execution_count": null,
      "metadata": {
        "colab": {
          "base_uri": "https://localhost:8080/"
        },
        "id": "zrA-eTJ6MGKH",
        "outputId": "69e2ff93-ca9b-4a18-db95-f72b304f5972"
      },
      "outputs": [
        {
          "data": {
            "image/png": "[encoded data removed]",
            "text/plain": [
              "<Figure size 432x288 with 1 Axes>"
            ]
          },
          "metadata": {
            "needs_background": "light"
          },
          "output_type": "display_data"
        }
      ],
      "source": [
        "plt.figure()\n",
        "\n",
        "plt.title( 'Clustering of Customers, k=' + str(k) )\n",
        "plt.xlabel( X.columns[0])   # Annual_Income\n",
        "plt.ylabel( X.columns[1])   # Spending_Score\n",
        "\n",
        "colors = ['C0','C1','C2','C3','C4','C5','C6','C7','C8','C9']\n",
        "\n",
        "for i in range(k) :\n",
        "    plt.scatter( X.iloc[model_km.labels_==i, 0],\n",
        "                 X.iloc[model_km.labels_==i, 1],\n",
        "                 c = colors[i%10],  label = 'Cluster '+ str(i) )\n",
        "\n",
        "plt.scatter( model_km.cluster_centers_[:, 0],\n",
        "             model_km.cluster_centers_[:, 1],\n",
        "             c='black', marker='*', s=200, label='Centroids' )\n",
        "\n",
        "# Annual_Income: 85, Spending_Score : 65\n",
        "plt.scatter(85, 65, c = 'red', marker='X', s=200, label='Test')\n",
        "\n",
        "plt.legend()\n",
        "plt.show()"
      ]
    },
    {
      "cell_type": "markdown",
      "metadata": {
        "id": "KmxCnfapQg5m"
      },
      "source": [
        "- 평가하기"
      ]
    },
    {
      "cell_type": "code",
      "execution_count": null,
      "metadata": {
        "id": "OE_A-QyKZv5Z"
      },
      "outputs": [],
      "source": [
        "from sklearn.metrics import silhouette_samples, silhouette_score"
      ]
    },
    {
      "cell_type": "markdown",
      "metadata": {
        "id": "TYQOwqcXCyf8"
      },
      "source": [
        "- 전체 군집에 대해 실루엣 지수를 확인한다."
      ]
    },
    {
      "cell_type": "code",
      "execution_count": null,
      "metadata": {
        "colab": {
          "base_uri": "https://localhost:8080/"
        },
        "id": "qqGr9RoJZzM6",
        "outputId": "c949aa1e-9ed2-4db1-d61f-527966b0c4da"
      },
      "outputs": [
        {
          "data": {
            "text/plain": [
              "0.553931997444648"
            ]
          },
          "execution_count": 21,
          "metadata": {},
          "output_type": "execute_result"
        }
      ],
      "source": [
        "#코드작성\n"
      ]
    },
    {
      "cell_type": "markdown",
      "metadata": {
        "id": "Mu8mJrphDI2P"
      },
      "source": [
        "- 각 데이터별 실루엣 지수를 확인한다."
      ]
    },
    {
      "cell_type": "code",
      "execution_count": null,
      "metadata": {
        "colab": {
          "base_uri": "https://localhost:8080/"
        },
        "id": "R5MKqaI-ZxFd",
        "outputId": "1460e2c2-edd9-4ee5-ff9e-13ec7fe17e4d"
      },
      "outputs": [
        {
          "data": {
            "text/plain": [
              "array([ 0.41700493,  0.69637752,  0.6399526 ,  0.6964831 ,  0.39230007,\n",
              "        0.6981303 ,  0.64910316,  0.65972193,  0.63021343,  0.66350398,\n",
              "        0.67788678,  0.62355268,  0.68003912,  0.71908624,  0.68070792,\n",
              "        0.72573786,  0.48557434,  0.54505971,  0.58062414,  0.631684  ,\n",
              "        0.46597803,  0.6774284 ,  0.64167396,  0.67170097,  0.66126882,\n",
              "        0.70488566,  0.48931822,  0.30121073,  0.49570828,  0.6847372 ,\n",
              "        0.60630845,  0.612474  ,  0.57697817,  0.61775968,  0.60922585,\n",
              "        0.63936997,  0.58581667,  0.52897452,  0.42116018,  0.48378692,\n",
              "        0.09342298,  0.54589636, -0.00927769,  0.1170758 ,  0.31116673,\n",
              "        0.0507214 ,  0.38841392,  0.43312564,  0.29204034,  0.29204034,\n",
              "        0.5203998 ,  0.30155503,  0.51561237,  0.34144075,  0.48988757,\n",
              "        0.37332421,  0.59860522,  0.54128572,  0.63883859,  0.59367906,\n",
              "        0.55806656,  0.57952023,  0.64920886,  0.50415514,  0.67809813,\n",
              "        0.52881485,  0.68358333,  0.66547762,  0.52881485,  0.65267375,\n",
              "        0.64243997,  0.57400953,  0.70652524,  0.64014053,  0.73196104,\n",
              "        0.71947278,  0.73150424,  0.74072908,  0.74112697,  0.65442117,\n",
              "        0.74842791,  0.70493684,  0.6324437 ,  0.69181748,  0.66873928,\n",
              "        0.72079722,  0.66736088,  0.71987017,  0.61927606,  0.74062737,\n",
              "        0.71071231,  0.66933998,  0.75806935,  0.63780859,  0.68008375,\n",
              "        0.73774074,  0.74739227,  0.75333445,  0.6681954 ,  0.7479776 ,\n",
              "        0.63283954,  0.73228236,  0.58468938,  0.6713546 ,  0.65309276,\n",
              "        0.65391468,  0.71512793,  0.69903269,  0.65596358,  0.71753797,\n",
              "        0.69674735,  0.67041662,  0.61798141,  0.68149135,  0.68126272,\n",
              "        0.67902309,  0.61636814,  0.51997874,  0.56810891,  0.52148137,\n",
              "        0.54460203,  0.4988398 ,  0.43652577,  0.48194179,  0.00351627,\n",
              "        0.350038  ,  0.19940439,  0.51455576,  0.48547142,  0.33164486,\n",
              "        0.49666181,  0.33164486,  0.11529355,  0.2254125 ,  0.53389918,\n",
              "        0.54953967,  0.53671842,  0.33124639,  0.54753461,  0.32604311,\n",
              "        0.56138124,  0.57713075,  0.19236846,  0.59306426,  0.58338266,\n",
              "        0.57689717, -0.02338083,  0.45197042,  0.48286026,  0.61822335,\n",
              "        0.56143587,  0.61857464,  0.51997252,  0.51046415,  0.57147203,\n",
              "        0.61933811,  0.5718828 ,  0.54263404,  0.5718828 ,  0.44365896,\n",
              "        0.10184214,  0.60554668,  0.61371866,  0.62850916,  0.50603232,\n",
              "        0.55667737,  0.60779683,  0.6340297 ,  0.50543845,  0.28595404,\n",
              "        0.65696071,  0.56463752,  0.65419565,  0.64913803,  0.65882448,\n",
              "        0.65368602,  0.65340848,  0.45539717,  0.65239587,  0.64736478,\n",
              "        0.46477526,  0.63322429,  0.6346086 ,  0.63100118,  0.34080466,\n",
              "        0.60337125,  0.57181215,  0.46593537,  0.60637819,  0.59982837,\n",
              "        0.57321049,  0.47652583,  0.55652321,  0.54559672,  0.51127799,\n",
              "        0.47849409,  0.38313815,  0.38250608,  0.38172388,  0.36620886])"
            ]
          },
          "execution_count": 20,
          "metadata": {},
          "output_type": "execute_result"
        }
      ],
      "source": [
        "silhouette_samples(X, model_km.labels_)"
      ]
    },
    {
      "cell_type": "code",
      "execution_count": null,
      "metadata": {
        "colab": {
          "base_uri": "https://localhost:8080/"
        },
        "id": "K7748tOkQfW3",
        "outputId": "922df207-6c2a-477e-adcb-a902d8d06840"
      },
      "outputs": [
        {
          "data": {
            "text/html": [
              "\n",
              "  <div id=\"df-18b27ca6-85c2-45a5-8534-107f968d9119\">\n",
              "    <div class=\"colab-df-container\">\n",
              "      <div>\n",
              "<style scoped>\n",
              "    .dataframe tbody tr th:only-of-type {\n",
              "        vertical-align: middle;\n",
              "    }\n",
              "\n",
              "    .dataframe tbody tr th {\n",
              "        vertical-align: top;\n",
              "    }\n",
              "\n",
              "    .dataframe thead th {\n",
              "        text-align: right;\n",
              "    }\n",
              "</style>\n",
              "<table border=\"1\" class=\"dataframe\">\n",
              "  <thead>\n",
              "    <tr style=\"text-align: right;\">\n",
              "      <th></th>\n",
              "      <th>Annual_Income</th>\n",
              "      <th>Spending_Score</th>\n",
              "      <th>Cluster_no</th>\n",
              "      <th>S_score</th>\n",
              "    </tr>\n",
              "  </thead>\n",
              "  <tbody>\n",
              "    <tr>\n",
              "      <th>0</th>\n",
              "      <td>15</td>\n",
              "      <td>39</td>\n",
              "      <td>2</td>\n",
              "      <td>0.417005</td>\n",
              "    </tr>\n",
              "    <tr>\n",
              "      <th>1</th>\n",
              "      <td>15</td>\n",
              "      <td>81</td>\n",
              "      <td>4</td>\n",
              "      <td>0.696378</td>\n",
              "    </tr>\n",
              "    <tr>\n",
              "      <th>2</th>\n",
              "      <td>16</td>\n",
              "      <td>6</td>\n",
              "      <td>2</td>\n",
              "      <td>0.639953</td>\n",
              "    </tr>\n",
              "    <tr>\n",
              "      <th>3</th>\n",
              "      <td>16</td>\n",
              "      <td>77</td>\n",
              "      <td>4</td>\n",
              "      <td>0.696483</td>\n",
              "    </tr>\n",
              "    <tr>\n",
              "      <th>4</th>\n",
              "      <td>17</td>\n",
              "      <td>40</td>\n",
              "      <td>2</td>\n",
              "      <td>0.392300</td>\n",
              "    </tr>\n",
              "  </tbody>\n",
              "</table>\n",
              "</div>\n",
              "      <button class=\"colab-df-convert\" onclick=\"convertToInteractive('df-18b27ca6-85c2-45a5-8534-107f968d9119')\"\n",
              "              title=\"Convert this dataframe to an interactive table.\"\n",
              "              style=\"display:none;\">\n",
              "        \n",
              "  <svg xmlns=\"http://www.w3.org/2000/svg\" height=\"24px\"viewBox=\"0 0 24 24\"\n",
              "       width=\"24px\">\n",
              "    <path d=\"M0 0h24v24H0V0z\" fill=\"none\"/>\n",
              "    <path d=\"M18.56 5.44l.94 2.06.94-2.06 2.06-.94-2.06-.94-.94-2.06-.94 2.06-2.06.94zm-11 1L8.5 8.5l.94-2.06 2.06-.94-2.06-.94L8.5 2.5l-.94 2.06-2.06.94zm10 10l.94 2.06.94-2.06 2.06-.94-2.06-.94-.94-2.06-.94 2.06-2.06.94z\"/><path d=\"M17.41 7.96l-1.37-1.37c-.4-.4-.92-.59-1.43-.59-.52 0-1.04.2-1.43.59L10.3 9.45l-7.72 7.72c-.78.78-.78 2.05 0 2.83L4 21.41c.39.39.9.59 1.41.59.51 0 1.02-.2 1.41-.59l7.78-7.78 2.81-2.81c.8-.78.8-2.07 0-2.86zM5.41 20L4 18.59l7.72-7.72 1.47 1.35L5.41 20z\"/>\n",
              "  </svg>\n",
              "      </button>\n",
              "      \n",
              "  <style>\n",
              "    .colab-df-container {\n",
              "      display:flex;\n",
              "      flex-wrap:wrap;\n",
              "      gap: 12px;\n",
              "    }\n",
              "\n",
              "    .colab-df-convert {\n",
              "      background-color: #E8F0FE;\n",
              "      border: none;\n",
              "      border-radius: 50%;\n",
              "      cursor: pointer;\n",
              "      display: none;\n",
              "      fill: #1967D2;\n",
              "      height: 32px;\n",
              "      padding: 0 0 0 0;\n",
              "      width: 32px;\n",
              "    }\n",
              "\n",
              "    .colab-df-convert:hover {\n",
              "      background-color: #E2EBFA;\n",
              "      box-shadow: 0px 1px 2px rgba(60, 64, 67, 0.3), 0px 1px 3px 1px rgba(60, 64, 67, 0.15);\n",
              "      fill: #174EA6;\n",
              "    }\n",
              "\n",
              "    [theme=dark] .colab-df-convert {\n",
              "      background-color: #3B4455;\n",
              "      fill: #D2E3FC;\n",
              "    }\n",
              "\n",
              "    [theme=dark] .colab-df-convert:hover {\n",
              "      background-color: #434B5C;\n",
              "      box-shadow: 0px 1px 3px 1px rgba(0, 0, 0, 0.15);\n",
              "      filter: drop-shadow(0px 1px 2px rgba(0, 0, 0, 0.3));\n",
              "      fill: #FFFFFF;\n",
              "    }\n",
              "  </style>\n",
              "\n",
              "      <script>\n",
              "        const buttonEl =\n",
              "          document.querySelector('#df-18b27ca6-85c2-45a5-8534-107f968d9119 button.colab-df-convert');\n",
              "        buttonEl.style.display =\n",
              "          google.colab.kernel.accessAllowed ? 'block' : 'none';\n",
              "\n",
              "        async function convertToInteractive(key) {\n",
              "          const element = document.querySelector('#df-18b27ca6-85c2-45a5-8534-107f968d9119');\n",
              "          const dataTable =\n",
              "            await google.colab.kernel.invokeFunction('convertToInteractive',\n",
              "                                                     [key], {});\n",
              "          if (!dataTable) return;\n",
              "\n",
              "          const docLinkHtml = 'Like what you see? Visit the ' +\n",
              "            '<a target=\"_blank\" href=https://colab.research.google.com/notebooks/data_table.ipynb>data table notebook</a>'\n",
              "            + ' to learn more about interactive tables.';\n",
              "          element.innerHTML = '';\n",
              "          dataTable['output_type'] = 'display_data';\n",
              "          await google.colab.output.renderOutput(dataTable, element);\n",
              "          const docLink = document.createElement('div');\n",
              "          docLink.innerHTML = docLinkHtml;\n",
              "          element.appendChild(docLink);\n",
              "        }\n",
              "      </script>\n",
              "    </div>\n",
              "  </div>\n",
              "  "
            ],
            "text/plain": [
              "   Annual_Income  Spending_Score  Cluster_no   S_score\n",
              "0             15              39           2  0.417005\n",
              "1             15              81           4  0.696378\n",
              "2             16               6           2  0.639953\n",
              "3             16              77           4  0.696483\n",
              "4             17              40           2  0.392300"
            ]
          },
          "execution_count": 22,
          "metadata": {},
          "output_type": "execute_result"
        }
      ],
      "source": [
        "df_result = X.copy()\n",
        "df_result['Cluster_no'] = model_km.labels_\n",
        "df_result['S_score'] = silhouette_samples(X, model_km.labels_)\n",
        "df_result.head()"
      ]
    },
    {
      "cell_type": "code",
      "execution_count": null,
      "metadata": {
        "colab": {
          "base_uri": "https://localhost:8080/"
        },
        "id": "9Skp9rStHHPn",
        "outputId": "69b60e87-7b7b-462d-cb36-47586e5b2503"
      },
      "outputs": [
        {
          "data": {
            "text/html": [
              "\n",
              "  <div id=\"df-647c6fd1-b100-41e2-8270-9a9b23304f7e\">\n",
              "    <div class=\"colab-df-container\">\n",
              "      <div>\n",
              "<style scoped>\n",
              "    .dataframe tbody tr th:only-of-type {\n",
              "        vertical-align: middle;\n",
              "    }\n",
              "\n",
              "    .dataframe tbody tr th {\n",
              "        vertical-align: top;\n",
              "    }\n",
              "\n",
              "    .dataframe thead th {\n",
              "        text-align: right;\n",
              "    }\n",
              "</style>\n",
              "<table border=\"1\" class=\"dataframe\">\n",
              "  <thead>\n",
              "    <tr style=\"text-align: right;\">\n",
              "      <th></th>\n",
              "      <th>Annual_Income</th>\n",
              "      <th>Spending_Score</th>\n",
              "      <th>Cluster_no</th>\n",
              "      <th>S_score</th>\n",
              "    </tr>\n",
              "  </thead>\n",
              "  <tbody>\n",
              "    <tr>\n",
              "      <th>count</th>\n",
              "      <td>200.000000</td>\n",
              "      <td>200.000000</td>\n",
              "      <td>200.000000</td>\n",
              "      <td>200.000000</td>\n",
              "    </tr>\n",
              "    <tr>\n",
              "      <th>mean</th>\n",
              "      <td>60.560000</td>\n",
              "      <td>50.200000</td>\n",
              "      <td>1.390000</td>\n",
              "      <td>0.553932</td>\n",
              "    </tr>\n",
              "    <tr>\n",
              "      <th>std</th>\n",
              "      <td>26.264721</td>\n",
              "      <td>25.823522</td>\n",
              "      <td>1.438138</td>\n",
              "      <td>0.158254</td>\n",
              "    </tr>\n",
              "    <tr>\n",
              "      <th>min</th>\n",
              "      <td>15.000000</td>\n",
              "      <td>1.000000</td>\n",
              "      <td>0.000000</td>\n",
              "      <td>-0.023381</td>\n",
              "    </tr>\n",
              "    <tr>\n",
              "      <th>25%</th>\n",
              "      <td>41.500000</td>\n",
              "      <td>34.750000</td>\n",
              "      <td>0.000000</td>\n",
              "      <td>0.494253</td>\n",
              "    </tr>\n",
              "    <tr>\n",
              "      <th>50%</th>\n",
              "      <td>61.500000</td>\n",
              "      <td>50.000000</td>\n",
              "      <td>1.000000</td>\n",
              "      <td>0.596142</td>\n",
              "    </tr>\n",
              "    <tr>\n",
              "      <th>75%</th>\n",
              "      <td>78.000000</td>\n",
              "      <td>73.000000</td>\n",
              "      <td>3.000000</td>\n",
              "      <td>0.660109</td>\n",
              "    </tr>\n",
              "    <tr>\n",
              "      <th>max</th>\n",
              "      <td>137.000000</td>\n",
              "      <td>99.000000</td>\n",
              "      <td>4.000000</td>\n",
              "      <td>0.758069</td>\n",
              "    </tr>\n",
              "  </tbody>\n",
              "</table>\n",
              "</div>\n",
              "      <button class=\"colab-df-convert\" onclick=\"convertToInteractive('df-647c6fd1-b100-41e2-8270-9a9b23304f7e')\"\n",
              "              title=\"Convert this dataframe to an interactive table.\"\n",
              "              style=\"display:none;\">\n",
              "        \n",
              "  <svg xmlns=\"http://www.w3.org/2000/svg\" height=\"24px\"viewBox=\"0 0 24 24\"\n",
              "       width=\"24px\">\n",
              "    <path d=\"M0 0h24v24H0V0z\" fill=\"none\"/>\n",
              "    <path d=\"M18.56 5.44l.94 2.06.94-2.06 2.06-.94-2.06-.94-.94-2.06-.94 2.06-2.06.94zm-11 1L8.5 8.5l.94-2.06 2.06-.94-2.06-.94L8.5 2.5l-.94 2.06-2.06.94zm10 10l.94 2.06.94-2.06 2.06-.94-2.06-.94-.94-2.06-.94 2.06-2.06.94z\"/><path d=\"M17.41 7.96l-1.37-1.37c-.4-.4-.92-.59-1.43-.59-.52 0-1.04.2-1.43.59L10.3 9.45l-7.72 7.72c-.78.78-.78 2.05 0 2.83L4 21.41c.39.39.9.59 1.41.59.51 0 1.02-.2 1.41-.59l7.78-7.78 2.81-2.81c.8-.78.8-2.07 0-2.86zM5.41 20L4 18.59l7.72-7.72 1.47 1.35L5.41 20z\"/>\n",
              "  </svg>\n",
              "      </button>\n",
              "      \n",
              "  <style>\n",
              "    .colab-df-container {\n",
              "      display:flex;\n",
              "      flex-wrap:wrap;\n",
              "      gap: 12px;\n",
              "    }\n",
              "\n",
              "    .colab-df-convert {\n",
              "      background-color: #E8F0FE;\n",
              "      border: none;\n",
              "      border-radius: 50%;\n",
              "      cursor: pointer;\n",
              "      display: none;\n",
              "      fill: #1967D2;\n",
              "      height: 32px;\n",
              "      padding: 0 0 0 0;\n",
              "      width: 32px;\n",
              "    }\n",
              "\n",
              "    .colab-df-convert:hover {\n",
              "      background-color: #E2EBFA;\n",
              "      box-shadow: 0px 1px 2px rgba(60, 64, 67, 0.3), 0px 1px 3px 1px rgba(60, 64, 67, 0.15);\n",
              "      fill: #174EA6;\n",
              "    }\n",
              "\n",
              "    [theme=dark] .colab-df-convert {\n",
              "      background-color: #3B4455;\n",
              "      fill: #D2E3FC;\n",
              "    }\n",
              "\n",
              "    [theme=dark] .colab-df-convert:hover {\n",
              "      background-color: #434B5C;\n",
              "      box-shadow: 0px 1px 3px 1px rgba(0, 0, 0, 0.15);\n",
              "      filter: drop-shadow(0px 1px 2px rgba(0, 0, 0, 0.3));\n",
              "      fill: #FFFFFF;\n",
              "    }\n",
              "  </style>\n",
              "\n",
              "      <script>\n",
              "        const buttonEl =\n",
              "          document.querySelector('#df-647c6fd1-b100-41e2-8270-9a9b23304f7e button.colab-df-convert');\n",
              "        buttonEl.style.display =\n",
              "          google.colab.kernel.accessAllowed ? 'block' : 'none';\n",
              "\n",
              "        async function convertToInteractive(key) {\n",
              "          const element = document.querySelector('#df-647c6fd1-b100-41e2-8270-9a9b23304f7e');\n",
              "          const dataTable =\n",
              "            await google.colab.kernel.invokeFunction('convertToInteractive',\n",
              "                                                     [key], {});\n",
              "          if (!dataTable) return;\n",
              "\n",
              "          const docLinkHtml = 'Like what you see? Visit the ' +\n",
              "            '<a target=\"_blank\" href=https://colab.research.google.com/notebooks/data_table.ipynb>data table notebook</a>'\n",
              "            + ' to learn more about interactive tables.';\n",
              "          element.innerHTML = '';\n",
              "          dataTable['output_type'] = 'display_data';\n",
              "          await google.colab.output.renderOutput(dataTable, element);\n",
              "          const docLink = document.createElement('div');\n",
              "          docLink.innerHTML = docLinkHtml;\n",
              "          element.appendChild(docLink);\n",
              "        }\n",
              "      </script>\n",
              "    </div>\n",
              "  </div>\n",
              "  "
            ],
            "text/plain": [
              "       Annual_Income  Spending_Score  Cluster_no     S_score\n",
              "count     200.000000      200.000000  200.000000  200.000000\n",
              "mean       60.560000       50.200000    1.390000    0.553932\n",
              "std        26.264721       25.823522    1.438138    0.158254\n",
              "min        15.000000        1.000000    0.000000   -0.023381\n",
              "25%        41.500000       34.750000    0.000000    0.494253\n",
              "50%        61.500000       50.000000    1.000000    0.596142\n",
              "75%        78.000000       73.000000    3.000000    0.660109\n",
              "max       137.000000       99.000000    4.000000    0.758069"
            ]
          },
          "execution_count": 23,
          "metadata": {},
          "output_type": "execute_result"
        }
      ],
      "source": [
        "df_result.describe()"
      ]
    },
    {
      "cell_type": "markdown",
      "metadata": {
        "id": "Y43POPBODcAn"
      },
      "source": [
        "- 각 군집에 대한 평균 실루엣 지수를 확인한다."
      ]
    },
    {
      "cell_type": "code",
      "execution_count": null,
      "metadata": {
        "colab": {
          "base_uri": "https://localhost:8080/"
        },
        "id": "bKrd-lclSwQq",
        "outputId": "51c5da81-b2f3-403f-b2bb-a07f7a7feb82"
      },
      "outputs": [
        {
          "data": {
            "text/plain": [
              "Cluster_no\n",
              "0    0.596651\n",
              "1    0.509171\n",
              "2    0.512268\n",
              "3    0.503987\n",
              "4    0.599013\n",
              "Name: S_score, dtype: float64"
            ]
          },
          "execution_count": 24,
          "metadata": {},
          "output_type": "execute_result"
        }
      ],
      "source": [
        "df_result.groupby('Cluster_no')['S_score'].mean()"
      ]
    },
    {
      "cell_type": "markdown",
      "metadata": {
        "id": "lGWhAgTAVnku"
      },
      "source": [
        "************아래 코드 K 값이 변경되므로 이미지 작업시 주의**"
      ]
    },
    {
      "cell_type": "code",
      "execution_count": null,
      "metadata": {
        "colab": {
          "base_uri": "https://localhost:8080/"
        },
        "id": "C3gyl34QQ7eV",
        "outputId": "278c90c0-bcc7-4c29-ea70-adc067ffcc6c"
      },
      "outputs": [
        {
          "name": "stdout",
          "output_type": "stream",
          "text": [
            "k = 2 , silhouette_score :  0.2968969162503008\n",
            "k = 3 , silhouette_score :  0.46761358158775435\n",
            "k = 4 , silhouette_score :  0.4931963109249047\n",
            "k = 5 , silhouette_score :  0.553931997444648\n",
            "k = 6 , silhouette_score :  0.53976103063432\n",
            "k = 7 , silhouette_score :  0.5264283703685728\n",
            "k = 8 , silhouette_score :  0.45732611752686836\n",
            "k = 9 , silhouette_score :  0.45310062629634446\n"
          ]
        }
      ],
      "source": [
        "for k in range(2, 10) :\n",
        "    model_km = KMeans(n_clusters=k)\n",
        "    model_km.fit(X)\n",
        "\n",
        "    print('k =', k, ', silhouette_score : ',\n",
        "          silhouette_score(X, model_km.labels_))"
      ]
    },
    {
      "cell_type": "markdown",
      "metadata": {
        "id": "sO8rEAhdmDHy"
      },
      "source": [
        "### <font color=blue><b>실습1.\n",
        "군집 갯수 4개로 적용하고 그래프로 그려보자.</font></b>"
      ]
    },
    {
      "cell_type": "code",
      "execution_count": null,
      "metadata": {
        "colab": {
          "base_uri": "https://localhost:8080/",
          "height": 296
        },
        "id": "Y-KOYqcTmPTq",
        "outputId": "42d94088-7ce0-412a-abfa-81a73dfca7ba"
      },
      "outputs": [
        {
          "data": {
            "image/png": "[encoded data removed]",
            "text/plain": [
              "<Figure size 432x288 with 1 Axes>"
            ]
          },
          "metadata": {
            "needs_background": "light"
          },
          "output_type": "display_data"
        }
      ],
      "source": [
        "# 실습1 코드\n",
        "k = 4                       # 군집 개수\n",
        "\n",
        "\n",
        "\n",
        "\n",
        "\n",
        "\n",
        "\n",
        "\n",
        "\n",
        "\n",
        "\n",
        "\n",
        "\n",
        "\n",
        "\n",
        "\n",
        "\n",
        "\n",
        "\n",
        "\n",
        "\n",
        "\n",
        "plt.legend()\n",
        "plt.show()"
      ]
    },
    {
      "cell_type": "code",
      "execution_count": null,
      "metadata": {
        "colab": {
          "base_uri": "https://localhost:8080/"
        },
        "id": "8PryEJ4BNldE",
        "outputId": "39a4239e-8936-450b-ec3c-3004afdc2a63"
      },
      "outputs": [
        {
          "data": {
            "image/png": "[encoded data removed]",
            "text/plain": [
              "<Figure size 432x288 with 1 Axes>"
            ]
          },
          "metadata": {
            "needs_background": "light"
          },
          "output_type": "display_data"
        }
      ],
      "source": [
        "k = 6                         # 군집 갯수\n",
        "model_km = KMeans(n_clusters=k)\n",
        "\n",
        "model_km.fit(X)\n",
        "y_pred = model_km.predict(X)\n",
        "\n",
        "plt.figure()\n",
        "\n",
        "plt.title( 'Clustering of Customers, k=' + str(k) )\n",
        "plt.xlabel( X.columns[0])   # Annual_Income\n",
        "plt.ylabel( X.columns[1])   # Spending_Score\n",
        "\n",
        "colors = ['C0','C1','C2','C3','C4','C5','C6','C7','C8','C9']\n",
        "\n",
        "for i in range(k) :\n",
        "    plt.scatter( X.iloc[model_km.labels_==i, 0],\n",
        "                 X.iloc[model_km.labels_==i, 1],\n",
        "                 c = colors[i%10],  label = 'Cluster '+ str(i) )\n",
        "\n",
        "plt.scatter( model_km.cluster_centers_[:, 0],\n",
        "             model_km.cluster_centers_[:, 1],\n",
        "             c='black', marker='*', s=200, label='Centroids' )\n",
        "\n",
        "plt.legend()\n",
        "plt.show()"
      ]
    },
    {
      "cell_type": "markdown",
      "metadata": {
        "id": "kfgXURGlneAl"
      },
      "source": [
        "## <font color=blue>**[도전과제]**</font>\n",
        "- 나이와 소비 지수를 기준으로 군집화하여 특성이 비슷한 고객을 그룹화해 본다.\n",
        "\n",
        "▶ **도전과제 확인 사항**\n",
        "\n",
        "1.   [프로젝트 이어서 도전과제 실행하는 경우]\n",
        "\n",
        " *   STEP0 ~ STEP2까지 코드 실행하지 않음\n",
        "\n",
        "2.   [파일을 닫았다가 새로 파일을 열어 도전과제 수행 하는 경우]\n",
        "\n",
        " *   STEP0부터 진행"
      ]
    },
    {
      "cell_type": "markdown",
      "metadata": {
        "id": "zbwZ45E6VQDs"
      },
      "source": [
        "### **Step 0 : 파일 다운로드하기**\n",
        "- 아래 셀을 실행시켜 프로젝트에 사용할 데이터 파일을 colab 작업환경으로 다운로드한다.\n",
        "> 'II_03_Mall_Customer.csv'"
      ]
    },
    {
      "cell_type": "code",
      "execution_count": null,
      "metadata": {
        "colab": {
          "base_uri": "https://localhost:8080/"
        },
        "id": "WQRfmT9rVgJc",
        "outputId": "f9eaf1aa-df22-4e6b-b75d-0d15cae25bdd"
      },
      "outputs": [
        {
          "name": "stdout",
          "output_type": "stream",
          "text": [
            "Downloading...\n",
            "From: https://drive.google.com/uc?id=10OpMbi6xol04ovtv4ZQD4f38fYEUODpe\n",
            "To: /content/II_03_Mall_Customers.csv\n",
            "\r  0% 0.00/3.97k [00:00<?, ?B/s]\r100% 3.97k/3.97k [00:00<00:00, 5.06MB/s]\n"
          ]
        }
      ],
      "source": [
        "!gdown 10OpMbi6xol04ovtv4ZQD4f38fYEUODpe"
      ]
    },
    {
      "cell_type": "markdown",
      "metadata": {
        "id": "iEd3vxxaVul7"
      },
      "source": [
        "## **Step 1. 라이브러리 가져오기**\n",
        "- 데이터 처리에 관한 라이브러리를 가져온다."
      ]
    },
    {
      "cell_type": "code",
      "execution_count": null,
      "metadata": {
        "id": "2vyhwsD0WrCK"
      },
      "outputs": [],
      "source": [
        "import pandas as pd"
      ]
    },
    {
      "cell_type": "markdown",
      "metadata": {
        "id": "QKBv7u2WWpN_"
      },
      "source": [
        "- K-평균 알고리즘인 KMeans 모델과 시각화를 위한 라이브러리를 가져온다."
      ]
    },
    {
      "cell_type": "code",
      "execution_count": null,
      "metadata": {
        "id": "0-vaVy4MV9sv"
      },
      "outputs": [],
      "source": [
        "from sklearn.cluster import KMeans\n",
        "import matplotlib.pyplot as plt"
      ]
    },
    {
      "cell_type": "markdown",
      "metadata": {
        "id": "HshjTp9yfXmp"
      },
      "source": [
        "### **Step 2 : 데이터 확인하기**\n",
        "- 파일을 읽어 저장 후 내용을 출력한다.\n"
      ]
    },
    {
      "cell_type": "code",
      "execution_count": null,
      "metadata": {
        "id": "yvV9YSZYXGVk"
      },
      "outputs": [],
      "source": [
        "df = pd.read_csv('II_03_Mall_Customers.csv')\n",
        "df.head()"
      ]
    },
    {
      "cell_type": "markdown",
      "metadata": {
        "id": "aoSiwKymXMNo"
      },
      "source": [
        "### **Step 3 : 데이터 준비하기**\n",
        "- 군집을 위해 df의 나이(Age)와 소비 지수(Spending_Score)를 특성 항목으로 X1에 지\n",
        "정한다."
      ]
    },
    {
      "cell_type": "code",
      "execution_count": null,
      "metadata": {
        "colab": {
          "base_uri": "https://localhost:8080/"
        },
        "id": "rw8DzrwifzjQ",
        "outputId": "5367bbdf-9f2e-402e-8030-f4912c0e60ae"
      },
      "outputs": [
        {
          "data": {
            "text/html": [
              "\n",
              "  <div id=\"df-099db625-18d4-4c2c-bd6e-b0beb57ea583\">\n",
              "    <div class=\"colab-df-container\">\n",
              "      <div>\n",
              "<style scoped>\n",
              "    .dataframe tbody tr th:only-of-type {\n",
              "        vertical-align: middle;\n",
              "    }\n",
              "\n",
              "    .dataframe tbody tr th {\n",
              "        vertical-align: top;\n",
              "    }\n",
              "\n",
              "    .dataframe thead th {\n",
              "        text-align: right;\n",
              "    }\n",
              "</style>\n",
              "<table border=\"1\" class=\"dataframe\">\n",
              "  <thead>\n",
              "    <tr style=\"text-align: right;\">\n",
              "      <th></th>\n",
              "      <th>Age</th>\n",
              "      <th>Spending_Score</th>\n",
              "    </tr>\n",
              "  </thead>\n",
              "  <tbody>\n",
              "    <tr>\n",
              "      <th>0</th>\n",
              "      <td>19</td>\n",
              "      <td>39</td>\n",
              "    </tr>\n",
              "    <tr>\n",
              "      <th>1</th>\n",
              "      <td>21</td>\n",
              "      <td>81</td>\n",
              "    </tr>\n",
              "    <tr>\n",
              "      <th>2</th>\n",
              "      <td>20</td>\n",
              "      <td>6</td>\n",
              "    </tr>\n",
              "    <tr>\n",
              "      <th>3</th>\n",
              "      <td>23</td>\n",
              "      <td>77</td>\n",
              "    </tr>\n",
              "    <tr>\n",
              "      <th>4</th>\n",
              "      <td>31</td>\n",
              "      <td>40</td>\n",
              "    </tr>\n",
              "  </tbody>\n",
              "</table>\n",
              "</div>\n",
              "      <button class=\"colab-df-convert\" onclick=\"convertToInteractive('df-099db625-18d4-4c2c-bd6e-b0beb57ea583')\"\n",
              "              title=\"Convert this dataframe to an interactive table.\"\n",
              "              style=\"display:none;\">\n",
              "        \n",
              "  <svg xmlns=\"http://www.w3.org/2000/svg\" height=\"24px\"viewBox=\"0 0 24 24\"\n",
              "       width=\"24px\">\n",
              "    <path d=\"M0 0h24v24H0V0z\" fill=\"none\"/>\n",
              "    <path d=\"M18.56 5.44l.94 2.06.94-2.06 2.06-.94-2.06-.94-.94-2.06-.94 2.06-2.06.94zm-11 1L8.5 8.5l.94-2.06 2.06-.94-2.06-.94L8.5 2.5l-.94 2.06-2.06.94zm10 10l.94 2.06.94-2.06 2.06-.94-2.06-.94-.94-2.06-.94 2.06-2.06.94z\"/><path d=\"M17.41 7.96l-1.37-1.37c-.4-.4-.92-.59-1.43-.59-.52 0-1.04.2-1.43.59L10.3 9.45l-7.72 7.72c-.78.78-.78 2.05 0 2.83L4 21.41c.39.39.9.59 1.41.59.51 0 1.02-.2 1.41-.59l7.78-7.78 2.81-2.81c.8-.78.8-2.07 0-2.86zM5.41 20L4 18.59l7.72-7.72 1.47 1.35L5.41 20z\"/>\n",
              "  </svg>\n",
              "      </button>\n",
              "      \n",
              "  <style>\n",
              "    .colab-df-container {\n",
              "      display:flex;\n",
              "      flex-wrap:wrap;\n",
              "      gap: 12px;\n",
              "    }\n",
              "\n",
              "    .colab-df-convert {\n",
              "      background-color: #E8F0FE;\n",
              "      border: none;\n",
              "      border-radius: 50%;\n",
              "      cursor: pointer;\n",
              "      display: none;\n",
              "      fill: #1967D2;\n",
              "      height: 32px;\n",
              "      padding: 0 0 0 0;\n",
              "      width: 32px;\n",
              "    }\n",
              "\n",
              "    .colab-df-convert:hover {\n",
              "      background-color: #E2EBFA;\n",
              "      box-shadow: 0px 1px 2px rgba(60, 64, 67, 0.3), 0px 1px 3px 1px rgba(60, 64, 67, 0.15);\n",
              "      fill: #174EA6;\n",
              "    }\n",
              "\n",
              "    [theme=dark] .colab-df-convert {\n",
              "      background-color: #3B4455;\n",
              "      fill: #D2E3FC;\n",
              "    }\n",
              "\n",
              "    [theme=dark] .colab-df-convert:hover {\n",
              "      background-color: #434B5C;\n",
              "      box-shadow: 0px 1px 3px 1px rgba(0, 0, 0, 0.15);\n",
              "      filter: drop-shadow(0px 1px 2px rgba(0, 0, 0, 0.3));\n",
              "      fill: #FFFFFF;\n",
              "    }\n",
              "  </style>\n",
              "\n",
              "      <script>\n",
              "        const buttonEl =\n",
              "          document.querySelector('#df-099db625-18d4-4c2c-bd6e-b0beb57ea583 button.colab-df-convert');\n",
              "        buttonEl.style.display =\n",
              "          google.colab.kernel.accessAllowed ? 'block' : 'none';\n",
              "\n",
              "        async function convertToInteractive(key) {\n",
              "          const element = document.querySelector('#df-099db625-18d4-4c2c-bd6e-b0beb57ea583');\n",
              "          const dataTable =\n",
              "            await google.colab.kernel.invokeFunction('convertToInteractive',\n",
              "                                                     [key], {});\n",
              "          if (!dataTable) return;\n",
              "\n",
              "          const docLinkHtml = 'Like what you see? Visit the ' +\n",
              "            '<a target=\"_blank\" href=https://colab.research.google.com/notebooks/data_table.ipynb>data table notebook</a>'\n",
              "            + ' to learn more about interactive tables.';\n",
              "          element.innerHTML = '';\n",
              "          dataTable['output_type'] = 'display_data';\n",
              "          await google.colab.output.renderOutput(dataTable, element);\n",
              "          const docLink = document.createElement('div');\n",
              "          docLink.innerHTML = docLinkHtml;\n",
              "          element.appendChild(docLink);\n",
              "        }\n",
              "      </script>\n",
              "    </div>\n",
              "  </div>\n",
              "  "
            ],
            "text/plain": [
              "   Age  Spending_Score\n",
              "0   19              39\n",
              "1   21              81\n",
              "2   20               6\n",
              "3   23              77\n",
              "4   31              40"
            ]
          },
          "execution_count": 30,
          "metadata": {},
          "output_type": "execute_result"
        }
      ],
      "source": [
        "X1 = #코드작성\n",
        "X1.head()"
      ]
    },
    {
      "cell_type": "markdown",
      "metadata": {
        "id": "MTKN6uAMObcB"
      },
      "source": [
        "### **Step 4 : 모델 객체 생성하고 학습하기**\n",
        "- 군집의 개수를 4로 정하고 KMeans 모델을 만들어 학습한다."
      ]
    },
    {
      "cell_type": "code",
      "execution_count": null,
      "metadata": {
        "colab": {
          "base_uri": "https://localhost:8080/"
        },
        "id": "gDgE4BULRPC-",
        "outputId": "cfe5b050-17e0-4616-81cc-8b1e698052d5"
      },
      "outputs": [
        {
          "data": {
            "text/plain": [
              "KMeans(n_clusters=4)"
            ]
          },
          "execution_count": 31,
          "metadata": {},
          "output_type": "execute_result"
        }
      ],
      "source": [
        "k = #코드작성\n",
        "model_km = #코드작성\n",
        "\n",
        "#코드작성"
      ]
    },
    {
      "cell_type": "markdown",
      "metadata": {
        "id": "P0rHrSYKXeIO"
      },
      "source": [
        "### **Step 5 : 시각화 및 성능 평가**\n",
        "**1) 군집 결과 시각화하기**\n",
        "- 군집 결과를 그래프를 그려 확인한다."
      ]
    },
    {
      "cell_type": "code",
      "execution_count": null,
      "metadata": {
        "colab": {
          "base_uri": "https://localhost:8080/",
          "height": 295
        },
        "id": "lUIUuG7mn7aQ",
        "outputId": "e19a7885-ab95-4d36-cf04-95394922fec6"
      },
      "outputs": [
        {
          "data": {
            "image/png": "[encoded data removed]",
            "text/plain": [
              "<Figure size 432x288 with 1 Axes>"
            ]
          },
          "metadata": {
            "needs_background": "light"
          },
          "output_type": "display_data"
        }
      ],
      "source": [
        "plt.figure()\n",
        "\n",
        "plt.title( 'Clustering of Customers, k=' + str(k) )\n",
        "plt.xlabel( #코드작성  )   # Age\n",
        "plt.ylabel( #코드작성  )   # Spending_Score\n",
        "\n",
        "colors = ['C0','C1','C2','C3','C4','C5','C6','C7','C8','C9']\n",
        "\n",
        "for i in range(k) :\n",
        "    plt.scatter( X1.iloc[#코드작성  , 0],\n",
        "                 X1.iloc[#코드작성  , 1],\n",
        "                 c = colors[i%10],  label = 'Cluster '+ str(i) )\n",
        "\n",
        "plt.scatter( #코드작성[:, 0],\n",
        "             #코드작성[:, 1],\n",
        "             c='black', marker='*', s=200, label='Centroids' )\n",
        "\n",
        "plt.legend()\n",
        "plt.show()"
      ]
    },
    {
      "cell_type": "markdown",
      "metadata": {
        "id": "Th5z3LhmFqKM"
      },
      "source": [
        "2) 모델 평가하기\n",
        "- 실루엣 지수(Silhouette Score)를 이용하여 전체 데이터의 군집화가 잘 이루어졌는지 평가한다."
      ]
    },
    {
      "cell_type": "code",
      "execution_count": null,
      "metadata": {
        "id": "lFJFNmvZFtwu"
      },
      "outputs": [],
      "source": [
        "from sklearn.metrics import silhouette_score\n",
        "#코드작성"
      ]
    }
  ],
  "metadata": {
    "colab": {
      "provenance": []
    },
    "kernelspec": {
      "display_name": "Python 3",
      "name": "python3"
    },
    "language_info": {
      "name": "python"
    }
  },
  "nbformat": 4,
  "nbformat_minor": 0
}
