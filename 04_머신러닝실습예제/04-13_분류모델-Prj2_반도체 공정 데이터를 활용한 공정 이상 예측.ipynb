{
 "cells": [
  {
   "cell_type": "markdown",
   "metadata": {
    "id": "F99EcLP0vhdX"
   },
   "source": [
    "# [Project ] 반도체 공정 데이터를 활용한 공정 이상 예측"
   ]
  },
  {
   "cell_type": "markdown",
   "metadata": {
    "id": "7Tl6EFp3vhdZ"
   },
   "source": [
    "---"
   ]
  },
  {
   "cell_type": "markdown",
   "metadata": {
    "id": "g4aOvju8vhda"
   },
   "source": [
    "## 프로젝트 목표\n",
    "- 반도체 공정 데이터 분석을 통하여 공정 이상을 예측하는 분류 모델 수행\n",
    "- 공정 이상에 영향을 미치는 요소들에 대한 데이터 분석"
   ]
  },
  {
   "cell_type": "markdown",
   "metadata": {
    "id": "v6ibxqR4vhda"
   },
   "source": [
    "---"
   ]
  },
  {
   "cell_type": "markdown",
   "metadata": {
    "id": "sNFdd5uKvhdb"
   },
   "source": [
    "## 프로젝트 목차\n",
    "\n",
    "1. **데이터 읽기:** 반도체 공정(SECOM) 데이터를 불러오고 Dataframe 구조를 확인<br>\n",
    "\n",
    "\n",
    "2. **데이터 정제:** 비어 있는 데이터 또는 쓸모 없는 데이터를 대체<br>\n",
    "\n",
    "\n",
    "3. **데이터 시각화:** 변수 시각화를 통하여 분포 파악<br>\n",
    "    3.1. Pass/Fail 시각화<br>\n",
    "    3.2. 센서 데이터 시각화 하기<br>\n",
    "    3.3. 59번 센서 데이터 시각화 하기<br>\n",
    "\n",
    "\n",
    "4. **데이터 전 처리:** 머신러닝 모델에 필요한 입력값 형식으로 데이터 처리<br>\n",
    "    4.1. x와 y로 분리<br>\n",
    "    4.2. 데이터 정규화<br>\n",
    "\n",
    "\n",
    "5. **머신러닝 모델 학습:** 분류 모델을 사용하여 학습 수행<br>\n",
    "    5.1. 기본 분류 모델 학습 - 로지스틱 분류기<br>\n",
    "    5.2. 다양한 분류 모델 학습<br>\n",
    "\n",
    "\n",
    "6. **평가 및 예측:** 학습된 모델을 바탕으로 평가 및 예측 수행<br>\n",
    "    6.1. Confusion Matrix<br>\n",
    "    6.2. Precision & Recall<br>\n",
    "    6.3. 테스트 데이터의 예측값 출력<br>\n",
    "\n"
   ]
  },
  {
   "cell_type": "markdown",
   "metadata": {
    "id": "bClR1wKFvhdb"
   },
   "source": [
    "---"
   ]
  },
  {
   "cell_type": "markdown",
   "metadata": {
    "id": "7Tl4aZZRvhdb"
   },
   "source": [
    "## 데이터 출처\n",
    "- https://archive.ics.uci.edu/ml/datasets/SECOM"
   ]
  },
  {
   "cell_type": "markdown",
   "metadata": {
    "id": "FFl8LR8Uvhdb"
   },
   "source": [
    "---"
   ]
  },
  {
   "cell_type": "markdown",
   "metadata": {
    "id": "SODjkC-Mvhdb"
   },
   "source": [
    "## 프로젝트 개요\n",
    "\n",
    "제조 분야의 디지털 트랜스포메이션이 진행되면서 제조 공정에서 일어나는 수많은 정보가 데이터로 정리되고 있습니다. 제조 공정의 이상을 탐지 분야는 이러한 데이터 바탕으로 구현되는 인공지능 기술로 기존 확률 기반의 예측보다 높은 효율을 내고 있습니다. 이러한 이상 탐지 알고리즘은 불량률을 예측하는 것 뿐만 아니라 어떠한 요소가 불량품을 나오게 하는지 그 원인을 파악하는데 또한 도움을 줄 수 있습니다. 따라서 제조 분야에서의 인공지능을 활용한 이상 탐지는 계속 연구되고 있으며 빠르게 적용되며 그 효율을 보여주고 있습니다.\n",
    "\n",
    "이번 실습에서는 UCI에서 제공하는 SECOM 공정에서 측정된 센서 데이터를 기반으로 한 데이터를 바탕으로 공정 이상을 예측해보는 분류 모델을 구현합니다. 이를 활용하여 센서 데이터가 주어 졌을 때 공정 이상이 생기는지를 예측할 수 있으며, 공정 이상 시 어떠한 센서들이 중요한 역할을 하는지 알아봅니다."
   ]
  },
  {
   "cell_type": "markdown",
   "metadata": {
    "id": "ZTWqyH54vhdb"
   },
   "source": [
    "---"
   ]
  },
  {
   "cell_type": "markdown",
   "metadata": {
    "id": "xcagzXvuvhdb"
   },
   "source": [
    "- 데이터 다운로드하기"
   ]
  },
  {
   "cell_type": "code",
   "execution_count": null,
   "metadata": {
    "colab": {
     "base_uri": "https://localhost:8080/"
    },
    "executionInfo": {
     "elapsed": 5695,
     "status": "ok",
     "timestamp": 1735196291439,
     "user": {
      "displayName": "강희숙",
      "userId": "05520711596090317319"
     },
     "user_tz": -540
    },
    "id": "NW_fkkzivj9R",
    "outputId": "7d446837-ccc6-4dc9-cec6-6c0c4c996cca"
   },
   "outputs": [
    {
     "name": "stdout",
     "output_type": "stream",
     "text": [
      "Downloading...\n",
      "From: https://drive.google.com/uc?id=1Bidb3xuhe1gGDR-gPOKuNzlfFPVKheYL\n",
      "To: /content/Classification_Prj2_data.zip\n",
      "\r  0% 0.00/4.26M [00:00<?, ?B/s]\r100% 4.26M/4.26M [00:00<00:00, 50.2MB/s]\n"
     ]
    }
   ],
   "source": [
    "# colab 에서 사용시시\n",
    "#!gdown 1Bidb3xuhe1gGDR-gPOKuNzlfFPVKheYL"
   ]
  },
  {
   "cell_type": "markdown",
   "metadata": {
    "id": "HS0J3unywKT6"
   },
   "source": [
    "- 다운로드한 압축파일 압축해제하기"
   ]
  },
  {
   "cell_type": "code",
   "execution_count": null,
   "metadata": {
    "id": "KNr8bXR5wEaO"
   },
   "outputs": [],
   "source": [
    "#!unzip -qq 'Classification_Prj2_data.zip'"
   ]
  },
  {
   "cell_type": "markdown",
   "metadata": {
    "id": "8UmfLQE5vhdb"
   },
   "source": [
    "## 1.데이터 읽기"
   ]
  },
  {
   "cell_type": "markdown",
   "metadata": {
    "id": "n3h4yoOrvhdb"
   },
   "source": [
    "pandas를 사용하여 `uci-secom.csv` 데이터를 읽고 dataframe 형태로 저장해 봅시다."
   ]
  },
  {
   "cell_type": "code",
   "execution_count": 1,
   "metadata": {
    "ExecuteTime": {
     "end_time": "2021-07-21T07:28:25.505639Z",
     "start_time": "2021-07-21T07:28:23.672551Z"
    },
    "id": "KPKDV_gpvhdb"
   },
   "outputs": [],
   "source": [
    "import numpy as np\n",
    "import pandas as pd\n",
    "import matplotlib.pyplot as plt\n",
    "import seaborn as sns"
   ]
  },
  {
   "cell_type": "code",
   "execution_count": 3,
   "metadata": {
    "ExecuteTime": {
     "end_time": "2021-07-21T07:28:25.790642Z",
     "start_time": "2021-07-21T07:28:25.556650Z"
    },
    "id": "Bnypq_ufvhdc",
    "scrolled": true
   },
   "outputs": [],
   "source": [
    "# data 폴더 내의 uci-secom.csv 데이터를 pandas를 사용하여 dataframe 형태로 불러옵니다.\n",
    "data = pd.read_csv('data/secom_data/uci-secom.csv')"
   ]
  },
  {
   "cell_type": "code",
   "execution_count": null,
   "metadata": {
    "id": "7gutqbhgvhdc",
    "outputId": "c564c40c-95fd-4cd7-ae8c-d487d38ee5dd"
   },
   "outputs": [
    {
     "data": {
      "text/html": [
       "<div>\n",
       "<style scoped>\n",
       "    .dataframe tbody tr th:only-of-type {\n",
       "        vertical-align: middle;\n",
       "    }\n",
       "\n",
       "    .dataframe tbody tr th {\n",
       "        vertical-align: top;\n",
       "    }\n",
       "\n",
       "    .dataframe thead th {\n",
       "        text-align: right;\n",
       "    }\n",
       "</style>\n",
       "<table border=\"1\" class=\"dataframe\">\n",
       "  <thead>\n",
       "    <tr style=\"text-align: right;\">\n",
       "      <th></th>\n",
       "      <th>Time</th>\n",
       "      <th>0</th>\n",
       "      <th>1</th>\n",
       "      <th>2</th>\n",
       "      <th>3</th>\n",
       "      <th>4</th>\n",
       "      <th>5</th>\n",
       "      <th>6</th>\n",
       "      <th>7</th>\n",
       "      <th>8</th>\n",
       "      <th>...</th>\n",
       "      <th>581</th>\n",
       "      <th>582</th>\n",
       "      <th>583</th>\n",
       "      <th>584</th>\n",
       "      <th>585</th>\n",
       "      <th>586</th>\n",
       "      <th>587</th>\n",
       "      <th>588</th>\n",
       "      <th>589</th>\n",
       "      <th>Pass/Fail</th>\n",
       "    </tr>\n",
       "  </thead>\n",
       "  <tbody>\n",
       "    <tr>\n",
       "      <th>0</th>\n",
       "      <td>2008-07-19 11:55:00</td>\n",
       "      <td>3030.93</td>\n",
       "      <td>2564.00</td>\n",
       "      <td>2187.7333</td>\n",
       "      <td>1411.1265</td>\n",
       "      <td>1.3602</td>\n",
       "      <td>100.0</td>\n",
       "      <td>97.6133</td>\n",
       "      <td>0.1242</td>\n",
       "      <td>1.5005</td>\n",
       "      <td>...</td>\n",
       "      <td>NaN</td>\n",
       "      <td>0.5005</td>\n",
       "      <td>0.0118</td>\n",
       "      <td>0.0035</td>\n",
       "      <td>2.3630</td>\n",
       "      <td>NaN</td>\n",
       "      <td>NaN</td>\n",
       "      <td>NaN</td>\n",
       "      <td>NaN</td>\n",
       "      <td>-1</td>\n",
       "    </tr>\n",
       "    <tr>\n",
       "      <th>1</th>\n",
       "      <td>2008-07-19 12:32:00</td>\n",
       "      <td>3095.78</td>\n",
       "      <td>2465.14</td>\n",
       "      <td>2230.4222</td>\n",
       "      <td>1463.6606</td>\n",
       "      <td>0.8294</td>\n",
       "      <td>100.0</td>\n",
       "      <td>102.3433</td>\n",
       "      <td>0.1247</td>\n",
       "      <td>1.4966</td>\n",
       "      <td>...</td>\n",
       "      <td>208.2045</td>\n",
       "      <td>0.5019</td>\n",
       "      <td>0.0223</td>\n",
       "      <td>0.0055</td>\n",
       "      <td>4.4447</td>\n",
       "      <td>0.0096</td>\n",
       "      <td>0.0201</td>\n",
       "      <td>0.0060</td>\n",
       "      <td>208.2045</td>\n",
       "      <td>-1</td>\n",
       "    </tr>\n",
       "    <tr>\n",
       "      <th>2</th>\n",
       "      <td>2008-07-19 13:17:00</td>\n",
       "      <td>2932.61</td>\n",
       "      <td>2559.94</td>\n",
       "      <td>2186.4111</td>\n",
       "      <td>1698.0172</td>\n",
       "      <td>1.5102</td>\n",
       "      <td>100.0</td>\n",
       "      <td>95.4878</td>\n",
       "      <td>0.1241</td>\n",
       "      <td>1.4436</td>\n",
       "      <td>...</td>\n",
       "      <td>82.8602</td>\n",
       "      <td>0.4958</td>\n",
       "      <td>0.0157</td>\n",
       "      <td>0.0039</td>\n",
       "      <td>3.1745</td>\n",
       "      <td>0.0584</td>\n",
       "      <td>0.0484</td>\n",
       "      <td>0.0148</td>\n",
       "      <td>82.8602</td>\n",
       "      <td>1</td>\n",
       "    </tr>\n",
       "    <tr>\n",
       "      <th>3</th>\n",
       "      <td>2008-07-19 14:43:00</td>\n",
       "      <td>2988.72</td>\n",
       "      <td>2479.90</td>\n",
       "      <td>2199.0333</td>\n",
       "      <td>909.7926</td>\n",
       "      <td>1.3204</td>\n",
       "      <td>100.0</td>\n",
       "      <td>104.2367</td>\n",
       "      <td>0.1217</td>\n",
       "      <td>1.4882</td>\n",
       "      <td>...</td>\n",
       "      <td>73.8432</td>\n",
       "      <td>0.4990</td>\n",
       "      <td>0.0103</td>\n",
       "      <td>0.0025</td>\n",
       "      <td>2.0544</td>\n",
       "      <td>0.0202</td>\n",
       "      <td>0.0149</td>\n",
       "      <td>0.0044</td>\n",
       "      <td>73.8432</td>\n",
       "      <td>-1</td>\n",
       "    </tr>\n",
       "    <tr>\n",
       "      <th>4</th>\n",
       "      <td>2008-07-19 15:22:00</td>\n",
       "      <td>3032.24</td>\n",
       "      <td>2502.87</td>\n",
       "      <td>2233.3667</td>\n",
       "      <td>1326.5200</td>\n",
       "      <td>1.5334</td>\n",
       "      <td>100.0</td>\n",
       "      <td>100.3967</td>\n",
       "      <td>0.1235</td>\n",
       "      <td>1.5031</td>\n",
       "      <td>...</td>\n",
       "      <td>NaN</td>\n",
       "      <td>0.4800</td>\n",
       "      <td>0.4766</td>\n",
       "      <td>0.1045</td>\n",
       "      <td>99.3032</td>\n",
       "      <td>0.0202</td>\n",
       "      <td>0.0149</td>\n",
       "      <td>0.0044</td>\n",
       "      <td>73.8432</td>\n",
       "      <td>-1</td>\n",
       "    </tr>\n",
       "  </tbody>\n",
       "</table>\n",
       "<p>5 rows × 592 columns</p>\n",
       "</div>"
      ],
      "text/plain": [
       "                  Time        0        1          2          3       4      5  \\\n",
       "0  2008-07-19 11:55:00  3030.93  2564.00  2187.7333  1411.1265  1.3602  100.0   \n",
       "1  2008-07-19 12:32:00  3095.78  2465.14  2230.4222  1463.6606  0.8294  100.0   \n",
       "2  2008-07-19 13:17:00  2932.61  2559.94  2186.4111  1698.0172  1.5102  100.0   \n",
       "3  2008-07-19 14:43:00  2988.72  2479.90  2199.0333   909.7926  1.3204  100.0   \n",
       "4  2008-07-19 15:22:00  3032.24  2502.87  2233.3667  1326.5200  1.5334  100.0   \n",
       "\n",
       "          6       7       8  ...       581     582     583     584      585  \\\n",
       "0   97.6133  0.1242  1.5005  ...       NaN  0.5005  0.0118  0.0035   2.3630   \n",
       "1  102.3433  0.1247  1.4966  ...  208.2045  0.5019  0.0223  0.0055   4.4447   \n",
       "2   95.4878  0.1241  1.4436  ...   82.8602  0.4958  0.0157  0.0039   3.1745   \n",
       "3  104.2367  0.1217  1.4882  ...   73.8432  0.4990  0.0103  0.0025   2.0544   \n",
       "4  100.3967  0.1235  1.5031  ...       NaN  0.4800  0.4766  0.1045  99.3032   \n",
       "\n",
       "      586     587     588       589  Pass/Fail  \n",
       "0     NaN     NaN     NaN       NaN         -1  \n",
       "1  0.0096  0.0201  0.0060  208.2045         -1  \n",
       "2  0.0584  0.0484  0.0148   82.8602          1  \n",
       "3  0.0202  0.0149  0.0044   73.8432         -1  \n",
       "4  0.0202  0.0149  0.0044   73.8432         -1  \n",
       "\n",
       "[5 rows x 592 columns]"
      ]
     },
     "execution_count": 3,
     "metadata": {},
     "output_type": "execute_result"
    }
   ],
   "source": [
    "# 5개의 행을 확인합니다. head()를 사용합니다. head() 안에 숫자를 넣을 수 있습니다.\n",
    "data.head()"
   ]
  },
  {
   "cell_type": "code",
   "execution_count": null,
   "metadata": {
    "id": "EJLGN5JFvhdc",
    "outputId": "35cf3021-1bf7-42f2-e636-63c13657678e",
    "scrolled": true
   },
   "outputs": [
    {
     "name": "stdout",
     "output_type": "stream",
     "text": [
      "<class 'pandas.core.frame.DataFrame'>\n",
      "RangeIndex: 1567 entries, 0 to 1566\n",
      "Columns: 592 entries, Time to Pass/Fail\n",
      "dtypes: float64(590), int64(1), object(1)\n",
      "memory usage: 7.1+ MB\n",
      "None\n",
      "(1567, 592)\n"
     ]
    }
   ],
   "source": [
    "print(data.info())\n",
    "print(data.shape)"
   ]
  },
  {
   "cell_type": "code",
   "execution_count": null,
   "metadata": {
    "id": "6HUnLidPvhdc",
    "outputId": "a695582a-f44e-4c86-b0df-b67c77e40b12",
    "scrolled": true
   },
   "outputs": [
    {
     "data": {
      "text/html": [
       "<div>\n",
       "<style scoped>\n",
       "    .dataframe tbody tr th:only-of-type {\n",
       "        vertical-align: middle;\n",
       "    }\n",
       "\n",
       "    .dataframe tbody tr th {\n",
       "        vertical-align: top;\n",
       "    }\n",
       "\n",
       "    .dataframe thead th {\n",
       "        text-align: right;\n",
       "    }\n",
       "</style>\n",
       "<table border=\"1\" class=\"dataframe\">\n",
       "  <thead>\n",
       "    <tr style=\"text-align: right;\">\n",
       "      <th></th>\n",
       "      <th>0</th>\n",
       "      <th>1</th>\n",
       "      <th>2</th>\n",
       "      <th>3</th>\n",
       "      <th>4</th>\n",
       "      <th>5</th>\n",
       "      <th>6</th>\n",
       "      <th>7</th>\n",
       "      <th>8</th>\n",
       "      <th>9</th>\n",
       "      <th>...</th>\n",
       "      <th>581</th>\n",
       "      <th>582</th>\n",
       "      <th>583</th>\n",
       "      <th>584</th>\n",
       "      <th>585</th>\n",
       "      <th>586</th>\n",
       "      <th>587</th>\n",
       "      <th>588</th>\n",
       "      <th>589</th>\n",
       "      <th>Pass/Fail</th>\n",
       "    </tr>\n",
       "  </thead>\n",
       "  <tbody>\n",
       "    <tr>\n",
       "      <th>count</th>\n",
       "      <td>1561.000000</td>\n",
       "      <td>1560.000000</td>\n",
       "      <td>1553.000000</td>\n",
       "      <td>1553.000000</td>\n",
       "      <td>1553.000000</td>\n",
       "      <td>1553.0</td>\n",
       "      <td>1553.000000</td>\n",
       "      <td>1558.000000</td>\n",
       "      <td>1565.000000</td>\n",
       "      <td>1565.000000</td>\n",
       "      <td>...</td>\n",
       "      <td>618.000000</td>\n",
       "      <td>1566.000000</td>\n",
       "      <td>1566.000000</td>\n",
       "      <td>1566.000000</td>\n",
       "      <td>1566.000000</td>\n",
       "      <td>1566.000000</td>\n",
       "      <td>1566.000000</td>\n",
       "      <td>1566.000000</td>\n",
       "      <td>1566.000000</td>\n",
       "      <td>1567.000000</td>\n",
       "    </tr>\n",
       "    <tr>\n",
       "      <th>mean</th>\n",
       "      <td>3014.452896</td>\n",
       "      <td>2495.850231</td>\n",
       "      <td>2200.547318</td>\n",
       "      <td>1396.376627</td>\n",
       "      <td>4.197013</td>\n",
       "      <td>100.0</td>\n",
       "      <td>101.112908</td>\n",
       "      <td>0.121822</td>\n",
       "      <td>1.462862</td>\n",
       "      <td>-0.000841</td>\n",
       "      <td>...</td>\n",
       "      <td>97.934373</td>\n",
       "      <td>0.500096</td>\n",
       "      <td>0.015318</td>\n",
       "      <td>0.003847</td>\n",
       "      <td>3.067826</td>\n",
       "      <td>0.021458</td>\n",
       "      <td>0.016475</td>\n",
       "      <td>0.005283</td>\n",
       "      <td>99.670066</td>\n",
       "      <td>-0.867262</td>\n",
       "    </tr>\n",
       "    <tr>\n",
       "      <th>std</th>\n",
       "      <td>73.621787</td>\n",
       "      <td>80.407705</td>\n",
       "      <td>29.513152</td>\n",
       "      <td>441.691640</td>\n",
       "      <td>56.355540</td>\n",
       "      <td>0.0</td>\n",
       "      <td>6.237214</td>\n",
       "      <td>0.008961</td>\n",
       "      <td>0.073897</td>\n",
       "      <td>0.015116</td>\n",
       "      <td>...</td>\n",
       "      <td>87.520966</td>\n",
       "      <td>0.003404</td>\n",
       "      <td>0.017180</td>\n",
       "      <td>0.003720</td>\n",
       "      <td>3.578033</td>\n",
       "      <td>0.012358</td>\n",
       "      <td>0.008808</td>\n",
       "      <td>0.002867</td>\n",
       "      <td>93.891919</td>\n",
       "      <td>0.498010</td>\n",
       "    </tr>\n",
       "    <tr>\n",
       "      <th>min</th>\n",
       "      <td>2743.240000</td>\n",
       "      <td>2158.750000</td>\n",
       "      <td>2060.660000</td>\n",
       "      <td>0.000000</td>\n",
       "      <td>0.681500</td>\n",
       "      <td>100.0</td>\n",
       "      <td>82.131100</td>\n",
       "      <td>0.000000</td>\n",
       "      <td>1.191000</td>\n",
       "      <td>-0.053400</td>\n",
       "      <td>...</td>\n",
       "      <td>0.000000</td>\n",
       "      <td>0.477800</td>\n",
       "      <td>0.006000</td>\n",
       "      <td>0.001700</td>\n",
       "      <td>1.197500</td>\n",
       "      <td>-0.016900</td>\n",
       "      <td>0.003200</td>\n",
       "      <td>0.001000</td>\n",
       "      <td>0.000000</td>\n",
       "      <td>-1.000000</td>\n",
       "    </tr>\n",
       "    <tr>\n",
       "      <th>25%</th>\n",
       "      <td>2966.260000</td>\n",
       "      <td>2452.247500</td>\n",
       "      <td>2181.044400</td>\n",
       "      <td>1081.875800</td>\n",
       "      <td>1.017700</td>\n",
       "      <td>100.0</td>\n",
       "      <td>97.920000</td>\n",
       "      <td>0.121100</td>\n",
       "      <td>1.411200</td>\n",
       "      <td>-0.010800</td>\n",
       "      <td>...</td>\n",
       "      <td>46.184900</td>\n",
       "      <td>0.497900</td>\n",
       "      <td>0.011600</td>\n",
       "      <td>0.003100</td>\n",
       "      <td>2.306500</td>\n",
       "      <td>0.013425</td>\n",
       "      <td>0.010600</td>\n",
       "      <td>0.003300</td>\n",
       "      <td>44.368600</td>\n",
       "      <td>-1.000000</td>\n",
       "    </tr>\n",
       "    <tr>\n",
       "      <th>50%</th>\n",
       "      <td>3011.490000</td>\n",
       "      <td>2499.405000</td>\n",
       "      <td>2201.066700</td>\n",
       "      <td>1285.214400</td>\n",
       "      <td>1.316800</td>\n",
       "      <td>100.0</td>\n",
       "      <td>101.512200</td>\n",
       "      <td>0.122400</td>\n",
       "      <td>1.461600</td>\n",
       "      <td>-0.001300</td>\n",
       "      <td>...</td>\n",
       "      <td>72.288900</td>\n",
       "      <td>0.500200</td>\n",
       "      <td>0.013800</td>\n",
       "      <td>0.003600</td>\n",
       "      <td>2.757650</td>\n",
       "      <td>0.020500</td>\n",
       "      <td>0.014800</td>\n",
       "      <td>0.004600</td>\n",
       "      <td>71.900500</td>\n",
       "      <td>-1.000000</td>\n",
       "    </tr>\n",
       "    <tr>\n",
       "      <th>75%</th>\n",
       "      <td>3056.650000</td>\n",
       "      <td>2538.822500</td>\n",
       "      <td>2218.055500</td>\n",
       "      <td>1591.223500</td>\n",
       "      <td>1.525700</td>\n",
       "      <td>100.0</td>\n",
       "      <td>104.586700</td>\n",
       "      <td>0.123800</td>\n",
       "      <td>1.516900</td>\n",
       "      <td>0.008400</td>\n",
       "      <td>...</td>\n",
       "      <td>116.539150</td>\n",
       "      <td>0.502375</td>\n",
       "      <td>0.016500</td>\n",
       "      <td>0.004100</td>\n",
       "      <td>3.295175</td>\n",
       "      <td>0.027600</td>\n",
       "      <td>0.020300</td>\n",
       "      <td>0.006400</td>\n",
       "      <td>114.749700</td>\n",
       "      <td>-1.000000</td>\n",
       "    </tr>\n",
       "    <tr>\n",
       "      <th>max</th>\n",
       "      <td>3356.350000</td>\n",
       "      <td>2846.440000</td>\n",
       "      <td>2315.266700</td>\n",
       "      <td>3715.041700</td>\n",
       "      <td>1114.536600</td>\n",
       "      <td>100.0</td>\n",
       "      <td>129.252200</td>\n",
       "      <td>0.128600</td>\n",
       "      <td>1.656400</td>\n",
       "      <td>0.074900</td>\n",
       "      <td>...</td>\n",
       "      <td>737.304800</td>\n",
       "      <td>0.509800</td>\n",
       "      <td>0.476600</td>\n",
       "      <td>0.104500</td>\n",
       "      <td>99.303200</td>\n",
       "      <td>0.102800</td>\n",
       "      <td>0.079900</td>\n",
       "      <td>0.028600</td>\n",
       "      <td>737.304800</td>\n",
       "      <td>1.000000</td>\n",
       "    </tr>\n",
       "  </tbody>\n",
       "</table>\n",
       "<p>8 rows × 591 columns</p>\n",
       "</div>"
      ],
      "text/plain": [
       "                 0            1            2            3            4  \\\n",
       "count  1561.000000  1560.000000  1553.000000  1553.000000  1553.000000   \n",
       "mean   3014.452896  2495.850231  2200.547318  1396.376627     4.197013   \n",
       "std      73.621787    80.407705    29.513152   441.691640    56.355540   \n",
       "min    2743.240000  2158.750000  2060.660000     0.000000     0.681500   \n",
       "25%    2966.260000  2452.247500  2181.044400  1081.875800     1.017700   \n",
       "50%    3011.490000  2499.405000  2201.066700  1285.214400     1.316800   \n",
       "75%    3056.650000  2538.822500  2218.055500  1591.223500     1.525700   \n",
       "max    3356.350000  2846.440000  2315.266700  3715.041700  1114.536600   \n",
       "\n",
       "            5            6            7            8            9  ...  \\\n",
       "count  1553.0  1553.000000  1558.000000  1565.000000  1565.000000  ...   \n",
       "mean    100.0   101.112908     0.121822     1.462862    -0.000841  ...   \n",
       "std       0.0     6.237214     0.008961     0.073897     0.015116  ...   \n",
       "min     100.0    82.131100     0.000000     1.191000    -0.053400  ...   \n",
       "25%     100.0    97.920000     0.121100     1.411200    -0.010800  ...   \n",
       "50%     100.0   101.512200     0.122400     1.461600    -0.001300  ...   \n",
       "75%     100.0   104.586700     0.123800     1.516900     0.008400  ...   \n",
       "max     100.0   129.252200     0.128600     1.656400     0.074900  ...   \n",
       "\n",
       "              581          582          583          584          585  \\\n",
       "count  618.000000  1566.000000  1566.000000  1566.000000  1566.000000   \n",
       "mean    97.934373     0.500096     0.015318     0.003847     3.067826   \n",
       "std     87.520966     0.003404     0.017180     0.003720     3.578033   \n",
       "min      0.000000     0.477800     0.006000     0.001700     1.197500   \n",
       "25%     46.184900     0.497900     0.011600     0.003100     2.306500   \n",
       "50%     72.288900     0.500200     0.013800     0.003600     2.757650   \n",
       "75%    116.539150     0.502375     0.016500     0.004100     3.295175   \n",
       "max    737.304800     0.509800     0.476600     0.104500    99.303200   \n",
       "\n",
       "               586          587          588          589    Pass/Fail  \n",
       "count  1566.000000  1566.000000  1566.000000  1566.000000  1567.000000  \n",
       "mean      0.021458     0.016475     0.005283    99.670066    -0.867262  \n",
       "std       0.012358     0.008808     0.002867    93.891919     0.498010  \n",
       "min      -0.016900     0.003200     0.001000     0.000000    -1.000000  \n",
       "25%       0.013425     0.010600     0.003300    44.368600    -1.000000  \n",
       "50%       0.020500     0.014800     0.004600    71.900500    -1.000000  \n",
       "75%       0.027600     0.020300     0.006400   114.749700    -1.000000  \n",
       "max       0.102800     0.079900     0.028600   737.304800     1.000000  \n",
       "\n",
       "[8 rows x 591 columns]"
      ]
     },
     "execution_count": 5,
     "metadata": {},
     "output_type": "execute_result"
    }
   ],
   "source": [
    "# 수치형 변수의 데이터 정보를 요약하여 출력합니다.\n",
    "data.describe()"
   ]
  },
  {
   "cell_type": "code",
   "execution_count": null,
   "metadata": {
    "id": "1NIPNaETvhdc",
    "outputId": "341febf9-72ca-44b3-e47a-55b260562956"
   },
   "outputs": [
    {
     "data": {
      "text/html": [
       "<div>\n",
       "<style scoped>\n",
       "    .dataframe tbody tr th:only-of-type {\n",
       "        vertical-align: middle;\n",
       "    }\n",
       "\n",
       "    .dataframe tbody tr th {\n",
       "        vertical-align: top;\n",
       "    }\n",
       "\n",
       "    .dataframe thead th {\n",
       "        text-align: right;\n",
       "    }\n",
       "</style>\n",
       "<table border=\"1\" class=\"dataframe\">\n",
       "  <thead>\n",
       "    <tr style=\"text-align: right;\">\n",
       "      <th></th>\n",
       "      <th>count</th>\n",
       "      <th>mean</th>\n",
       "      <th>std</th>\n",
       "      <th>min</th>\n",
       "      <th>25%</th>\n",
       "      <th>50%</th>\n",
       "      <th>75%</th>\n",
       "      <th>max</th>\n",
       "    </tr>\n",
       "  </thead>\n",
       "  <tbody>\n",
       "    <tr>\n",
       "      <th>0</th>\n",
       "      <td>1561.0</td>\n",
       "      <td>3014.452896</td>\n",
       "      <td>73.621787</td>\n",
       "      <td>2743.2400</td>\n",
       "      <td>2966.260000</td>\n",
       "      <td>3011.4900</td>\n",
       "      <td>3056.6500</td>\n",
       "      <td>3356.3500</td>\n",
       "    </tr>\n",
       "    <tr>\n",
       "      <th>1</th>\n",
       "      <td>1560.0</td>\n",
       "      <td>2495.850231</td>\n",
       "      <td>80.407705</td>\n",
       "      <td>2158.7500</td>\n",
       "      <td>2452.247500</td>\n",
       "      <td>2499.4050</td>\n",
       "      <td>2538.8225</td>\n",
       "      <td>2846.4400</td>\n",
       "    </tr>\n",
       "    <tr>\n",
       "      <th>2</th>\n",
       "      <td>1553.0</td>\n",
       "      <td>2200.547318</td>\n",
       "      <td>29.513152</td>\n",
       "      <td>2060.6600</td>\n",
       "      <td>2181.044400</td>\n",
       "      <td>2201.0667</td>\n",
       "      <td>2218.0555</td>\n",
       "      <td>2315.2667</td>\n",
       "    </tr>\n",
       "    <tr>\n",
       "      <th>3</th>\n",
       "      <td>1553.0</td>\n",
       "      <td>1396.376627</td>\n",
       "      <td>441.691640</td>\n",
       "      <td>0.0000</td>\n",
       "      <td>1081.875800</td>\n",
       "      <td>1285.2144</td>\n",
       "      <td>1591.2235</td>\n",
       "      <td>3715.0417</td>\n",
       "    </tr>\n",
       "    <tr>\n",
       "      <th>4</th>\n",
       "      <td>1553.0</td>\n",
       "      <td>4.197013</td>\n",
       "      <td>56.355540</td>\n",
       "      <td>0.6815</td>\n",
       "      <td>1.017700</td>\n",
       "      <td>1.3168</td>\n",
       "      <td>1.5257</td>\n",
       "      <td>1114.5366</td>\n",
       "    </tr>\n",
       "    <tr>\n",
       "      <th>...</th>\n",
       "      <td>...</td>\n",
       "      <td>...</td>\n",
       "      <td>...</td>\n",
       "      <td>...</td>\n",
       "      <td>...</td>\n",
       "      <td>...</td>\n",
       "      <td>...</td>\n",
       "      <td>...</td>\n",
       "    </tr>\n",
       "    <tr>\n",
       "      <th>586</th>\n",
       "      <td>1566.0</td>\n",
       "      <td>0.021458</td>\n",
       "      <td>0.012358</td>\n",
       "      <td>-0.0169</td>\n",
       "      <td>0.013425</td>\n",
       "      <td>0.0205</td>\n",
       "      <td>0.0276</td>\n",
       "      <td>0.1028</td>\n",
       "    </tr>\n",
       "    <tr>\n",
       "      <th>587</th>\n",
       "      <td>1566.0</td>\n",
       "      <td>0.016475</td>\n",
       "      <td>0.008808</td>\n",
       "      <td>0.0032</td>\n",
       "      <td>0.010600</td>\n",
       "      <td>0.0148</td>\n",
       "      <td>0.0203</td>\n",
       "      <td>0.0799</td>\n",
       "    </tr>\n",
       "    <tr>\n",
       "      <th>588</th>\n",
       "      <td>1566.0</td>\n",
       "      <td>0.005283</td>\n",
       "      <td>0.002867</td>\n",
       "      <td>0.0010</td>\n",
       "      <td>0.003300</td>\n",
       "      <td>0.0046</td>\n",
       "      <td>0.0064</td>\n",
       "      <td>0.0286</td>\n",
       "    </tr>\n",
       "    <tr>\n",
       "      <th>589</th>\n",
       "      <td>1566.0</td>\n",
       "      <td>99.670066</td>\n",
       "      <td>93.891919</td>\n",
       "      <td>0.0000</td>\n",
       "      <td>44.368600</td>\n",
       "      <td>71.9005</td>\n",
       "      <td>114.7497</td>\n",
       "      <td>737.3048</td>\n",
       "    </tr>\n",
       "    <tr>\n",
       "      <th>Pass/Fail</th>\n",
       "      <td>1567.0</td>\n",
       "      <td>-0.867262</td>\n",
       "      <td>0.498010</td>\n",
       "      <td>-1.0000</td>\n",
       "      <td>-1.000000</td>\n",
       "      <td>-1.0000</td>\n",
       "      <td>-1.0000</td>\n",
       "      <td>1.0000</td>\n",
       "    </tr>\n",
       "  </tbody>\n",
       "</table>\n",
       "<p>591 rows × 8 columns</p>\n",
       "</div>"
      ],
      "text/plain": [
       "            count         mean         std        min          25%        50%  \\\n",
       "0          1561.0  3014.452896   73.621787  2743.2400  2966.260000  3011.4900   \n",
       "1          1560.0  2495.850231   80.407705  2158.7500  2452.247500  2499.4050   \n",
       "2          1553.0  2200.547318   29.513152  2060.6600  2181.044400  2201.0667   \n",
       "3          1553.0  1396.376627  441.691640     0.0000  1081.875800  1285.2144   \n",
       "4          1553.0     4.197013   56.355540     0.6815     1.017700     1.3168   \n",
       "...           ...          ...         ...        ...          ...        ...   \n",
       "586        1566.0     0.021458    0.012358    -0.0169     0.013425     0.0205   \n",
       "587        1566.0     0.016475    0.008808     0.0032     0.010600     0.0148   \n",
       "588        1566.0     0.005283    0.002867     0.0010     0.003300     0.0046   \n",
       "589        1566.0    99.670066   93.891919     0.0000    44.368600    71.9005   \n",
       "Pass/Fail  1567.0    -0.867262    0.498010    -1.0000    -1.000000    -1.0000   \n",
       "\n",
       "                 75%        max  \n",
       "0          3056.6500  3356.3500  \n",
       "1          2538.8225  2846.4400  \n",
       "2          2218.0555  2315.2667  \n",
       "3          1591.2235  3715.0417  \n",
       "4             1.5257  1114.5366  \n",
       "...              ...        ...  \n",
       "586           0.0276     0.1028  \n",
       "587           0.0203     0.0799  \n",
       "588           0.0064     0.0286  \n",
       "589         114.7497   737.3048  \n",
       "Pass/Fail    -1.0000     1.0000  \n",
       "\n",
       "[591 rows x 8 columns]"
      ]
     },
     "execution_count": 6,
     "metadata": {},
     "output_type": "execute_result"
    }
   ],
   "source": [
    "data.describe().T"
   ]
  },
  {
   "cell_type": "markdown",
   "metadata": {
    "id": "7Ei0z9d1vhdc"
   },
   "source": [
    "## 2.데이터 정제\n",
    "- 데이터 정제 :**결측값(missing value)** 또는 **이상치(outlier)** 처리"
   ]
  },
  {
   "cell_type": "code",
   "execution_count": null,
   "metadata": {
    "id": "2TqMTpw9vhdd",
    "outputId": "2b977e7c-b5da-401b-b627-4a8a41ee8186"
   },
   "outputs": [
    {
     "data": {
      "text/plain": [
       "Time          0\n",
       "0             6\n",
       "1             7\n",
       "2            14\n",
       "3            14\n",
       "             ..\n",
       "586           1\n",
       "587           1\n",
       "588           1\n",
       "589           1\n",
       "Pass/Fail     0\n",
       "Length: 592, dtype: int64"
      ]
     },
     "execution_count": 7,
     "metadata": {},
     "output_type": "execute_result"
    }
   ],
   "source": [
    "# 각 컬럼별 결측값 정보를 출력합니다.\n",
    "data.isnull().sum()"
   ]
  },
  {
   "cell_type": "code",
   "execution_count": null,
   "metadata": {
    "id": "GCKGYXEAvhdd",
    "outputId": "25cc0ce1-8c3e-4792-9872-ea2e01785981"
   },
   "outputs": [
    {
     "data": {
      "text/plain": [
       "41951"
      ]
     },
     "execution_count": 8,
     "metadata": {},
     "output_type": "execute_result"
    }
   ],
   "source": [
    "# 전체 결측값 정보를 출력합니다.\n",
    "...   # ...  코드 입력"
   ]
  },
  {
   "cell_type": "markdown",
   "metadata": {
    "id": "C6jx8Ksxvhdd"
   },
   "source": [
    "- 모든 데이터를 사용하기 위해서는 결측값을 0으로 대체합니다."
   ]
  },
  {
   "cell_type": "code",
   "execution_count": null,
   "metadata": {
    "id": "JoOiB5aZvhdd",
    "outputId": "a75469fb-b4ff-4037-da0d-d058c6dd51de"
   },
   "outputs": [
    {
     "data": {
      "text/plain": [
       "0"
      ]
     },
     "execution_count": 29,
     "metadata": {},
     "output_type": "execute_result"
    }
   ],
   "source": [
    "# 결측값을 0으로 대체(replace()사용)합니다.\n",
    "data = ...   # ...  코드 입력\n",
    "\n",
    "# 결측값 정보를 출력합니다.\n",
    "data.isnull().sum().sum()"
   ]
  },
  {
   "cell_type": "code",
   "execution_count": null,
   "metadata": {
    "id": "FEke-4c7vhdd",
    "outputId": "9797906c-cada-492e-fb2c-b0d6b822af15"
   },
   "outputs": [
    {
     "data": {
      "text/plain": [
       "(1567, 591)"
      ]
     },
     "execution_count": 30,
     "metadata": {},
     "output_type": "execute_result"
    }
   ],
   "source": [
    "# 'Time'변수의 데이터는 pass/fail을 예측하는데 큰 영향이 없다 생각하여 삭제합니다.\n",
    "data = ...   # ...  코드 입력\n",
    "\n",
    "data.shape"
   ]
  },
  {
   "cell_type": "markdown",
   "metadata": {
    "id": "GAnpZtsSvhdd"
   },
   "source": [
    "## 3.데이터 시각화"
   ]
  },
  {
   "cell_type": "markdown",
   "metadata": {
    "id": "bjjkYvR1vhdd"
   },
   "source": [
    "센서에 관련된 590개의 변수들은 시각화하기에 너무 양이 많기에 영향력이 크다고 판단되는 `59` 센서에 대해서만 시각화를 진행해보기( `59`번 데이터는 머신러닝 모델을 사용했을 때, 높은 중요도로 뽑힌 변수임)"
   ]
  },
  {
   "cell_type": "markdown",
   "metadata": {
    "id": "K9TO0Stcvhdd"
   },
   "source": [
    "### 3.1. `Pass/Fail` 시각화"
   ]
  },
  {
   "cell_type": "code",
   "execution_count": null,
   "metadata": {
    "id": "A0FkeyJevhdd",
    "outputId": "264c2d3a-dfd4-48b5-f6d7-f9e9eef1fd07",
    "scrolled": true
   },
   "outputs": [
    {
     "data": {
      "text/plain": [
       "-1    1463\n",
       " 1     104\n",
       "Name: Pass/Fail, dtype: int64"
      ]
     },
     "execution_count": 31,
     "metadata": {},
     "output_type": "execute_result"
    },
    {
     "data": {
      "image/png": "[encoded data removed]",
      "text/plain": [
       "<Figure size 1000x1600 with 1 Axes>"
      ]
     },
     "metadata": {},
     "output_type": "display_data"
    }
   ],
   "source": [
    "# 분포를 도수분포표로 확인합니다.\n",
    "print(data['Pass/Fail'].value_counts())\n",
    "\n",
    "# 분포를 막대 그래프를 사용하여 출력합니다.\n",
    "...   # ...  코드 입력"
   ]
  },
  {
   "cell_type": "markdown",
   "metadata": {
    "id": "Tyb9wmpYvhde"
   },
   "source": [
    "### 3.2. 센서 데이터 시각화 하기"
   ]
  },
  {
   "cell_type": "markdown",
   "metadata": {
    "id": "ZWVQHk9kvhde"
   },
   "source": [
    "다수의 feature 데이터에 대해서 한눈에 볼 수 있도록 시각화를 수행할 때는 seaborn의 `pairplot`를 활용하여 해결할 수 있습니다.\n",
    "\n",
    "590개 센서에 대한 출력을 `pairplot`으로 수행하기엔 출력 결과도 보기 힘들뿐더러 출력 시간도 매우 오래 걸립니다.\n",
    "\n",
    "따라서 아래 코드와 같이 3,4,5, Pass/Fail 데이터에 대해서만 출력해보겠습니다."
   ]
  },
  {
   "cell_type": "code",
   "execution_count": null,
   "metadata": {
    "id": "LhUwqx-Qvhde",
    "outputId": "3dc2dd06-cc19-4664-8331-e0c4078b632b"
   },
   "outputs": [
    {
     "data": {
      "text/html": [
       "<div>\n",
       "<style scoped>\n",
       "    .dataframe tbody tr th:only-of-type {\n",
       "        vertical-align: middle;\n",
       "    }\n",
       "\n",
       "    .dataframe tbody tr th {\n",
       "        vertical-align: top;\n",
       "    }\n",
       "\n",
       "    .dataframe thead th {\n",
       "        text-align: right;\n",
       "    }\n",
       "</style>\n",
       "<table border=\"1\" class=\"dataframe\">\n",
       "  <thead>\n",
       "    <tr style=\"text-align: right;\">\n",
       "      <th></th>\n",
       "      <th>3</th>\n",
       "      <th>4</th>\n",
       "      <th>5</th>\n",
       "      <th>Pass/Fail</th>\n",
       "    </tr>\n",
       "  </thead>\n",
       "  <tbody>\n",
       "    <tr>\n",
       "      <th>0</th>\n",
       "      <td>1411.1265</td>\n",
       "      <td>1.3602</td>\n",
       "      <td>100.0</td>\n",
       "      <td>-1</td>\n",
       "    </tr>\n",
       "    <tr>\n",
       "      <th>1</th>\n",
       "      <td>1463.6606</td>\n",
       "      <td>0.8294</td>\n",
       "      <td>100.0</td>\n",
       "      <td>-1</td>\n",
       "    </tr>\n",
       "    <tr>\n",
       "      <th>2</th>\n",
       "      <td>1698.0172</td>\n",
       "      <td>1.5102</td>\n",
       "      <td>100.0</td>\n",
       "      <td>1</td>\n",
       "    </tr>\n",
       "    <tr>\n",
       "      <th>3</th>\n",
       "      <td>909.7926</td>\n",
       "      <td>1.3204</td>\n",
       "      <td>100.0</td>\n",
       "      <td>-1</td>\n",
       "    </tr>\n",
       "    <tr>\n",
       "      <th>4</th>\n",
       "      <td>1326.5200</td>\n",
       "      <td>1.5334</td>\n",
       "      <td>100.0</td>\n",
       "      <td>-1</td>\n",
       "    </tr>\n",
       "    <tr>\n",
       "      <th>...</th>\n",
       "      <td>...</td>\n",
       "      <td>...</td>\n",
       "      <td>...</td>\n",
       "      <td>...</td>\n",
       "    </tr>\n",
       "    <tr>\n",
       "      <th>1562</th>\n",
       "      <td>3085.3781</td>\n",
       "      <td>1.4843</td>\n",
       "      <td>100.0</td>\n",
       "      <td>-1</td>\n",
       "    </tr>\n",
       "    <tr>\n",
       "      <th>1563</th>\n",
       "      <td>1124.6595</td>\n",
       "      <td>0.8763</td>\n",
       "      <td>100.0</td>\n",
       "      <td>-1</td>\n",
       "    </tr>\n",
       "    <tr>\n",
       "      <th>1564</th>\n",
       "      <td>1110.4967</td>\n",
       "      <td>0.8236</td>\n",
       "      <td>100.0</td>\n",
       "      <td>-1</td>\n",
       "    </tr>\n",
       "    <tr>\n",
       "      <th>1565</th>\n",
       "      <td>1183.7287</td>\n",
       "      <td>1.5726</td>\n",
       "      <td>100.0</td>\n",
       "      <td>-1</td>\n",
       "    </tr>\n",
       "    <tr>\n",
       "      <th>1566</th>\n",
       "      <td>2914.1792</td>\n",
       "      <td>1.5978</td>\n",
       "      <td>100.0</td>\n",
       "      <td>-1</td>\n",
       "    </tr>\n",
       "  </tbody>\n",
       "</table>\n",
       "<p>1567 rows × 4 columns</p>\n",
       "</div>"
      ],
      "text/plain": [
       "              3       4      5  Pass/Fail\n",
       "0     1411.1265  1.3602  100.0         -1\n",
       "1     1463.6606  0.8294  100.0         -1\n",
       "2     1698.0172  1.5102  100.0          1\n",
       "3      909.7926  1.3204  100.0         -1\n",
       "4     1326.5200  1.5334  100.0         -1\n",
       "...         ...     ...    ...        ...\n",
       "1562  3085.3781  1.4843  100.0         -1\n",
       "1563  1124.6595  0.8763  100.0         -1\n",
       "1564  1110.4967  0.8236  100.0         -1\n",
       "1565  1183.7287  1.5726  100.0         -1\n",
       "1566  2914.1792  1.5978  100.0         -1\n",
       "\n",
       "[1567 rows x 4 columns]"
      ]
     },
     "execution_count": 32,
     "metadata": {},
     "output_type": "execute_result"
    }
   ],
   "source": [
    "#3,4,5,Pass/Fail 컬럼으로 새로운 DataFrame을 만듭니다. 리스트 안에 컬럼 이름을 적습니다.\n",
    "data_plot= data[['3','4','5','Pass/Fail']]\n",
    "data_plot"
   ]
  },
  {
   "cell_type": "code",
   "execution_count": null,
   "metadata": {
    "id": "bPDfPDsWvhde",
    "outputId": "fbc64e6a-82bc-4537-95eb-ab78c1153bb6",
    "scrolled": false
   },
   "outputs": [
    {
     "data": {
      "text/plain": [
       "<seaborn.axisgrid.PairGrid at 0x1cff821c9a0>"
      ]
     },
     "execution_count": 33,
     "metadata": {},
     "output_type": "execute_result"
    },
    {
     "data": {
      "image/png": "[encoded data removed]",
      "text/plain": [
       "<Figure size 1000x1000 with 20 Axes>"
      ]
     },
     "metadata": {},
     "output_type": "display_data"
    }
   ],
   "source": [
    "#seaborn의 pairplot()을 사용해서 컬럼끼리 비교할 수 있습니다.\n",
    "sns.pairplot(data_plot)"
   ]
  },
  {
   "cell_type": "code",
   "execution_count": null,
   "metadata": {
    "id": "a7AmJdrSvhde",
    "outputId": "04a4d501-904f-45c7-ddc1-a14001cbae3f"
   },
   "outputs": [
    {
     "data": {
      "text/plain": [
       "<seaborn.axisgrid.PairGrid at 0x1cff789c910>"
      ]
     },
     "execution_count": 34,
     "metadata": {},
     "output_type": "execute_result"
    },
    {
     "data": {
      "image/png": "[encoded data removed]",
      "text/plain": [
       "<Figure size 1000x1000 with 6 Axes>"
      ]
     },
     "metadata": {},
     "output_type": "display_data"
    }
   ],
   "source": [
    "# vars를 사용해서 특정한 컬럼끼리 비교할 수도 있습니다.\n",
    "sns.pairplot(data_plot, height=5, vars=['3','4'])"
   ]
  },
  {
   "cell_type": "markdown",
   "metadata": {
    "id": "Kkp7miG5vhde"
   },
   "source": [
    "### 3.3. `59`번 센서 시각화"
   ]
  },
  {
   "cell_type": "code",
   "execution_count": null,
   "metadata": {
    "id": "MFiQmCwlvhde",
    "outputId": "8d68c05b-2535-480e-96d9-26cb21923f3a"
   },
   "outputs": [
    {
     "name": "stderr",
     "output_type": "stream",
     "text": [
      "C:\\Users\\biz\\AppData\\Local\\Temp\\ipykernel_37628\\2012713023.py:16: UserWarning: \n",
      "\n",
      "`distplot` is a deprecated function and will be removed in seaborn v0.14.0.\n",
      "\n",
      "Please adapt your code to use either `displot` (a figure-level function with\n",
      "similar flexibility) or `histplot` (an axes-level function for histograms).\n",
      "\n",
      "For a guide to updating your code to use the new functions, please see\n",
      "https://gist.github.com/mwaskom/de44147ed2974457ad6372750bbe5751\n",
      "\n",
      "  sns.distplot(data['59'], color = 'darkblue')\n"
     ]
    },
    {
     "data": {
      "text/plain": [
       "Text(0.5, 1.0, '59 Sensor Measurements')"
      ]
     },
     "execution_count": 35,
     "metadata": {},
     "output_type": "execute_result"
    },
    {
     "data": {
      "image/png": "[encoded data removed]",
      "text/plain": [
       "<Figure size 800x600 with 1 Axes>"
      ]
     },
     "metadata": {},
     "output_type": "display_data"
    }
   ],
   "source": [
    "# subplots는 한 번에 여러 그래프를 보여주기 위해서 사용합니다.\n",
    "# subplots()에선 두개의 값을 받을 수 있는데 figure와 axes 값을 받을 수 있습니다. 여기서 변수명은 상관없습니다. 순서가 중요합니다.\n",
    "# fig: figure로써  전체 subplot을 말합니다.\n",
    "# ax: axe로써 각각의 그래프를 말합니다.\n",
    "\n",
    "fig, ax = plt.subplots(figsize=(8, 6))\n",
    "\n",
    "# seborn 그래프의 스타일을 설정합니다.\n",
    "sns.set(style='darkgrid')\n",
    "\n",
    "# 59번 데이터의 분포를 출력합니다.\n",
    "#sns.histplot(data['59'], color = 'darkblue')\n",
    "sns.distplot(data['59'], color = 'darkblue')\n",
    "\n",
    "# 그래프의 제목을 설정합니다.\n",
    "plt.title('59 Sensor Measurements', fontsize = 20)"
   ]
  },
  {
   "cell_type": "code",
   "execution_count": null,
   "metadata": {
    "id": "u0JBv_SFvhde",
    "outputId": "c8251f22-cd6d-4493-c32b-52460ad43245",
    "scrolled": true
   },
   "outputs": [
    {
     "name": "stderr",
     "output_type": "stream",
     "text": [
      "C:\\Users\\biz\\AppData\\Local\\Temp\\ipykernel_37628\\1134700755.py:7: UserWarning: \n",
      "\n",
      "`distplot` is a deprecated function and will be removed in seaborn v0.14.0.\n",
      "\n",
      "Please adapt your code to use either `displot` (a figure-level function with\n",
      "similar flexibility) or `histplot` (an axes-level function for histograms).\n",
      "\n",
      "For a guide to updating your code to use the new functions, please see\n",
      "https://gist.github.com/mwaskom/de44147ed2974457ad6372750bbe5751\n",
      "\n",
      "  sns.distplot(data['59'], color = 'darkblue')\n",
      "C:\\Users\\biz\\AppData\\Local\\Temp\\ipykernel_37628\\1134700755.py:13: UserWarning: \n",
      "\n",
      "`distplot` is a deprecated function and will be removed in seaborn v0.14.0.\n",
      "\n",
      "Please adapt your code to use either `displot` (a figure-level function with\n",
      "similar flexibility) or `histplot` (an axes-level function for histograms).\n",
      "\n",
      "For a guide to updating your code to use the new functions, please see\n",
      "https://gist.github.com/mwaskom/de44147ed2974457ad6372750bbe5751\n",
      "\n",
      "  sns.distplot(data[data['Pass/Fail']==1]['59'], color = 'darkgreen')\n",
      "C:\\Users\\biz\\AppData\\Local\\Temp\\ipykernel_37628\\1134700755.py:18: UserWarning: \n",
      "\n",
      "`distplot` is a deprecated function and will be removed in seaborn v0.14.0.\n",
      "\n",
      "Please adapt your code to use either `displot` (a figure-level function with\n",
      "similar flexibility) or `histplot` (an axes-level function for histograms).\n",
      "\n",
      "For a guide to updating your code to use the new functions, please see\n",
      "https://gist.github.com/mwaskom/de44147ed2974457ad6372750bbe5751\n",
      "\n",
      "  sns.distplot(data[data['Pass/Fail']==-1]['59'], color = 'red')\n"
     ]
    },
    {
     "data": {
      "text/plain": [
       "Text(0.5, 1.0, '59 Sensor Measurements')"
      ]
     },
     "execution_count": 36,
     "metadata": {},
     "output_type": "execute_result"
    },
    {
     "data": {
      "image/png": "[encoded data removed]",
      "text/plain": [
       "<Figure size 1000x1600 with 3 Axes>"
      ]
     },
     "metadata": {},
     "output_type": "display_data"
    }
   ],
   "source": [
    "# 그래프의 사이즈를 설정합니다. 첫번째는 가로, 두번째는 세로의 크기입니다.\n",
    "plt.rcParams['figure.figsize'] = (10, 16)\n",
    "\n",
    "# 3x1 형태로 그래프를 출력하기 위하여 subplot을 설정합니다.\n",
    "# subplot(행, 열, 인덱스)로 그래프의 위치를 정합니다.\n",
    "plt.subplot(3, 1, 1)\n",
    "sns.histplot(data['59'], color = 'darkblue')\n",
    "plt.title('59 Sensor Measurements', fontsize = 20)\n",
    "\n",
    "# 'Pass/Fail' 값이 1인 데이터를 출력합니다.\n",
    "#  data[data['Pass/Fail']==1]를 하면 'Pass/Fail' 값이 1인 행만 사용할 수 있습니다.\n",
    "plt.subplot(3, 1, 2)\n",
    "sns.histplot(data[data['Pass/Fail']==1]['59'], color = 'darkgreen')\n",
    "plt.title('59 Sensor Measurements', fontsize = 20)\n",
    "\n",
    "# 'Pass/Fail' 값이 -1인 데이터를 출력합니다.\n",
    "plt.subplot(3, 1, 3)\n",
    "sns.histplot(data[data['Pass/Fail']==-1]['59'], color = 'red')\n",
    "plt.title('59 Sensor Measurements', fontsize = 20)"
   ]
  },
  {
   "cell_type": "markdown",
   "metadata": {
    "id": "Kg8XOU1svhdf"
   },
   "source": [
    "## 4.데이터 전 처리"
   ]
  },
  {
   "cell_type": "markdown",
   "metadata": {
    "id": "sqbppXIevhdf"
   },
   "source": [
    "- 전체 데이터를 feature 데이터인 `x`와 label 데이터인 `y`로 분리하기\n",
    "- StandardScaler를 통한 데이터 표준화하기"
   ]
  },
  {
   "cell_type": "markdown",
   "metadata": {
    "id": "ALyHmzdpvhdf"
   },
   "source": [
    "### 4.1.  `x`와  `y` : 특성 및 타겟 지정하기"
   ]
  },
  {
   "cell_type": "markdown",
   "metadata": {
    "id": "bNtFPXU3vhdf"
   },
   "source": [
    "머신러닝의 feature 데이터는 `Xx`, label 데이터는 `y`에 저장합니다."
   ]
  },
  {
   "cell_type": "code",
   "execution_count": null,
   "metadata": {
    "id": "o3Uo9fx8vhdf",
    "outputId": "8582a173-f413-4a33-8ca7-451cad07afa8"
   },
   "outputs": [
    {
     "data": {
      "text/plain": [
       "array([-1, -1,  1, ..., -1, -1, -1], dtype=int64)"
      ]
     },
     "execution_count": 38,
     "metadata": {},
     "output_type": "execute_result"
    }
   ],
   "source": [
    "# 예측해야 할 변수인 `Pass/Fail`를 제거하여 머신러닝 입력값인 X에 저장합니다.\n",
    "X_train = ...   # ...  코드 입력\n",
    "\n",
    "# 예측해야 할 변수 `Pass/Fail`만을 선택하여 numpy 형태로 y에 저장합니다.\n",
    "y_train = ...   # ...  코드 입력\n",
    "\n",
    "# ravel은 \"풀다\"로 다차원을 1차원으로 푸는 것을 의미합니다.\n",
    "# 1차원 벡터 형태로 출력하기 위해 ravel 사용합니다.\n",
    "y_train = y_train.to_numpy().ravel()\n",
    "y_train"
   ]
  },
  {
   "cell_type": "markdown",
   "metadata": {
    "id": "JMASUFpivhdf"
   },
   "source": [
    "원본 데이터의 수가 많지 않기에 원본 데이터에서 샘플 데이터를 추출하고 노이즈를 추가하여 테스트 데이터를 생성하였습니다.\n",
    "\n",
    "`data` 폴더 내의 `uci-secom-test.csv`에 590개의 센서 데이터와 `Pass/Fail`저장되어 있기에 해당 데이터를 읽어와 `x_test, y_test` 데이터로 분리합니다."
   ]
  },
  {
   "cell_type": "code",
   "execution_count": null,
   "metadata": {
    "id": "mMIn0DHjvhdf"
   },
   "outputs": [],
   "source": [
    "# data 폴더 내의 uci-secom-test.csv를 DataFrame으로 읽습니다.\n",
    "data_test = ...   # ...  코드 입력\n",
    "\n",
    "#x_test, y_test로 분리합니다. x , y 과 동일하게\n",
    "X_test = ...   # ...  코드 입력\n",
    "y_test = ...   # ...  코드 입력"
   ]
  },
  {
   "cell_type": "code",
   "execution_count": null,
   "metadata": {
    "id": "q2CQaMUYvhdf",
    "outputId": "f1b6a29e-81ec-4934-86af-c58e03c364af",
    "scrolled": true
   },
   "outputs": [
    {
     "data": {
      "text/html": [
       "<div>\n",
       "<style scoped>\n",
       "    .dataframe tbody tr th:only-of-type {\n",
       "        vertical-align: middle;\n",
       "    }\n",
       "\n",
       "    .dataframe tbody tr th {\n",
       "        vertical-align: top;\n",
       "    }\n",
       "\n",
       "    .dataframe thead th {\n",
       "        text-align: right;\n",
       "    }\n",
       "</style>\n",
       "<table border=\"1\" class=\"dataframe\">\n",
       "  <thead>\n",
       "    <tr style=\"text-align: right;\">\n",
       "      <th></th>\n",
       "      <th>0</th>\n",
       "      <th>1</th>\n",
       "      <th>2</th>\n",
       "      <th>3</th>\n",
       "      <th>4</th>\n",
       "      <th>5</th>\n",
       "      <th>6</th>\n",
       "      <th>7</th>\n",
       "      <th>8</th>\n",
       "      <th>9</th>\n",
       "      <th>...</th>\n",
       "      <th>580</th>\n",
       "      <th>581</th>\n",
       "      <th>582</th>\n",
       "      <th>583</th>\n",
       "      <th>584</th>\n",
       "      <th>585</th>\n",
       "      <th>586</th>\n",
       "      <th>587</th>\n",
       "      <th>588</th>\n",
       "      <th>589</th>\n",
       "    </tr>\n",
       "  </thead>\n",
       "  <tbody>\n",
       "    <tr>\n",
       "      <th>0</th>\n",
       "      <td>3058.576438</td>\n",
       "      <td>2456.188003</td>\n",
       "      <td>2174.584701</td>\n",
       "      <td>1113.987638</td>\n",
       "      <td>1.017292</td>\n",
       "      <td>100.0</td>\n",
       "      <td>103.784665</td>\n",
       "      <td>0.124100</td>\n",
       "      <td>1.373089</td>\n",
       "      <td>0.008796</td>\n",
       "      <td>...</td>\n",
       "      <td>0.004038</td>\n",
       "      <td>53.973861</td>\n",
       "      <td>0.502555</td>\n",
       "      <td>0.012549</td>\n",
       "      <td>0.003425</td>\n",
       "      <td>2.494222</td>\n",
       "      <td>0.021644</td>\n",
       "      <td>0.017824</td>\n",
       "      <td>0.005433</td>\n",
       "      <td>98.028276</td>\n",
       "    </tr>\n",
       "    <tr>\n",
       "      <th>1</th>\n",
       "      <td>3225.540000</td>\n",
       "      <td>2500.380000</td>\n",
       "      <td>2211.400000</td>\n",
       "      <td>1511.784200</td>\n",
       "      <td>1.300400</td>\n",
       "      <td>100.0</td>\n",
       "      <td>97.470000</td>\n",
       "      <td>0.123700</td>\n",
       "      <td>1.367100</td>\n",
       "      <td>-0.019700</td>\n",
       "      <td>...</td>\n",
       "      <td>0.000000</td>\n",
       "      <td>0.000000</td>\n",
       "      <td>0.498500</td>\n",
       "      <td>0.031600</td>\n",
       "      <td>0.006600</td>\n",
       "      <td>6.343200</td>\n",
       "      <td>-0.004700</td>\n",
       "      <td>0.013400</td>\n",
       "      <td>0.003500</td>\n",
       "      <td>286.130300</td>\n",
       "    </tr>\n",
       "    <tr>\n",
       "      <th>2</th>\n",
       "      <td>3027.019797</td>\n",
       "      <td>2495.244836</td>\n",
       "      <td>2239.283771</td>\n",
       "      <td>1878.339266</td>\n",
       "      <td>1.875838</td>\n",
       "      <td>100.0</td>\n",
       "      <td>95.120185</td>\n",
       "      <td>0.122412</td>\n",
       "      <td>1.390140</td>\n",
       "      <td>0.006793</td>\n",
       "      <td>...</td>\n",
       "      <td>0.000000</td>\n",
       "      <td>0.000000</td>\n",
       "      <td>0.501425</td>\n",
       "      <td>0.013365</td>\n",
       "      <td>0.003555</td>\n",
       "      <td>2.673789</td>\n",
       "      <td>0.031982</td>\n",
       "      <td>0.013443</td>\n",
       "      <td>0.004191</td>\n",
       "      <td>40.419061</td>\n",
       "    </tr>\n",
       "    <tr>\n",
       "      <th>3</th>\n",
       "      <td>3021.865769</td>\n",
       "      <td>2415.728398</td>\n",
       "      <td>2182.942505</td>\n",
       "      <td>1101.940802</td>\n",
       "      <td>1.387535</td>\n",
       "      <td>100.0</td>\n",
       "      <td>103.816952</td>\n",
       "      <td>0.123432</td>\n",
       "      <td>1.513284</td>\n",
       "      <td>-0.027191</td>\n",
       "      <td>...</td>\n",
       "      <td>0.000287</td>\n",
       "      <td>3.060171</td>\n",
       "      <td>0.496957</td>\n",
       "      <td>0.013008</td>\n",
       "      <td>0.003423</td>\n",
       "      <td>2.617648</td>\n",
       "      <td>0.034111</td>\n",
       "      <td>0.024022</td>\n",
       "      <td>0.009235</td>\n",
       "      <td>70.072016</td>\n",
       "    </tr>\n",
       "    <tr>\n",
       "      <th>4</th>\n",
       "      <td>2998.755593</td>\n",
       "      <td>2411.935120</td>\n",
       "      <td>2208.165877</td>\n",
       "      <td>1172.869419</td>\n",
       "      <td>1.364676</td>\n",
       "      <td>100.0</td>\n",
       "      <td>101.940758</td>\n",
       "      <td>0.120709</td>\n",
       "      <td>1.449954</td>\n",
       "      <td>-0.002415</td>\n",
       "      <td>...</td>\n",
       "      <td>0.000000</td>\n",
       "      <td>0.000000</td>\n",
       "      <td>0.502647</td>\n",
       "      <td>0.012165</td>\n",
       "      <td>0.003780</td>\n",
       "      <td>2.415892</td>\n",
       "      <td>0.021732</td>\n",
       "      <td>0.012311</td>\n",
       "      <td>0.004373</td>\n",
       "      <td>56.939737</td>\n",
       "    </tr>\n",
       "    <tr>\n",
       "      <th>...</th>\n",
       "      <td>...</td>\n",
       "      <td>...</td>\n",
       "      <td>...</td>\n",
       "      <td>...</td>\n",
       "      <td>...</td>\n",
       "      <td>...</td>\n",
       "      <td>...</td>\n",
       "      <td>...</td>\n",
       "      <td>...</td>\n",
       "      <td>...</td>\n",
       "      <td>...</td>\n",
       "      <td>...</td>\n",
       "      <td>...</td>\n",
       "      <td>...</td>\n",
       "      <td>...</td>\n",
       "      <td>...</td>\n",
       "      <td>...</td>\n",
       "      <td>...</td>\n",
       "      <td>...</td>\n",
       "      <td>...</td>\n",
       "      <td>...</td>\n",
       "    </tr>\n",
       "    <tr>\n",
       "      <th>595</th>\n",
       "      <td>3195.313583</td>\n",
       "      <td>2574.575891</td>\n",
       "      <td>2182.627068</td>\n",
       "      <td>1298.120763</td>\n",
       "      <td>1.136111</td>\n",
       "      <td>100.0</td>\n",
       "      <td>100.595296</td>\n",
       "      <td>0.123883</td>\n",
       "      <td>1.453430</td>\n",
       "      <td>-0.006297</td>\n",
       "      <td>...</td>\n",
       "      <td>0.000000</td>\n",
       "      <td>0.000000</td>\n",
       "      <td>0.504501</td>\n",
       "      <td>0.010725</td>\n",
       "      <td>0.002897</td>\n",
       "      <td>2.130713</td>\n",
       "      <td>0.023792</td>\n",
       "      <td>0.018378</td>\n",
       "      <td>0.004805</td>\n",
       "      <td>78.594099</td>\n",
       "    </tr>\n",
       "    <tr>\n",
       "      <th>596</th>\n",
       "      <td>3188.528676</td>\n",
       "      <td>2487.406049</td>\n",
       "      <td>2229.243491</td>\n",
       "      <td>1919.534712</td>\n",
       "      <td>1.721749</td>\n",
       "      <td>100.0</td>\n",
       "      <td>90.751196</td>\n",
       "      <td>0.121213</td>\n",
       "      <td>1.508781</td>\n",
       "      <td>-0.000400</td>\n",
       "      <td>...</td>\n",
       "      <td>0.003323</td>\n",
       "      <td>39.058868</td>\n",
       "      <td>0.503270</td>\n",
       "      <td>0.014522</td>\n",
       "      <td>0.003933</td>\n",
       "      <td>2.885034</td>\n",
       "      <td>0.027042</td>\n",
       "      <td>0.016736</td>\n",
       "      <td>0.005161</td>\n",
       "      <td>61.086557</td>\n",
       "    </tr>\n",
       "    <tr>\n",
       "      <th>597</th>\n",
       "      <td>2984.033064</td>\n",
       "      <td>2443.702629</td>\n",
       "      <td>2158.885138</td>\n",
       "      <td>1136.388716</td>\n",
       "      <td>0.969641</td>\n",
       "      <td>100.0</td>\n",
       "      <td>100.382653</td>\n",
       "      <td>0.123852</td>\n",
       "      <td>1.457508</td>\n",
       "      <td>0.011576</td>\n",
       "      <td>...</td>\n",
       "      <td>0.003021</td>\n",
       "      <td>59.349219</td>\n",
       "      <td>0.506682</td>\n",
       "      <td>0.023895</td>\n",
       "      <td>0.005502</td>\n",
       "      <td>4.713328</td>\n",
       "      <td>0.026378</td>\n",
       "      <td>0.014914</td>\n",
       "      <td>0.004260</td>\n",
       "      <td>66.961602</td>\n",
       "    </tr>\n",
       "    <tr>\n",
       "      <th>598</th>\n",
       "      <td>3063.078522</td>\n",
       "      <td>2467.486566</td>\n",
       "      <td>2202.678342</td>\n",
       "      <td>1584.689479</td>\n",
       "      <td>1.277982</td>\n",
       "      <td>100.0</td>\n",
       "      <td>99.019675</td>\n",
       "      <td>0.121936</td>\n",
       "      <td>1.480350</td>\n",
       "      <td>-0.016639</td>\n",
       "      <td>...</td>\n",
       "      <td>0.003647</td>\n",
       "      <td>36.450388</td>\n",
       "      <td>0.497065</td>\n",
       "      <td>0.012103</td>\n",
       "      <td>0.002981</td>\n",
       "      <td>2.427864</td>\n",
       "      <td>0.029651</td>\n",
       "      <td>0.011548</td>\n",
       "      <td>0.003842</td>\n",
       "      <td>38.986213</td>\n",
       "    </tr>\n",
       "    <tr>\n",
       "      <th>599</th>\n",
       "      <td>3020.163182</td>\n",
       "      <td>2500.749558</td>\n",
       "      <td>2175.505808</td>\n",
       "      <td>1212.184006</td>\n",
       "      <td>1.258902</td>\n",
       "      <td>100.0</td>\n",
       "      <td>100.037910</td>\n",
       "      <td>0.121259</td>\n",
       "      <td>1.509591</td>\n",
       "      <td>0.008981</td>\n",
       "      <td>...</td>\n",
       "      <td>0.008644</td>\n",
       "      <td>158.595165</td>\n",
       "      <td>0.500756</td>\n",
       "      <td>0.012311</td>\n",
       "      <td>0.003650</td>\n",
       "      <td>2.451770</td>\n",
       "      <td>0.017077</td>\n",
       "      <td>0.027358</td>\n",
       "      <td>0.008644</td>\n",
       "      <td>158.595165</td>\n",
       "    </tr>\n",
       "  </tbody>\n",
       "</table>\n",
       "<p>600 rows × 590 columns</p>\n",
       "</div>"
      ],
      "text/plain": [
       "               0            1            2            3         4      5  \\\n",
       "0    3058.576438  2456.188003  2174.584701  1113.987638  1.017292  100.0   \n",
       "1    3225.540000  2500.380000  2211.400000  1511.784200  1.300400  100.0   \n",
       "2    3027.019797  2495.244836  2239.283771  1878.339266  1.875838  100.0   \n",
       "3    3021.865769  2415.728398  2182.942505  1101.940802  1.387535  100.0   \n",
       "4    2998.755593  2411.935120  2208.165877  1172.869419  1.364676  100.0   \n",
       "..           ...          ...          ...          ...       ...    ...   \n",
       "595  3195.313583  2574.575891  2182.627068  1298.120763  1.136111  100.0   \n",
       "596  3188.528676  2487.406049  2229.243491  1919.534712  1.721749  100.0   \n",
       "597  2984.033064  2443.702629  2158.885138  1136.388716  0.969641  100.0   \n",
       "598  3063.078522  2467.486566  2202.678342  1584.689479  1.277982  100.0   \n",
       "599  3020.163182  2500.749558  2175.505808  1212.184006  1.258902  100.0   \n",
       "\n",
       "              6         7         8         9  ...       580         581  \\\n",
       "0    103.784665  0.124100  1.373089  0.008796  ...  0.004038   53.973861   \n",
       "1     97.470000  0.123700  1.367100 -0.019700  ...  0.000000    0.000000   \n",
       "2     95.120185  0.122412  1.390140  0.006793  ...  0.000000    0.000000   \n",
       "3    103.816952  0.123432  1.513284 -0.027191  ...  0.000287    3.060171   \n",
       "4    101.940758  0.120709  1.449954 -0.002415  ...  0.000000    0.000000   \n",
       "..          ...       ...       ...       ...  ...       ...         ...   \n",
       "595  100.595296  0.123883  1.453430 -0.006297  ...  0.000000    0.000000   \n",
       "596   90.751196  0.121213  1.508781 -0.000400  ...  0.003323   39.058868   \n",
       "597  100.382653  0.123852  1.457508  0.011576  ...  0.003021   59.349219   \n",
       "598   99.019675  0.121936  1.480350 -0.016639  ...  0.003647   36.450388   \n",
       "599  100.037910  0.121259  1.509591  0.008981  ...  0.008644  158.595165   \n",
       "\n",
       "          582       583       584       585       586       587       588  \\\n",
       "0    0.502555  0.012549  0.003425  2.494222  0.021644  0.017824  0.005433   \n",
       "1    0.498500  0.031600  0.006600  6.343200 -0.004700  0.013400  0.003500   \n",
       "2    0.501425  0.013365  0.003555  2.673789  0.031982  0.013443  0.004191   \n",
       "3    0.496957  0.013008  0.003423  2.617648  0.034111  0.024022  0.009235   \n",
       "4    0.502647  0.012165  0.003780  2.415892  0.021732  0.012311  0.004373   \n",
       "..        ...       ...       ...       ...       ...       ...       ...   \n",
       "595  0.504501  0.010725  0.002897  2.130713  0.023792  0.018378  0.004805   \n",
       "596  0.503270  0.014522  0.003933  2.885034  0.027042  0.016736  0.005161   \n",
       "597  0.506682  0.023895  0.005502  4.713328  0.026378  0.014914  0.004260   \n",
       "598  0.497065  0.012103  0.002981  2.427864  0.029651  0.011548  0.003842   \n",
       "599  0.500756  0.012311  0.003650  2.451770  0.017077  0.027358  0.008644   \n",
       "\n",
       "            589  \n",
       "0     98.028276  \n",
       "1    286.130300  \n",
       "2     40.419061  \n",
       "3     70.072016  \n",
       "4     56.939737  \n",
       "..          ...  \n",
       "595   78.594099  \n",
       "596   61.086557  \n",
       "597   66.961602  \n",
       "598   38.986213  \n",
       "599  158.595165  \n",
       "\n",
       "[600 rows x 590 columns]"
      ]
     },
     "execution_count": 41,
     "metadata": {},
     "output_type": "execute_result"
    }
   ],
   "source": [
    "X_test.head()"
   ]
  },
  {
   "cell_type": "markdown",
   "metadata": {
    "id": "6lVzqOwavhdf"
   },
   "source": [
    "### 4.2. 데이터 표준화"
   ]
  },
  {
   "cell_type": "markdown",
   "metadata": {
    "id": "5Vv0Ejjevhdg"
   },
   "source": [
    "각 변수 마다의 스케일 차이를 맞추기 위하여 표준화를 수행합니다.\n",
    "\n",
    "표준화는 서로 다른 피처의 크기를 통일하기 위해서 크기를 변환해주는 개념입니다.\n",
    "\n",
    "데이터의 피처 각각이 평균이 0이고 분산이 1인 가우시안 정규 분포를 형태와 가까워지도록 변환합니다."
   ]
  },
  {
   "cell_type": "code",
   "execution_count": null,
   "metadata": {
    "id": "KU8DxfrEvhdg"
   },
   "outputs": [],
   "source": [
    "from sklearn.preprocessing import StandardScaler\n",
    "\n",
    "# 정규화를 위해서 StandardScaler 불러옵니다.\n",
    "sc = ...   # ...  코드 입력\n",
    "\n",
    "# x_train에 있는 데이터에 맞춰 정규화를 진행합니다.\n",
    "X_train = ...   # ...  코드 입력\n",
    "X_test = ...   # ...  코드 입력"
   ]
  },
  {
   "cell_type": "code",
   "execution_count": null,
   "metadata": {
    "id": "7gau5KKivhdg",
    "outputId": "d30a1036-0564-45bc-b309-b6b3e48b2eb6"
   },
   "outputs": [
    {
     "data": {
      "text/html": [
       "<div>\n",
       "<style scoped>\n",
       "    .dataframe tbody tr th:only-of-type {\n",
       "        vertical-align: middle;\n",
       "    }\n",
       "\n",
       "    .dataframe tbody tr th {\n",
       "        vertical-align: top;\n",
       "    }\n",
       "\n",
       "    .dataframe thead th {\n",
       "        text-align: right;\n",
       "    }\n",
       "</style>\n",
       "<table border=\"1\" class=\"dataframe\">\n",
       "  <thead>\n",
       "    <tr style=\"text-align: right;\">\n",
       "      <th></th>\n",
       "      <th>0</th>\n",
       "      <th>1</th>\n",
       "      <th>2</th>\n",
       "      <th>3</th>\n",
       "      <th>4</th>\n",
       "      <th>5</th>\n",
       "      <th>6</th>\n",
       "      <th>7</th>\n",
       "      <th>8</th>\n",
       "      <th>9</th>\n",
       "      <th>...</th>\n",
       "      <th>580</th>\n",
       "      <th>581</th>\n",
       "      <th>582</th>\n",
       "      <th>583</th>\n",
       "      <th>584</th>\n",
       "      <th>585</th>\n",
       "      <th>586</th>\n",
       "      <th>587</th>\n",
       "      <th>588</th>\n",
       "      <th>589</th>\n",
       "    </tr>\n",
       "  </thead>\n",
       "  <tbody>\n",
       "    <tr>\n",
       "      <th>0</th>\n",
       "      <td>0.139998</td>\n",
       "      <td>0.429208</td>\n",
       "      <td>0.032735</td>\n",
       "      <td>0.059342</td>\n",
       "      <td>-0.049911</td>\n",
       "      <td>0.094946</td>\n",
       "      <td>-0.228536</td>\n",
       "      <td>0.239971</td>\n",
       "      <td>0.436850</td>\n",
       "      <td>1.128343</td>\n",
       "      <td>...</td>\n",
       "      <td>-0.648235</td>\n",
       "      <td>-0.530195</td>\n",
       "      <td>0.055275</td>\n",
       "      <td>-0.204269</td>\n",
       "      <td>-0.092516</td>\n",
       "      <td>-0.196519</td>\n",
       "      <td>-1.734706</td>\n",
       "      <td>-1.868461</td>\n",
       "      <td>-1.840769</td>\n",
       "      <td>-1.061159</td>\n",
       "    </tr>\n",
       "    <tr>\n",
       "      <th>1</th>\n",
       "      <td>0.464020</td>\n",
       "      <td>-0.105874</td>\n",
       "      <td>0.236852</td>\n",
       "      <td>0.173847</td>\n",
       "      <td>-0.059375</td>\n",
       "      <td>0.094946</td>\n",
       "      <td>0.187826</td>\n",
       "      <td>0.278951</td>\n",
       "      <td>0.393723</td>\n",
       "      <td>0.022511</td>\n",
       "      <td>...</td>\n",
       "      <td>1.179427</td>\n",
       "      <td>2.327864</td>\n",
       "      <td>0.162312</td>\n",
       "      <td>0.407145</td>\n",
       "      <td>0.445214</td>\n",
       "      <td>0.385516</td>\n",
       "      <td>-0.958144</td>\n",
       "      <td>0.412587</td>\n",
       "      <td>0.251029</td>\n",
       "      <td>1.156951</td>\n",
       "    </tr>\n",
       "    <tr>\n",
       "      <th>2</th>\n",
       "      <td>-0.351256</td>\n",
       "      <td>0.407233</td>\n",
       "      <td>0.026413</td>\n",
       "      <td>0.684661</td>\n",
       "      <td>-0.047236</td>\n",
       "      <td>0.094946</td>\n",
       "      <td>-0.415634</td>\n",
       "      <td>0.232175</td>\n",
       "      <td>-0.192349</td>\n",
       "      <td>0.327111</td>\n",
       "      <td>...</td>\n",
       "      <td>3.859997</td>\n",
       "      <td>0.607241</td>\n",
       "      <td>-0.304064</td>\n",
       "      <td>0.022827</td>\n",
       "      <td>0.015030</td>\n",
       "      <td>0.030373</td>\n",
       "      <td>2.989383</td>\n",
       "      <td>3.624211</td>\n",
       "      <td>3.318999</td>\n",
       "      <td>-0.178407</td>\n",
       "    </tr>\n",
       "    <tr>\n",
       "      <th>3</th>\n",
       "      <td>-0.070903</td>\n",
       "      <td>-0.025985</td>\n",
       "      <td>0.086766</td>\n",
       "      <td>-1.033387</td>\n",
       "      <td>-0.050620</td>\n",
       "      <td>0.094946</td>\n",
       "      <td>0.354494</td>\n",
       "      <td>0.045074</td>\n",
       "      <td>0.300837</td>\n",
       "      <td>-0.765478</td>\n",
       "      <td>...</td>\n",
       "      <td>0.692050</td>\n",
       "      <td>0.483463</td>\n",
       "      <td>-0.059408</td>\n",
       "      <td>-0.291614</td>\n",
       "      <td>-0.361381</td>\n",
       "      <td>-0.282803</td>\n",
       "      <td>-0.100689</td>\n",
       "      <td>-0.177535</td>\n",
       "      <td>-0.306784</td>\n",
       "      <td>-0.274469</td>\n",
       "    </tr>\n",
       "    <tr>\n",
       "      <th>4</th>\n",
       "      <td>0.146544</td>\n",
       "      <td>0.098340</td>\n",
       "      <td>0.250931</td>\n",
       "      <td>-0.125070</td>\n",
       "      <td>-0.046823</td>\n",
       "      <td>0.094946</td>\n",
       "      <td>0.016475</td>\n",
       "      <td>0.185400</td>\n",
       "      <td>0.465600</td>\n",
       "      <td>-0.149655</td>\n",
       "      <td>...</td>\n",
       "      <td>-0.648235</td>\n",
       "      <td>-0.530195</td>\n",
       "      <td>-1.512057</td>\n",
       "      <td>26.860983</td>\n",
       "      <td>27.062850</td>\n",
       "      <td>26.907579</td>\n",
       "      <td>-0.100689</td>\n",
       "      <td>-0.177535</td>\n",
       "      <td>-0.306784</td>\n",
       "      <td>-0.274469</td>\n",
       "    </tr>\n",
       "    <tr>\n",
       "      <th>...</th>\n",
       "      <td>...</td>\n",
       "      <td>...</td>\n",
       "      <td>...</td>\n",
       "      <td>...</td>\n",
       "      <td>...</td>\n",
       "      <td>...</td>\n",
       "      <td>...</td>\n",
       "      <td>...</td>\n",
       "      <td>...</td>\n",
       "      <td>...</td>\n",
       "      <td>...</td>\n",
       "      <td>...</td>\n",
       "      <td>...</td>\n",
       "      <td>...</td>\n",
       "      <td>...</td>\n",
       "      <td>...</td>\n",
       "      <td>...</td>\n",
       "      <td>...</td>\n",
       "      <td>...</td>\n",
       "      <td>...</td>\n",
       "      <td>...</td>\n",
       "    </tr>\n",
       "    <tr>\n",
       "      <th>1562</th>\n",
       "      <td>-0.517139</td>\n",
       "      <td>-0.110096</td>\n",
       "      <td>-0.005517</td>\n",
       "      <td>3.708612</td>\n",
       "      <td>-0.047698</td>\n",
       "      <td>0.094946</td>\n",
       "      <td>-1.581192</td>\n",
       "      <td>0.286746</td>\n",
       "      <td>-1.311414</td>\n",
       "      <td>-0.242360</td>\n",
       "      <td>...</td>\n",
       "      <td>0.783434</td>\n",
       "      <td>2.258782</td>\n",
       "      <td>-0.074699</td>\n",
       "      <td>-0.058694</td>\n",
       "      <td>0.015030</td>\n",
       "      <td>-0.055631</td>\n",
       "      <td>-1.184641</td>\n",
       "      <td>-0.302368</td>\n",
       "      <td>-0.202194</td>\n",
       "      <td>1.103337</td>\n",
       "    </tr>\n",
       "    <tr>\n",
       "      <th>1563</th>\n",
       "      <td>0.246823</td>\n",
       "      <td>0.204859</td>\n",
       "      <td>0.084535</td>\n",
       "      <td>-0.565054</td>\n",
       "      <td>-0.058538</td>\n",
       "      <td>0.094946</td>\n",
       "      <td>-0.153221</td>\n",
       "      <td>-0.048477</td>\n",
       "      <td>-0.306246</td>\n",
       "      <td>-0.348308</td>\n",
       "      <td>...</td>\n",
       "      <td>-0.648235</td>\n",
       "      <td>-0.530195</td>\n",
       "      <td>-0.174091</td>\n",
       "      <td>-0.128570</td>\n",
       "      <td>-0.065629</td>\n",
       "      <td>-0.123601</td>\n",
       "      <td>-1.184641</td>\n",
       "      <td>-0.302368</td>\n",
       "      <td>-0.202194</td>\n",
       "      <td>1.103337</td>\n",
       "    </tr>\n",
       "    <tr>\n",
       "      <th>1564</th>\n",
       "      <td>-0.120418</td>\n",
       "      <td>-0.567887</td>\n",
       "      <td>0.121512</td>\n",
       "      <td>-0.595924</td>\n",
       "      <td>-0.059478</td>\n",
       "      <td>0.094946</td>\n",
       "      <td>-0.070186</td>\n",
       "      <td>-0.025089</td>\n",
       "      <td>-16.155624</td>\n",
       "      <td>0.055619</td>\n",
       "      <td>...</td>\n",
       "      <td>0.113291</td>\n",
       "      <td>0.067254</td>\n",
       "      <td>-0.082344</td>\n",
       "      <td>-0.000465</td>\n",
       "      <td>0.068803</td>\n",
       "      <td>-0.001920</td>\n",
       "      <td>-0.141135</td>\n",
       "      <td>-0.892490</td>\n",
       "      <td>-0.969186</td>\n",
       "      <td>-0.597485</td>\n",
       "    </tr>\n",
       "    <tr>\n",
       "      <th>1565</th>\n",
       "      <td>-0.539573</td>\n",
       "      <td>0.256061</td>\n",
       "      <td>-0.018427</td>\n",
       "      <td>-0.436304</td>\n",
       "      <td>-0.046124</td>\n",
       "      <td>0.094946</td>\n",
       "      <td>-0.124269</td>\n",
       "      <td>0.013890</td>\n",
       "      <td>0.013330</td>\n",
       "      <td>-0.421147</td>\n",
       "      <td>...</td>\n",
       "      <td>1.636342</td>\n",
       "      <td>0.753215</td>\n",
       "      <td>0.047630</td>\n",
       "      <td>0.145110</td>\n",
       "      <td>-0.011856</td>\n",
       "      <td>0.139891</td>\n",
       "      <td>0.384663</td>\n",
       "      <td>0.911921</td>\n",
       "      <td>0.773979</td>\n",
       "      <td>-0.065118</td>\n",
       "    </tr>\n",
       "    <tr>\n",
       "      <th>1566</th>\n",
       "      <td>-0.289749</td>\n",
       "      <td>-0.183706</td>\n",
       "      <td>0.069606</td>\n",
       "      <td>3.335460</td>\n",
       "      <td>-0.045674</td>\n",
       "      <td>0.094946</td>\n",
       "      <td>-1.329931</td>\n",
       "      <td>0.185400</td>\n",
       "      <td>-16.155624</td>\n",
       "      <td>0.055619</td>\n",
       "      <td>...</td>\n",
       "      <td>0.722511</td>\n",
       "      <td>1.361195</td>\n",
       "      <td>-0.082344</td>\n",
       "      <td>0.162579</td>\n",
       "      <td>0.041917</td>\n",
       "      <td>0.157030</td>\n",
       "      <td>-0.788271</td>\n",
       "      <td>-0.030004</td>\n",
       "      <td>-0.271920</td>\n",
       "      <td>0.406729</td>\n",
       "    </tr>\n",
       "  </tbody>\n",
       "</table>\n",
       "<p>1567 rows × 590 columns</p>\n",
       "</div>"
      ],
      "text/plain": [
       "           0         1         2         3         4         5         6    \\\n",
       "0     0.139998  0.429208  0.032735  0.059342 -0.049911  0.094946 -0.228536   \n",
       "1     0.464020 -0.105874  0.236852  0.173847 -0.059375  0.094946  0.187826   \n",
       "2    -0.351256  0.407233  0.026413  0.684661 -0.047236  0.094946 -0.415634   \n",
       "3    -0.070903 -0.025985  0.086766 -1.033387 -0.050620  0.094946  0.354494   \n",
       "4     0.146544  0.098340  0.250931 -0.125070 -0.046823  0.094946  0.016475   \n",
       "...        ...       ...       ...       ...       ...       ...       ...   \n",
       "1562 -0.517139 -0.110096 -0.005517  3.708612 -0.047698  0.094946 -1.581192   \n",
       "1563  0.246823  0.204859  0.084535 -0.565054 -0.058538  0.094946 -0.153221   \n",
       "1564 -0.120418 -0.567887  0.121512 -0.595924 -0.059478  0.094946 -0.070186   \n",
       "1565 -0.539573  0.256061 -0.018427 -0.436304 -0.046124  0.094946 -0.124269   \n",
       "1566 -0.289749 -0.183706  0.069606  3.335460 -0.045674  0.094946 -1.329931   \n",
       "\n",
       "           7          8         9    ...       580       581       582  \\\n",
       "0     0.239971   0.436850  1.128343  ... -0.648235 -0.530195  0.055275   \n",
       "1     0.278951   0.393723  0.022511  ...  1.179427  2.327864  0.162312   \n",
       "2     0.232175  -0.192349  0.327111  ...  3.859997  0.607241 -0.304064   \n",
       "3     0.045074   0.300837 -0.765478  ...  0.692050  0.483463 -0.059408   \n",
       "4     0.185400   0.465600 -0.149655  ... -0.648235 -0.530195 -1.512057   \n",
       "...        ...        ...       ...  ...       ...       ...       ...   \n",
       "1562  0.286746  -1.311414 -0.242360  ...  0.783434  2.258782 -0.074699   \n",
       "1563 -0.048477  -0.306246 -0.348308  ... -0.648235 -0.530195 -0.174091   \n",
       "1564 -0.025089 -16.155624  0.055619  ...  0.113291  0.067254 -0.082344   \n",
       "1565  0.013890   0.013330 -0.421147  ...  1.636342  0.753215  0.047630   \n",
       "1566  0.185400 -16.155624  0.055619  ...  0.722511  1.361195 -0.082344   \n",
       "\n",
       "            583        584        585       586       587       588       589  \n",
       "0     -0.204269  -0.092516  -0.196519 -1.734706 -1.868461 -1.840769 -1.061159  \n",
       "1      0.407145   0.445214   0.385516 -0.958144  0.412587  0.251029  1.156951  \n",
       "2      0.022827   0.015030   0.030373  2.989383  3.624211  3.318999 -0.178407  \n",
       "3     -0.291614  -0.361381  -0.282803 -0.100689 -0.177535 -0.306784 -0.274469  \n",
       "4     26.860983  27.062850  26.907579 -0.100689 -0.177535 -0.306784 -0.274469  \n",
       "...         ...        ...        ...       ...       ...       ...       ...  \n",
       "1562  -0.058694   0.015030  -0.055631 -1.184641 -0.302368 -0.202194  1.103337  \n",
       "1563  -0.128570  -0.065629  -0.123601 -1.184641 -0.302368 -0.202194  1.103337  \n",
       "1564  -0.000465   0.068803  -0.001920 -0.141135 -0.892490 -0.969186 -0.597485  \n",
       "1565   0.145110  -0.011856   0.139891  0.384663  0.911921  0.773979 -0.065118  \n",
       "1566   0.162579   0.041917   0.157030 -0.788271 -0.030004 -0.271920  0.406729  \n",
       "\n",
       "[1567 rows x 590 columns]"
      ]
     },
     "execution_count": 46,
     "metadata": {},
     "output_type": "execute_result"
    }
   ],
   "source": [
    "X_train[:5]"
   ]
  },
  {
   "cell_type": "markdown",
   "metadata": {
    "id": "LkS9fpo8vhdg"
   },
   "source": [
    "## 5.머신러닝 모델 학습"
   ]
  },
  {
   "cell_type": "markdown",
   "metadata": {
    "id": "AduA5z1_vhdg"
   },
   "source": [
    "### 로지스틱 회귀\n",
    "로지스틱 회귀는 선형 회귀 방식을 분류에 적용한 알고리즘입니다.\n",
    "\n",
    "로지스틱 회귀는 회귀라는 말이 들어갔지만 분류에 사용됩니다.\n",
    "\n",
    "로지스틱 회귀가 선형 회귀와 다른 점은 학습을 통해 선형 함수의 회귀 최적선을 찾는 것이 아닙니다.\n",
    "\n",
    "시그모이드 함수 최적선을 찾고 이 시그모이드 함수의 반환 값을 확률로 간주해 확률에 따라 분류를 결정한다는 점입니다.\n",
    "\n",
    "확률에 따라서 분류를 결정합니다.\n",
    "\n",
    "로지스틱 회귀는 주로 이진(0과 1) 분류에 사용됩니다. 로지스틱 회귀에서 예측 값은 예측 확률의 의미합니다.\n",
    "\n",
    "예측 값 즉, 예측 확률이 0.5이상이면 1로, 그렇지 않으면 0으로 예측합니다."
   ]
  },
  {
   "cell_type": "markdown",
   "metadata": {
    "id": "RE63Zwb2vhdg"
   },
   "source": [
    "### 5.1. 기본 분류 모델 학습 - 로지스틱 분류기"
   ]
  },
  {
   "cell_type": "code",
   "execution_count": null,
   "metadata": {
    "id": "_y0OH2upvhdg",
    "outputId": "90459219-1fc7-456a-e7ee-31cf07915acb"
   },
   "outputs": [
    {
     "name": "stdout",
     "output_type": "stream",
     "text": [
      "0.9738353541799617\n",
      "0.8466666666666667\n"
     ]
    }
   ],
   "source": [
    "from sklearn.linear_model import LogisticRegression\n",
    "\n",
    "# 로지스틱 분류기 모델 class를 가져 옵니다.\n",
    "# max_iter는 로지스틱 알고리즘의 반복 횟수를 정하는 파라미터로 본 실습에서는 default 값으로는 모자르기에 아래와 같이 설정합니다.\n",
    "model = ...   # ...  코드 입력\n",
    "\n",
    "# 데이터를 학습시킬 때는 fit 함수를 사용합니다.\n",
    "...   # ...  코드 입력\n",
    "\n",
    "# score 함수를 사용하여 모델의 성능을 확인합니다.\n",
    "print(model.score(X_train, y_train))\n",
    "print(model.score(X_test, y_test))"
   ]
  },
  {
   "cell_type": "code",
   "execution_count": null,
   "metadata": {
    "id": "FY0RAMSXvhdg",
    "outputId": "57784dec-4e8a-44f5-8c0d-05eca3b25b70"
   },
   "outputs": [
    {
     "data": {
      "text/plain": [
       "array([0.0198451 , 0.15293288, 0.22085496, 0.2444742 , 0.04826122,\n",
       "       0.44398903, 0.12385769, 0.51899094, 0.15569657, 0.32425601,\n",
       "       0.18248616, 0.0430093 , 0.2070548 , 0.        , 0.52263719,\n",
       "       0.2833257 , 0.59623985, 0.3142265 , 0.34900783, 0.14860258,\n",
       "       0.26744394, 0.54609978, 0.02177359, 0.15861112, 0.22443492,\n",
       "       0.93700487, 0.50897469, 0.04777091, 0.12998671, 0.90347061,\n",
       "       0.66721155, 0.06426501, 0.25465657, 0.43800629, 0.03908915,\n",
       "       0.4083541 , 0.19211482, 0.08596883, 0.11452151, 0.20774871,\n",
       "       0.44459186, 0.18050043, 0.01050238, 0.17752355, 0.01381023,\n",
       "       0.53517472, 0.25320538, 0.24842116, 0.39742337, 0.01050238,\n",
       "       0.23391517, 0.2057444 , 0.        , 0.43185854, 0.61641794,\n",
       "       0.26669695, 0.39028955, 0.25380964, 0.81489202, 1.54543369,\n",
       "       0.34274468, 0.43486029, 0.62325113, 0.50057619, 1.12139144,\n",
       "       0.92983804, 0.25901348, 0.57299986, 0.49312767, 0.02300687,\n",
       "       0.10534038, 0.46202346, 0.26603742, 0.04177238, 0.01557054,\n",
       "       0.36773316, 0.03607076, 0.33313862, 0.11087821, 0.06290472,\n",
       "       0.24752203, 0.22045859, 0.05445596, 0.19449455, 0.31497992,\n",
       "       0.39479874, 0.31906335, 0.05312911, 0.24637   , 0.34912028,\n",
       "       0.04526516, 0.29949773, 0.53476105, 0.05462796, 0.47280665,\n",
       "       0.07758333, 0.26674233, 0.        , 0.32339962, 0.77246051,\n",
       "       0.32535018, 0.30601055, 0.407937  , 0.12657732, 0.08005016,\n",
       "       0.46153091, 0.01386432, 0.29509715, 0.39102386, 0.42919642,\n",
       "       0.50038558, 0.37456451, 0.21069417, 0.1597921 , 0.18608794,\n",
       "       0.37969287, 0.14953552, 1.04335678, 0.18972718, 0.45380238,\n",
       "       0.05607428, 0.41091123, 0.0888126 , 0.24342151, 0.21058787,\n",
       "       0.08445914, 0.19936002, 0.31272039, 0.24368279, 0.66187055,\n",
       "       0.67102495, 0.36758517, 1.27333685, 0.5095634 , 0.17751897,\n",
       "       0.24283244, 0.41258552, 0.22761797, 0.36266608, 0.14372784,\n",
       "       0.0199534 , 0.        , 0.66236046, 0.20067836, 0.26944513,\n",
       "       0.2506666 , 0.34008762, 0.06307205, 0.33728715, 0.        ,\n",
       "       0.22256679, 0.5676278 , 0.21736634, 0.12400981, 0.1020967 ,\n",
       "       0.71807851, 0.10362924, 0.57340618, 0.23420528, 0.33951794,\n",
       "       0.02179857, 0.5510208 , 0.0857617 , 0.0526566 , 0.32705739,\n",
       "       0.01754655, 0.10671419, 0.11175045, 0.78550887, 0.13051155,\n",
       "       0.35699466, 0.21837825, 0.34585917, 0.12988508, 0.35037385,\n",
       "       0.21763643, 0.33118446, 0.1903916 , 0.        , 0.        ,\n",
       "       0.23057998, 0.08709091, 0.30534657, 0.09710629, 0.10778056,\n",
       "       0.06002581, 0.        , 0.12464642, 0.23882579, 0.        ,\n",
       "       0.        , 0.        , 0.        , 0.        , 0.        ,\n",
       "       0.30832717, 0.50417503, 0.2706128 , 0.02231479, 0.31462784,\n",
       "       0.39440365, 0.25760244, 0.29679207, 0.11235546, 0.43482785,\n",
       "       0.5553148 , 0.01557054, 0.35372676, 0.16197493, 0.01557054,\n",
       "       0.00224839, 0.03743336, 0.13608964, 0.22678082, 0.55077406,\n",
       "       0.17209422, 1.06036407, 0.21730908, 0.05499135, 0.01391541,\n",
       "       0.02544327, 0.464104  , 0.04032476, 0.38033367, 0.27099246,\n",
       "       0.08901073, 0.        , 0.24086231, 0.48005706, 0.        ,\n",
       "       0.        , 0.        , 0.        , 0.        , 0.        ,\n",
       "       0.        , 0.        , 0.        , 0.2278777 , 0.71604515,\n",
       "       0.        , 0.        , 0.        , 0.        , 0.04247239,\n",
       "       0.16137274, 0.26432895, 0.27180143, 0.38014607, 0.66811192,\n",
       "       0.27074674, 0.3174101 , 0.04615387, 0.16141637, 0.23857701,\n",
       "       0.07439563, 0.        , 0.        , 0.        , 0.        ,\n",
       "       0.        , 0.        , 0.        , 0.        , 0.        ,\n",
       "       0.        , 0.        , 0.22656775, 0.41519353, 0.13340476,\n",
       "       0.27818161, 0.63843202, 0.53993784, 0.56274329, 0.36752804,\n",
       "       0.01957245, 0.        , 0.49188791, 0.20356036, 0.35160605,\n",
       "       0.21998371, 0.14494047, 0.21522307, 0.44960555, 0.        ,\n",
       "       0.0072771 , 0.41976753, 0.25386965, 0.06393587, 0.37964346,\n",
       "       0.29612206, 0.48385079, 0.00847801, 0.1458415 , 0.11556833,\n",
       "       0.17446495, 0.22930159, 0.16570416, 0.14877873, 0.11412914,\n",
       "       0.10138796, 0.01239688, 0.3980593 , 0.29336377, 0.20613682,\n",
       "       0.74537882, 0.22415724, 0.1861974 , 0.10794243, 0.18341943,\n",
       "       0.33365122, 0.70407199, 0.24482022, 0.        , 0.        ,\n",
       "       0.        , 0.61625216, 0.17625753, 0.63423942, 0.04074974,\n",
       "       0.27311263, 0.31176491, 0.        , 0.15031179, 0.34941453,\n",
       "       0.        , 0.        , 0.        , 0.        , 0.        ,\n",
       "       0.        , 0.1190964 , 0.76721255, 0.82983443, 0.22020888,\n",
       "       0.28455663, 0.20319289, 0.20669376, 0.50814714, 0.29221793,\n",
       "       0.4325319 , 0.37849841, 0.01557054, 0.1941653 , 0.49790374,\n",
       "       0.35363202, 0.32561943, 0.01557054, 0.37218993, 0.62247507,\n",
       "       0.2450433 , 0.19700612, 0.11250816, 0.07046766, 0.67428232,\n",
       "       0.16798597, 0.06779394, 0.50890648, 0.23288266, 0.46877608,\n",
       "       0.02790221, 0.78105438, 0.06453732, 0.50411407, 0.        ,\n",
       "       0.91645071, 0.39979601, 0.61424115, 0.10183842, 0.        ,\n",
       "       0.        , 0.        , 0.        , 0.        , 0.        ,\n",
       "       0.        , 0.20550073, 0.66347042, 0.        , 0.        ,\n",
       "       0.        , 0.        , 0.06114652, 0.20258163, 0.0811541 ,\n",
       "       0.19053693, 0.52703863, 0.63042667, 0.82628085, 0.31244629,\n",
       "       0.09626154, 0.37688036, 0.21428491, 0.374065  , 0.        ,\n",
       "       0.        , 0.        , 0.        , 0.        , 0.        ,\n",
       "       0.        , 0.        , 0.        , 0.        , 0.        ,\n",
       "       0.25004915, 0.57172495, 0.02106784, 0.19974914, 0.13913135,\n",
       "       0.41474229, 0.43248221, 0.08173759, 0.31640686, 0.        ,\n",
       "       0.71281089, 0.27328221, 0.04656025, 0.12333541, 0.00873844,\n",
       "       0.02363167, 0.3246142 , 0.        , 0.1935303 , 0.64164778,\n",
       "       1.09029928, 0.13474139, 0.05208037, 0.62449283, 0.16745387,\n",
       "       0.34220325, 0.07212065, 0.17603499, 0.0444881 , 0.1267221 ,\n",
       "       0.10316262, 0.32811676, 0.50133648, 0.14712429, 0.42423602,\n",
       "       0.20101554, 0.4030954 , 0.01513991, 0.2979373 , 0.13267097,\n",
       "       0.37981567, 0.197758  , 0.31936556, 0.19166441, 0.        ,\n",
       "       0.        , 0.        , 0.16378785, 0.06145811, 0.60874439,\n",
       "       0.15034328, 0.1804181 , 0.16740036, 0.        , 0.16209405,\n",
       "       0.68136103, 0.        , 0.        , 0.        , 0.        ,\n",
       "       0.        , 0.        , 0.2088975 , 0.0566787 , 0.12543483,\n",
       "       0.13844853, 0.94630381, 0.02350107, 0.17576255, 0.35709794,\n",
       "       0.10787121, 0.01060502, 0.33249678, 0.01557054, 0.25503036,\n",
       "       0.02690152, 0.        , 0.16122028, 0.11439114, 0.14847001,\n",
       "       0.36328334, 0.4027652 , 0.22704736, 0.58702433, 0.08771898,\n",
       "       0.06446767, 0.6981287 , 0.01310183, 0.43639711, 0.07548744,\n",
       "       0.432422  , 0.16063745, 0.09808628, 0.        , 0.06640877,\n",
       "       0.35960582, 0.        , 0.        , 0.        , 0.        ,\n",
       "       0.        , 0.        , 0.        , 0.        , 0.        ,\n",
       "       0.06025642, 0.23490402, 0.        , 0.        , 0.        ,\n",
       "       0.        , 0.04301517, 0.16807768, 0.25999578, 0.03702403,\n",
       "       0.3533872 , 0.11295838, 0.08571656, 0.33225024, 0.18260538,\n",
       "       0.02230573, 0.27926757, 0.12234419, 0.        , 0.        ,\n",
       "       0.        , 0.        , 0.        , 0.        , 0.        ,\n",
       "       0.        , 0.        , 0.        , 0.        , 0.03162481,\n",
       "       0.44166741, 0.13017891, 0.02135843, 0.54073107, 0.38218957,\n",
       "       0.17826254, 0.58113024, 0.06447551, 0.1269491 , 0.2909331 ,\n",
       "       0.17525394, 0.06846224, 0.15070419, 0.13950229, 0.27752453,\n",
       "       0.12261763, 0.3452805 , 0.07666139, 0.37056785, 0.11314818,\n",
       "       0.51801952, 0.3618299 , 0.01959712, 0.32101146, 0.36354393,\n",
       "       0.08181466, 0.7425445 , 0.15596844, 0.54770211, 0.07008932,\n",
       "       0.04511343, 0.08066926, 0.00813661, 0.05968656, 0.39341618,\n",
       "       0.14871027, 0.23395737, 0.39333021, 0.49504522, 0.30360095,\n",
       "       0.21707155, 0.38512261, 0.55758389, 0.04266775, 0.10558206,\n",
       "       0.01506976, 0.06166098, 0.15769899, 0.08114717, 0.10256505])"
      ]
     },
     "execution_count": 48,
     "metadata": {},
     "output_type": "execute_result"
    }
   ],
   "source": [
    "# Logistic Regression의 중요도를 계산합니다.\n",
    "# 가중치 값들의 크기로 판단하기에 .coef_로 해당 값들을 불러옵니다.\n",
    "abs_coef = np.abs(model.coef_).ravel()\n",
    "abs_coef"
   ]
  },
  {
   "cell_type": "code",
   "execution_count": null,
   "metadata": {
    "id": "lIvXeEpXvhdg",
    "outputId": "a94c4798-b2fa-41e5-a1a7-c4caa3ee99bd"
   },
   "outputs": [
    {
     "data": {
      "image/png": "[encoded data removed]",
      "text/plain": [
       "<Figure size 1500x1000 with 1 Axes>"
      ]
     },
     "metadata": {},
     "output_type": "display_data"
    }
   ],
   "source": [
    "# bar 형태 그래프로 Logistic Regression의 feature 별 중요도를 상위 20개 출력합니다.\n",
    "# 상위 20개의 feature 정보를 출력하기 위하여 sorting을 수행하고 해당 feature 번호를 LR_imort_x에 저장합니다.\n",
    "LR_import_x = [str(i[0]) for i in sorted(enumerate(abs_coef), key=lambda x:x[1], reverse=True)]\n",
    "\n",
    "plt.bar(LR_import_x[:20], sorted(abs_coef, reverse=True)[:20])\n",
    "\n",
    "plt.rcParams['figure.figsize'] = (15, 10)\n",
    "plt.xlabel('Features')\n",
    "plt.ylabel('Weight absolute values')\n",
    "plt.show()"
   ]
  },
  {
   "cell_type": "markdown",
   "metadata": {
    "id": "ggD-5N-svhdh"
   },
   "source": [
    "### 5.2. 다양한 분류 모델 학습"
   ]
  },
  {
   "cell_type": "code",
   "execution_count": null,
   "metadata": {
    "id": "iVmsKfpqvhdh"
   },
   "outputs": [],
   "source": [
    "#xgboost 설치가 잘 안되면 Anaconda Powershell Prompt(anaconda3)에서 해봅니다.\n",
    "from sklearn.discriminant_analysis import LinearDiscriminantAnalysis\n",
    "from sklearn.neighbors import KNeighborsClassifier\n",
    "from sklearn.tree import DecisionTreeClassifier\n",
    "from sklearn.naive_bayes import GaussianNB\n",
    "from sklearn.ensemble import RandomForestClassifier\n",
    "from sklearn.svm import SVC\n",
    "\n",
    "#여러 모델을 append해서 추가합니다.\n",
    "models = []\n",
    "models.append(('LDA', LinearDiscriminantAnalysis()))  # LDA 모델\n",
    "models.append(('KNN', KNeighborsClassifier()))  # KNN 모델\n",
    "models.append(('CART', DecisionTreeClassifier()))  # 의사결정트리 모델\n",
    "models.append(('NB', GaussianNB()))  # 가우시안 나이브 베이즈 모델\n",
    "models.append(('RF', RandomForestClassifier()))  # 랜덤포레스트 모델\n",
    "models.append(('SVM', SVC(gamma='auto')))  # SVM 모델\n",
    "\n",
    "for name, model in models:\n",
    "    # fit으로 학습을 합니다.\n",
    "    model.fit(x_train, y_train)\n",
    "\n",
    "    # %s와 %f는 문자열 포맷팅으로 %s는 문자열, %f는 숫자형 데이터를 말합니다.\n",
    "    # 문자열 포맷팅 값은 괄호()안의 값과 대응됩니다.\n",
    "    # score 함수를 사용하여 모델의 성능을 확인합니다.\n",
    "    msg = \"%s - train_score : %f, test score : %f\" % (name, model.score(x_train, y_train), model.score(x_test, y_test))\n",
    "    print(msg)"
   ]
  },
  {
   "cell_type": "markdown",
   "metadata": {
    "id": "r1l_9lf7vhdh"
   },
   "source": [
    "### 앙상블모델 - xgboost  사용해보기"
   ]
  },
  {
   "cell_type": "code",
   "execution_count": null,
   "metadata": {
    "id": "HbIQVGYSvhdh"
   },
   "outputs": [],
   "source": [
    "from xgboost.sklearn import XGBClassifier\n",
    "import xgboost as xgb\n",
    "\n",
    "model_xgb = XGBClassifier()  # XGB 모델\n",
    "\n",
    "import numpy as np\n",
    "\n",
    "#y_train에서 -1을 0으로 변경\n",
    "y_train_modified = np.where(y_train == -1, 0, y_train)\n",
    "y_test_modified = np.where(y_test == -1, 0, y_test)\n",
    "\n",
    "model_xgb.fit(x_train, y_train_modified)\n",
    "\n",
    "# %s와 %f는 문자열 포맷팅으로 %s는 문자열, %f는 숫자형 데이터를 말합니다.\n",
    "# 문자열 포맷팅 값은 괄호()안의 값과 대응됩니다.\n",
    "# score 함수를 사용하여 모델의 성능을 확인합니다.\n",
    "msg = \"%s - train_score : %f, test score : %f\" % (name, model.score(x_train, y_train_modified), model.score(x_test, y_test_modified))\n",
    "print(msg)"
   ]
  },
  {
   "cell_type": "code",
   "execution_count": null,
   "metadata": {
    "id": "x7tPT6nkvhdh",
    "outputId": "dd8c6a76-6306-476b-9634-32edec11640b"
   },
   "outputs": [
    {
     "data": {
      "image/png": "[encoded data removed]",
      "text/plain": [
       "<Figure size 1080x720 with 1 Axes>"
      ]
     },
     "metadata": {},
     "output_type": "display_data"
    }
   ],
   "source": [
    "# xgb 모델에서 변수 중요도를 출력합니다.\n",
    "# xgboost 모듈의 plot_importance는 피처 중요도를 시각화할 때 사용합니다.\n",
    "# importance_type는 중요도가 어떻게 계산되는지 정합니다.\n",
    "# weight는 나온 횟수를 말합니다. gain은 평균적인 이득을 말합니다. cover는 coverage의 평균입니다.\n",
    "\n",
    "# 피처 중요도를 그래프로 표현합니다.\n",
    "xgb.plot_importance(model_xgb.get_booster(), height=1, grid=True, importance_type='total_gain', show_values=False, max_num_features=20)\n",
    "\n",
    "plt.rcParams['figure.figsize'] = (10, 15)\n",
    "plt.xlabel('The F-Score for each features')\n",
    "plt.ylabel('Features')\n",
    "plt.show()"
   ]
  },
  {
   "cell_type": "markdown",
   "metadata": {
    "id": "jYyHtrBTvhdh"
   },
   "source": []
  },
  {
   "cell_type": "markdown",
   "metadata": {
    "id": "0HXnJBiVvhdh"
   },
   "source": [
    "## 6.평가 및 예측"
   ]
  },
  {
   "cell_type": "markdown",
   "metadata": {
    "id": "SULANOL0vhdi"
   },
   "source": [
    "학습 과정에서 학습 데이터와 테스트 데이터에 대해서 accuracy 계산하여 평가하였습니다.\n",
    "\n",
    "accuracy의 경우 아래 식에서 알 수 있듯이 얼마나 정확히 예측했는가를 정량적으로 나타냅니다.\n",
    "\n",
    "$Accuracy = \\frac{Number \\;of \\;correct \\;predictions}{Total \\; number \\;of \\;predictions} $\n",
    "\n",
    "Accuracy 값이 높으면 좋은 성능을 낸다고도 할 수 있지만 이번 실습인 공정 이상 예측에서는 recall 값 또한 살펴봐야 합니다.\n",
    "\n",
    "오차행렬(Confusion Matrix)은 이진 분류의 예측 오류가 얼마인지와 더불어 어떠한 유형의 예측 오류가 발생하고 있는지를 함께 나타내는 지표입니다.\n",
    "\n",
    "+ TN : Negative(0)로 예측했고, 실제로도 True인 경우 - 실제는 Negative\n",
    "+ FP : Positive(1)로 예측했지만 실제는 False인 경우 - 실제는 Negative\n",
    "+ FN : Negative(0)로 예측했고, 실제는 False인 경우 - 실제는 Positive\n",
    "+ TP : Positive(1)로 예측했고, 실제로도 True인 경우 - 실제는 Positive\n",
    "\n",
    "공정 이상 예측에서 중요한 것은 이상 없음을 정확히 예측하는 것 보단 이상 있음을 정확히 예측하는 것입니다.\n",
    "\n",
    "recall 방식은 `예측한 이상 있음` 대비 `실제 이상 있음`의 비율을 나타내기에 accuracy에서 놓칠 수 있는 결과 해석을 보충합니다.\n",
    "\n",
    "정밀도(Precision)는 예측을 Positve로 한 대상 중에 예측과 실제 값이 Positive로 일치한 데이터의 비율을 뜻합니다. 정밀도는 FP가 낮아야 합니다.\n",
    "+ TP / (FP + TP)\n",
    "\n",
    "재현율(recall)은 실제 값이 Positive인 대상 중에 예측과 실제 값이 Positive로 일치한 데이터의 비율을 말합니다. 재현율은 FN이 낮아야 합니다.\n",
    "+ TP / (FN + TP)\n",
    "\n",
    "\n",
    "이번 파트에서는 recall 방식을 포함한 또 다른 대표적인 평가 방법에 대해서 알아보고 주어진 데이터에 대해서 예측하는 것을 수행해보겠습니다."
   ]
  },
  {
   "cell_type": "markdown",
   "metadata": {
    "id": "uxMzY4v_vhdi"
   },
   "source": [
    "### 6.1. Confusion Matrix"
   ]
  },
  {
   "cell_type": "markdown",
   "metadata": {
    "id": "dYYu6wJFvhdi"
   },
   "source": [
    "기존 score에서 볼 수 있었던 결과는 accuracy 기반의 결과였습니다. confusion matrix를 출력하여 각 class 별로 예측한 결과에 대해서 자세히 알아봅시다."
   ]
  },
  {
   "cell_type": "code",
   "execution_count": null,
   "metadata": {
    "id": "0Sb6nl-Avhdi",
    "outputId": "b0b53583-43ec-40f0-e3de-e1effa651955"
   },
   "outputs": [
    {
     "data": {
      "image/png": "[encoded data removed]",
      "text/plain": [
       "<Figure size 500x500 with 2 Axes>"
      ]
     },
     "metadata": {},
     "output_type": "display_data"
    },
    {
     "data": {
      "text/plain": [
       "array([[1448,   15],\n",
       "       [  29,   75]], dtype=int64)"
      ]
     },
     "execution_count": 54,
     "metadata": {},
     "output_type": "execute_result"
    }
   ],
   "source": [
    "from sklearn.metrics import confusion_matrix\n",
    "import seaborn as sns\n",
    "\n",
    "# LinearDiscriminantAnalysis 모델의 confusion matrix를 사용하기 위하여 학습용 데이터의 예측값을 저장합니다.\n",
    "# models[0]는 LDA\n",
    "model_predition_train = models[0][1].predict(x_train)\n",
    "\n",
    "# sklearn에서 제공하는 confusion_matrix를 사용합니다.\n",
    "cm_train = ...    # ... 코드입력\n",
    "\n",
    "# 출력 파트 - seaborn의 heatmap을 사용\n",
    "plt.rcParams['figure.figsize'] = (5, 5)\n",
    "sns.set(style = 'dark', font_scale = 1.4)\n",
    "\n",
    "# annot은 annotate each cell with numeric value로 셀에 숫자값을 표시하는지 정하는 것입니다.\n",
    "# cmap으로 색깔을 지정할 수 있습니다. cmap='RdYlGn_r' cmap=\"YlGnBu\"\n",
    "ax = sns.heatmap(cm_train, annot=True)\n",
    "plt.xlabel('Prediction')\n",
    "plt.ylabel('Real Data')\n",
    "ax.set_xticklabels((-1,1))\n",
    "ax.set_yticklabels((-1,1))\n",
    "plt.show()\n",
    "cm_train"
   ]
  },
  {
   "cell_type": "markdown",
   "metadata": {
    "id": "iio2PY_tvhdi"
   },
   "source": [
    "위 confusion matrix에서 x 축은 실제 데이터의 label을 의미하고 y 축은 예측한 데이터의 label을 의미합니다.\n",
    "\n",
    "- **0,0 의 값:** `이상 없음(Pass)` 이라고 예측했을 때, 실제 데이터가 `이상 없음(Pass)`인 경우의 개수\n",
    "- **0,1 의 값:** `이상 있음(Fail)` 이라고 예측했을 때, 실제 데이터가 `이상 없음(Pass)`인 경우의 개수\n",
    "- **1,0 의 값:** `이상 없음(Pass)` 이라고 예측했을 때, 실제 데이터가 `이상 있음(Fail)`인 경우의 개수\n",
    "- **1,1 의 값:** `이상 있음(Fail)` 이라고 에측했을 때, 실제 데이터가 `이상 있음(Fail)`인 경우의 개수"
   ]
  },
  {
   "cell_type": "code",
   "execution_count": null,
   "metadata": {
    "id": "MFZlaH_lvhdi"
   },
   "outputs": [],
   "source": [
    "# LinearDiscriminantAnalysis의 x_test에 대한 예측값을 구하고 confusion_matrix() 를 사용하면 confusion matrix를 구할 수 있습니다.\n",
    "\n",
    "model_predition_train = models[0][1].predict(x_test)\n",
    "\n",
    "# sklearn에서 제공하는 confusion_matrix를 사용합니다.\n",
    "cm_test = confusion_matrix(y_test, model_predition_train)\n"
   ]
  },
  {
   "cell_type": "markdown",
   "metadata": {
    "id": "dwuJl_Hhvhdi"
   },
   "source": [
    "### 6.2. Precision & Recall"
   ]
  },
  {
   "cell_type": "markdown",
   "metadata": {
    "id": "OSC3KfYzvhdi"
   },
   "source": [
    "분류 모델의 또 다른 성능 지표로 Precsion과 Recall를 구하여 봅시다."
   ]
  },
  {
   "cell_type": "code",
   "execution_count": null,
   "metadata": {
    "id": "CViHwqlBvhdi",
    "outputId": "ad9ee2e0-43d6-4340-cd57-fccc2a07ca51"
   },
   "outputs": [
    {
     "name": "stdout",
     "output_type": "stream",
     "text": [
      "Recall score: 0.7795527156549521\n",
      "Precision score: 0.9959183673469387\n"
     ]
    }
   ],
   "source": [
    "from sklearn.metrics import recall_score\n",
    "from sklearn.metrics import precision_score\n",
    "\n",
    "# sklearn에서 제공하는 recall_score, precision_score를 사용하여 recall과 precision 결과물을 출력합니다.\n",
    "print(\"Recall score: {}\".format(recall_score(y_test, models[0][1].predict(x_test))))\n",
    "print(\"Precision score: {}\".format(precision_score(y_test, models[0][1].predict(x_test))))"
   ]
  },
  {
   "cell_type": "markdown",
   "metadata": {
    "id": "J0IfRqHkvhdi"
   },
   "source": [
    "### 6.3. 테스트 데이터의 예측값 출력"
   ]
  },
  {
   "cell_type": "markdown",
   "metadata": {
    "id": "pfPCbZiOvhdi"
   },
   "source": [
    "테스트 데이터를 하나씩 입력하여 그 결과를 출력해 봅시다."
   ]
  },
  {
   "cell_type": "code",
   "execution_count": null,
   "metadata": {
    "id": "kNH9U-n-vhdi",
    "outputId": "c0d55acd-2064-4bfd-8b39-b21c9b587e23",
    "scrolled": true
   },
   "outputs": [
    {
     "name": "stdout",
     "output_type": "stream",
     "text": [
      "0 번째 테스트 데이터의 예측 결과: 1, 실제 데이터: 1\n",
      "1 번째 테스트 데이터의 예측 결과: 1, 실제 데이터: -1\n",
      "2 번째 테스트 데이터의 예측 결과: -1, 실제 데이터: -1\n",
      "3 번째 테스트 데이터의 예측 결과: -1, 실제 데이터: 1\n",
      "4 번째 테스트 데이터의 예측 결과: 1, 실제 데이터: 1\n",
      "5 번째 테스트 데이터의 예측 결과: -1, 실제 데이터: -1\n",
      "6 번째 테스트 데이터의 예측 결과: -1, 실제 데이터: -1\n",
      "7 번째 테스트 데이터의 예측 결과: 1, 실제 데이터: 1\n",
      "8 번째 테스트 데이터의 예측 결과: 1, 실제 데이터: 1\n",
      "9 번째 테스트 데이터의 예측 결과: 1, 실제 데이터: 1\n"
     ]
    }
   ],
   "source": [
    "# 0번부터 9번까지 10개를 출력해보겠습니다.\n",
    "for i in range(10):\n",
    "\n",
    "    # LDA 모델을 사용하였습니다.\n",
    "    # reshape()에서 -1이 들어간 곳은 가변적으로 바꿉니다. 예를 들어 12개의 원소가 있고 reshape(-1,2)를 하면 열 2개를 맞추기 위해서 행을 6개로 바꿉니다.\n",
    "    prediction = models[0][1].predict(x_test[i].reshape(1,-1))\n",
    "\n",
    "    #문자열 포맷팅의 방법입니다. {}가 괄호()안의 값에 각각 대응됩니다.\n",
    "    print(\"{} 번째 테스트 데이터의 예측 결과: {}, 실제 데이터: {}\".format(i, prediction[0], y_test[i]))"
   ]
  },
  {
   "cell_type": "markdown",
   "metadata": {
    "id": "BUurkyoZrZUL"
   },
   "source": [
    "### 6.4.타겟데이터 증강한 후 다시 모델 학습 진행"
   ]
  },
  {
   "cell_type": "code",
   "execution_count": null,
   "metadata": {
    "id": "vZxrI_9-rZmh"
   },
   "outputs": [],
   "source": [
    "from sklearn.model_selection import train_test_split\n",
    "from sklearn.preprocessing import StandardScaler\n",
    "from imblearn.over_sampling import SMOTE\n",
    "from sklearn.discriminant_analysis import LinearDiscriminantAnalysis\n",
    "from sklearn.neighbors import KNeighborsClassifier\n",
    "from sklearn.tree import DecisionTreeClassifier\n",
    "from sklearn.naive_bayes import GaussianNB\n",
    "from sklearn.ensemble import RandomForestClassifier\n",
    "from sklearn.svm import SVC\n",
    "\n",
    "# 데이터 로드\n",
    "train_data = pd.read_csv('./data/uci-secom.csv')\n",
    "test_data = pd.read_csv('./data/uci-secom-test.csv')\n",
    "\n",
    "train_data = train_data.replace(np.NaN, 0)\n",
    "train_data = train_data.drop(columns = ['Time'], axis = 1)\n",
    "\n",
    "# 데이터 분리 (학습 데이터와 테스트 데이터)\n",
    "X_train = train_data.drop(columns=['Pass/Fail'])\n",
    "y_train = train_data['Pass/Fail']\n",
    "X_test = test_data.drop(columns=['Pass/Fail'])\n",
    "y_test = test_data['Pass/Fail']\n",
    "\n",
    "# 데이터 스케일링\n",
    "scaler = StandardScaler()\n",
    "X_train_scaled = scaler.fit_transform(X_train)\n",
    "X_test_scaled = scaler.transform(X_test)\n",
    "\n",
    "# 데이터 불균형 해결 (SMOTE 사용)\n",
    "smote = SMOTE(random_state=42)\n",
    "X_train_res, y_train_res = smote.fit_resample(X_train_scaled, y_train)\n",
    "\n",
    "# 여러 모델 학습 및 평가\n",
    "models = []\n",
    "models.append(('LDA', LinearDiscriminantAnalysis()))\n",
    "models.append(('KNN', KNeighborsClassifier()))\n",
    "models.append(('DecisionTree', DecisionTreeClassifier()))\n",
    "models.append(('NB', GaussianNB()))\n",
    "models.append(('RandomForest', RandomForestClassifier()))\n",
    "models.append(('SVM', SVC(gamma='auto')))\n",
    "\n",
    "results = []\n",
    "\n",
    "for name, model in models:\n",
    "    model.fit(X_train_res, y_train_res)\n",
    "    train_score = model.score(X_train_res, y_train_res)\n",
    "    test_score = model.score(X_test_scaled, y_test)\n",
    "    results.append((name, train_score, test_score))\n",
    "    msg = f\"{name} - train_score : {train_score:.6f}, test score : {test_score:.6f}\"\n",
    "    print(msg)\n",
    "\n",
    "# 결과 출력\n",
    "results_df = pd.DataFrame(results, columns=[\"Model\", \"Train Score\", \"Test Score\"])\n",
    "results_df"
   ]
  }
 ],
 "metadata": {
  "colab": {
   "provenance": [],
   "toc_visible": true
  },
  "kernelspec": {
   "display_name": "panel",
   "language": "python",
   "name": "python3"
  },
  "language_info": {
   "codemirror_mode": {
    "name": "ipython",
    "version": 3
   },
   "file_extension": ".py",
   "mimetype": "text/x-python",
   "name": "python",
   "nbconvert_exporter": "python",
   "pygments_lexer": "ipython3",
   "version": "3.11.11"
  },
  "toc": {
   "base_numbering": 1,
   "nav_menu": {},
   "number_sections": false,
   "sideBar": true,
   "skip_h1_title": false,
   "title_cell": "Table of Contents",
   "title_sidebar": "Contents",
   "toc_cell": false,
   "toc_position": {
    "height": "calc(100% - 180px)",
    "left": "10px",
    "top": "150px",
    "width": "384px"
   },
   "toc_section_display": true,
   "toc_window_display": true
  },
  "varInspector": {
   "cols": {
    "lenName": 16,
    "lenType": 16,
    "lenVar": 40
   },
   "kernels_config": {
    "python": {
     "delete_cmd_postfix": "",
     "delete_cmd_prefix": "del ",
     "library": "var_list.py",
     "varRefreshCmd": "print(var_dic_list())"
    },
    "r": {
     "delete_cmd_postfix": ") ",
     "delete_cmd_prefix": "rm(",
     "library": "var_list.r",
     "varRefreshCmd": "cat(var_dic_list()) "
    }
   },
   "types_to_exclude": [
    "module",
    "function",
    "builtin_function_or_method",
    "instance",
    "_Feature"
   ],
   "window_display": false
  }
 },
 "nbformat": 4,
 "nbformat_minor": 0
}
