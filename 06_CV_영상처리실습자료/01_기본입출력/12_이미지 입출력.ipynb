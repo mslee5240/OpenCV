{
 "cells": [
  {
   "cell_type": "markdown",
   "metadata": {},
   "source": [
    "# 1.이미지 입출력 \n",
    "## 이미지표시\n",
    "- https://www.pexels.com/ko-kr/ 에서 고양이 무료 이미지 다운로드"
   ]
  },
  {
   "cell_type": "markdown",
   "metadata": {},
   "source": [
    "#### <span style=\"color:blue\"> imread() - 파일 읽기 함수\n",
    "\n",
    "- `image = cv2.imread(fileName[, flags])`->retval\n",
    "    - fileName:읽어올 파일명\n",
    "    - flags : 이미지를 초기에 불러올 때 적용할 초기 상태를 의미합니다.\n",
    "        - cv2.IMREAD_UNCHANGED : 원본 사용(-1), alpha channel까지 포함해읽음(png파일)\n",
    "        - cv2.IMREAD_GRAYSCALE : 그레이스케일로 읽음(0), 1 채널, 실제 이미지 처리시 중간단계로 많이 사용한다.\n",
    "        - cv2.IMREAD_COLOR : COLOR로 읽음(1) , 3 채널, 투명한 부분은 무시되며, flag디폴트 값이다.\n"
   ]
  },
  {
   "cell_type": "markdown",
   "metadata": {},
   "source": [
    "#### <span style=\"color:blue\"> imshow() 화면 표시 함수\n",
    "- 이미지 배열을 창(window)에 표시하며, 창 이름과 이미지 데이터를 인수로 받음\n",
    "- 이미지를 출력한 후에는 반드시 cv2.waitKey로 사용자 입력을 기다리거나, 창이 유지되어야 함함\n",
    "- `cv2.imshow(Title, imageObject)`\n",
    "    - Title (Required): 이미지를 보여주는 Window 창의 이름임.\n",
    "    - imageObject (Required): 이미지 객체행렬로 cv2.imread()의 반환값을 입력하면 됨.\n",
    "- Google Colab에서는 cv2_imshow() 사용"
   ]
  },
  {
   "cell_type": "code",
   "execution_count": 1,
   "metadata": {},
   "outputs": [],
   "source": [
    "import cv2\n",
    "\n",
    "img_file = '../cv_images/img.jpg'\n",
    "img = cv2.imread(img_file)              # 이미지 파일을 메모리에 읽기\n",
    "cv2.imshow('img', img)                    # 해당 이미지 표시\n",
    "\n",
    "cv2.waitKey(0)                            # 아무키나 누르면 이미지 표시창이 종료됩니다.\n",
    "cv2.destroyAllWindows()"
   ]
  },
  {
   "cell_type": "markdown",
   "metadata": {},
   "source": [
    "### 이미지 읽어 보여주기 - 기본모드"
   ]
  },
  {
   "cell_type": "code",
   "execution_count": null,
   "metadata": {},
   "outputs": [
    {
     "ename": "error",
     "evalue": "OpenCV(4.11.0) D:\\a\\opencv-python\\opencv-python\\opencv\\modules\\highgui\\src\\window.cpp:973: error: (-215:Assertion failed) size.width>0 && size.height>0 in function 'cv::imshow'\n",
     "output_type": "error",
     "traceback": [
      "\u001b[1;31m---------------------------------------------------------------------------\u001b[0m",
      "\u001b[1;31merror\u001b[0m                                     Traceback (most recent call last)",
      "Cell \u001b[1;32mIn[1], line 6\u001b[0m\n\u001b[0;32m      3\u001b[0m img_file \u001b[38;5;241m=\u001b[39m \u001b[38;5;124m'\u001b[39m\u001b[38;5;124m./cv_images/img.jpg\u001b[39m\u001b[38;5;124m'\u001b[39m\n\u001b[0;32m      4\u001b[0m img \u001b[38;5;241m=\u001b[39m cv2\u001b[38;5;241m.\u001b[39mimread(img_file)   \u001b[38;5;66;03m# 해당 경로의 파일 읽어오기\u001b[39;00m\n\u001b[1;32m----> 6\u001b[0m cv2\u001b[38;5;241m.\u001b[39mimshow(\u001b[38;5;124m'\u001b[39m\u001b[38;5;124mimg\u001b[39m\u001b[38;5;124m'\u001b[39m, img)       \u001b[38;5;66;03m# img 라는 이름의 창에 img를 표시\u001b[39;00m\n\u001b[0;32m      8\u001b[0m cv2\u001b[38;5;241m.\u001b[39mwaitKey(\u001b[38;5;241m0\u001b[39m)               \u001b[38;5;66;03m# 지정된 시간동안 사용자 키 입력대기 , 0-무한정\u001b[39;00m\n\u001b[0;32m      9\u001b[0m cv2\u001b[38;5;241m.\u001b[39mdestroyAllWindows()\n",
      "\u001b[1;31merror\u001b[0m: OpenCV(4.11.0) D:\\a\\opencv-python\\opencv-python\\opencv\\modules\\highgui\\src\\window.cpp:973: error: (-215:Assertion failed) size.width>0 && size.height>0 in function 'cv::imshow'\n"
     ]
    }
   ],
   "source": [
    "# 방법1\n",
    "import cv2\n",
    "img_file = './cv_images/img.jpg'\n",
    "img = cv2.imread(img_file)   # 해당 경로의 파일 읽어오기\n",
    "\n",
    "cv2.imshow('img', img)       # img 라는 이름의 창에 img를 표시\n",
    "# 이미지가 없어서 imshow(뿌려주는) 상태에서 에러가 발생생\n",
    "\n",
    "cv2.waitKey(0)               # 지정된 시간동안 사용자 키 입력대기 , 0-무한정\n",
    "cv2.destroyAllWindows()      # 모든 창 닫기"
   ]
  },
  {
   "cell_type": "code",
   "execution_count": 4,
   "metadata": {},
   "outputs": [
    {
     "name": "stdout",
     "output_type": "stream",
     "text": [
      "No image file.\n"
     ]
    }
   ],
   "source": [
    "# 방법2\n",
    "img_file = '../cv_images/img.png'\n",
    "img = cv2.imread(img_file)    # 이미지를 읽어서 img 변수에 할당 \n",
    "\n",
    "if img is not None:\n",
    "    cv2.imshow('IMG', img)      # 읽은 이미지를 화면에 표시     \n",
    "    cv2.waitKey(0)               # 키가 입력될 때 까지 대기      \n",
    "    cv2.destroyAllWindows()     # 창 모두 닫기            \n",
    "else:\n",
    "    print('No image file.')"
   ]
  },
  {
   "cell_type": "markdown",
   "metadata": {},
   "source": [
    "### 이미지 읽어 보여주기1 - 3가지 모드"
   ]
  },
  {
   "cell_type": "code",
   "execution_count": 5,
   "metadata": {},
   "outputs": [],
   "source": [
    "import cv2\n",
    "img_file = '../cv_images/img.jpg'\n",
    "\n",
    "img_color = cv2.imread(img_file, cv2.IMREAD_COLOR) # ... 코드 입력    # 컬러 이미지로 읽기\n",
    "img_gray  = cv2.imread(img_file, cv2.IMREAD_GRAYSCALE) # ... 코드 입력     # 흑백 이미지로 읽기\n",
    "img_unchanged = cv2.imread(img_file, cv2.IMREAD_UNCHANGED) # ... 코드 입력 # 원본 이미지 그대로 읽기\n",
    "\n",
    "cv2.imshow('img_color', img_color)\n",
    "cv2.imshow('img_gray', img_gray)\n",
    "cv2.imshow('img_unchanged', img_unchanged)\n",
    "\n",
    "cv2.waitKey(0)\n",
    "cv2.destroyAllWindows()"
   ]
  },
  {
   "cell_type": "markdown",
   "metadata": {},
   "source": [
    "## 이미지 파일 저장\n",
    "\n",
    "#### <font color=blue> @khs - imwrite()\n",
    "- cv2.imwrite(filename, img[,params]) -> retval "
   ]
  },
  {
   "cell_type": "code",
   "execution_count": 6,
   "metadata": {},
   "outputs": [],
   "source": [
    "import cv2\n",
    "img_file = '../cv_images/img.jpg'\n",
    "save_file = './img_gray.jpg'\n",
    "save_file1 = './img_gray.png'\n",
    "\n",
    "img = cv2.imread(img_file, cv2.IMREAD_GRAYSCALE)\n",
    "cv2.imshow(img_file, img)\n",
    "\n",
    "cv2.imwrite(save_file, img) #파일로 저장, 포맷은 확장에 따름\n",
    "cv2.imwrite(save_file1, img)  # png 형태로 저장\n",
    "\n",
    "cv2.waitKey(0)\n",
    "cv2.destroyAllWindows()"
   ]
  },
  {
   "cell_type": "markdown",
   "metadata": {},
   "source": [
    "##  이미지이해\n",
    "- shape : 이미지의 height, width, channel 정보 - 저장된 이미지의 Numpy 배열 크기(높이, 너비, 채널)"
   ]
  },
  {
   "cell_type": "markdown",
   "metadata": {},
   "source": [
    "```python\n",
    "img = [\n",
    "        [ [B,G,R], [B,G,R], [B,G,R], ..., [B,G,R] ],  ← img[0]: 첫 번째 행 (y = 0)\n",
    "        [ [B,G,R], [B,G,R], [B,G,R], ..., [B,G,R] ],  ← img[1]: 두 번째 행 (y = 1)\n",
    "        ...\n",
    "        [ ... ]                                        ← img[389]: 마지막 행\n",
    "]\n",
    "```"
   ]
  },
  {
   "cell_type": "code",
   "execution_count": 6,
   "metadata": {},
   "outputs": [
    {
     "name": "stdout",
     "output_type": "stream",
     "text": [
      "(390, 640, 3)\n",
      "[[  4  45  38]\n",
      " [ 21  62  55]\n",
      " [ 19  57  51]\n",
      " ...\n",
      " [ 52 162 158]\n",
      " [ 52 162 158]\n",
      " [ 52 162 158]]\n",
      "(640, 3)\n"
     ]
    }
   ],
   "source": [
    "import cv2\n",
    "img_file = '../cv_images/img.jpg'\n",
    "img = cv2.imread(img_file)\n",
    "print(img.shape) \n",
    "\n",
    "print(img[0])\n",
    "print(img[0].shape)"
   ]
  },
  {
   "cell_type": "code",
   "execution_count": 7,
   "metadata": {},
   "outputs": [
    {
     "name": "stdout",
     "output_type": "stream",
     "text": [
      "[ 4 45 38]\n",
      "[21 62 55]\n"
     ]
    }
   ],
   "source": [
    "# 첫 번째 행의 첫 번째 픽셀 값 출력\n",
    "print(img[0][0])  # 예: [255, 0, 0] (BGR 순서로 파란색)\n",
    "\n",
    "# 첫 번째 행의 두 번째 픽셀 값\n",
    "print(img[0][1])  # 예: [0, 255, 0] (초록색)"
   ]
  },
  {
   "cell_type": "code",
   "execution_count": 8,
   "metadata": {},
   "outputs": [
    {
     "name": "stdout",
     "output_type": "stream",
     "text": [
      "4\n",
      "62\n"
     ]
    }
   ],
   "source": [
    "\n",
    "# 첫 번째 행의 첫 번째 픽셀 값 출력\n",
    "print(img[0][0][0])  # 예: [255, 0, 0] (BGR 순서로 파란색)\n",
    "\n",
    "# 첫 번째 행의 두 번째 픽셀 값\n",
    "print(img[0][1][1])  # 예: [0, 255, 0] (초록색)"
   ]
  },
  {
   "cell_type": "markdown",
   "metadata": {},
   "source": [
    "- 그레이 스케일로 읽을 때\n",
    "```python\n",
    "img_gray =\n",
    "[\n",
    "  [  52,  60,  74,  90,  80 ],  ← img_gray[0]\n",
    "  [  50,  61,  73,  88,  79 ],\n",
    "  [  49,  58,  70,  85,  76 ],\n",
    "  [  47,  55,  67,  82,  73 ]\n",
    "]\n",
    "```"
   ]
  },
  {
   "cell_type": "code",
   "execution_count": 23,
   "metadata": {},
   "outputs": [
    {
     "name": "stdout",
     "output_type": "stream",
     "text": [
      "[ 38  55  51  33  30  30  24  22  36  39  31  29  40  44  41  43  40  41\n",
      "  39  35  39  49  53  50  50  42  31  20  13  21  49  75  82 103 112  84\n",
      "  59  77 106 111 107  81  68  66  61  59  60  54  72  96 108  98  95 112\n",
      " 129 135 122 109 100 100  96  89  91 100 106 113  94 102 113 110 106  71\n",
      "  82  90  91  82  74  71  64  55  65  68  78  98 121 127 109  86  67  58\n",
      "  58  68  73  68  64  64  64  60  44  36  48  57  59  65  73  75  83  94\n",
      "  97  99 108 119 116 113 111 110 110 110 109 108 110 113 116 115 110 104\n",
      " 101  99 100  94  94  99  96  90  96 109 108 109 107 105 106 105  96  86\n",
      "  85  78  84 102 112 108 111 121 115 111 102  95  99 108 110 105 111 114\n",
      " 117 118 116 115 114 114 123 127 133 136 137 140 145 149 146 139 132 130\n",
      " 130 123 109  97  90  81  73  72  73  72  72  74  75  72  69  68  68  68\n",
      "  66  64  67  66  69  75  79  81  87  94 103 104 110 119 131 139 141 141\n",
      " 138 137 137 139 142 143 141 137 133 132 130 127 124 121 119 118 120 122\n",
      " 125 128 131 133 133 133 136 141 144 145 148 154 156 154 156 157 156 154\n",
      " 150 145 140 137 132 131 130 130 133 137 141 144 145 145 144 145 146 149\n",
      " 151 153 157 159 162 162 161 163 168 172 175 175 175 174 173 171 170 169\n",
      " 170 170 170 169 169 168 168 168 167 167 167 168 168 165 160 156 157 158\n",
      " 158 157 155 154 155 155 154 157 160 163 165 165 164 163 168 169 171 172\n",
      " 172 171 169 169 166 165 164 162 160 160 159 159 162 162 162 163 163 164\n",
      " 164 164 161 161 160 159 159 158 157 157 157 157 156 155 155 154 153 153\n",
      " 149 150 150 149 147 144 141 140 138 138 138 138 139 140 141 142 139 138\n",
      " 137 134 132 129 128 127 123 122 121 119 117 117 116 116 114 115 115 116\n",
      " 116 117 117 117 120 121 122 124 127 130 132 134 135 138 142 144 144 144\n",
      " 145 146 147 147 147 147 146 145 144 144 144 143 142 140 138 136 134 134\n",
      " 132 128 123 119 117 115 113 111 108 104  99  95  93  91  89  87  88  88\n",
      "  88  87  87  86  86  86  85  85  85  86  86  87  87  87  87  87  86  86\n",
      "  86  87  88  89  90  92  94  96  98 102 107 111 117 120 124 128 130 132\n",
      " 135 138 138 139 141 143 145 146 146 147 147 148 149 150 152 155 157 158\n",
      " 156 157 159 161 163 165 167 167 168 168 169 170 170 171 172 172 172 173\n",
      " 173 173 171 169 166 165 158 158 157 155 152 148 145 143 143 141 138 139\n",
      " 141 142 143 143 141 140 139 139 140 142 144 145 142 142 143 143 142 141\n",
      " 139 137 134 133 131 128 126 125 124 124 122 121 118 116 115 114 115 115\n",
      " 116 116 116 117 118 119 121 122 123 123 124 125 127 128 129 129 127 127\n",
      " 129 131 133 135 136 137 140 140 140 140 140 139 137 137 136 136 137 138\n",
      " 138 139 139 140 139 139 139 139 139 139 139 139 137 137 136 136 136 137\n",
      " 138 138 142 143 145 146 147 148 148 148]\n"
     ]
    }
   ],
   "source": [
    "img_gray = cv2.imread(img_file, cv2.IMREAD_GRAYSCALE) # 이미지를 그레이 스케일로 읽기\n",
    "print(img_gray[0])"
   ]
  },
  {
   "cell_type": "markdown",
   "metadata": {},
   "source": [
    "## 온라인에 있는 이미지 파일 읽기\n",
    "- JPEG 바이트 (압축된 데이터) → [bytearray] → cv2.imdecode() → 3차원 배열 (H x W x 3)"
   ]
  },
  {
   "cell_type": "code",
   "execution_count": 7,
   "metadata": {},
   "outputs": [
    {
     "name": "stdout",
     "output_type": "stream",
     "text": [
      "변환 전 이미지 shape =  (47049,)\n",
      "디코딩 후 이미지 shape =  (986, 800, 3)\n"
     ]
    },
    {
     "ename": "KeyboardInterrupt",
     "evalue": "",
     "output_type": "error",
     "traceback": [
      "\u001b[1;31m---------------------------------------------------------------------------\u001b[0m",
      "\u001b[1;31mKeyboardInterrupt\u001b[0m                         Traceback (most recent call last)",
      "Cell \u001b[1;32mIn[7], line 31\u001b[0m\n\u001b[0;32m     29\u001b[0m \u001b[38;5;66;03m# 'q' 키를 누를 때까지 대기\u001b[39;00m\n\u001b[0;32m     30\u001b[0m \u001b[38;5;28;01mwhile\u001b[39;00m \u001b[38;5;28;01mTrue\u001b[39;00m:\n\u001b[1;32m---> 31\u001b[0m     key \u001b[38;5;241m=\u001b[39m cv2\u001b[38;5;241m.\u001b[39mwaitKey()\n\u001b[0;32m     32\u001b[0m     \u001b[38;5;28;01mif\u001b[39;00m key \u001b[38;5;241m==\u001b[39m \u001b[38;5;28mord\u001b[39m(\u001b[38;5;124m'\u001b[39m\u001b[38;5;124mq\u001b[39m\u001b[38;5;124m'\u001b[39m):\n\u001b[0;32m     33\u001b[0m         \u001b[38;5;28;01mbreak\u001b[39;00m\n",
      "\u001b[1;31mKeyboardInterrupt\u001b[0m: "
     ]
    }
   ],
   "source": [
    "from urllib import request\n",
    "import numpy as np\n",
    "import cv2\n",
    "\n",
    "# 이미지 URL 지정 (OpenCV 로고 이미지)\n",
    "#url = \"https://upload.wikimedia.org/wikipedia/ko/thumb/2/24/Lenna.png/220px-Lenna.png\"\n",
    "url = \"https://upload.wikimedia.org/wikipedia/commons/thumb/3/32/OpenCV_Logo_with_text_svg_version.svg/800px-OpenCV_Logo_with_text_svg_version.svg.png\"\n",
    "\n",
    "# URL에서 이미지 데이터를 읽어오기 (바이트 형태로 가져옴)\n",
    "source = request.urlopen(url).read()          # source = b'\\x89PNG\\r\\n\\x1a\\n\\x00\\x00\\x00\\rIHDR...'  # PNG 파일의 원시 데이터 (Byte 형태)\n",
    " \n",
    "# 바이트 데이터를 numpy 배열로 변환 (uint8 타입)\n",
    "image = np.array(bytearray(source), dtype=np.uint8)\n",
    "print(\"변환 전 이미지 shape = \", image.shape)  # 아직 디코딩 전\n",
    "\n",
    "# 이미지 디코딩 (컬러 이미지로 읽음)\n",
    "image = cv2.imdecode(image, cv2.IMREAD_COLOR)\n",
    "print(\"디코딩 후 이미지 shape = \", image.shape)\n",
    "\n",
    "# 이미지 저장\n",
    "cv2.imwrite(\"test_download.png\", image)\n",
    "\n",
    "# 한글 제목의 창 생성 (크기 조절 가능)\n",
    "cv2.namedWindow(\"한글\", cv2.WINDOW_NORMAL)\n",
    "\n",
    "# 이미지 출력\n",
    "cv2.imshow(\"한글\", image)\n",
    "\n",
    "# 'q' 키를 누를 때까지 대기\n",
    "while True:\n",
    "    key = cv2.waitKey()\n",
    "    if key == ord('q'):\n",
    "        break\n",
    "\n",
    "# 모든 OpenCV 창 닫기\n",
    "cv2.destroyAllWindows()\n"
   ]
  },
  {
   "cell_type": "markdown",
   "metadata": {},
   "source": [
    "## 디렉토리 내 이미지읽기"
   ]
  },
  {
   "cell_type": "code",
   "execution_count": 8,
   "metadata": {},
   "outputs": [
    {
     "data": {
      "text/plain": [
       "['../cv_images/apple1.png',\n",
       " '../cv_images/apple2.png',\n",
       " '../cv_images/apple3.png',\n",
       " '../cv_images/apple4.png',\n",
       " '../cv_images/background.jpg',\n",
       " '../cv_images/banana.jpg',\n",
       " '../cv_images/bicycle.jpg',\n",
       " '../cv_images/blur.png',\n",
       " '../cv_images/book.jpg',\n",
       " '../cv_images/bricks.jpeg',\n",
       " '../cv_images/bright.jpg',\n",
       " '../cv_images/card.png',\n",
       " '../cv_images/card_crop_1.png',\n",
       " '../cv_images/card_crop_2.png',\n",
       " '../cv_images/card_crop_3.png',\n",
       " '../cv_images/card_crop_4.png',\n",
       " '../cv_images/cat (1).jpg',\n",
       " '../cv_images/cat.jpg',\n",
       " '../cv_images/change.png',\n",
       " '../cv_images/city.png',\n",
       " '../cv_images/cmap.png',\n",
       " '../cv_images/cropland.png',\n",
       " '../cv_images/dark.png',\n",
       " '../cv_images/dilate.png',\n",
       " '../cv_images/dog.jpg',\n",
       " '../cv_images/dog2.jpg',\n",
       " '../cv_images/dog_backpack.png',\n",
       " '../cv_images/drawing1.jpg',\n",
       " '../cv_images/drawing2.jpg',\n",
       " '../cv_images/erode.png',\n",
       " '../cv_images/face.jpg',\n",
       " '../cv_images/fish.jpg',\n",
       " '../cv_images/fish.png',\n",
       " '../cv_images/flower.jpg',\n",
       " '../cv_images/fog.jpg',\n",
       " '../cv_images/fog_city.jpg',\n",
       " '../cv_images/Hawkes.jpg',\n",
       " '../cv_images/histogram.png',\n",
       " '../cv_images/histogram_equal.png',\n",
       " '../cv_images/human.jpg',\n",
       " '../cv_images/image_desc.png',\n",
       " '../cv_images/image_pixcel.png',\n",
       " '../cv_images/img.jpg',\n",
       " '../cv_images/imgtype.png',\n",
       " '../cv_images/img_gray.jpg',\n",
       " '../cv_images/img_gray.png',\n",
       " '../cv_images/img_save.jpg',\n",
       " '../cv_images/img_save.png',\n",
       " '../cv_images/lena_gray.png',\n",
       " '../cv_images/lena_rgb.png',\n",
       " '../cv_images/line_type.png',\n",
       " '../cv_images/line_type_pictureboard.png',\n",
       " '../cv_images/logo_template.jpg',\n",
       " '../cv_images/mask_heart.jpg',\n",
       " '../cv_images/mask_heart.png',\n",
       " '../cv_images/newspaper.jpg',\n",
       " '../cv_images/newspaper_1.png',\n",
       " '../cv_images/No_계층구조.png',\n",
       " '../cv_images/opencv_logo.png',\n",
       " '../cv_images/person.jpg',\n",
       " '../cv_images/poker.jpg',\n",
       " '../cv_images/poker_1.png',\n",
       " '../cv_images/rainbow.jpg',\n",
       " '../cv_images/rainbow_bgra.jpg',\n",
       " '../cv_images/rgb-hsv.png',\n",
       " '../cv_images/rgb.png',\n",
       " '../cv_images/scanned_doc.jpg',\n",
       " '../cv_images/scanned_doc1.jpg',\n",
       " '../cv_images/scene_with_logo.jpg',\n",
       " '../cv_images/SearchtheImage.png',\n",
       " '../cv_images/seasonal_landscape.jpg',\n",
       " '../cv_images/shape.jpg',\n",
       " '../cv_images/shape_donut.jpg',\n",
       " '../cv_images/snowman.png',\n",
       " '../cv_images/test_image.jpg',\n",
       " '../cv_images/test_image.png',\n",
       " '../cv_images/threshold.png',\n",
       " '../cv_images/threshold_param.png',\n",
       " '../cv_images/videoC.png',\n",
       " '../cv_images/yate.jpg',\n",
       " '../cv_images/경계선.png',\n",
       " '../cv_images/계층구조.png',\n",
       " '../cv_images/침식1.png',\n",
       " '../cv_images/침식2.png',\n",
       " '../cv_images/특강6_P17.png',\n",
       " '../cv_images/팽창1.png',\n",
       " '../cv_images/팽창2.png']"
      ]
     },
     "metadata": {},
     "output_type": "display_data"
    }
   ],
   "source": [
    "import os\n",
    "\n",
    "# \"../cv_images\" 폴더 안의 파일 목록을 가져오기\n",
    "img_list = os.listdir('../cv_images')\n",
    "\n",
    "# 유효한 이미지 파일들의 경로를 저장할 리스트\n",
    "img_files = []\n",
    "\n",
    "# 허용할 이미지 파일 확장자 집합 정의 : .png, .jpg, .jpeg 대상\n",
    "valid_extensions = { '.png', '.jpg', '.jpeg' }\n",
    "\n",
    "# 폴더 내의 각 파일(img_list)에 대해 반복\n",
    "for i in img_list :\n",
    "    \n",
    "    # 경로에서 문자단위로 split한 후 파일의 확장자를 소문자로 바꿔서 유효한 확장자인지 확인\n",
    "    if os.path.splitext(i)[1] in valid_extensions:   # ... 코드 입력\n",
    "        # 전체 이미지 경로 구성\n",
    "        img_dir = \"../cv_images/\" + i\n",
    "        # 유효한 이미지 파일 리스트에 추가\n",
    "        img_files.append(img_dir)\n",
    "\n",
    "# 최종적으로 유효한 이미지 파일 목록을 출력\n",
    "display(img_files)"
   ]
  },
  {
   "cell_type": "code",
   "execution_count": null,
   "metadata": {},
   "outputs": [],
   "source": []
  }
 ],
 "metadata": {
  "kernelspec": {
   "display_name": "base",
   "language": "python",
   "name": "python3"
  },
  "language_info": {
   "codemirror_mode": {
    "name": "ipython",
    "version": 3
   },
   "file_extension": ".py",
   "mimetype": "text/x-python",
   "name": "python",
   "nbconvert_exporter": "python",
   "pygments_lexer": "ipython3",
   "version": "3.11.7"
  }
 },
 "nbformat": 4,
 "nbformat_minor": 4
}
