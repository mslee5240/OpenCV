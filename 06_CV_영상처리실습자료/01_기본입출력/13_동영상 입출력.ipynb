{
 "cells": [
  {
   "cell_type": "markdown",
   "metadata": {},
   "source": [
    "# 동영상 입출력\n",
    "- pexels 사이트에서 동영상 가져오기\n",
    "\n",
    "## 동영상 파일"
   ]
  },
  {
   "cell_type": "code",
   "execution_count": null,
   "metadata": {},
   "outputs": [],
   "source": [
    "import cv2\n",
    "\n",
    "video_file = \"../cv_images/video.mp4\"\n",
    "\n",
    "cap = cv2.VideoCapture(video_file)      #  video_file의 첫 프레임을 읽어 동영상 캡쳐 객체 생성\n",
    "\n",
    "if cap.isOpened():                      # 캡쳐 객체 초기화 확인\n",
    "    while True:\n",
    "        ret, img = cap.read()           # 다음 프레임 읽기      \n",
    "        if ret:                         # 프레임 읽기 정상\n",
    "            resized_img = cv2.resize(img, dsize=None, fx=0.5, fy=0.5) # 창 크기 재조정\n",
    "            cv2.imshow(video_file, resized_img) # 화면에 표시, waitkey 없이 show만 하면 멍때리는 화면 출력\n",
    "            cv2.waitKey(10)             # 25ms 지연(40fps로 가정)   \n",
    "        else:                           # 다음 프레임 읽을 수 없음\n",
    "            break                       # 재생 완료\n",
    "else:\n",
    "    print(\"can't open video.\")          # 캡쳐 객체 초기화 실패\n",
    "       \n",
    "cap.release()                  # 자원 해제\n",
    "cv2.destroyAllWindows()        # 모든 창 닫기        "
   ]
  },
  {
   "cell_type": "markdown",
   "metadata": {},
   "source": [
    "### <span style=\"color:blue\"> @khs - VideoCapture(index)\n",
    "\n",
    "- VideoCapture(index) 클래스\n",
    "<img src='../cv_images/videoC.png'>   \n",
    "   \n",
    "    - index = 0 시스템 기본 카메라\n",
    "\n",
    "    - 카메라가 열렸는지 확인   \n",
    "    if not cap.isOpened():      \n",
    "        print(\"Camera open failed!\") # 열리지 않았으면 문자열 출력  \n",
    "        sys.exit()\n",
    "        \n",
    "    - ret, frame = cap.read() # 두 개의 값을 반환하므로 두 변수 지정  \n",
    "    - return value -true/false     \n",
    "    if not ret: # 새로운 프레임을 못받아 왔을 때 braek   \n",
    "        break"
   ]
  },
  {
   "cell_type": "markdown",
   "metadata": {},
   "source": [
    "## 웹캠(카메라) 출력"
   ]
  },
  {
   "cell_type": "markdown",
   "metadata": {},
   "source": [
    "### Mission \n",
    "\n",
    "1. 웹캠 구동시키기\n",
    "2. 아무키나 누르면 창 닫기 or 'q' 입력하면 해당 창 저장하고 창닫기"
   ]
  },
  {
   "cell_type": "markdown",
   "metadata": {},
   "source": [
    "### 웹캠 구동하기"
   ]
  },
  {
   "cell_type": "code",
   "execution_count": 5,
   "metadata": {},
   "outputs": [],
   "source": [
    "import cv2\n",
    "\n",
    "cap = cv2.VideoCapture(0)               # 0번 카메라 장치 연결, 추가로 장착한 카메라 index = 1\n",
    "\n",
    "if cap.isOpened():                      # 캡쳐 객체 연결 확인\n",
    "    while True:\n",
    "        ret, img = cap.read()           # 다음 프레임 읽기\n",
    "        if ret:\n",
    "            cv2.imshow('camera', img)   # 다음 프레임 이미지 표시\n",
    "            if cv2.waitKey(1) != -1:    # 1ms 동안 키 입력 대기  \n",
    "                break                   # 아무 키라도 입력이 있으면 중지\n",
    "        else:\n",
    "            print('no frame')\n",
    "            break                       # 프레임 읽기 실패시 종료\n",
    "else:\n",
    "    print(\"can't open camera.\")\n",
    "            \n",
    "cap.release()\n",
    "cv2.destroyAllWindows()\n",
    "# cv2.destroyWindow(winname)으로 특정 윈도우 창만"
   ]
  },
  {
   "cell_type": "code",
   "execution_count": 7,
   "metadata": {},
   "outputs": [],
   "source": [
    "import cv2\n",
    "\n",
    "capture = cv2.VideoCapture(0)\n",
    "\n",
    "while cv2.waitKey(1) < 0:                      # waitKey() : 아무값도 눌리지않으면 -1 반환\n",
    "    ret, frame = capture.read()\n",
    "    cv2.imshow(\"VideoFrame\", frame)\n",
    "\n",
    "capture.release()\n",
    "cv2.destroyAllWindows()"
   ]
  },
  {
   "cell_type": "markdown",
   "metadata": {},
   "source": [
    "### 동영상 이미지 저장하기 - 웹캠으로 사진 찍기"
   ]
  },
  {
   "cell_type": "code",
   "execution_count": null,
   "metadata": {},
   "outputs": [],
   "source": [
    "import cv2\n",
    "\n",
    "cap = cv2.VideoCapture(0)               # 0번 카메라 장치 연결 \n",
    "\n",
    "if cap.isOpened():                      # 캡쳐 객체 연결 확인\n",
    "    while True:\n",
    "        ret, frame = cap.read()           # 다음 프레임 읽기\n",
    "        if ret:\n",
    "            cv2.imshow('camera', frame)   # 다음 프레임 이미지 표시\n",
    "            if cv2.waitKey(1) == ord('q'):  # ord() : 키보드 입력을 아스키 코드 값으로 바꿔주는 함수\n",
    "                cv2.imwrite('photo.jpg', frame) # 프레임을 'photo.jpg'에 저장\n",
    "                break    \n",
    "        else:\n",
    "            print('no frame')\n",
    "            break\n",
    "else:\n",
    "    print(\"can't open camera.\")\n",
    "            \n",
    "cap.release()\n",
    "cv2.destroyAllWindows()\n",
    "# cv2.destroyWindow(winname)으로 특정 윈도우 창만"
   ]
  },
  {
   "cell_type": "markdown",
   "metadata": {},
   "source": [
    "### 동영상 저장하기 - 웹캠으로 녹화하기"
   ]
  },
  {
   "cell_type": "code",
   "execution_count": 8,
   "metadata": {},
   "outputs": [],
   "source": [
    "import cv2\n",
    "\n",
    "cap = cv2.VideoCapture(0)          # 0번 카메라 연결\n",
    "if cap.isOpened:\n",
    "    file_path = './record.avi'     # 저장할 파일 경로 이름 \n",
    "    fps = 30.0                     # FPS, 초당 프레임 수\n",
    "    fourcc = cv2.VideoWriter_fourcc(*'DIVX') # 인코딩 포맷 문자\n",
    "    width = cap.get(cv2.CAP_PROP_FRAME_WIDTH)\n",
    "    height = cap.get(cv2.CAP_PROP_FRAME_HEIGHT)\n",
    "    size = (int(width), int(height))                        # 프레임 크기\n",
    "    out = cv2.VideoWriter(file_path, fourcc, fps, size)     # VideoWriter 객체 생성\n",
    "    while True:\n",
    "        ret, frame = cap.read()\n",
    "        if ret:\n",
    "            cv2.imshow('camera-recording',frame)\n",
    "            out.write(frame)                                # 현재 프레임 저장-파일 저장\n",
    "            if cv2.waitKey(int(1000/fps)) != -1: \n",
    "                break\n",
    "        else:\n",
    "            print(\"no frame!\")\n",
    "            break\n",
    "    out.release()                                   \n",
    "else:\n",
    "    print(\"can't open camera!\")\n",
    "\n",
    "cap.release()\n",
    "cv2.destroyAllWindows()"
   ]
  },
  {
   "cell_type": "markdown",
   "metadata": {},
   "source": [
    "<font color=blue><b> @khs note - cap.get()      \n",
    "동영상이나 카메라의 속성을 확인하는 함수\n",
    "- cv2.CAP_PROP_FRAME_WIDTH는 프레임 너비, \n",
    "- cv2.CAP_PROP_FRAME_HEIGHT는 프레임 높이 반환"
   ]
  },
  {
   "cell_type": "code",
   "execution_count": null,
   "metadata": {},
   "outputs": [],
   "source": [
    "import cv2\n",
    "\n",
    "cap = cv2.VideoCapture('./cv_images/video.mp4')\n",
    "\n",
    "# 코덱 정의\n",
    "#fourcc = cv2.VideoWrite_fourcc('D','I','V','X')\n",
    "fourcc = cv2.VideoWriter_fourcc(*'DIVX')  # 위와 같은 결과\n",
    "\n",
    "# 프레임 크기, FPS 정의\n",
    "width  = round(cap.get(cv2.CAP_PROP_FRAME_WIDTH))\n",
    "height = round(cap.get(cv2.CAP_PROP_FRAME_HEIGHT))\n",
    "fps = cap.get(cv2.CAP_PROP_FPS)  # 영상 속도\n",
    "#fps = cap.get(cv2.CAP_PROP_FPS) * 2  # 영상 재생속도 2배\n",
    "\n",
    "out = cv2.VideoWriter('output.avi', fourcc, fps, (width, height))\n",
    "# 파일 저장명, 코덱, FPS, 크기(width, height)\n",
    "\n",
    "while cap.isOpened():\n",
    "    ret, frame = cap.read()\n",
    "    \n",
    "    if not ret:\n",
    "        break\n",
    "    \n",
    "    out.write(frame)  # 영상 데이터만 저장 (소리 없음)\n",
    "    cv2.imshow('video', frame)\n",
    "    if cv2.waitKey(1) == ord('q'):\n",
    "        break\n",
    "\n",
    "out.release()  # 자원 해제\n",
    "cap.release()\n",
    "cv2.destroyAllWindows()"
   ]
  },
  {
   "cell_type": "code",
   "execution_count": null,
   "metadata": {},
   "outputs": [],
   "source": [
    "codec = 'DIVX'\n",
    "print(codec)\n",
    "print(*codec)\n",
    "print([codec])\n",
    "print([*codec])"
   ]
  }
 ],
 "metadata": {
  "kernelspec": {
   "display_name": "base",
   "language": "python",
   "name": "python3"
  },
  "language_info": {
   "codemirror_mode": {
    "name": "ipython",
    "version": 3
   },
   "file_extension": ".py",
   "mimetype": "text/x-python",
   "name": "python",
   "nbconvert_exporter": "python",
   "pygments_lexer": "ipython3",
   "version": "3.11.7"
  }
 },
 "nbformat": 4,
 "nbformat_minor": 4
}
