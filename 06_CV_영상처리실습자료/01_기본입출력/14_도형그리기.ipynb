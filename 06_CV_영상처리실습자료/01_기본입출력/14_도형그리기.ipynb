{
 "cells": [
  {
   "cell_type": "markdown",
   "metadata": {},
   "source": [
    "# 도형 그리기"
   ]
  },
  {
   "cell_type": "markdown",
   "metadata": {},
   "source": [
    "## 빈 스케치북 만들기\n",
    "\n",
    "- 크기와 초깃값으로 생성         \n",
    "Numpy 배열을 생성할 때 사용할 값을 가지고 있지 않은 경우가 많기 때문에 초기 값을 지정해서 생성하는 방법을 사용\n",
    "\n",
    "    - numpy.empty(shape [, dtype]) : 초기화되지 않는 값(쓰레기 값)으로 배열 생성\n",
    "    - numpy.zeros(shape [,dtype]) : 0으로 초기화된 배열 생성\n",
    "    - numpy.ones(shape [,dtype]) : 1로 초기화된 배열 생성\n",
    "    - numpy.full(shape, fill_value [,dtype]) : fill_value로 초기화된 배열 생성   \n",
    "<br> \n",
    "\n",
    "- 시퀀스와 난수로 생성\n",
    "Numpy 배열을 생성하는 방법 중에는 일정한 범위 내에서 순차적인 값을 갖게하는 방법과 난수로 채우는 방법\n",
    "\n",
    "    - numpy.arange([start=0, ] stop [, step=1, dtype = float64]) : 순차적인 값으로 생성\n",
    "        - start : 시작 값\n",
    "        - stop : 종료 값, 범위에 포함되는 수는 ~ stop -1\n",
    "        - step : 증가 값\n",
    "        - dtype : 데이터 타입\n",
    "     - numpy.random.rand(array크기) : 0과 1 사이의 무작위 수 생성\n",
    "    array크기를 생략하면 난수 1개 반환, 나머지는 해당 크기만큼 값을 반환\n",
    "    - numpy.random.randn(array크기) : 표준 정규 분포를 따르는 무작위 수 생성"
   ]
  },
  {
   "cell_type": "code",
   "execution_count": 2,
   "metadata": {},
   "outputs": [],
   "source": [
    "import cv2\n",
    "import numpy as np\n",
    "\n",
    "# 세로 480 x 가로 640 , 3 channel 에 해당하는 스케치북 만들기\n",
    "img = np.zeros((480, 640, 3), dtype=np.uint8) \n"
   ]
  },
  {
   "cell_type": "code",
   "execution_count": 3,
   "metadata": {},
   "outputs": [],
   "source": [
    "import cv2\n",
    "import numpy as np\n",
    "\n",
    "# 세로 480 x 가로 640 , 3 channel 에 해당하는 스케치북 만들기\n",
    "\n",
    "img = np.zeros((480, 640, 3), dtype=np.uint8)                           # 현재 0 으로 채워져서 검정색\n",
    "#img[:] = (255, 255, 255)  # 전체 공간을 흰색으로 채우기 - opencv BGR\n",
    "#img[:] = (255, 0, 0)      # 전체 공간을 파란색으로 채우기\n",
    "img[:] = (0, 0, 255)      # 전체 공간을 빨간색으로 채우기\n",
    "\n",
    "cv2.imshow('img', img)\n",
    "cv2.waitKey(0)\n",
    "cv2.destroyAllWindows()"
   ]
  },
  {
   "cell_type": "markdown",
   "metadata": {},
   "source": [
    "## 일부 영역 색칠"
   ]
  },
  {
   "cell_type": "code",
   "execution_count": 4,
   "metadata": {},
   "outputs": [],
   "source": [
    "import cv2\n",
    "import numpy as np\n",
    "\n",
    "# 세로 480 x 가로 640 , 3 channel 에 해당하는 스케치북 만들기\n",
    "\n",
    "img = np.zeros((480, 640, 3), dtype=np.uint8)\n",
    "\n",
    "img[100:200, 200:300] = ( 0, 0, 255) \n",
    "img[400:420, 100:150] = ( 255, 0, 255) \n",
    "\n",
    "# 세로영역, 가로 영역 기준으로 원하는 색을 채움\n",
    "\n",
    "cv2.imshow('img', img)\n",
    "cv2.waitKey(0)\n",
    "cv2.destroyAllWindows()"
   ]
  },
  {
   "cell_type": "markdown",
   "metadata": {},
   "source": [
    "## 직선\n",
    "\n",
    "직선의 종류(line type)\n",
    "\n",
    "1. cv2.LINE_4 : 상하좌우 4 방향으로 연결된 선\n",
    "1. cv2.LINE_8 : 대각선을 포함한 8방향으로 연결된 선(기본값)\n",
    "1. cv2.LINE_AA : 부드러운 선 (anit-aliasing)\n",
    "\n",
    "<img src=\"../cv_images/line_type.png\">\n",
    "\n",
    "그림판에서 확인 : 그림판은 LINE_8을 사용하고 있음(확대하면 확인 가능)\n",
    "<img src=\"../cv_images/line_type_pictureboard.png\">"
   ]
  },
  {
   "cell_type": "code",
   "execution_count": 5,
   "metadata": {},
   "outputs": [],
   "source": [
    "import cv2\n",
    "import numpy as np\n",
    "\n",
    "img = np.zeros((480, 640, 3), dtype=np.uint8)\n",
    "\n",
    "COLOR = ( 0, 255, 255) # BGR : yellow\n",
    "THICKNESS = 3 # 두께\n",
    "\n",
    "cv2.line(img,   (50,100), (400, 50), COLOR, THICKNESS, cv2.LINE_8)\n",
    "    # 그릴 위치, 시작점, 끝 점, 색깔, 두께, 선 종류\n",
    "cv2.line(img, (50,200), (400, 150), COLOR, THICKNESS, cv2.LINE_4)\n",
    "cv2.line(img, (50,300), (400, 250), COLOR, THICKNESS, cv2.LINE_AA)\n",
    "\n",
    "cv2.imshow('img', img)\n",
    "cv2.waitKey(0)\n",
    "cv2.destroyAllWindows()\n"
   ]
  },
  {
   "cell_type": "markdown",
   "metadata": {},
   "source": [
    "## 원"
   ]
  },
  {
   "cell_type": "code",
   "execution_count": 6,
   "metadata": {},
   "outputs": [],
   "source": [
    "import cv2\n",
    "import numpy as np\n",
    "\n",
    "img = np.zeros((480, 640, 3), dtype=np.uint8)\n",
    "\n",
    "COLOR = (255, 255, 0) # BGR : 옥색\n",
    "RADIUS = 50       # 반지름\n",
    "THICKNESS = 10    # 두께\n",
    "\n",
    "cv2.circle(img, (200,100), RADIUS, COLOR, THICKNESS, cv2.LINE_AA)  # 속이 빈 원\n",
    "# 그릴 위치, 원의 중심점, 반지름 색깔, 두께, 선 종류\n",
    "cv2.circle(img, (400,100), RADIUS, COLOR, cv2.FILLED, cv2.LINE_AA) # 속이 꽉 찬 원\n",
    "\n",
    "cv2.imshow('img', img)\n",
    "cv2.waitKey(0)\n",
    "cv2.destroyAllWindows()"
   ]
  },
  {
   "cell_type": "markdown",
   "metadata": {},
   "source": [
    "## 사각형 "
   ]
  },
  {
   "cell_type": "code",
   "execution_count": 7,
   "metadata": {},
   "outputs": [],
   "source": [
    "import cv2\n",
    "import numpy as np\n",
    "\n",
    "img = np.zeros((480, 640, 3), dtype=np.uint8)\n",
    "\n",
    "COLOR = (0, 255, 0) # BGR : 녹색\n",
    "THICKNESS = 3    # 두께\n",
    "\n",
    "cv2.rectangle(img, (100,100), (200, 200), COLOR, THICKNESS)  # 속이 빈 사각형\n",
    "# 그릴 위치 (왼쪽 위 좌표, 오른쪽 아래 좌표), 색깔, 두께\n",
    "cv2.rectangle(img, (300,100), (400, 300), COLOR, cv2.FILLED)   # 속이 꽉 찬 사각형\n",
    "\n",
    "cv2.imshow('img', img)\n",
    "cv2.waitKey(0)\n",
    "cv2.destroyAllWindows()"
   ]
  },
  {
   "cell_type": "markdown",
   "metadata": {},
   "source": [
    "## 다각형"
   ]
  },
  {
   "cell_type": "code",
   "execution_count": 4,
   "metadata": {},
   "outputs": [],
   "source": [
    "import cv2\n",
    "import numpy as np\n",
    "\n",
    "img = np.zeros((480, 640, 3), dtype=np.uint8)\n",
    "\n",
    "COLOR = (0, 0, 255) # BGR : 빨간색\n",
    "THICKNESS = 3    # 두께\n",
    "\n",
    "pts1 = np.array([[100, 100],[200,100],[100,200]])\n",
    "pts2 = np.array([[200, 100],[300,100],[300,200]])\n",
    "\n",
    "# True 는 다각형이 닫힘, False 다각형이 열림 \n",
    "# cv2.polylines(img,[pts1], True, COLOR, THICKNESS, cv2.LINE_AA) # 다각형 값을 리스트에 넣어야함\n",
    "# cv2.polylines(img,[pts2], True, COLOR, THICKNESS, cv2.LINE_AA) # 다각형 값을 리스트에 넣어야함\n",
    "\n",
    "cv2.polylines(img, [pts1 , pts2], True, COLOR, THICKNESS, cv2.LINE_AA) # 속이 빈 다각형\n",
    "\n",
    "# 그릴위치 , 그릴 좌표, 닫힘 여부, 색깔, 두께, 선 종류\n",
    "pts3 = np.array([[[100, 300], [200, 300], [100, 400]],[[200, 300], [300, 300], [300, 400]]])\n",
    "cv2.fillPoly(img, pts3, COLOR, cv2.LINE_AA)\n",
    "# 그릴 위치, 그릴 좌표들, 색깔, 선 종류\n",
    "\n",
    "cv2.imshow('img', img)\n",
    "\n",
    "cv2.waitKey(0)\n",
    "cv2.destroyAllWindows()"
   ]
  }
 ],
 "metadata": {
  "kernelspec": {
   "display_name": "base",
   "language": "python",
   "name": "python3"
  },
  "language_info": {
   "codemirror_mode": {
    "name": "ipython",
    "version": 3
   },
   "file_extension": ".py",
   "mimetype": "text/x-python",
   "name": "python",
   "nbconvert_exporter": "python",
   "pygments_lexer": "ipython3",
   "version": "3.11.7"
  }
 },
 "nbformat": 4,
 "nbformat_minor": 4
}
