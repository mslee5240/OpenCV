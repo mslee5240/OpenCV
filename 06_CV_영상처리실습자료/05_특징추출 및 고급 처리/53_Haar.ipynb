{
 "cells": [
  {
   "cell_type": "markdown",
   "id": "5b2c4487",
   "metadata": {},
   "source": [
    "## Haar-like Feature (Haar Cascade)\n",
    "- 사각형 박스를 기준으로 밝기 차이를 비교하는 간단한 특징\n",
    "- 빠르고 효율적이지만 딥러닝에 비해 정밀도는 낮음\n",
    "- 주로 얼굴 검출에 사용됨 (Haar Cascade Classifier)"
   ]
  },
  {
   "cell_type": "markdown",
   "id": "02499beb",
   "metadata": {},
   "source": [
    "### 패턴 인식기 - 특정 로고나 패턴 검출"
   ]
  },
  {
   "cell_type": "code",
   "execution_count": null,
   "id": "2d041d79",
   "metadata": {},
   "outputs": [],
   "source": [
    "import cv2\n",
    "\n",
    "# 얼굴 검출기 로드\n",
    "face_cascade = cv2.CascadeClassifier(cv2.data.haarcascades + 'haarcascade_frontalface_default.xml')\n",
    "\n",
    "img = cv2.imread('face.jpg')\n",
    "gray = cv2.cvtColor(img, cv2.COLOR_BGR2GRAY)\n",
    "\n",
    "faces = face_cascade.detectMultiScale(gray, scaleFactor=1.1, minNeighbors=4)\n",
    "\n",
    "for (x, y, w, h) in faces:\n",
    "    cv2.rectangle(img, (x, y), (x + w, y + h), (255, 0, 0), 2)\n",
    "\n",
    "cv2.imshow('Detected Faces', img)\n",
    "cv2.waitKey(0)\n",
    "cv2.destroyAllWindows()\n"
   ]
  }
 ],
 "metadata": {
  "kernelspec": {
   "display_name": "base",
   "language": "python",
   "name": "python3"
  },
  "language_info": {
   "codemirror_mode": {
    "name": "ipython",
    "version": 3
   },
   "file_extension": ".py",
   "mimetype": "text/x-python",
   "name": "python",
   "nbconvert_exporter": "python",
   "pygments_lexer": "ipython3",
   "version": "3.11.7"
  }
 },
 "nbformat": 4,
 "nbformat_minor": 5
}
