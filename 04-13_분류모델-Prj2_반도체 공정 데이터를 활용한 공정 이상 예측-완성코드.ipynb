{
 "cells": [
  {
   "cell_type": "markdown",
   "metadata": {
    "id": "F99EcLP0vhdX"
   },
   "source": [
    "# [Project ] 반도체 공정 데이터를 활용한 공정 이상 예측"
   ]
  },
  {
   "cell_type": "markdown",
   "metadata": {
    "id": "7Tl6EFp3vhdZ"
   },
   "source": [
    "---"
   ]
  },
  {
   "cell_type": "markdown",
   "metadata": {
    "id": "g4aOvju8vhda"
   },
   "source": [
    "## 프로젝트 목표\n",
    "- 반도체 공정 데이터 분석을 통하여 공정 이상을 예측하는 분류 모델 수행\n",
    "- 공정 이상에 영향을 미치는 요소들에 대한 데이터 분석"
   ]
  },
  {
   "cell_type": "markdown",
   "metadata": {
    "id": "v6ibxqR4vhda"
   },
   "source": [
    "---"
   ]
  },
  {
   "cell_type": "markdown",
   "metadata": {
    "id": "sNFdd5uKvhdb"
   },
   "source": [
    "## 프로젝트 목차\n",
    "\n",
    "1. **데이터 읽기:** 반도체 공정(SECOM) 데이터를 불러오고 Dataframe 구조를 확인<br>\n",
    "\n",
    "\n",
    "2. **데이터 정제:** 비어 있는 데이터 또는 쓸모 없는 데이터를 대체<br>\n",
    "\n",
    "\n",
    "3. **데이터 시각화:** 변수 시각화를 통하여 분포 파악<br>\n",
    "    3.1. Pass/Fail 시각화<br>\n",
    "    3.2. 센서 데이터 시각화 하기<br>\n",
    "    3.3. 59번 센서 데이터 시각화 하기<br>\n",
    "\n",
    "\n",
    "4. **데이터 전 처리:** 머신러닝 모델에 필요한 입력값 형식으로 데이터 처리<br>\n",
    "    4.1. x와 y로 분리<br>\n",
    "    4.2. 데이터 정규화<br>\n",
    "\n",
    "\n",
    "5. **머신러닝 모델 학습:** 분류 모델을 사용하여 학습 수행<br>\n",
    "    5.1. 기본 분류 모델 학습 - 로지스틱 분류기<br>\n",
    "    5.2. 다양한 분류 모델 학습<br>\n",
    "\n",
    "\n",
    "6. **평가 및 예측:** 학습된 모델을 바탕으로 평가 및 예측 수행<br>\n",
    "    6.1. Confusion Matrix<br>\n",
    "    6.2. Precision & Recall<br>\n",
    "    6.3. 테스트 데이터의 예측값 출력<br>\n",
    "\n"
   ]
  },
  {
   "cell_type": "markdown",
   "metadata": {
    "id": "bClR1wKFvhdb"
   },
   "source": [
    "---"
   ]
  },
  {
   "cell_type": "markdown",
   "metadata": {
    "id": "7Tl4aZZRvhdb"
   },
   "source": [
    "## 데이터 출처\n",
    "- https://archive.ics.uci.edu/ml/datasets/SECOM"
   ]
  },
  {
   "cell_type": "markdown",
   "metadata": {
    "id": "FFl8LR8Uvhdb"
   },
   "source": [
    "---"
   ]
  },
  {
   "cell_type": "markdown",
   "metadata": {
    "id": "SODjkC-Mvhdb"
   },
   "source": [
    "## 프로젝트 개요\n",
    "\n",
    "제조 분야의 디지털 트랜스포메이션이 진행되면서 제조 공정에서 일어나는 수많은 정보가 데이터로 정리되고 있습니다. 제조 공정의 이상을 탐지 분야는 이러한 데이터 바탕으로 구현되는 인공지능 기술로 기존 확률 기반의 예측보다 높은 효율을 내고 있습니다. 이러한 이상 탐지 알고리즘은 불량률을 예측하는 것 뿐만 아니라 어떠한 요소가 불량품을 나오게 하는지 그 원인을 파악하는데 또한 도움을 줄 수 있습니다. 따라서 제조 분야에서의 인공지능을 활용한 이상 탐지는 계속 연구되고 있으며 빠르게 적용되며 그 효율을 보여주고 있습니다.\n",
    "\n",
    "이번 실습에서는 UCI에서 제공하는 SECOM 공정에서 측정된 센서 데이터를 기반으로 한 데이터를 바탕으로 공정 이상을 예측해보는 분류 모델을 구현합니다. 이를 활용하여 센서 데이터가 주어 졌을 때 공정 이상이 생기는지를 예측할 수 있으며, 공정 이상 시 어떠한 센서들이 중요한 역할을 하는지 알아봅니다."
   ]
  },
  {
   "cell_type": "markdown",
   "metadata": {
    "id": "ZTWqyH54vhdb"
   },
   "source": [
    "---"
   ]
  },
  {
   "cell_type": "markdown",
   "metadata": {
    "id": "xcagzXvuvhdb"
   },
   "source": [
    "- 데이터 다운로드하기"
   ]
  },
  {
   "cell_type": "code",
   "execution_count": 56,
   "metadata": {
    "colab": {
     "base_uri": "https://localhost:8080/"
    },
    "executionInfo": {
     "elapsed": 5695,
     "status": "ok",
     "timestamp": 1735196291439,
     "user": {
      "displayName": "강희숙",
      "userId": "05520711596090317319"
     },
     "user_tz": -540
    },
    "id": "NW_fkkzivj9R",
    "outputId": "7d446837-ccc6-4dc9-cec6-6c0c4c996cca"
   },
   "outputs": [],
   "source": [
    "# colab 에서 사용시시\n",
    "#!gdown 1Bidb3xuhe1gGDR-gPOKuNzlfFPVKheYL"
   ]
  },
  {
   "cell_type": "markdown",
   "metadata": {
    "id": "HS0J3unywKT6"
   },
   "source": [
    "- 다운로드한 압축파일 압축해제하기"
   ]
  },
  {
   "cell_type": "code",
   "execution_count": 57,
   "metadata": {
    "id": "KNr8bXR5wEaO"
   },
   "outputs": [],
   "source": [
    "#!unzip -qq 'Classification_Prj2_data.zip'"
   ]
  },
  {
   "cell_type": "markdown",
   "metadata": {
    "id": "8UmfLQE5vhdb"
   },
   "source": [
    "## 1.데이터 읽기"
   ]
  },
  {
   "cell_type": "markdown",
   "metadata": {
    "id": "n3h4yoOrvhdb"
   },
   "source": [
    "pandas를 사용하여 `uci-secom.csv` 데이터를 읽고 dataframe 형태로 저장해 봅시다."
   ]
  },
  {
   "cell_type": "code",
   "execution_count": 58,
   "metadata": {
    "ExecuteTime": {
     "end_time": "2021-07-21T07:28:25.505639Z",
     "start_time": "2021-07-21T07:28:23.672551Z"
    },
    "id": "KPKDV_gpvhdb"
   },
   "outputs": [],
   "source": [
    "import numpy as np\n",
    "import pandas as pd\n",
    "import matplotlib.pyplot as plt\n",
    "import seaborn as sns"
   ]
  },
  {
   "cell_type": "code",
   "execution_count": 59,
   "metadata": {
    "ExecuteTime": {
     "end_time": "2021-07-21T07:28:25.790642Z",
     "start_time": "2021-07-21T07:28:25.556650Z"
    },
    "id": "Bnypq_ufvhdc",
    "scrolled": true
   },
   "outputs": [],
   "source": [
    "# data 폴더 내의 uci-secom.csv 데이터를 pandas를 사용하여 dataframe 형태로 불러옵니다.\n",
    "data = pd.read_csv('data/secom_data/uci-secom.csv')"
   ]
  },
  {
   "cell_type": "code",
   "execution_count": 60,
   "metadata": {
    "id": "7gutqbhgvhdc",
    "outputId": "c564c40c-95fd-4cd7-ae8c-d487d38ee5dd"
   },
   "outputs": [
    {
     "data": {
      "text/html": [
       "<div>\n",
       "<style scoped>\n",
       "    .dataframe tbody tr th:only-of-type {\n",
       "        vertical-align: middle;\n",
       "    }\n",
       "\n",
       "    .dataframe tbody tr th {\n",
       "        vertical-align: top;\n",
       "    }\n",
       "\n",
       "    .dataframe thead th {\n",
       "        text-align: right;\n",
       "    }\n",
       "</style>\n",
       "<table border=\"1\" class=\"dataframe\">\n",
       "  <thead>\n",
       "    <tr style=\"text-align: right;\">\n",
       "      <th></th>\n",
       "      <th>Time</th>\n",
       "      <th>0</th>\n",
       "      <th>1</th>\n",
       "      <th>2</th>\n",
       "      <th>3</th>\n",
       "      <th>4</th>\n",
       "      <th>5</th>\n",
       "      <th>6</th>\n",
       "      <th>7</th>\n",
       "      <th>8</th>\n",
       "      <th>...</th>\n",
       "      <th>581</th>\n",
       "      <th>582</th>\n",
       "      <th>583</th>\n",
       "      <th>584</th>\n",
       "      <th>585</th>\n",
       "      <th>586</th>\n",
       "      <th>587</th>\n",
       "      <th>588</th>\n",
       "      <th>589</th>\n",
       "      <th>Pass/Fail</th>\n",
       "    </tr>\n",
       "  </thead>\n",
       "  <tbody>\n",
       "    <tr>\n",
       "      <th>0</th>\n",
       "      <td>2008-07-19 11:55:00</td>\n",
       "      <td>3030.93</td>\n",
       "      <td>2564.00</td>\n",
       "      <td>2187.7333</td>\n",
       "      <td>1411.1265</td>\n",
       "      <td>1.3602</td>\n",
       "      <td>100.0</td>\n",
       "      <td>97.6133</td>\n",
       "      <td>0.1242</td>\n",
       "      <td>1.5005</td>\n",
       "      <td>...</td>\n",
       "      <td>NaN</td>\n",
       "      <td>0.5005</td>\n",
       "      <td>0.0118</td>\n",
       "      <td>0.0035</td>\n",
       "      <td>2.3630</td>\n",
       "      <td>NaN</td>\n",
       "      <td>NaN</td>\n",
       "      <td>NaN</td>\n",
       "      <td>NaN</td>\n",
       "      <td>-1</td>\n",
       "    </tr>\n",
       "    <tr>\n",
       "      <th>1</th>\n",
       "      <td>2008-07-19 12:32:00</td>\n",
       "      <td>3095.78</td>\n",
       "      <td>2465.14</td>\n",
       "      <td>2230.4222</td>\n",
       "      <td>1463.6606</td>\n",
       "      <td>0.8294</td>\n",
       "      <td>100.0</td>\n",
       "      <td>102.3433</td>\n",
       "      <td>0.1247</td>\n",
       "      <td>1.4966</td>\n",
       "      <td>...</td>\n",
       "      <td>208.2045</td>\n",
       "      <td>0.5019</td>\n",
       "      <td>0.0223</td>\n",
       "      <td>0.0055</td>\n",
       "      <td>4.4447</td>\n",
       "      <td>0.0096</td>\n",
       "      <td>0.0201</td>\n",
       "      <td>0.0060</td>\n",
       "      <td>208.2045</td>\n",
       "      <td>-1</td>\n",
       "    </tr>\n",
       "    <tr>\n",
       "      <th>2</th>\n",
       "      <td>2008-07-19 13:17:00</td>\n",
       "      <td>2932.61</td>\n",
       "      <td>2559.94</td>\n",
       "      <td>2186.4111</td>\n",
       "      <td>1698.0172</td>\n",
       "      <td>1.5102</td>\n",
       "      <td>100.0</td>\n",
       "      <td>95.4878</td>\n",
       "      <td>0.1241</td>\n",
       "      <td>1.4436</td>\n",
       "      <td>...</td>\n",
       "      <td>82.8602</td>\n",
       "      <td>0.4958</td>\n",
       "      <td>0.0157</td>\n",
       "      <td>0.0039</td>\n",
       "      <td>3.1745</td>\n",
       "      <td>0.0584</td>\n",
       "      <td>0.0484</td>\n",
       "      <td>0.0148</td>\n",
       "      <td>82.8602</td>\n",
       "      <td>1</td>\n",
       "    </tr>\n",
       "    <tr>\n",
       "      <th>3</th>\n",
       "      <td>2008-07-19 14:43:00</td>\n",
       "      <td>2988.72</td>\n",
       "      <td>2479.90</td>\n",
       "      <td>2199.0333</td>\n",
       "      <td>909.7926</td>\n",
       "      <td>1.3204</td>\n",
       "      <td>100.0</td>\n",
       "      <td>104.2367</td>\n",
       "      <td>0.1217</td>\n",
       "      <td>1.4882</td>\n",
       "      <td>...</td>\n",
       "      <td>73.8432</td>\n",
       "      <td>0.4990</td>\n",
       "      <td>0.0103</td>\n",
       "      <td>0.0025</td>\n",
       "      <td>2.0544</td>\n",
       "      <td>0.0202</td>\n",
       "      <td>0.0149</td>\n",
       "      <td>0.0044</td>\n",
       "      <td>73.8432</td>\n",
       "      <td>-1</td>\n",
       "    </tr>\n",
       "    <tr>\n",
       "      <th>4</th>\n",
       "      <td>2008-07-19 15:22:00</td>\n",
       "      <td>3032.24</td>\n",
       "      <td>2502.87</td>\n",
       "      <td>2233.3667</td>\n",
       "      <td>1326.5200</td>\n",
       "      <td>1.5334</td>\n",
       "      <td>100.0</td>\n",
       "      <td>100.3967</td>\n",
       "      <td>0.1235</td>\n",
       "      <td>1.5031</td>\n",
       "      <td>...</td>\n",
       "      <td>NaN</td>\n",
       "      <td>0.4800</td>\n",
       "      <td>0.4766</td>\n",
       "      <td>0.1045</td>\n",
       "      <td>99.3032</td>\n",
       "      <td>0.0202</td>\n",
       "      <td>0.0149</td>\n",
       "      <td>0.0044</td>\n",
       "      <td>73.8432</td>\n",
       "      <td>-1</td>\n",
       "    </tr>\n",
       "  </tbody>\n",
       "</table>\n",
       "<p>5 rows × 592 columns</p>\n",
       "</div>"
      ],
      "text/plain": [
       "                  Time        0        1          2          3       4      5  \\\n",
       "0  2008-07-19 11:55:00  3030.93  2564.00  2187.7333  1411.1265  1.3602  100.0   \n",
       "1  2008-07-19 12:32:00  3095.78  2465.14  2230.4222  1463.6606  0.8294  100.0   \n",
       "2  2008-07-19 13:17:00  2932.61  2559.94  2186.4111  1698.0172  1.5102  100.0   \n",
       "3  2008-07-19 14:43:00  2988.72  2479.90  2199.0333   909.7926  1.3204  100.0   \n",
       "4  2008-07-19 15:22:00  3032.24  2502.87  2233.3667  1326.5200  1.5334  100.0   \n",
       "\n",
       "          6       7       8  ...       581     582     583     584      585  \\\n",
       "0   97.6133  0.1242  1.5005  ...       NaN  0.5005  0.0118  0.0035   2.3630   \n",
       "1  102.3433  0.1247  1.4966  ...  208.2045  0.5019  0.0223  0.0055   4.4447   \n",
       "2   95.4878  0.1241  1.4436  ...   82.8602  0.4958  0.0157  0.0039   3.1745   \n",
       "3  104.2367  0.1217  1.4882  ...   73.8432  0.4990  0.0103  0.0025   2.0544   \n",
       "4  100.3967  0.1235  1.5031  ...       NaN  0.4800  0.4766  0.1045  99.3032   \n",
       "\n",
       "      586     587     588       589  Pass/Fail  \n",
       "0     NaN     NaN     NaN       NaN         -1  \n",
       "1  0.0096  0.0201  0.0060  208.2045         -1  \n",
       "2  0.0584  0.0484  0.0148   82.8602          1  \n",
       "3  0.0202  0.0149  0.0044   73.8432         -1  \n",
       "4  0.0202  0.0149  0.0044   73.8432         -1  \n",
       "\n",
       "[5 rows x 592 columns]"
      ]
     },
     "execution_count": 60,
     "metadata": {},
     "output_type": "execute_result"
    }
   ],
   "source": [
    "# 5개의 행을 확인합니다. head()를 사용합니다. head() 안에 숫자를 넣을 수 있습니다.\n",
    "data.head()"
   ]
  },
  {
   "cell_type": "code",
   "execution_count": 61,
   "metadata": {
    "id": "EJLGN5JFvhdc",
    "outputId": "35cf3021-1bf7-42f2-e636-63c13657678e",
    "scrolled": true
   },
   "outputs": [
    {
     "name": "stdout",
     "output_type": "stream",
     "text": [
      "<class 'pandas.core.frame.DataFrame'>\n",
      "RangeIndex: 1567 entries, 0 to 1566\n",
      "Columns: 592 entries, Time to Pass/Fail\n",
      "dtypes: float64(590), int64(1), object(1)\n",
      "memory usage: 7.1+ MB\n",
      "None\n",
      "(1567, 592)\n"
     ]
    }
   ],
   "source": [
    "print(data.info())\n",
    "print(data.shape)"
   ]
  },
  {
   "cell_type": "code",
   "execution_count": 62,
   "metadata": {
    "id": "6HUnLidPvhdc",
    "outputId": "a695582a-f44e-4c86-b0df-b67c77e40b12",
    "scrolled": true
   },
   "outputs": [
    {
     "data": {
      "text/html": [
       "<div>\n",
       "<style scoped>\n",
       "    .dataframe tbody tr th:only-of-type {\n",
       "        vertical-align: middle;\n",
       "    }\n",
       "\n",
       "    .dataframe tbody tr th {\n",
       "        vertical-align: top;\n",
       "    }\n",
       "\n",
       "    .dataframe thead th {\n",
       "        text-align: right;\n",
       "    }\n",
       "</style>\n",
       "<table border=\"1\" class=\"dataframe\">\n",
       "  <thead>\n",
       "    <tr style=\"text-align: right;\">\n",
       "      <th></th>\n",
       "      <th>0</th>\n",
       "      <th>1</th>\n",
       "      <th>2</th>\n",
       "      <th>3</th>\n",
       "      <th>4</th>\n",
       "      <th>5</th>\n",
       "      <th>6</th>\n",
       "      <th>7</th>\n",
       "      <th>8</th>\n",
       "      <th>9</th>\n",
       "      <th>...</th>\n",
       "      <th>581</th>\n",
       "      <th>582</th>\n",
       "      <th>583</th>\n",
       "      <th>584</th>\n",
       "      <th>585</th>\n",
       "      <th>586</th>\n",
       "      <th>587</th>\n",
       "      <th>588</th>\n",
       "      <th>589</th>\n",
       "      <th>Pass/Fail</th>\n",
       "    </tr>\n",
       "  </thead>\n",
       "  <tbody>\n",
       "    <tr>\n",
       "      <th>count</th>\n",
       "      <td>1561.000000</td>\n",
       "      <td>1560.000000</td>\n",
       "      <td>1553.000000</td>\n",
       "      <td>1553.000000</td>\n",
       "      <td>1553.000000</td>\n",
       "      <td>1553.0</td>\n",
       "      <td>1553.000000</td>\n",
       "      <td>1558.000000</td>\n",
       "      <td>1565.000000</td>\n",
       "      <td>1565.000000</td>\n",
       "      <td>...</td>\n",
       "      <td>618.000000</td>\n",
       "      <td>1566.000000</td>\n",
       "      <td>1566.000000</td>\n",
       "      <td>1566.000000</td>\n",
       "      <td>1566.000000</td>\n",
       "      <td>1566.000000</td>\n",
       "      <td>1566.000000</td>\n",
       "      <td>1566.000000</td>\n",
       "      <td>1566.000000</td>\n",
       "      <td>1567.000000</td>\n",
       "    </tr>\n",
       "    <tr>\n",
       "      <th>mean</th>\n",
       "      <td>3014.452896</td>\n",
       "      <td>2495.850231</td>\n",
       "      <td>2200.547318</td>\n",
       "      <td>1396.376627</td>\n",
       "      <td>4.197013</td>\n",
       "      <td>100.0</td>\n",
       "      <td>101.112908</td>\n",
       "      <td>0.121822</td>\n",
       "      <td>1.462862</td>\n",
       "      <td>-0.000841</td>\n",
       "      <td>...</td>\n",
       "      <td>97.934373</td>\n",
       "      <td>0.500096</td>\n",
       "      <td>0.015318</td>\n",
       "      <td>0.003847</td>\n",
       "      <td>3.067826</td>\n",
       "      <td>0.021458</td>\n",
       "      <td>0.016475</td>\n",
       "      <td>0.005283</td>\n",
       "      <td>99.670066</td>\n",
       "      <td>-0.867262</td>\n",
       "    </tr>\n",
       "    <tr>\n",
       "      <th>std</th>\n",
       "      <td>73.621787</td>\n",
       "      <td>80.407705</td>\n",
       "      <td>29.513152</td>\n",
       "      <td>441.691640</td>\n",
       "      <td>56.355540</td>\n",
       "      <td>0.0</td>\n",
       "      <td>6.237214</td>\n",
       "      <td>0.008961</td>\n",
       "      <td>0.073897</td>\n",
       "      <td>0.015116</td>\n",
       "      <td>...</td>\n",
       "      <td>87.520966</td>\n",
       "      <td>0.003404</td>\n",
       "      <td>0.017180</td>\n",
       "      <td>0.003720</td>\n",
       "      <td>3.578033</td>\n",
       "      <td>0.012358</td>\n",
       "      <td>0.008808</td>\n",
       "      <td>0.002867</td>\n",
       "      <td>93.891919</td>\n",
       "      <td>0.498010</td>\n",
       "    </tr>\n",
       "    <tr>\n",
       "      <th>min</th>\n",
       "      <td>2743.240000</td>\n",
       "      <td>2158.750000</td>\n",
       "      <td>2060.660000</td>\n",
       "      <td>0.000000</td>\n",
       "      <td>0.681500</td>\n",
       "      <td>100.0</td>\n",
       "      <td>82.131100</td>\n",
       "      <td>0.000000</td>\n",
       "      <td>1.191000</td>\n",
       "      <td>-0.053400</td>\n",
       "      <td>...</td>\n",
       "      <td>0.000000</td>\n",
       "      <td>0.477800</td>\n",
       "      <td>0.006000</td>\n",
       "      <td>0.001700</td>\n",
       "      <td>1.197500</td>\n",
       "      <td>-0.016900</td>\n",
       "      <td>0.003200</td>\n",
       "      <td>0.001000</td>\n",
       "      <td>0.000000</td>\n",
       "      <td>-1.000000</td>\n",
       "    </tr>\n",
       "    <tr>\n",
       "      <th>25%</th>\n",
       "      <td>2966.260000</td>\n",
       "      <td>2452.247500</td>\n",
       "      <td>2181.044400</td>\n",
       "      <td>1081.875800</td>\n",
       "      <td>1.017700</td>\n",
       "      <td>100.0</td>\n",
       "      <td>97.920000</td>\n",
       "      <td>0.121100</td>\n",
       "      <td>1.411200</td>\n",
       "      <td>-0.010800</td>\n",
       "      <td>...</td>\n",
       "      <td>46.184900</td>\n",
       "      <td>0.497900</td>\n",
       "      <td>0.011600</td>\n",
       "      <td>0.003100</td>\n",
       "      <td>2.306500</td>\n",
       "      <td>0.013425</td>\n",
       "      <td>0.010600</td>\n",
       "      <td>0.003300</td>\n",
       "      <td>44.368600</td>\n",
       "      <td>-1.000000</td>\n",
       "    </tr>\n",
       "    <tr>\n",
       "      <th>50%</th>\n",
       "      <td>3011.490000</td>\n",
       "      <td>2499.405000</td>\n",
       "      <td>2201.066700</td>\n",
       "      <td>1285.214400</td>\n",
       "      <td>1.316800</td>\n",
       "      <td>100.0</td>\n",
       "      <td>101.512200</td>\n",
       "      <td>0.122400</td>\n",
       "      <td>1.461600</td>\n",
       "      <td>-0.001300</td>\n",
       "      <td>...</td>\n",
       "      <td>72.288900</td>\n",
       "      <td>0.500200</td>\n",
       "      <td>0.013800</td>\n",
       "      <td>0.003600</td>\n",
       "      <td>2.757650</td>\n",
       "      <td>0.020500</td>\n",
       "      <td>0.014800</td>\n",
       "      <td>0.004600</td>\n",
       "      <td>71.900500</td>\n",
       "      <td>-1.000000</td>\n",
       "    </tr>\n",
       "    <tr>\n",
       "      <th>75%</th>\n",
       "      <td>3056.650000</td>\n",
       "      <td>2538.822500</td>\n",
       "      <td>2218.055500</td>\n",
       "      <td>1591.223500</td>\n",
       "      <td>1.525700</td>\n",
       "      <td>100.0</td>\n",
       "      <td>104.586700</td>\n",
       "      <td>0.123800</td>\n",
       "      <td>1.516900</td>\n",
       "      <td>0.008400</td>\n",
       "      <td>...</td>\n",
       "      <td>116.539150</td>\n",
       "      <td>0.502375</td>\n",
       "      <td>0.016500</td>\n",
       "      <td>0.004100</td>\n",
       "      <td>3.295175</td>\n",
       "      <td>0.027600</td>\n",
       "      <td>0.020300</td>\n",
       "      <td>0.006400</td>\n",
       "      <td>114.749700</td>\n",
       "      <td>-1.000000</td>\n",
       "    </tr>\n",
       "    <tr>\n",
       "      <th>max</th>\n",
       "      <td>3356.350000</td>\n",
       "      <td>2846.440000</td>\n",
       "      <td>2315.266700</td>\n",
       "      <td>3715.041700</td>\n",
       "      <td>1114.536600</td>\n",
       "      <td>100.0</td>\n",
       "      <td>129.252200</td>\n",
       "      <td>0.128600</td>\n",
       "      <td>1.656400</td>\n",
       "      <td>0.074900</td>\n",
       "      <td>...</td>\n",
       "      <td>737.304800</td>\n",
       "      <td>0.509800</td>\n",
       "      <td>0.476600</td>\n",
       "      <td>0.104500</td>\n",
       "      <td>99.303200</td>\n",
       "      <td>0.102800</td>\n",
       "      <td>0.079900</td>\n",
       "      <td>0.028600</td>\n",
       "      <td>737.304800</td>\n",
       "      <td>1.000000</td>\n",
       "    </tr>\n",
       "  </tbody>\n",
       "</table>\n",
       "<p>8 rows × 591 columns</p>\n",
       "</div>"
      ],
      "text/plain": [
       "                 0            1            2            3            4  \\\n",
       "count  1561.000000  1560.000000  1553.000000  1553.000000  1553.000000   \n",
       "mean   3014.452896  2495.850231  2200.547318  1396.376627     4.197013   \n",
       "std      73.621787    80.407705    29.513152   441.691640    56.355540   \n",
       "min    2743.240000  2158.750000  2060.660000     0.000000     0.681500   \n",
       "25%    2966.260000  2452.247500  2181.044400  1081.875800     1.017700   \n",
       "50%    3011.490000  2499.405000  2201.066700  1285.214400     1.316800   \n",
       "75%    3056.650000  2538.822500  2218.055500  1591.223500     1.525700   \n",
       "max    3356.350000  2846.440000  2315.266700  3715.041700  1114.536600   \n",
       "\n",
       "            5            6            7            8            9  ...  \\\n",
       "count  1553.0  1553.000000  1558.000000  1565.000000  1565.000000  ...   \n",
       "mean    100.0   101.112908     0.121822     1.462862    -0.000841  ...   \n",
       "std       0.0     6.237214     0.008961     0.073897     0.015116  ...   \n",
       "min     100.0    82.131100     0.000000     1.191000    -0.053400  ...   \n",
       "25%     100.0    97.920000     0.121100     1.411200    -0.010800  ...   \n",
       "50%     100.0   101.512200     0.122400     1.461600    -0.001300  ...   \n",
       "75%     100.0   104.586700     0.123800     1.516900     0.008400  ...   \n",
       "max     100.0   129.252200     0.128600     1.656400     0.074900  ...   \n",
       "\n",
       "              581          582          583          584          585  \\\n",
       "count  618.000000  1566.000000  1566.000000  1566.000000  1566.000000   \n",
       "mean    97.934373     0.500096     0.015318     0.003847     3.067826   \n",
       "std     87.520966     0.003404     0.017180     0.003720     3.578033   \n",
       "min      0.000000     0.477800     0.006000     0.001700     1.197500   \n",
       "25%     46.184900     0.497900     0.011600     0.003100     2.306500   \n",
       "50%     72.288900     0.500200     0.013800     0.003600     2.757650   \n",
       "75%    116.539150     0.502375     0.016500     0.004100     3.295175   \n",
       "max    737.304800     0.509800     0.476600     0.104500    99.303200   \n",
       "\n",
       "               586          587          588          589    Pass/Fail  \n",
       "count  1566.000000  1566.000000  1566.000000  1566.000000  1567.000000  \n",
       "mean      0.021458     0.016475     0.005283    99.670066    -0.867262  \n",
       "std       0.012358     0.008808     0.002867    93.891919     0.498010  \n",
       "min      -0.016900     0.003200     0.001000     0.000000    -1.000000  \n",
       "25%       0.013425     0.010600     0.003300    44.368600    -1.000000  \n",
       "50%       0.020500     0.014800     0.004600    71.900500    -1.000000  \n",
       "75%       0.027600     0.020300     0.006400   114.749700    -1.000000  \n",
       "max       0.102800     0.079900     0.028600   737.304800     1.000000  \n",
       "\n",
       "[8 rows x 591 columns]"
      ]
     },
     "execution_count": 62,
     "metadata": {},
     "output_type": "execute_result"
    }
   ],
   "source": [
    "# 수치형 변수의 데이터 정보를 요약하여 출력합니다.\n",
    "data.describe()"
   ]
  },
  {
   "cell_type": "code",
   "execution_count": 63,
   "metadata": {
    "id": "1NIPNaETvhdc",
    "outputId": "341febf9-72ca-44b3-e47a-55b260562956"
   },
   "outputs": [
    {
     "data": {
      "text/html": [
       "<div>\n",
       "<style scoped>\n",
       "    .dataframe tbody tr th:only-of-type {\n",
       "        vertical-align: middle;\n",
       "    }\n",
       "\n",
       "    .dataframe tbody tr th {\n",
       "        vertical-align: top;\n",
       "    }\n",
       "\n",
       "    .dataframe thead th {\n",
       "        text-align: right;\n",
       "    }\n",
       "</style>\n",
       "<table border=\"1\" class=\"dataframe\">\n",
       "  <thead>\n",
       "    <tr style=\"text-align: right;\">\n",
       "      <th></th>\n",
       "      <th>count</th>\n",
       "      <th>mean</th>\n",
       "      <th>std</th>\n",
       "      <th>min</th>\n",
       "      <th>25%</th>\n",
       "      <th>50%</th>\n",
       "      <th>75%</th>\n",
       "      <th>max</th>\n",
       "    </tr>\n",
       "  </thead>\n",
       "  <tbody>\n",
       "    <tr>\n",
       "      <th>0</th>\n",
       "      <td>1561.0</td>\n",
       "      <td>3014.452896</td>\n",
       "      <td>73.621787</td>\n",
       "      <td>2743.2400</td>\n",
       "      <td>2966.260000</td>\n",
       "      <td>3011.4900</td>\n",
       "      <td>3056.6500</td>\n",
       "      <td>3356.3500</td>\n",
       "    </tr>\n",
       "    <tr>\n",
       "      <th>1</th>\n",
       "      <td>1560.0</td>\n",
       "      <td>2495.850231</td>\n",
       "      <td>80.407705</td>\n",
       "      <td>2158.7500</td>\n",
       "      <td>2452.247500</td>\n",
       "      <td>2499.4050</td>\n",
       "      <td>2538.8225</td>\n",
       "      <td>2846.4400</td>\n",
       "    </tr>\n",
       "    <tr>\n",
       "      <th>2</th>\n",
       "      <td>1553.0</td>\n",
       "      <td>2200.547318</td>\n",
       "      <td>29.513152</td>\n",
       "      <td>2060.6600</td>\n",
       "      <td>2181.044400</td>\n",
       "      <td>2201.0667</td>\n",
       "      <td>2218.0555</td>\n",
       "      <td>2315.2667</td>\n",
       "    </tr>\n",
       "    <tr>\n",
       "      <th>3</th>\n",
       "      <td>1553.0</td>\n",
       "      <td>1396.376627</td>\n",
       "      <td>441.691640</td>\n",
       "      <td>0.0000</td>\n",
       "      <td>1081.875800</td>\n",
       "      <td>1285.2144</td>\n",
       "      <td>1591.2235</td>\n",
       "      <td>3715.0417</td>\n",
       "    </tr>\n",
       "    <tr>\n",
       "      <th>4</th>\n",
       "      <td>1553.0</td>\n",
       "      <td>4.197013</td>\n",
       "      <td>56.355540</td>\n",
       "      <td>0.6815</td>\n",
       "      <td>1.017700</td>\n",
       "      <td>1.3168</td>\n",
       "      <td>1.5257</td>\n",
       "      <td>1114.5366</td>\n",
       "    </tr>\n",
       "    <tr>\n",
       "      <th>...</th>\n",
       "      <td>...</td>\n",
       "      <td>...</td>\n",
       "      <td>...</td>\n",
       "      <td>...</td>\n",
       "      <td>...</td>\n",
       "      <td>...</td>\n",
       "      <td>...</td>\n",
       "      <td>...</td>\n",
       "    </tr>\n",
       "    <tr>\n",
       "      <th>586</th>\n",
       "      <td>1566.0</td>\n",
       "      <td>0.021458</td>\n",
       "      <td>0.012358</td>\n",
       "      <td>-0.0169</td>\n",
       "      <td>0.013425</td>\n",
       "      <td>0.0205</td>\n",
       "      <td>0.0276</td>\n",
       "      <td>0.1028</td>\n",
       "    </tr>\n",
       "    <tr>\n",
       "      <th>587</th>\n",
       "      <td>1566.0</td>\n",
       "      <td>0.016475</td>\n",
       "      <td>0.008808</td>\n",
       "      <td>0.0032</td>\n",
       "      <td>0.010600</td>\n",
       "      <td>0.0148</td>\n",
       "      <td>0.0203</td>\n",
       "      <td>0.0799</td>\n",
       "    </tr>\n",
       "    <tr>\n",
       "      <th>588</th>\n",
       "      <td>1566.0</td>\n",
       "      <td>0.005283</td>\n",
       "      <td>0.002867</td>\n",
       "      <td>0.0010</td>\n",
       "      <td>0.003300</td>\n",
       "      <td>0.0046</td>\n",
       "      <td>0.0064</td>\n",
       "      <td>0.0286</td>\n",
       "    </tr>\n",
       "    <tr>\n",
       "      <th>589</th>\n",
       "      <td>1566.0</td>\n",
       "      <td>99.670066</td>\n",
       "      <td>93.891919</td>\n",
       "      <td>0.0000</td>\n",
       "      <td>44.368600</td>\n",
       "      <td>71.9005</td>\n",
       "      <td>114.7497</td>\n",
       "      <td>737.3048</td>\n",
       "    </tr>\n",
       "    <tr>\n",
       "      <th>Pass/Fail</th>\n",
       "      <td>1567.0</td>\n",
       "      <td>-0.867262</td>\n",
       "      <td>0.498010</td>\n",
       "      <td>-1.0000</td>\n",
       "      <td>-1.000000</td>\n",
       "      <td>-1.0000</td>\n",
       "      <td>-1.0000</td>\n",
       "      <td>1.0000</td>\n",
       "    </tr>\n",
       "  </tbody>\n",
       "</table>\n",
       "<p>591 rows × 8 columns</p>\n",
       "</div>"
      ],
      "text/plain": [
       "            count         mean         std        min          25%        50%  \\\n",
       "0          1561.0  3014.452896   73.621787  2743.2400  2966.260000  3011.4900   \n",
       "1          1560.0  2495.850231   80.407705  2158.7500  2452.247500  2499.4050   \n",
       "2          1553.0  2200.547318   29.513152  2060.6600  2181.044400  2201.0667   \n",
       "3          1553.0  1396.376627  441.691640     0.0000  1081.875800  1285.2144   \n",
       "4          1553.0     4.197013   56.355540     0.6815     1.017700     1.3168   \n",
       "...           ...          ...         ...        ...          ...        ...   \n",
       "586        1566.0     0.021458    0.012358    -0.0169     0.013425     0.0205   \n",
       "587        1566.0     0.016475    0.008808     0.0032     0.010600     0.0148   \n",
       "588        1566.0     0.005283    0.002867     0.0010     0.003300     0.0046   \n",
       "589        1566.0    99.670066   93.891919     0.0000    44.368600    71.9005   \n",
       "Pass/Fail  1567.0    -0.867262    0.498010    -1.0000    -1.000000    -1.0000   \n",
       "\n",
       "                 75%        max  \n",
       "0          3056.6500  3356.3500  \n",
       "1          2538.8225  2846.4400  \n",
       "2          2218.0555  2315.2667  \n",
       "3          1591.2235  3715.0417  \n",
       "4             1.5257  1114.5366  \n",
       "...              ...        ...  \n",
       "586           0.0276     0.1028  \n",
       "587           0.0203     0.0799  \n",
       "588           0.0064     0.0286  \n",
       "589         114.7497   737.3048  \n",
       "Pass/Fail    -1.0000     1.0000  \n",
       "\n",
       "[591 rows x 8 columns]"
      ]
     },
     "execution_count": 63,
     "metadata": {},
     "output_type": "execute_result"
    }
   ],
   "source": [
    "data.describe().T\n"
   ]
  },
  {
   "cell_type": "markdown",
   "metadata": {
    "id": "7Ei0z9d1vhdc"
   },
   "source": [
    "## 2.데이터 정제\n",
    "- 데이터 정제 :**결측값(missing value)** 또는 **이상치(outlier)** 처리"
   ]
  },
  {
   "cell_type": "code",
   "execution_count": 64,
   "metadata": {
    "id": "2TqMTpw9vhdd",
    "outputId": "2b977e7c-b5da-401b-b627-4a8a41ee8186"
   },
   "outputs": [
    {
     "data": {
      "text/plain": [
       "Time          0\n",
       "0             6\n",
       "1             7\n",
       "2            14\n",
       "3            14\n",
       "             ..\n",
       "586           1\n",
       "587           1\n",
       "588           1\n",
       "589           1\n",
       "Pass/Fail     0\n",
       "Length: 592, dtype: int64"
      ]
     },
     "execution_count": 64,
     "metadata": {},
     "output_type": "execute_result"
    }
   ],
   "source": [
    "# 각 컬럼별 결측값 정보를 출력합니다.\n",
    "data.isnull().sum()"
   ]
  },
  {
   "cell_type": "code",
   "execution_count": 65,
   "metadata": {
    "id": "GCKGYXEAvhdd",
    "outputId": "25cc0ce1-8c3e-4792-9872-ea2e01785981"
   },
   "outputs": [
    {
     "data": {
      "text/plain": [
       "41951"
      ]
     },
     "execution_count": 65,
     "metadata": {},
     "output_type": "execute_result"
    }
   ],
   "source": [
    "# 전체 결측값 정보를 출력합니다.\n",
    "data.isnull().sum().sum()   # ...  코드 입력"
   ]
  },
  {
   "cell_type": "markdown",
   "metadata": {
    "id": "C6jx8Ksxvhdd"
   },
   "source": [
    "- 모든 데이터를 사용하기 위해서는 결측값을 0으로 대체합니다."
   ]
  },
  {
   "cell_type": "code",
   "execution_count": 66,
   "metadata": {
    "id": "JoOiB5aZvhdd",
    "outputId": "a75469fb-b4ff-4037-da0d-d058c6dd51de"
   },
   "outputs": [
    {
     "data": {
      "text/plain": [
       "0"
      ]
     },
     "execution_count": 66,
     "metadata": {},
     "output_type": "execute_result"
    }
   ],
   "source": [
    "# 결측값을 0으로 대체(replace()사용)합니다.\n",
    "data = data.replace(np.nan, 0)   # ...  코드 입력\n",
    "\n",
    "# 결측값 정보를 출력합니다.\n",
    "data.isnull().sum().sum()"
   ]
  },
  {
   "cell_type": "code",
   "execution_count": 67,
   "metadata": {
    "id": "FEke-4c7vhdd",
    "outputId": "9797906c-cada-492e-fb2c-b0d6b822af15"
   },
   "outputs": [
    {
     "data": {
      "text/plain": [
       "(1567, 591)"
      ]
     },
     "execution_count": 67,
     "metadata": {},
     "output_type": "execute_result"
    }
   ],
   "source": [
    "# 'Time'변수의 데이터는 pass/fail을 예측하는데 큰 영향이 없다 생각하여 삭제합니다.\n",
    "data = data.drop(columns=['Time'])   # ...  코드 입력\n",
    "\n",
    "data.shape"
   ]
  },
  {
   "cell_type": "code",
   "execution_count": 68,
   "metadata": {},
   "outputs": [
    {
     "data": {
      "text/plain": [
       "(600, 591)"
      ]
     },
     "execution_count": 68,
     "metadata": {},
     "output_type": "execute_result"
    }
   ],
   "source": [
    "data_test = pd.read_csv('data/secom_data/uci-secom-test.csv')\n",
    "data_test.shape"
   ]
  },
  {
   "cell_type": "markdown",
   "metadata": {
    "id": "GAnpZtsSvhdd"
   },
   "source": [
    "## 3.데이터 시각화"
   ]
  },
  {
   "cell_type": "markdown",
   "metadata": {
    "id": "bjjkYvR1vhdd"
   },
   "source": [
    "센서에 관련된 590개의 변수들은 시각화하기에 너무 양이 많기에 영향력이 크다고 판단되는 `59` 센서에 대해서만 시각화를 진행해보기( `59`번 데이터는 머신러닝 모델을 사용했을 때, 높은 중요도로 뽑힌 변수임)"
   ]
  },
  {
   "cell_type": "markdown",
   "metadata": {
    "id": "K9TO0Stcvhdd"
   },
   "source": [
    "### 3.1. `Pass/Fail` 시각화"
   ]
  },
  {
   "cell_type": "code",
   "execution_count": 69,
   "metadata": {
    "id": "A0FkeyJevhdd",
    "outputId": "264c2d3a-dfd4-48b5-f6d7-f9e9eef1fd07",
    "scrolled": true
   },
   "outputs": [
    {
     "name": "stdout",
     "output_type": "stream",
     "text": [
      "Pass/Fail\n",
      "-1    1463\n",
      " 1     104\n",
      "Name: count, dtype: int64\n"
     ]
    },
    {
     "data": {
      "text/plain": [
       "<Axes: xlabel='Pass/Fail'>"
      ]
     },
     "execution_count": 69,
     "metadata": {},
     "output_type": "execute_result"
    },
    {
     "data": {
      "image/png": "[encoded data removed]",
      "text/plain": [
       "<Figure size 500x500 with 1 Axes>"
      ]
     },
     "metadata": {},
     "output_type": "display_data"
    }
   ],
   "source": [
    "# 분포를 도수분포표로 확인합니다.\n",
    "print(data['Pass/Fail'].value_counts())\n",
    "\n",
    "# 분포를 막대 그래프를 사용하여 출력합니다.\n",
    "data['Pass/Fail'].value_counts().plot(kind='bar')  # ...  코드 입력"
   ]
  },
  {
   "cell_type": "markdown",
   "metadata": {
    "id": "Tyb9wmpYvhde"
   },
   "source": [
    "### 3.2. 센서 데이터 시각화 하기"
   ]
  },
  {
   "cell_type": "markdown",
   "metadata": {
    "id": "ZWVQHk9kvhde"
   },
   "source": [
    "다수의 feature 데이터에 대해서 한눈에 볼 수 있도록 시각화를 수행할 때는 seaborn의 `pairplot`를 활용하여 해결할 수 있습니다.\n",
    "\n",
    "590개 센서에 대한 출력을 `pairplot`으로 수행하기엔 출력 결과도 보기 힘들뿐더러 출력 시간도 매우 오래 걸립니다.\n",
    "\n",
    "따라서 아래 코드와 같이 3,4,5, Pass/Fail 데이터에 대해서만 출력해보겠습니다."
   ]
  },
  {
   "cell_type": "code",
   "execution_count": 70,
   "metadata": {
    "id": "LhUwqx-Qvhde",
    "outputId": "3dc2dd06-cc19-4664-8331-e0c4078b632b"
   },
   "outputs": [
    {
     "data": {
      "text/html": [
       "<div>\n",
       "<style scoped>\n",
       "    .dataframe tbody tr th:only-of-type {\n",
       "        vertical-align: middle;\n",
       "    }\n",
       "\n",
       "    .dataframe tbody tr th {\n",
       "        vertical-align: top;\n",
       "    }\n",
       "\n",
       "    .dataframe thead th {\n",
       "        text-align: right;\n",
       "    }\n",
       "</style>\n",
       "<table border=\"1\" class=\"dataframe\">\n",
       "  <thead>\n",
       "    <tr style=\"text-align: right;\">\n",
       "      <th></th>\n",
       "      <th>3</th>\n",
       "      <th>4</th>\n",
       "      <th>5</th>\n",
       "      <th>Pass/Fail</th>\n",
       "    </tr>\n",
       "  </thead>\n",
       "  <tbody>\n",
       "    <tr>\n",
       "      <th>0</th>\n",
       "      <td>1411.1265</td>\n",
       "      <td>1.3602</td>\n",
       "      <td>100.0</td>\n",
       "      <td>-1</td>\n",
       "    </tr>\n",
       "    <tr>\n",
       "      <th>1</th>\n",
       "      <td>1463.6606</td>\n",
       "      <td>0.8294</td>\n",
       "      <td>100.0</td>\n",
       "      <td>-1</td>\n",
       "    </tr>\n",
       "    <tr>\n",
       "      <th>2</th>\n",
       "      <td>1698.0172</td>\n",
       "      <td>1.5102</td>\n",
       "      <td>100.0</td>\n",
       "      <td>1</td>\n",
       "    </tr>\n",
       "    <tr>\n",
       "      <th>3</th>\n",
       "      <td>909.7926</td>\n",
       "      <td>1.3204</td>\n",
       "      <td>100.0</td>\n",
       "      <td>-1</td>\n",
       "    </tr>\n",
       "    <tr>\n",
       "      <th>4</th>\n",
       "      <td>1326.5200</td>\n",
       "      <td>1.5334</td>\n",
       "      <td>100.0</td>\n",
       "      <td>-1</td>\n",
       "    </tr>\n",
       "    <tr>\n",
       "      <th>...</th>\n",
       "      <td>...</td>\n",
       "      <td>...</td>\n",
       "      <td>...</td>\n",
       "      <td>...</td>\n",
       "    </tr>\n",
       "    <tr>\n",
       "      <th>1562</th>\n",
       "      <td>3085.3781</td>\n",
       "      <td>1.4843</td>\n",
       "      <td>100.0</td>\n",
       "      <td>-1</td>\n",
       "    </tr>\n",
       "    <tr>\n",
       "      <th>1563</th>\n",
       "      <td>1124.6595</td>\n",
       "      <td>0.8763</td>\n",
       "      <td>100.0</td>\n",
       "      <td>-1</td>\n",
       "    </tr>\n",
       "    <tr>\n",
       "      <th>1564</th>\n",
       "      <td>1110.4967</td>\n",
       "      <td>0.8236</td>\n",
       "      <td>100.0</td>\n",
       "      <td>-1</td>\n",
       "    </tr>\n",
       "    <tr>\n",
       "      <th>1565</th>\n",
       "      <td>1183.7287</td>\n",
       "      <td>1.5726</td>\n",
       "      <td>100.0</td>\n",
       "      <td>-1</td>\n",
       "    </tr>\n",
       "    <tr>\n",
       "      <th>1566</th>\n",
       "      <td>2914.1792</td>\n",
       "      <td>1.5978</td>\n",
       "      <td>100.0</td>\n",
       "      <td>-1</td>\n",
       "    </tr>\n",
       "  </tbody>\n",
       "</table>\n",
       "<p>1567 rows × 4 columns</p>\n",
       "</div>"
      ],
      "text/plain": [
       "              3       4      5  Pass/Fail\n",
       "0     1411.1265  1.3602  100.0         -1\n",
       "1     1463.6606  0.8294  100.0         -1\n",
       "2     1698.0172  1.5102  100.0          1\n",
       "3      909.7926  1.3204  100.0         -1\n",
       "4     1326.5200  1.5334  100.0         -1\n",
       "...         ...     ...    ...        ...\n",
       "1562  3085.3781  1.4843  100.0         -1\n",
       "1563  1124.6595  0.8763  100.0         -1\n",
       "1564  1110.4967  0.8236  100.0         -1\n",
       "1565  1183.7287  1.5726  100.0         -1\n",
       "1566  2914.1792  1.5978  100.0         -1\n",
       "\n",
       "[1567 rows x 4 columns]"
      ]
     },
     "execution_count": 70,
     "metadata": {},
     "output_type": "execute_result"
    }
   ],
   "source": [
    "#3,4,5,Pass/Fail 컬럼으로 새로운 DataFrame을 만듭니다. 리스트 안에 컬럼 이름을 적습니다.\n",
    "data_plot= data[['3','4','5','Pass/Fail']]\n",
    "data_plot"
   ]
  },
  {
   "cell_type": "code",
   "execution_count": 71,
   "metadata": {
    "id": "bPDfPDsWvhde",
    "outputId": "fbc64e6a-82bc-4537-95eb-ab78c1153bb6",
    "scrolled": false
   },
   "outputs": [
    {
     "name": "stderr",
     "output_type": "stream",
     "text": [
      "c:\\Users\\khs\\anaconda3\\Lib\\site-packages\\seaborn\\_oldcore.py:1119: FutureWarning: use_inf_as_na option is deprecated and will be removed in a future version. Convert inf values to NaN before operating instead.\n",
      "  with pd.option_context('mode.use_inf_as_na', True):\n",
      "c:\\Users\\khs\\anaconda3\\Lib\\site-packages\\seaborn\\_oldcore.py:1119: FutureWarning: use_inf_as_na option is deprecated and will be removed in a future version. Convert inf values to NaN before operating instead.\n",
      "  with pd.option_context('mode.use_inf_as_na', True):\n",
      "c:\\Users\\khs\\anaconda3\\Lib\\site-packages\\seaborn\\_oldcore.py:1119: FutureWarning: use_inf_as_na option is deprecated and will be removed in a future version. Convert inf values to NaN before operating instead.\n",
      "  with pd.option_context('mode.use_inf_as_na', True):\n",
      "c:\\Users\\khs\\anaconda3\\Lib\\site-packages\\seaborn\\_oldcore.py:1119: FutureWarning: use_inf_as_na option is deprecated and will be removed in a future version. Convert inf values to NaN before operating instead.\n",
      "  with pd.option_context('mode.use_inf_as_na', True):\n"
     ]
    },
    {
     "data": {
      "text/plain": [
       "<seaborn.axisgrid.PairGrid at 0x21909abdcd0>"
      ]
     },
     "execution_count": 71,
     "metadata": {},
     "output_type": "execute_result"
    },
    {
     "data": {
      "image/png": "[encoded data removed]",
      "text/plain": [
       "<Figure size 1000x1000 with 20 Axes>"
      ]
     },
     "metadata": {},
     "output_type": "display_data"
    }
   ],
   "source": [
    "#seaborn의 pairplot()을 사용해서 컬럼끼리 비교할 수 있습니다.\n",
    "sns.pairplot(data_plot)"
   ]
  },
  {
   "cell_type": "code",
   "execution_count": 72,
   "metadata": {
    "id": "a7AmJdrSvhde",
    "outputId": "04a4d501-904f-45c7-ddc1-a14001cbae3f"
   },
   "outputs": [
    {
     "name": "stderr",
     "output_type": "stream",
     "text": [
      "c:\\Users\\khs\\anaconda3\\Lib\\site-packages\\seaborn\\_oldcore.py:1119: FutureWarning: use_inf_as_na option is deprecated and will be removed in a future version. Convert inf values to NaN before operating instead.\n",
      "  with pd.option_context('mode.use_inf_as_na', True):\n",
      "c:\\Users\\khs\\anaconda3\\Lib\\site-packages\\seaborn\\_oldcore.py:1119: FutureWarning: use_inf_as_na option is deprecated and will be removed in a future version. Convert inf values to NaN before operating instead.\n",
      "  with pd.option_context('mode.use_inf_as_na', True):\n"
     ]
    },
    {
     "data": {
      "text/plain": [
       "<seaborn.axisgrid.PairGrid at 0x2192fd3ee90>"
      ]
     },
     "execution_count": 72,
     "metadata": {},
     "output_type": "execute_result"
    },
    {
     "data": {
      "image/png": "[encoded data removed]",
      "text/plain": [
       "<Figure size 1000x1000 with 6 Axes>"
      ]
     },
     "metadata": {},
     "output_type": "display_data"
    }
   ],
   "source": [
    "# vars를 사용해서 특정한 컬럼끼리 비교할 수도 있습니다.\n",
    "sns.pairplot(data_plot, height=5, vars=['3','4'])"
   ]
  },
  {
   "cell_type": "markdown",
   "metadata": {
    "id": "Kkp7miG5vhde"
   },
   "source": [
    "### 3.3. `59`번 센서 시각화"
   ]
  },
  {
   "cell_type": "code",
   "execution_count": 73,
   "metadata": {
    "id": "MFiQmCwlvhde",
    "outputId": "8d68c05b-2535-480e-96d9-26cb21923f3a"
   },
   "outputs": [
    {
     "name": "stderr",
     "output_type": "stream",
     "text": [
      "C:\\Users\\khs\\AppData\\Local\\Temp\\ipykernel_24764\\45376415.py:13: UserWarning: \n",
      "\n",
      "`distplot` is a deprecated function and will be removed in seaborn v0.14.0.\n",
      "\n",
      "Please adapt your code to use either `displot` (a figure-level function with\n",
      "similar flexibility) or `histplot` (an axes-level function for histograms).\n",
      "\n",
      "For a guide to updating your code to use the new functions, please see\n",
      "https://gist.github.com/mwaskom/de44147ed2974457ad6372750bbe5751\n",
      "\n",
      "  sns.distplot(data['59'], color = 'darkblue')\n",
      "c:\\Users\\khs\\anaconda3\\Lib\\site-packages\\seaborn\\_oldcore.py:1119: FutureWarning: use_inf_as_na option is deprecated and will be removed in a future version. Convert inf values to NaN before operating instead.\n",
      "  with pd.option_context('mode.use_inf_as_na', True):\n"
     ]
    },
    {
     "data": {
      "text/plain": [
       "Text(0.5, 1.0, '59 Sensor Measurements')"
      ]
     },
     "execution_count": 73,
     "metadata": {},
     "output_type": "execute_result"
    },
    {
     "data": {
      "image/png": "[encoded data removed]",
      "text/plain": [
       "<Figure size 800x600 with 1 Axes>"
      ]
     },
     "metadata": {},
     "output_type": "display_data"
    }
   ],
   "source": [
    "# subplots는 한 번에 여러 그래프를 보여주기 위해서 사용합니다.\n",
    "# subplots()에선 두개의 값을 받을 수 있는데 figure와 axes 값을 받을 수 있습니다. 여기서 변수명은 상관없습니다. 순서가 중요합니다.\n",
    "# fig: figure로써  전체 subplot을 말합니다.\n",
    "# ax: axe로써 각각의 그래프를 말합니다.\n",
    "\n",
    "fig, ax = plt.subplots(figsize=(8, 6))\n",
    "\n",
    "# seborn 그래프의 스타일을 설정합니다.\n",
    "sns.set(style='darkgrid')\n",
    "\n",
    "# 59번 데이터의 분포를 출력합니다.\n",
    "#sns.histplot(data['59'], color = 'darkblue')\n",
    "sns.distplot(data['59'], color = 'darkblue')\n",
    "\n",
    "# 그래프의 제목을 설정합니다.\n",
    "plt.title('59 Sensor Measurements', fontsize = 20)"
   ]
  },
  {
   "cell_type": "code",
   "execution_count": 74,
   "metadata": {
    "id": "u0JBv_SFvhde",
    "outputId": "c8251f22-cd6d-4493-c32b-52460ad43245",
    "scrolled": true
   },
   "outputs": [
    {
     "name": "stderr",
     "output_type": "stream",
     "text": [
      "c:\\Users\\khs\\anaconda3\\Lib\\site-packages\\seaborn\\_oldcore.py:1119: FutureWarning: use_inf_as_na option is deprecated and will be removed in a future version. Convert inf values to NaN before operating instead.\n",
      "  with pd.option_context('mode.use_inf_as_na', True):\n",
      "c:\\Users\\khs\\anaconda3\\Lib\\site-packages\\seaborn\\_oldcore.py:1119: FutureWarning: use_inf_as_na option is deprecated and will be removed in a future version. Convert inf values to NaN before operating instead.\n",
      "  with pd.option_context('mode.use_inf_as_na', True):\n",
      "c:\\Users\\khs\\anaconda3\\Lib\\site-packages\\seaborn\\_oldcore.py:1119: FutureWarning: use_inf_as_na option is deprecated and will be removed in a future version. Convert inf values to NaN before operating instead.\n",
      "  with pd.option_context('mode.use_inf_as_na', True):\n"
     ]
    },
    {
     "data": {
      "text/plain": [
       "Text(0.5, 1.0, '59 Sensor Measurements')"
      ]
     },
     "execution_count": 74,
     "metadata": {},
     "output_type": "execute_result"
    },
    {
     "data": {
      "image/png": "[encoded data removed]",
      "text/plain": [
       "<Figure size 1000x1600 with 3 Axes>"
      ]
     },
     "metadata": {},
     "output_type": "display_data"
    }
   ],
   "source": [
    "# 그래프의 사이즈를 설정합니다. 첫번째는 가로, 두번째는 세로의 크기입니다.\n",
    "plt.rcParams['figure.figsize'] = (10, 16)\n",
    "\n",
    "# 3x1 형태로 그래프를 출력하기 위하여 subplot을 설정합니다.\n",
    "# subplot(행, 열, 인덱스)로 그래프의 위치를 정합니다.\n",
    "plt.subplot(3, 1, 1)\n",
    "sns.histplot(data['59'], color = 'darkblue')\n",
    "plt.title('59 Sensor Measurements', fontsize = 20)\n",
    "\n",
    "# 'Pass/Fail' 값이 1인 데이터를 출력합니다.\n",
    "#  data[data['Pass/Fail']==1]를 하면 'Pass/Fail' 값이 1인 행만 사용할 수 있습니다.\n",
    "plt.subplot(3, 1, 2)\n",
    "sns.histplot(data[data['Pass/Fail']==1]['59'], color = 'darkgreen')\n",
    "plt.title('59 Sensor Measurements', fontsize = 20)\n",
    "\n",
    "# 'Pass/Fail' 값이 -1인 데이터를 출력합니다.\n",
    "plt.subplot(3, 1, 3)\n",
    "sns.histplot(data[data['Pass/Fail']==-1]['59'], color = 'red')\n",
    "plt.title('59 Sensor Measurements', fontsize = 20)"
   ]
  },
  {
   "cell_type": "markdown",
   "metadata": {
    "id": "Kg8XOU1svhdf"
   },
   "source": [
    "## 4.데이터 전 처리"
   ]
  },
  {
   "cell_type": "markdown",
   "metadata": {
    "id": "sqbppXIevhdf"
   },
   "source": [
    "- 전체 데이터를 feature 데이터인 `x`와 label 데이터인 `y`로 분리하기\n",
    "- StandardScaler를 통한 데이터 표준화하기"
   ]
  },
  {
   "cell_type": "markdown",
   "metadata": {
    "id": "ALyHmzdpvhdf"
   },
   "source": [
    "### 4.1.  `x`와  `y` : 특성 및 타겟 지정하기"
   ]
  },
  {
   "cell_type": "markdown",
   "metadata": {
    "id": "bNtFPXU3vhdf"
   },
   "source": [
    "머신러닝의 feature 데이터는 `Xx`, label 데이터는 `y`에 저장합니다."
   ]
  },
  {
   "cell_type": "code",
   "execution_count": 75,
   "metadata": {
    "id": "o3Uo9fx8vhdf",
    "outputId": "8582a173-f413-4a33-8ca7-451cad07afa8"
   },
   "outputs": [
    {
     "data": {
      "text/plain": [
       "array([-1, -1,  1, ..., -1, -1, -1], dtype=int64)"
      ]
     },
     "execution_count": 75,
     "metadata": {},
     "output_type": "execute_result"
    }
   ],
   "source": [
    "# 예측해야 할 변수인 `Pass/Fail`를 제거하여 머신러닝 입력값인 X에 저장합니다.\n",
    "X_train = data.drop(columns=['Pass/Fail'])   # ...  코드 입력\n",
    "\n",
    "# 예측해야 할 변수 `Pass/Fail`만을 선택하여 numpy 형태로 y에 저장합니다.\n",
    "y_train = data['Pass/Fail']   # ...  코드 입력\n",
    "\n",
    "# ravel은 \"풀다\"로 다차원을 1차원으로 푸는 것을 의미합니다.\n",
    "# 1차원 벡터 형태로 출력하기 위해 ravel 사용합니다.\n",
    "y_train = y_train.to_numpy().ravel()\n",
    "y_train"
   ]
  },
  {
   "cell_type": "markdown",
   "metadata": {
    "id": "JMASUFpivhdf"
   },
   "source": [
    "원본 데이터의 수가 많지 않기에 원본 데이터에서 샘플 데이터를 추출하고 노이즈를 추가하여 테스트 데이터를 생성하였습니다.\n",
    "\n",
    "`data` 폴더 내의 `uci-secom-test.csv`에 590개의 센서 데이터와 `Pass/Fail`저장되어 있기에 해당 데이터를 읽어와 `x_test, y_test` 데이터로 분리합니다."
   ]
  },
  {
   "cell_type": "code",
   "execution_count": 76,
   "metadata": {
    "id": "mMIn0DHjvhdf"
   },
   "outputs": [],
   "source": [
    "# data 폴더 내의 uci-secom-test.csv를 DataFrame으로 읽습니다.\n",
    "data_test = pd.read_csv('data/secom_data/uci-secom-test.csv')   # ...  코드 입력\n",
    "\n",
    "#x_test, y_test로 분리합니다. x , y 과 동일하게\n",
    "X_test = data_test.drop(columns=['Pass/Fail'])   # ...  코드 입력\n",
    "y_test = data_test['Pass/Fail']   # ...  코드 입력"
   ]
  },
  {
   "cell_type": "code",
   "execution_count": 77,
   "metadata": {
    "id": "q2CQaMUYvhdf",
    "outputId": "f1b6a29e-81ec-4934-86af-c58e03c364af",
    "scrolled": true
   },
   "outputs": [
    {
     "data": {
      "text/html": [
       "<div>\n",
       "<style scoped>\n",
       "    .dataframe tbody tr th:only-of-type {\n",
       "        vertical-align: middle;\n",
       "    }\n",
       "\n",
       "    .dataframe tbody tr th {\n",
       "        vertical-align: top;\n",
       "    }\n",
       "\n",
       "    .dataframe thead th {\n",
       "        text-align: right;\n",
       "    }\n",
       "</style>\n",
       "<table border=\"1\" class=\"dataframe\">\n",
       "  <thead>\n",
       "    <tr style=\"text-align: right;\">\n",
       "      <th></th>\n",
       "      <th>0</th>\n",
       "      <th>1</th>\n",
       "      <th>2</th>\n",
       "      <th>3</th>\n",
       "      <th>4</th>\n",
       "      <th>5</th>\n",
       "      <th>6</th>\n",
       "      <th>7</th>\n",
       "      <th>8</th>\n",
       "      <th>9</th>\n",
       "      <th>...</th>\n",
       "      <th>580</th>\n",
       "      <th>581</th>\n",
       "      <th>582</th>\n",
       "      <th>583</th>\n",
       "      <th>584</th>\n",
       "      <th>585</th>\n",
       "      <th>586</th>\n",
       "      <th>587</th>\n",
       "      <th>588</th>\n",
       "      <th>589</th>\n",
       "    </tr>\n",
       "  </thead>\n",
       "  <tbody>\n",
       "    <tr>\n",
       "      <th>0</th>\n",
       "      <td>3058.576438</td>\n",
       "      <td>2456.188003</td>\n",
       "      <td>2174.584701</td>\n",
       "      <td>1113.987638</td>\n",
       "      <td>1.017292</td>\n",
       "      <td>100.0</td>\n",
       "      <td>103.784665</td>\n",
       "      <td>0.124100</td>\n",
       "      <td>1.373089</td>\n",
       "      <td>0.008796</td>\n",
       "      <td>...</td>\n",
       "      <td>0.004038</td>\n",
       "      <td>53.973861</td>\n",
       "      <td>0.502555</td>\n",
       "      <td>0.012549</td>\n",
       "      <td>0.003425</td>\n",
       "      <td>2.494222</td>\n",
       "      <td>0.021644</td>\n",
       "      <td>0.017824</td>\n",
       "      <td>0.005433</td>\n",
       "      <td>98.028276</td>\n",
       "    </tr>\n",
       "    <tr>\n",
       "      <th>1</th>\n",
       "      <td>3225.540000</td>\n",
       "      <td>2500.380000</td>\n",
       "      <td>2211.400000</td>\n",
       "      <td>1511.784200</td>\n",
       "      <td>1.300400</td>\n",
       "      <td>100.0</td>\n",
       "      <td>97.470000</td>\n",
       "      <td>0.123700</td>\n",
       "      <td>1.367100</td>\n",
       "      <td>-0.019700</td>\n",
       "      <td>...</td>\n",
       "      <td>0.000000</td>\n",
       "      <td>0.000000</td>\n",
       "      <td>0.498500</td>\n",
       "      <td>0.031600</td>\n",
       "      <td>0.006600</td>\n",
       "      <td>6.343200</td>\n",
       "      <td>-0.004700</td>\n",
       "      <td>0.013400</td>\n",
       "      <td>0.003500</td>\n",
       "      <td>286.130300</td>\n",
       "    </tr>\n",
       "    <tr>\n",
       "      <th>2</th>\n",
       "      <td>3027.019797</td>\n",
       "      <td>2495.244836</td>\n",
       "      <td>2239.283771</td>\n",
       "      <td>1878.339266</td>\n",
       "      <td>1.875838</td>\n",
       "      <td>100.0</td>\n",
       "      <td>95.120185</td>\n",
       "      <td>0.122412</td>\n",
       "      <td>1.390140</td>\n",
       "      <td>0.006793</td>\n",
       "      <td>...</td>\n",
       "      <td>0.000000</td>\n",
       "      <td>0.000000</td>\n",
       "      <td>0.501425</td>\n",
       "      <td>0.013365</td>\n",
       "      <td>0.003555</td>\n",
       "      <td>2.673789</td>\n",
       "      <td>0.031982</td>\n",
       "      <td>0.013443</td>\n",
       "      <td>0.004191</td>\n",
       "      <td>40.419061</td>\n",
       "    </tr>\n",
       "    <tr>\n",
       "      <th>3</th>\n",
       "      <td>3021.865769</td>\n",
       "      <td>2415.728398</td>\n",
       "      <td>2182.942505</td>\n",
       "      <td>1101.940802</td>\n",
       "      <td>1.387535</td>\n",
       "      <td>100.0</td>\n",
       "      <td>103.816952</td>\n",
       "      <td>0.123432</td>\n",
       "      <td>1.513284</td>\n",
       "      <td>-0.027191</td>\n",
       "      <td>...</td>\n",
       "      <td>0.000287</td>\n",
       "      <td>3.060171</td>\n",
       "      <td>0.496957</td>\n",
       "      <td>0.013008</td>\n",
       "      <td>0.003423</td>\n",
       "      <td>2.617648</td>\n",
       "      <td>0.034111</td>\n",
       "      <td>0.024022</td>\n",
       "      <td>0.009235</td>\n",
       "      <td>70.072016</td>\n",
       "    </tr>\n",
       "    <tr>\n",
       "      <th>4</th>\n",
       "      <td>2998.755593</td>\n",
       "      <td>2411.935120</td>\n",
       "      <td>2208.165877</td>\n",
       "      <td>1172.869419</td>\n",
       "      <td>1.364676</td>\n",
       "      <td>100.0</td>\n",
       "      <td>101.940758</td>\n",
       "      <td>0.120709</td>\n",
       "      <td>1.449954</td>\n",
       "      <td>-0.002415</td>\n",
       "      <td>...</td>\n",
       "      <td>0.000000</td>\n",
       "      <td>0.000000</td>\n",
       "      <td>0.502647</td>\n",
       "      <td>0.012165</td>\n",
       "      <td>0.003780</td>\n",
       "      <td>2.415892</td>\n",
       "      <td>0.021732</td>\n",
       "      <td>0.012311</td>\n",
       "      <td>0.004373</td>\n",
       "      <td>56.939737</td>\n",
       "    </tr>\n",
       "  </tbody>\n",
       "</table>\n",
       "<p>5 rows × 590 columns</p>\n",
       "</div>"
      ],
      "text/plain": [
       "             0            1            2            3         4      5  \\\n",
       "0  3058.576438  2456.188003  2174.584701  1113.987638  1.017292  100.0   \n",
       "1  3225.540000  2500.380000  2211.400000  1511.784200  1.300400  100.0   \n",
       "2  3027.019797  2495.244836  2239.283771  1878.339266  1.875838  100.0   \n",
       "3  3021.865769  2415.728398  2182.942505  1101.940802  1.387535  100.0   \n",
       "4  2998.755593  2411.935120  2208.165877  1172.869419  1.364676  100.0   \n",
       "\n",
       "            6         7         8         9  ...       580        581  \\\n",
       "0  103.784665  0.124100  1.373089  0.008796  ...  0.004038  53.973861   \n",
       "1   97.470000  0.123700  1.367100 -0.019700  ...  0.000000   0.000000   \n",
       "2   95.120185  0.122412  1.390140  0.006793  ...  0.000000   0.000000   \n",
       "3  103.816952  0.123432  1.513284 -0.027191  ...  0.000287   3.060171   \n",
       "4  101.940758  0.120709  1.449954 -0.002415  ...  0.000000   0.000000   \n",
       "\n",
       "        582       583       584       585       586       587       588  \\\n",
       "0  0.502555  0.012549  0.003425  2.494222  0.021644  0.017824  0.005433   \n",
       "1  0.498500  0.031600  0.006600  6.343200 -0.004700  0.013400  0.003500   \n",
       "2  0.501425  0.013365  0.003555  2.673789  0.031982  0.013443  0.004191   \n",
       "3  0.496957  0.013008  0.003423  2.617648  0.034111  0.024022  0.009235   \n",
       "4  0.502647  0.012165  0.003780  2.415892  0.021732  0.012311  0.004373   \n",
       "\n",
       "          589  \n",
       "0   98.028276  \n",
       "1  286.130300  \n",
       "2   40.419061  \n",
       "3   70.072016  \n",
       "4   56.939737  \n",
       "\n",
       "[5 rows x 590 columns]"
      ]
     },
     "execution_count": 77,
     "metadata": {},
     "output_type": "execute_result"
    }
   ],
   "source": [
    "X_test.head()"
   ]
  },
  {
   "cell_type": "markdown",
   "metadata": {
    "id": "6lVzqOwavhdf"
   },
   "source": [
    "### 4.2. 데이터 표준화"
   ]
  },
  {
   "cell_type": "markdown",
   "metadata": {
    "id": "5Vv0Ejjevhdg"
   },
   "source": [
    "각 변수 마다의 스케일 차이를 맞추기 위하여 표준화를 수행합니다.\n",
    "\n",
    "표준화는 서로 다른 피처의 크기를 통일하기 위해서 크기를 변환해주는 개념입니다.\n",
    "\n",
    "데이터의 피처 각각이 평균이 0이고 분산이 1인 가우시안 정규 분포를 형태와 가까워지도록 변환합니다."
   ]
  },
  {
   "cell_type": "code",
   "execution_count": 78,
   "metadata": {
    "id": "KU8DxfrEvhdg"
   },
   "outputs": [],
   "source": [
    "from sklearn.preprocessing import StandardScaler\n",
    "\n",
    "# 정규화를 위해서 StandardScaler 불러옵니다.\n",
    "sc = StandardScaler()   # ...  코드 입력\n",
    "\n",
    "# x_train에 있는 데이터에 맞춰 정규화를 진행합니다.\n",
    "X_train = sc.fit_transform(X_train)   # ...  코드 입력\n",
    "X_test = sc.transform(X_test)   # ...  코드 입력"
   ]
  },
  {
   "cell_type": "code",
   "execution_count": 79,
   "metadata": {
    "id": "7gau5KKivhdg",
    "outputId": "d30a1036-0564-45bc-b309-b6b3e48b2eb6"
   },
   "outputs": [
    {
     "data": {
      "text/plain": [
       "array([[ 0.13999828,  0.42920791,  0.03273532, ..., -1.86846064,\n",
       "        -1.84076867, -1.0611589 ],\n",
       "       [ 0.46402024, -0.10587396,  0.23685169, ...,  0.41258698,\n",
       "         0.25102908,  1.15695081],\n",
       "       [-0.35125598,  0.40723307,  0.02641324, ...,  3.62421124,\n",
       "         3.31899911, -0.17840653],\n",
       "       [-0.07090329, -0.02598515,  0.08676611, ..., -0.17753479,\n",
       "        -0.30678365, -0.27446928],\n",
       "       [ 0.14654367,  0.09834047,  0.25093078, ..., -0.17753479,\n",
       "        -0.30678365, -0.27446928]])"
      ]
     },
     "execution_count": 79,
     "metadata": {},
     "output_type": "execute_result"
    }
   ],
   "source": [
    "X_train[:5]"
   ]
  },
  {
   "cell_type": "markdown",
   "metadata": {
    "id": "LkS9fpo8vhdg"
   },
   "source": [
    "## 5.머신러닝 모델 학습"
   ]
  },
  {
   "cell_type": "markdown",
   "metadata": {
    "id": "AduA5z1_vhdg"
   },
   "source": [
    "### 로지스틱 회귀\n",
    "로지스틱 회귀는 선형 회귀 방식을 분류에 적용한 알고리즘입니다.\n",
    "\n",
    "로지스틱 회귀는 회귀라는 말이 들어갔지만 분류에 사용됩니다.\n",
    "\n",
    "로지스틱 회귀가 선형 회귀와 다른 점은 학습을 통해 선형 함수의 회귀 최적선을 찾는 것이 아닙니다.\n",
    "\n",
    "시그모이드 함수 최적선을 찾고 이 시그모이드 함수의 반환 값을 확률로 간주해 확률에 따라 분류를 결정한다는 점입니다.\n",
    "\n",
    "확률에 따라서 분류를 결정합니다.\n",
    "\n",
    "로지스틱 회귀는 주로 이진(0과 1) 분류에 사용됩니다. 로지스틱 회귀에서 예측 값은 예측 확률의 의미합니다.\n",
    "\n",
    "예측 값 즉, 예측 확률이 0.5이상이면 1로, 그렇지 않으면 0으로 예측합니다."
   ]
  },
  {
   "cell_type": "markdown",
   "metadata": {
    "id": "RE63Zwb2vhdg"
   },
   "source": [
    "### 5.1. 기본 분류 모델 학습 - 로지스틱 분류기"
   ]
  },
  {
   "cell_type": "code",
   "execution_count": 80,
   "metadata": {
    "id": "_y0OH2upvhdg",
    "outputId": "90459219-1fc7-456a-e7ee-31cf07915acb"
   },
   "outputs": [
    {
     "name": "stdout",
     "output_type": "stream",
     "text": [
      "0.9738353541799617\n",
      "0.845\n"
     ]
    },
    {
     "name": "stderr",
     "output_type": "stream",
     "text": [
      "c:\\Users\\khs\\anaconda3\\Lib\\site-packages\\sklearn\\linear_model\\_logistic.py:458: ConvergenceWarning: lbfgs failed to converge (status=1):\n",
      "STOP: TOTAL NO. of ITERATIONS REACHED LIMIT.\n",
      "\n",
      "Increase the number of iterations (max_iter) or scale the data as shown in:\n",
      "    https://scikit-learn.org/stable/modules/preprocessing.html\n",
      "Please also refer to the documentation for alternative solver options:\n",
      "    https://scikit-learn.org/stable/modules/linear_model.html#logistic-regression\n",
      "  n_iter_i = _check_optimize_result(\n"
     ]
    }
   ],
   "source": [
    "from sklearn.linear_model import LogisticRegression\n",
    "\n",
    "# 로지스틱 분류기 모델 class를 가져 옵니다.\n",
    "# max_iter는 로지스틱 알고리즘의 반복 횟수를 정하는 파라미터로 본 실습에서는 default 값으로는 모자르기에 아래와 같이 설정합니다.\n",
    "model = LogisticRegression()   # ...  코드 입력\n",
    "\n",
    "# 데이터를 학습시킬 때는 fit 함수를 사용합니다.\n",
    "model.fit(X_train, y_train)   # ...  코드 입력\n",
    "\n",
    "# score 함수를 사용하여 모델의 성능을 확인합니다.\n",
    "print(model.score(X_train, y_train))\n",
    "print(model.score(X_test, y_test))"
   ]
  },
  {
   "cell_type": "code",
   "execution_count": 81,
   "metadata": {},
   "outputs": [
    {
     "data": {
      "text/plain": [
       "['C',\n",
       " '__annotations__',\n",
       " '__class__',\n",
       " '__delattr__',\n",
       " '__dict__',\n",
       " '__dir__',\n",
       " '__doc__',\n",
       " '__eq__',\n",
       " '__format__',\n",
       " '__ge__',\n",
       " '__getattribute__',\n",
       " '__getstate__',\n",
       " '__gt__',\n",
       " '__hash__',\n",
       " '__init__',\n",
       " '__init_subclass__',\n",
       " '__le__',\n",
       " '__lt__',\n",
       " '__module__',\n",
       " '__ne__',\n",
       " '__new__',\n",
       " '__reduce__',\n",
       " '__reduce_ex__',\n",
       " '__repr__',\n",
       " '__setattr__',\n",
       " '__setstate__',\n",
       " '__sizeof__',\n",
       " '__str__',\n",
       " '__subclasshook__',\n",
       " '__weakref__',\n",
       " '_check_feature_names',\n",
       " '_check_n_features',\n",
       " '_estimator_type',\n",
       " '_get_param_names',\n",
       " '_get_tags',\n",
       " '_more_tags',\n",
       " '_parameter_constraints',\n",
       " '_predict_proba_lr',\n",
       " '_repr_html_',\n",
       " '_repr_html_inner',\n",
       " '_repr_mimebundle_',\n",
       " '_validate_data',\n",
       " '_validate_params',\n",
       " 'class_weight',\n",
       " 'classes_',\n",
       " 'coef_',\n",
       " 'decision_function',\n",
       " 'densify',\n",
       " 'dual',\n",
       " 'fit',\n",
       " 'fit_intercept',\n",
       " 'get_params',\n",
       " 'intercept_',\n",
       " 'intercept_scaling',\n",
       " 'l1_ratio',\n",
       " 'max_iter',\n",
       " 'multi_class',\n",
       " 'n_features_in_',\n",
       " 'n_iter_',\n",
       " 'n_jobs',\n",
       " 'penalty',\n",
       " 'predict',\n",
       " 'predict_log_proba',\n",
       " 'predict_proba',\n",
       " 'random_state',\n",
       " 'score',\n",
       " 'set_params',\n",
       " 'solver',\n",
       " 'sparsify',\n",
       " 'tol',\n",
       " 'verbose',\n",
       " 'warm_start']"
      ]
     },
     "execution_count": 81,
     "metadata": {},
     "output_type": "execute_result"
    }
   ],
   "source": [
    "dir(model)"
   ]
  },
  {
   "cell_type": "code",
   "execution_count": 82,
   "metadata": {
    "id": "FY0RAMSXvhdg",
    "outputId": "57784dec-4e8a-44f5-8c0d-05eca3b25b70"
   },
   "outputs": [
    {
     "data": {
      "text/plain": [
       "array([1.96201686e-02, 1.55200245e-01, 2.23813966e-01, 2.41642666e-01,\n",
       "       4.03870297e-02, 4.47242746e-01, 1.30279257e-01, 4.95937884e-01,\n",
       "       1.51772328e-01, 3.26909697e-01, 1.81569597e-01, 3.04562970e-02,\n",
       "       2.04276678e-01, 0.00000000e+00, 5.07597483e-01, 2.75121045e-01,\n",
       "       5.91305772e-01, 2.94222447e-01, 3.46080582e-01, 1.46911718e-01,\n",
       "       2.62786905e-01, 5.32147853e-01, 1.61546969e-02, 1.57091597e-01,\n",
       "       2.20005196e-01, 9.39049761e-01, 5.09298833e-01, 5.88611134e-02,\n",
       "       1.28293503e-01, 9.05308110e-01, 6.61102280e-01, 7.15125750e-02,\n",
       "       2.59406821e-01, 4.32627956e-01, 3.46579190e-02, 4.09303106e-01,\n",
       "       1.97238518e-01, 9.80687921e-02, 1.15970791e-01, 2.02637314e-01,\n",
       "       4.38870402e-01, 1.75223854e-01, 5.09618361e-03, 1.87403404e-01,\n",
       "       1.83191879e-02, 5.37167269e-01, 2.55511969e-01, 2.47255883e-01,\n",
       "       3.87645860e-01, 5.09618361e-03, 2.43895788e-01, 2.00381584e-01,\n",
       "       0.00000000e+00, 4.36482121e-01, 6.24597249e-01, 2.71464605e-01,\n",
       "       4.11885615e-01, 2.56280375e-01, 8.13648676e-01, 1.53992066e+00,\n",
       "       3.40164417e-01, 4.31665573e-01, 6.34135863e-01, 5.02634139e-01,\n",
       "       1.12697145e+00, 9.37229129e-01, 2.53888317e-01, 5.71897163e-01,\n",
       "       4.97148423e-01, 1.23111723e-02, 1.10931022e-01, 4.64264735e-01,\n",
       "       2.73962413e-01, 4.67736966e-02, 7.05224049e-03, 3.65954602e-01,\n",
       "       3.64890635e-02, 3.35001049e-01, 1.05966120e-01, 6.74069231e-02,\n",
       "       2.45924276e-01, 2.18775819e-01, 5.55605311e-02, 2.01026606e-01,\n",
       "       3.18015132e-01, 3.95767519e-01, 3.18059041e-01, 4.47508115e-02,\n",
       "       2.43779593e-01, 3.44031001e-01, 5.29798954e-02, 2.96505783e-01,\n",
       "       5.29133472e-01, 6.09793361e-02, 4.73728655e-01, 7.23205237e-02,\n",
       "       2.68878033e-01, 0.00000000e+00, 3.29786417e-01, 7.61309572e-01,\n",
       "       3.27612073e-01, 3.06646835e-01, 4.00700251e-01, 1.31496127e-01,\n",
       "       7.09853573e-02, 4.55221459e-01, 1.06869710e-02, 2.98611331e-01,\n",
       "       3.89034900e-01, 4.28926798e-01, 5.01450952e-01, 3.73336166e-01,\n",
       "       2.04883103e-01, 1.63368140e-01, 1.90381663e-01, 3.78312160e-01,\n",
       "       1.48048201e-01, 1.04870048e+00, 1.77924097e-01, 4.56434000e-01,\n",
       "       5.26682070e-02, 4.12513765e-01, 9.14995012e-02, 2.36951773e-01,\n",
       "       2.01127410e-01, 9.10661476e-02, 1.95100595e-01, 3.03917946e-01,\n",
       "       2.45608657e-01, 6.60108168e-01, 6.67643191e-01, 3.84330096e-01,\n",
       "       1.26735083e+00, 5.16365723e-01, 1.77783571e-01, 2.44991480e-01,\n",
       "       4.10981464e-01, 2.31784728e-01, 3.63088445e-01, 1.50859945e-01,\n",
       "       1.07811690e-02, 0.00000000e+00, 6.58472761e-01, 2.08313356e-01,\n",
       "       2.78252076e-01, 2.37740303e-01, 3.39837741e-01, 5.63531556e-02,\n",
       "       3.30500071e-01, 0.00000000e+00, 2.14083076e-01, 5.59980601e-01,\n",
       "       2.14950580e-01, 1.23020764e-01, 1.01329411e-01, 7.09701258e-01,\n",
       "       1.05058311e-01, 5.87411763e-01, 2.32950264e-01, 3.44470372e-01,\n",
       "       2.04362678e-02, 5.62567770e-01, 7.97413587e-02, 5.19378025e-02,\n",
       "       3.32832751e-01, 1.46035850e-02, 1.10308603e-01, 1.04823919e-01,\n",
       "       7.77551884e-01, 1.28772703e-01, 3.51963450e-01, 2.29113853e-01,\n",
       "       3.45466361e-01, 1.27400926e-01, 3.50170979e-01, 2.18304511e-01,\n",
       "       3.32310139e-01, 1.89553244e-01, 0.00000000e+00, 0.00000000e+00,\n",
       "       2.25226262e-01, 8.16499360e-02, 3.04357920e-01, 9.81886803e-02,\n",
       "       1.16784386e-01, 5.95265742e-02, 0.00000000e+00, 1.31473331e-01,\n",
       "       2.36915664e-01, 0.00000000e+00, 0.00000000e+00, 0.00000000e+00,\n",
       "       0.00000000e+00, 0.00000000e+00, 0.00000000e+00, 3.01344242e-01,\n",
       "       5.03073186e-01, 2.59066060e-01, 1.40765855e-02, 3.16757862e-01,\n",
       "       3.95690066e-01, 2.54370209e-01, 2.91888648e-01, 1.12189539e-01,\n",
       "       4.28068929e-01, 5.56317844e-01, 7.05224049e-03, 3.64360806e-01,\n",
       "       1.50486047e-01, 7.05224049e-03, 1.18513348e-03, 3.80847977e-02,\n",
       "       1.35314202e-01, 2.31425340e-01, 5.65190561e-01, 1.75739291e-01,\n",
       "       1.05537306e+00, 2.14226277e-01, 4.88546528e-02, 6.10374096e-03,\n",
       "       3.02785064e-02, 4.58457627e-01, 5.15920074e-02, 3.76974954e-01,\n",
       "       2.74885668e-01, 8.17634163e-02, 0.00000000e+00, 2.22238693e-01,\n",
       "       4.78020000e-01, 0.00000000e+00, 0.00000000e+00, 0.00000000e+00,\n",
       "       0.00000000e+00, 0.00000000e+00, 0.00000000e+00, 0.00000000e+00,\n",
       "       0.00000000e+00, 0.00000000e+00, 2.41052279e-01, 7.09026248e-01,\n",
       "       0.00000000e+00, 0.00000000e+00, 0.00000000e+00, 0.00000000e+00,\n",
       "       4.45996499e-02, 1.56835246e-01, 2.61809188e-01, 2.77251018e-01,\n",
       "       3.65931328e-01, 6.60022753e-01, 2.88280069e-01, 3.16989334e-01,\n",
       "       4.34915936e-02, 1.61096711e-01, 2.46120477e-01, 7.69616846e-02,\n",
       "       0.00000000e+00, 0.00000000e+00, 0.00000000e+00, 0.00000000e+00,\n",
       "       0.00000000e+00, 0.00000000e+00, 0.00000000e+00, 0.00000000e+00,\n",
       "       0.00000000e+00, 0.00000000e+00, 0.00000000e+00, 2.34244847e-01,\n",
       "       4.09786375e-01, 1.33437436e-01, 2.84942764e-01, 6.33326768e-01,\n",
       "       5.40374357e-01, 5.59493991e-01, 3.68151035e-01, 1.04063417e-02,\n",
       "       0.00000000e+00, 4.94624998e-01, 2.11368513e-01, 3.57999783e-01,\n",
       "       2.26855025e-01, 1.44815404e-01, 2.10306268e-01, 4.41184439e-01,\n",
       "       0.00000000e+00, 8.29775624e-04, 4.08686989e-01, 2.52330812e-01,\n",
       "       6.44878704e-02, 3.71368285e-01, 2.93708012e-01, 4.87838671e-01,\n",
       "       2.57682306e-02, 1.44913640e-01, 1.23726030e-01, 1.74769201e-01,\n",
       "       2.40408299e-01, 1.66214935e-01, 1.50733127e-01, 1.10780665e-01,\n",
       "       1.02770811e-01, 9.88968294e-03, 3.88035231e-01, 2.89773539e-01,\n",
       "       2.09087346e-01, 7.39768801e-01, 2.37768085e-01, 1.88627089e-01,\n",
       "       1.07341027e-01, 1.85695447e-01, 3.35907995e-01, 7.03982462e-01,\n",
       "       2.40920007e-01, 0.00000000e+00, 0.00000000e+00, 0.00000000e+00,\n",
       "       6.05671370e-01, 1.71188138e-01, 6.32371495e-01, 4.30085189e-02,\n",
       "       2.74665038e-01, 3.05801400e-01, 0.00000000e+00, 1.63166070e-01,\n",
       "       3.45498865e-01, 0.00000000e+00, 0.00000000e+00, 0.00000000e+00,\n",
       "       0.00000000e+00, 0.00000000e+00, 0.00000000e+00, 1.09308724e-01,\n",
       "       7.58136953e-01, 8.41794681e-01, 2.22140190e-01, 2.79435860e-01,\n",
       "       2.12827920e-01, 1.94847933e-01, 4.95867625e-01, 2.93498422e-01,\n",
       "       4.26468419e-01, 3.82989686e-01, 7.05224049e-03, 2.03105233e-01,\n",
       "       4.88850459e-01, 3.55848253e-01, 3.28099342e-01, 7.05224049e-03,\n",
       "       3.77667850e-01, 6.23608090e-01, 2.45965998e-01, 2.01202610e-01,\n",
       "       1.16057132e-01, 7.48136379e-02, 6.68356860e-01, 1.74073219e-01,\n",
       "       7.38034021e-02, 5.03590348e-01, 2.39958341e-01, 4.54524935e-01,\n",
       "       2.93419086e-02, 7.70839820e-01, 5.76383289e-02, 5.06226304e-01,\n",
       "       0.00000000e+00, 9.04143050e-01, 4.00740787e-01, 6.16865691e-01,\n",
       "       1.01118065e-01, 0.00000000e+00, 0.00000000e+00, 0.00000000e+00,\n",
       "       0.00000000e+00, 0.00000000e+00, 0.00000000e+00, 0.00000000e+00,\n",
       "       2.11353846e-01, 6.56230446e-01, 0.00000000e+00, 0.00000000e+00,\n",
       "       0.00000000e+00, 0.00000000e+00, 6.42386202e-02, 1.99005865e-01,\n",
       "       7.05799060e-02, 1.99356660e-01, 5.20913979e-01, 6.21945036e-01,\n",
       "       8.39735506e-01, 3.11801088e-01, 9.55552642e-02, 3.70114328e-01,\n",
       "       2.25749623e-01, 3.80646908e-01, 0.00000000e+00, 0.00000000e+00,\n",
       "       0.00000000e+00, 0.00000000e+00, 0.00000000e+00, 0.00000000e+00,\n",
       "       0.00000000e+00, 0.00000000e+00, 0.00000000e+00, 0.00000000e+00,\n",
       "       0.00000000e+00, 2.35684903e-01, 5.60760303e-01, 2.26070890e-02,\n",
       "       1.99391229e-01, 1.33833670e-01, 4.14383791e-01, 4.28125742e-01,\n",
       "       7.80522406e-02, 3.23223390e-01, 0.00000000e+00, 7.13932536e-01,\n",
       "       2.78854776e-01, 4.90627683e-02, 1.22152275e-01, 8.99907837e-03,\n",
       "       1.72413085e-02, 3.16957349e-01, 0.00000000e+00, 1.99461357e-01,\n",
       "       6.32485450e-01, 1.07916153e+00, 1.30888919e-01, 5.07412897e-02,\n",
       "       6.15028017e-01, 1.70914937e-01, 3.42254981e-01, 6.89387066e-02,\n",
       "       1.75404183e-01, 5.10588246e-02, 1.26738625e-01, 1.02970618e-01,\n",
       "       3.31155547e-01, 5.01809314e-01, 1.35087132e-01, 4.19216747e-01,\n",
       "       2.00471679e-01, 4.01917413e-01, 7.84038955e-03, 2.96820536e-01,\n",
       "       1.31869880e-01, 3.79629202e-01, 1.95714295e-01, 3.20427565e-01,\n",
       "       1.91124916e-01, 0.00000000e+00, 0.00000000e+00, 0.00000000e+00,\n",
       "       1.54217729e-01, 5.56332873e-02, 6.08657398e-01, 1.52634576e-01,\n",
       "       1.84533456e-01, 1.69143093e-01, 0.00000000e+00, 1.69220155e-01,\n",
       "       6.76598420e-01, 0.00000000e+00, 0.00000000e+00, 0.00000000e+00,\n",
       "       0.00000000e+00, 0.00000000e+00, 0.00000000e+00, 2.03960019e-01,\n",
       "       5.46288127e-02, 1.16964644e-01, 1.36734259e-01, 9.52034436e-01,\n",
       "       3.26948395e-02, 1.73751798e-01, 3.59924887e-01, 1.08312785e-01,\n",
       "       1.08322037e-02, 3.23916694e-01, 7.05224049e-03, 2.66200040e-01,\n",
       "       2.92680536e-02, 0.00000000e+00, 1.58628305e-01, 1.20008383e-01,\n",
       "       1.48938812e-01, 3.62895412e-01, 4.05232693e-01, 2.23412448e-01,\n",
       "       5.86223081e-01, 8.76899810e-02, 6.94753041e-02, 6.99119061e-01,\n",
       "       1.47216853e-02, 4.26736033e-01, 7.37898830e-02, 4.28076945e-01,\n",
       "       1.60449990e-01, 9.43309700e-02, 0.00000000e+00, 6.24551868e-02,\n",
       "       3.56235898e-01, 0.00000000e+00, 0.00000000e+00, 0.00000000e+00,\n",
       "       0.00000000e+00, 0.00000000e+00, 0.00000000e+00, 0.00000000e+00,\n",
       "       0.00000000e+00, 0.00000000e+00, 5.49468375e-02, 2.33325585e-01,\n",
       "       0.00000000e+00, 0.00000000e+00, 0.00000000e+00, 0.00000000e+00,\n",
       "       4.48967569e-02, 1.64579814e-01, 2.58038147e-01, 3.72981839e-02,\n",
       "       3.38265035e-01, 1.08272210e-01, 8.21563151e-02, 3.31955688e-01,\n",
       "       1.86245866e-01, 1.49681659e-02, 2.87952573e-01, 1.26193080e-01,\n",
       "       0.00000000e+00, 0.00000000e+00, 0.00000000e+00, 0.00000000e+00,\n",
       "       0.00000000e+00, 0.00000000e+00, 0.00000000e+00, 0.00000000e+00,\n",
       "       0.00000000e+00, 0.00000000e+00, 0.00000000e+00, 3.86354244e-02,\n",
       "       4.35034006e-01, 1.27901004e-01, 2.45560008e-02, 5.50146473e-01,\n",
       "       3.82407619e-01, 1.69226710e-01, 5.72663665e-01, 6.01099289e-02,\n",
       "       1.26562822e-01, 2.95184277e-01, 1.74891402e-01, 6.04723444e-02,\n",
       "       1.59311318e-01, 1.33767428e-01, 2.88049835e-01, 1.25295225e-01,\n",
       "       3.47272473e-01, 7.25068488e-02, 3.69316107e-01, 1.16615496e-01,\n",
       "       5.20939409e-01, 3.66280246e-01, 2.28666494e-02, 3.23961478e-01,\n",
       "       3.71648001e-01, 8.71957363e-02, 7.56378643e-01, 1.48397240e-01,\n",
       "       5.54019298e-01, 8.12072756e-02, 4.64543381e-02, 8.73764917e-02,\n",
       "       7.29172105e-03, 6.25593142e-02, 3.97428675e-01, 1.49622931e-01,\n",
       "       2.40743239e-01, 4.04234847e-01, 4.84746857e-01, 3.05561215e-01,\n",
       "       2.11846829e-01, 3.89719024e-01, 5.71034758e-01, 4.28708081e-02,\n",
       "       1.04147215e-01, 1.57282661e-02, 5.93293593e-02, 1.65350202e-01,\n",
       "       7.29955049e-02, 9.92587902e-02])"
      ]
     },
     "execution_count": 82,
     "metadata": {},
     "output_type": "execute_result"
    }
   ],
   "source": [
    "# Logistic Regression의 중요도를 계산합니다.\n",
    "# 가중치 값들의 크기로 판단하기에 .coef_로 해당 값들을 불러옵니다.\n",
    "abs_coef = np.abs(model.coef_).ravel()\n",
    "abs_coef"
   ]
  },
  {
   "cell_type": "code",
   "execution_count": 83,
   "metadata": {
    "id": "lIvXeEpXvhdg",
    "outputId": "a94c4798-b2fa-41e5-a1a7-c4caa3ee99bd"
   },
   "outputs": [
    {
     "data": {
      "image/png": "[encoded data removed]",
      "text/plain": [
       "<Figure size 1000x1600 with 1 Axes>"
      ]
     },
     "metadata": {},
     "output_type": "display_data"
    }
   ],
   "source": [
    "# bar 형태 그래프로 Logistic Regression의 feature 별 중요도를 상위 20개 출력합니다.\n",
    "# 상위 20개의 feature 정보를 출력하기 위하여 sorting을 수행하고 해당 feature 번호를 LR_imort_x에 저장합니다.\n",
    "LR_import_x = [str(i[0]) for i in sorted(enumerate(abs_coef), key=lambda x:x[1], reverse=True)]\n",
    "\n",
    "plt.bar(LR_import_x[:20], sorted(abs_coef, reverse=True)[:20])\n",
    "\n",
    "plt.rcParams['figure.figsize'] = (15, 10)\n",
    "plt.xlabel('Features')\n",
    "plt.ylabel('Weight absolute values')\n",
    "plt.show()"
   ]
  },
  {
   "cell_type": "markdown",
   "metadata": {
    "id": "ggD-5N-svhdh"
   },
   "source": [
    "### 5.2. 다양한 분류 모델 학습"
   ]
  },
  {
   "cell_type": "code",
   "execution_count": 84,
   "metadata": {
    "id": "iVmsKfpqvhdh"
   },
   "outputs": [
    {
     "name": "stdout",
     "output_type": "stream",
     "text": [
      "LDA - train_score : 0.971921, test score : 0.883333\n",
      "KNN - train_score : 0.934269, test score : 0.548333\n",
      "CART - train_score : 1.000000, test score : 0.660000\n",
      "NB - train_score : 0.181238, test score : 0.570000\n",
      "RF - train_score : 1.000000, test score : 0.501667\n",
      "SVM - train_score : 0.938098, test score : 0.488333\n"
     ]
    }
   ],
   "source": [
    "#xgboost 설치가 잘 안되면 Anaconda Powershell Prompt(anaconda3)에서 해봅니다.\n",
    "from sklearn.discriminant_analysis import LinearDiscriminantAnalysis\n",
    "from sklearn.neighbors import KNeighborsClassifier\n",
    "from sklearn.tree import DecisionTreeClassifier\n",
    "from sklearn.naive_bayes import GaussianNB\n",
    "from sklearn.ensemble import RandomForestClassifier\n",
    "from sklearn.svm import SVC\n",
    "\n",
    "#여러 모델을 append해서 추가합니다.\n",
    "models = []\n",
    "models.append(('LDA', LinearDiscriminantAnalysis()))  # LDA 모델\n",
    "models.append(('KNN', KNeighborsClassifier()))  # KNN 모델\n",
    "models.append(('CART', DecisionTreeClassifier()))  # 의사결정트리 모델\n",
    "models.append(('NB', GaussianNB()))  # 가우시안 나이브 베이즈 모델\n",
    "models.append(('RF', RandomForestClassifier()))  # 랜덤포레스트 모델\n",
    "models.append(('SVM', SVC(gamma='auto')))  # SVM 모델\n",
    "\n",
    "for name, model in models:\n",
    "    # fit으로 학습을 합니다.\n",
    "    model.fit(X_train, y_train)\n",
    "\n",
    "    # %s와 %f는 문자열 포맷팅으로 %s는 문자열, %f는 숫자형 데이터를 말합니다.\n",
    "    # 문자열 포맷팅 값은 괄호()안의 값과 대응됩니다.\n",
    "    # score 함수를 사용하여 모델의 성능을 확인합니다.\n",
    "    msg = \"%s - train_score : %f, test score : %f\" % (name, model.score(X_train, y_train), model.score(X_test, y_test))\n",
    "    print(msg)"
   ]
  },
  {
   "cell_type": "markdown",
   "metadata": {
    "id": "r1l_9lf7vhdh"
   },
   "source": [
    "### 앙상블모델 - xgboost  사용해보기"
   ]
  },
  {
   "cell_type": "code",
   "execution_count": 85,
   "metadata": {
    "id": "HbIQVGYSvhdh"
   },
   "outputs": [
    {
     "name": "stdout",
     "output_type": "stream",
     "text": [
      "SVM - train_score : 1.000000, test score : 0.751667\n"
     ]
    }
   ],
   "source": [
    "from xgboost.sklearn import XGBClassifier\n",
    "import xgboost as xgb\n",
    "\n",
    "model_xgb = XGBClassifier()  # XGB 모델\n",
    "\n",
    "import numpy as np\n",
    "\n",
    "#y_train에서 -1을 0으로 변경\n",
    "y_train_modified = np.where(y_train == -1, 0, y_train)\n",
    "y_test_modified = np.where(y_test == -1, 0, y_test)\n",
    "\n",
    "model_xgb.fit(X_train, y_train_modified)\n",
    "\n",
    "# %s와 %f는 문자열 포맷팅으로 %s는 문자열, %f는 숫자형 데이터를 말합니다.\n",
    "# 문자열 포맷팅 값은 괄호()안의 값과 대응됩니다.\n",
    "# score 함수를 사용하여 모델의 성능을 확인합니다.\n",
    "msg = \"%s - train_score : %f, test score : %f\" % (name, model_xgb.score(X_train, y_train_modified), model_xgb.score(X_test, y_test_modified))\n",
    "print(msg)"
   ]
  },
  {
   "cell_type": "code",
   "execution_count": 86,
   "metadata": {},
   "outputs": [
    {
     "name": "stdout",
     "output_type": "stream",
     "text": [
      "Requirement already satisfied: xgboost in c:\\users\\khs\\anaconda3\\lib\\site-packages (3.0.0)\n",
      "Requirement already satisfied: numpy in c:\\users\\khs\\anaconda3\\lib\\site-packages (from xgboost) (1.26.4)\n",
      "Requirement already satisfied: scipy in c:\\users\\khs\\anaconda3\\lib\\site-packages (from xgboost) (1.11.4)\n"
     ]
    }
   ],
   "source": [
    "!pip install xgboost"
   ]
  },
  {
   "cell_type": "code",
   "execution_count": 87,
   "metadata": {
    "id": "x7tPT6nkvhdh",
    "outputId": "dd8c6a76-6306-476b-9634-32edec11640b"
   },
   "outputs": [
    {
     "data": {
      "image/png": "[encoded data removed]",
      "text/plain": [
       "<Figure size 1500x1000 with 1 Axes>"
      ]
     },
     "metadata": {},
     "output_type": "display_data"
    }
   ],
   "source": [
    "# xgb 모델에서 변수 중요도를 출력합니다.\n",
    "# xgboost 모듈의 plot_importance는 피처 중요도를 시각화할 때 사용합니다.\n",
    "# importance_type는 중요도가 어떻게 계산되는지 정합니다.\n",
    "# weight는 나온 횟수를 말합니다. gain은 평균적인 이득을 말합니다. cover는 coverage의 평균입니다.\n",
    "\n",
    "# 피처 중요도를 그래프로 표현합니다.\n",
    "xgb.plot_importance(model_xgb.get_booster(), height=1, grid=True, importance_type='total_gain', show_values=False, max_num_features=20)\n",
    "\n",
    "plt.rcParams['figure.figsize'] = (10, 15)\n",
    "plt.xlabel('The F-Score for each features')\n",
    "plt.ylabel('Features')\n",
    "plt.show()"
   ]
  },
  {
   "cell_type": "markdown",
   "metadata": {
    "id": "jYyHtrBTvhdh"
   },
   "source": []
  },
  {
   "cell_type": "markdown",
   "metadata": {
    "id": "0HXnJBiVvhdh"
   },
   "source": [
    "## 6.평가 및 예측"
   ]
  },
  {
   "cell_type": "markdown",
   "metadata": {
    "id": "SULANOL0vhdi"
   },
   "source": [
    "학습 과정에서 학습 데이터와 테스트 데이터에 대해서 accuracy 계산하여 평가하였습니다.\n",
    "\n",
    "accuracy의 경우 아래 식에서 알 수 있듯이 얼마나 정확히 예측했는가를 정량적으로 나타냅니다.\n",
    "\n",
    "$Accuracy = \\frac{Number \\;of \\;correct \\;predictions}{Total \\; number \\;of \\;predictions} $\n",
    "\n",
    "Accuracy 값이 높으면 좋은 성능을 낸다고도 할 수 있지만 이번 실습인 공정 이상 예측에서는 recall 값 또한 살펴봐야 합니다.\n",
    "\n",
    "오차행렬(Confusion Matrix)은 이진 분류의 예측 오류가 얼마인지와 더불어 어떠한 유형의 예측 오류가 발생하고 있는지를 함께 나타내는 지표입니다.\n",
    "\n",
    "+ TN : Negative(0)로 예측했고, 실제로도 True인 경우 - 실제는 Negative\n",
    "+ FP : Positive(1)로 예측했지만 실제는 False인 경우 - 실제는 Negative\n",
    "+ FN : Negative(0)로 예측했고, 실제는 False인 경우 - 실제는 Positive\n",
    "+ TP : Positive(1)로 예측했고, 실제로도 True인 경우 - 실제는 Positive\n",
    "\n",
    "공정 이상 예측에서 중요한 것은 이상 없음을 정확히 예측하는 것 보단 이상 있음을 정확히 예측하는 것입니다.\n",
    "\n",
    "recall 방식은 `예측한 이상 있음` 대비 `실제 이상 있음`의 비율을 나타내기에 accuracy에서 놓칠 수 있는 결과 해석을 보충합니다.\n",
    "\n",
    "정밀도(Precision)는 예측을 Positve로 한 대상 중에 예측과 실제 값이 Positive로 일치한 데이터의 비율을 뜻합니다. 정밀도는 FP가 낮아야 합니다.\n",
    "+ TP / (FP + TP)\n",
    "\n",
    "재현율(recall)은 실제 값이 Positive인 대상 중에 예측과 실제 값이 Positive로 일치한 데이터의 비율을 말합니다. 재현율은 FN이 낮아야 합니다.\n",
    "+ TP / (FN + TP)\n",
    "\n",
    "\n",
    "이번 파트에서는 recall 방식을 포함한 또 다른 대표적인 평가 방법에 대해서 알아보고 주어진 데이터에 대해서 예측하는 것을 수행해보겠습니다."
   ]
  },
  {
   "cell_type": "markdown",
   "metadata": {
    "id": "uxMzY4v_vhdi"
   },
   "source": [
    "### 6.1. Confusion Matrix"
   ]
  },
  {
   "cell_type": "markdown",
   "metadata": {
    "id": "dYYu6wJFvhdi"
   },
   "source": [
    "기존 score에서 볼 수 있었던 결과는 accuracy 기반의 결과였습니다. confusion matrix를 출력하여 각 class 별로 예측한 결과에 대해서 자세히 알아봅시다."
   ]
  },
  {
   "cell_type": "code",
   "execution_count": 88,
   "metadata": {
    "id": "0Sb6nl-Avhdi",
    "outputId": "b0b53583-43ec-40f0-e3de-e1effa651955"
   },
   "outputs": [
    {
     "data": {
      "image/png": "[encoded data removed]",
      "text/plain": [
       "<Figure size 500x500 with 2 Axes>"
      ]
     },
     "metadata": {},
     "output_type": "display_data"
    },
    {
     "data": {
      "text/plain": [
       "array([[1448,   15],\n",
       "       [  29,   75]], dtype=int64)"
      ]
     },
     "execution_count": 88,
     "metadata": {},
     "output_type": "execute_result"
    }
   ],
   "source": [
    "from sklearn.metrics import confusion_matrix\n",
    "import seaborn as sns\n",
    "\n",
    "# LinearDiscriminantAnalysis 모델의 confusion matrix를 사용하기 위하여 학습용 데이터의 예측값을 저장합니다.\n",
    "# models[0]는 LDA\n",
    "model_predition_train = models[0][1].predict(X_train)\n",
    "\n",
    "# sklearn에서 제공하는 confusion_matrix를 사용합니다.\n",
    "cm_train = confusion_matrix(y_train, model_predition_train )    # ... 코드입력\n",
    "\n",
    "# 출력 파트 - seaborn의 heatmap을 사용\n",
    "plt.rcParams['figure.figsize'] = (5, 5)\n",
    "sns.set(style = 'dark', font_scale = 1.4)\n",
    "\n",
    "# annot은 annotate each cell with numeric value로 셀에 숫자값을 표시하는지 정하는 것입니다.\n",
    "# cmap으로 색깔을 지정할 수 있습니다. cmap='RdYlGn_r' cmap=\"YlGnBu\"\n",
    "ax = sns.heatmap(cm_train, annot=True)\n",
    "plt.xlabel('Prediction')\n",
    "plt.ylabel('Real Data')\n",
    "ax.set_xticklabels((-1,1))\n",
    "ax.set_yticklabels((-1,1))\n",
    "plt.show()\n",
    "cm_train"
   ]
  },
  {
   "cell_type": "markdown",
   "metadata": {
    "id": "iio2PY_tvhdi"
   },
   "source": [
    "위 confusion matrix에서 x 축은 실제 데이터의 label을 의미하고 y 축은 예측한 데이터의 label을 의미합니다.\n",
    "\n",
    "- **0,0 의 값:** `이상 없음(Pass)` 이라고 예측했을 때, 실제 데이터가 `이상 없음(Pass)`인 경우의 개수\n",
    "- **0,1 의 값:** `이상 있음(Fail)` 이라고 예측했을 때, 실제 데이터가 `이상 없음(Pass)`인 경우의 개수\n",
    "- **1,0 의 값:** `이상 없음(Pass)` 이라고 예측했을 때, 실제 데이터가 `이상 있음(Fail)`인 경우의 개수\n",
    "- **1,1 의 값:** `이상 있음(Fail)` 이라고 에측했을 때, 실제 데이터가 `이상 있음(Fail)`인 경우의 개수"
   ]
  },
  {
   "cell_type": "code",
   "execution_count": 89,
   "metadata": {
    "id": "MFZlaH_lvhdi"
   },
   "outputs": [
    {
     "name": "stdout",
     "output_type": "stream",
     "text": [
      "[[286   1]\n",
      " [ 69 244]]\n"
     ]
    }
   ],
   "source": [
    "# LinearDiscriminantAnalysis의 x_test에 대한 예측값을 구하고 confusion_matrix() 를 사용하면 confusion matrix를 구할 수 있습니다.\n",
    "\n",
    "model_predition_test = models[0][1].predict(X_test)\n",
    "\n",
    "# sklearn에서 제공하는 confusion_matrix를 사용합니다.\n",
    "cm_test = confusion_matrix(y_test, model_predition_test )    # ... 코드입력\n",
    "print(cm_test)\n"
   ]
  },
  {
   "cell_type": "markdown",
   "metadata": {
    "id": "dwuJl_Hhvhdi"
   },
   "source": [
    "### 6.2. Precision & Recall"
   ]
  },
  {
   "cell_type": "markdown",
   "metadata": {
    "id": "OSC3KfYzvhdi"
   },
   "source": [
    "분류 모델의 또 다른 성능 지표로 Precsion과 Recall를 구하여 봅시다."
   ]
  },
  {
   "cell_type": "code",
   "execution_count": 90,
   "metadata": {
    "id": "CViHwqlBvhdi",
    "outputId": "ad9ee2e0-43d6-4340-cd57-fccc2a07ca51"
   },
   "outputs": [
    {
     "name": "stdout",
     "output_type": "stream",
     "text": [
      "Recall score: 0.7795527156549521\n",
      "Precision score: 0.9959183673469387\n"
     ]
    }
   ],
   "source": [
    "from sklearn.metrics import recall_score\n",
    "from sklearn.metrics import precision_score\n",
    "\n",
    "# sklearn에서 제공하는 recall_score, precision_score를 사용하여 recall과 precision 결과물을 출력합니다.\n",
    "print(\"Recall score: {}\".format(recall_score(y_test, models[0][1].predict(X_test))))\n",
    "print(\"Precision score: {}\".format(precision_score(y_test, models[0][1].predict(X_test))))"
   ]
  },
  {
   "cell_type": "markdown",
   "metadata": {
    "id": "J0IfRqHkvhdi"
   },
   "source": [
    "### 6.3. 테스트 데이터의 예측값 출력"
   ]
  },
  {
   "cell_type": "markdown",
   "metadata": {
    "id": "pfPCbZiOvhdi"
   },
   "source": [
    "테스트 데이터를 하나씩 입력하여 그 결과를 출력해 봅시다."
   ]
  },
  {
   "cell_type": "code",
   "execution_count": 91,
   "metadata": {
    "id": "kNH9U-n-vhdi",
    "outputId": "c0d55acd-2064-4bfd-8b39-b21c9b587e23",
    "scrolled": true
   },
   "outputs": [
    {
     "name": "stdout",
     "output_type": "stream",
     "text": [
      "0 번째 테스트 데이터의 예측 결과: 1, 실제 데이터: 1\n",
      "1 번째 테스트 데이터의 예측 결과: 1, 실제 데이터: -1\n",
      "2 번째 테스트 데이터의 예측 결과: -1, 실제 데이터: -1\n",
      "3 번째 테스트 데이터의 예측 결과: -1, 실제 데이터: 1\n",
      "4 번째 테스트 데이터의 예측 결과: 1, 실제 데이터: 1\n",
      "5 번째 테스트 데이터의 예측 결과: -1, 실제 데이터: -1\n",
      "6 번째 테스트 데이터의 예측 결과: -1, 실제 데이터: -1\n",
      "7 번째 테스트 데이터의 예측 결과: 1, 실제 데이터: 1\n",
      "8 번째 테스트 데이터의 예측 결과: 1, 실제 데이터: 1\n",
      "9 번째 테스트 데이터의 예측 결과: 1, 실제 데이터: 1\n"
     ]
    }
   ],
   "source": [
    "# 0번부터 9번까지 10개를 출력해보겠습니다.\n",
    "for i in range(10):\n",
    "\n",
    "    # LDA 모델을 사용하였습니다.\n",
    "    # reshape()에서 -1이 들어간 곳은 가변적으로 바꿉니다. 예를 들어 12개의 원소가 있고 reshape(-1,2)를 하면 열 2개를 맞추기 위해서 행을 6개로 바꿉니다.\n",
    "    prediction = models[0][1].predict(X_test[i].reshape(1,-1))\n",
    "\n",
    "    #문자열 포맷팅의 방법입니다. {}가 괄호()안의 값에 각각 대응됩니다.\n",
    "    print(\"{} 번째 테스트 데이터의 예측 결과: {}, 실제 데이터: {}\".format(i, prediction[0], y_test[i]))"
   ]
  },
  {
   "cell_type": "markdown",
   "metadata": {
    "id": "BUurkyoZrZUL"
   },
   "source": [
    "### 6.4.타겟데이터 증강한 후 다시 모델 학습 진행"
   ]
  },
  {
   "cell_type": "code",
   "execution_count": 92,
   "metadata": {},
   "outputs": [
    {
     "name": "stdout",
     "output_type": "stream",
     "text": [
      "Requirement already satisfied: imbalanced-learn in c:\\users\\khs\\anaconda3\\lib\\site-packages (0.11.0)\n",
      "Collecting imbalanced-learn\n",
      "  Downloading imbalanced_learn-0.13.0-py3-none-any.whl.metadata (8.8 kB)\n",
      "Requirement already satisfied: numpy<3,>=1.24.3 in c:\\users\\khs\\anaconda3\\lib\\site-packages (from imbalanced-learn) (1.26.4)\n",
      "Requirement already satisfied: scipy<2,>=1.10.1 in c:\\users\\khs\\anaconda3\\lib\\site-packages (from imbalanced-learn) (1.11.4)\n",
      "Collecting scikit-learn<2,>=1.3.2 (from imbalanced-learn)\n",
      "  Downloading scikit_learn-1.6.1-cp311-cp311-win_amd64.whl.metadata (15 kB)\n",
      "Collecting sklearn-compat<1,>=0.1 (from imbalanced-learn)\n",
      "  Downloading sklearn_compat-0.1.3-py3-none-any.whl.metadata (18 kB)\n",
      "Requirement already satisfied: joblib<2,>=1.1.1 in c:\\users\\khs\\anaconda3\\lib\\site-packages (from imbalanced-learn) (1.2.0)\n",
      "Requirement already satisfied: threadpoolctl<4,>=2.0.0 in c:\\users\\khs\\anaconda3\\lib\\site-packages (from imbalanced-learn) (2.2.0)\n",
      "Collecting threadpoolctl<4,>=2.0.0 (from imbalanced-learn)\n",
      "  Downloading threadpoolctl-3.6.0-py3-none-any.whl.metadata (13 kB)\n",
      "Downloading imbalanced_learn-0.13.0-py3-none-any.whl (238 kB)\n",
      "   ---------------------------------------- 0.0/238.4 kB ? eta -:--:--\n",
      "   ---------------------------------------- 238.4/238.4 kB 7.1 MB/s eta 0:00:00\n",
      "Downloading scikit_learn-1.6.1-cp311-cp311-win_amd64.whl (11.1 MB)\n",
      "   ---------------------------------------- 0.0/11.1 MB ? eta -:--:--\n",
      "    --------------------------------------- 0.2/11.1 MB 5.0 MB/s eta 0:00:03\n",
      "   - -------------------------------------- 0.3/11.1 MB 4.1 MB/s eta 0:00:03\n",
      "   -- ------------------------------------- 0.6/11.1 MB 4.5 MB/s eta 0:00:03\n",
      "   -- ------------------------------------- 0.8/11.1 MB 4.8 MB/s eta 0:00:03\n",
      "   ---- ----------------------------------- 1.2/11.1 MB 5.4 MB/s eta 0:00:02\n",
      "   ----- ---------------------------------- 1.6/11.1 MB 5.9 MB/s eta 0:00:02\n",
      "   ------- -------------------------------- 2.1/11.1 MB 6.7 MB/s eta 0:00:02\n",
      "   -------- ------------------------------- 2.5/11.1 MB 6.8 MB/s eta 0:00:02\n",
      "   ---------- ----------------------------- 2.9/11.1 MB 7.1 MB/s eta 0:00:02\n",
      "   ----------- ---------------------------- 3.2/11.1 MB 7.0 MB/s eta 0:00:02\n",
      "   ------------ --------------------------- 3.5/11.1 MB 6.9 MB/s eta 0:00:02\n",
      "   ------------- -------------------------- 3.9/11.1 MB 7.0 MB/s eta 0:00:02\n",
      "   --------------- ------------------------ 4.3/11.1 MB 7.2 MB/s eta 0:00:01\n",
      "   ---------------- ----------------------- 4.6/11.1 MB 7.2 MB/s eta 0:00:01\n",
      "   ------------------ --------------------- 5.1/11.1 MB 7.3 MB/s eta 0:00:01\n",
      "   ------------------- -------------------- 5.3/11.1 MB 7.2 MB/s eta 0:00:01\n",
      "   -------------------- ------------------- 5.6/11.1 MB 7.1 MB/s eta 0:00:01\n",
      "   --------------------- ------------------ 6.0/11.1 MB 7.2 MB/s eta 0:00:01\n",
      "   ----------------------- ---------------- 6.4/11.1 MB 7.3 MB/s eta 0:00:01\n",
      "   ------------------------ --------------- 6.9/11.1 MB 7.5 MB/s eta 0:00:01\n",
      "   -------------------------- ------------- 7.3/11.1 MB 7.6 MB/s eta 0:00:01\n",
      "   --------------------------- ------------ 7.7/11.1 MB 7.6 MB/s eta 0:00:01\n",
      "   ---------------------------- ----------- 8.0/11.1 MB 7.5 MB/s eta 0:00:01\n",
      "   ----------------------------- ---------- 8.3/11.1 MB 7.5 MB/s eta 0:00:01\n",
      "   ------------------------------- -------- 8.8/11.1 MB 7.6 MB/s eta 0:00:01\n",
      "   --------------------------------- ------ 9.3/11.1 MB 7.7 MB/s eta 0:00:01\n",
      "   ----------------------------------- ---- 9.8/11.1 MB 7.8 MB/s eta 0:00:01\n",
      "   ------------------------------------- -- 10.3/11.1 MB 8.0 MB/s eta 0:00:01\n",
      "   -------------------------------------- - 10.8/11.1 MB 8.5 MB/s eta 0:00:01\n",
      "   ---------------------------------------- 11.1/11.1 MB 8.5 MB/s eta 0:00:00\n",
      "Downloading sklearn_compat-0.1.3-py3-none-any.whl (18 kB)\n",
      "Downloading threadpoolctl-3.6.0-py3-none-any.whl (18 kB)\n",
      "Installing collected packages: threadpoolctl, scikit-learn, sklearn-compat, imbalanced-learn\n",
      "  Attempting uninstall: threadpoolctl\n",
      "    Found existing installation: threadpoolctl 2.2.0\n",
      "    Uninstalling threadpoolctl-2.2.0:\n",
      "      Successfully uninstalled threadpoolctl-2.2.0\n",
      "  Attempting uninstall: scikit-learn\n",
      "    Found existing installation: scikit-learn 1.2.2\n",
      "    Uninstalling scikit-learn-1.2.2:\n",
      "      Successfully uninstalled scikit-learn-1.2.2\n",
      "  Attempting uninstall: imbalanced-learn\n",
      "    Found existing installation: imbalanced-learn 0.11.0\n",
      "    Uninstalling imbalanced-learn-0.11.0:\n",
      "      Successfully uninstalled imbalanced-learn-0.11.0\n",
      "Successfully installed imbalanced-learn-0.13.0 scikit-learn-1.6.1 sklearn-compat-0.1.3 threadpoolctl-3.6.0\n"
     ]
    }
   ],
   "source": [
    "!pip install -U imbalanced-learn"
   ]
  },
  {
   "cell_type": "code",
   "execution_count": 93,
   "metadata": {
    "id": "vZxrI_9-rZmh"
   },
   "outputs": [
    {
     "name": "stdout",
     "output_type": "stream",
     "text": [
      "LDA - train_score : 0.965140, test score : 0.973333\n",
      "KNN - train_score : 0.712235, test score : 0.680000\n",
      "DecisionTree - train_score : 1.000000, test score : 0.848333\n",
      "NB - train_score : 0.597403, test score : 0.600000\n",
      "RandomForest - train_score : 1.000000, test score : 0.978333\n",
      "SVM - train_score : 0.995215, test score : 0.990000\n"
     ]
    },
    {
     "data": {
      "text/html": [
       "<div>\n",
       "<style scoped>\n",
       "    .dataframe tbody tr th:only-of-type {\n",
       "        vertical-align: middle;\n",
       "    }\n",
       "\n",
       "    .dataframe tbody tr th {\n",
       "        vertical-align: top;\n",
       "    }\n",
       "\n",
       "    .dataframe thead th {\n",
       "        text-align: right;\n",
       "    }\n",
       "</style>\n",
       "<table border=\"1\" class=\"dataframe\">\n",
       "  <thead>\n",
       "    <tr style=\"text-align: right;\">\n",
       "      <th></th>\n",
       "      <th>Model</th>\n",
       "      <th>Train Score</th>\n",
       "      <th>Test Score</th>\n",
       "    </tr>\n",
       "  </thead>\n",
       "  <tbody>\n",
       "    <tr>\n",
       "      <th>0</th>\n",
       "      <td>LDA</td>\n",
       "      <td>0.965140</td>\n",
       "      <td>0.973333</td>\n",
       "    </tr>\n",
       "    <tr>\n",
       "      <th>1</th>\n",
       "      <td>KNN</td>\n",
       "      <td>0.712235</td>\n",
       "      <td>0.680000</td>\n",
       "    </tr>\n",
       "    <tr>\n",
       "      <th>2</th>\n",
       "      <td>DecisionTree</td>\n",
       "      <td>1.000000</td>\n",
       "      <td>0.848333</td>\n",
       "    </tr>\n",
       "    <tr>\n",
       "      <th>3</th>\n",
       "      <td>NB</td>\n",
       "      <td>0.597403</td>\n",
       "      <td>0.600000</td>\n",
       "    </tr>\n",
       "    <tr>\n",
       "      <th>4</th>\n",
       "      <td>RandomForest</td>\n",
       "      <td>1.000000</td>\n",
       "      <td>0.978333</td>\n",
       "    </tr>\n",
       "    <tr>\n",
       "      <th>5</th>\n",
       "      <td>SVM</td>\n",
       "      <td>0.995215</td>\n",
       "      <td>0.990000</td>\n",
       "    </tr>\n",
       "  </tbody>\n",
       "</table>\n",
       "</div>"
      ],
      "text/plain": [
       "          Model  Train Score  Test Score\n",
       "0           LDA     0.965140    0.973333\n",
       "1           KNN     0.712235    0.680000\n",
       "2  DecisionTree     1.000000    0.848333\n",
       "3            NB     0.597403    0.600000\n",
       "4  RandomForest     1.000000    0.978333\n",
       "5           SVM     0.995215    0.990000"
      ]
     },
     "execution_count": 93,
     "metadata": {},
     "output_type": "execute_result"
    }
   ],
   "source": [
    "from sklearn.model_selection import train_test_split\n",
    "from sklearn.preprocessing import StandardScaler\n",
    "from imblearn.over_sampling import SMOTE\n",
    "from sklearn.discriminant_analysis import LinearDiscriminantAnalysis\n",
    "from sklearn.neighbors import KNeighborsClassifier\n",
    "from sklearn.tree import DecisionTreeClassifier\n",
    "from sklearn.naive_bayes import GaussianNB\n",
    "from sklearn.ensemble import RandomForestClassifier\n",
    "from sklearn.svm import SVC\n",
    "\n",
    "# 데이터 로드\n",
    "train_data = pd.read_csv('./data/secom_data/uci-secom.csv')\n",
    "test_data = pd.read_csv('./data/secom_data/uci-secom-test.csv')\n",
    "\n",
    "train_data = train_data.replace(np.nan, 0)\n",
    "train_data = train_data.drop(columns = ['Time'], axis = 1)\n",
    "\n",
    "# 데이터 분리 (학습 데이터와 테스트 데이터)\n",
    "X_train = train_data.drop(columns=['Pass/Fail'])\n",
    "y_train = train_data['Pass/Fail']\n",
    "X_test = test_data.drop(columns=['Pass/Fail'])\n",
    "y_test = test_data['Pass/Fail']\n",
    "\n",
    "# 데이터 스케일링\n",
    "scaler = StandardScaler()\n",
    "X_train_scaled = scaler.fit_transform(X_train)\n",
    "X_test_scaled = scaler.transform(X_test)\n",
    "\n",
    "# 데이터 불균형 해결 (SMOTE 사용)\n",
    "smote = SMOTE(random_state=42)\n",
    "X_train_res, y_train_res = smote.fit_resample(X_train_scaled, y_train)\n",
    "\n",
    "# 여러 모델 학습 및 평가\n",
    "models = []\n",
    "models.append(('LDA', LinearDiscriminantAnalysis()))\n",
    "models.append(('KNN', KNeighborsClassifier()))\n",
    "models.append(('DecisionTree', DecisionTreeClassifier()))\n",
    "models.append(('NB', GaussianNB()))\n",
    "models.append(('RandomForest', RandomForestClassifier()))\n",
    "models.append(('SVM', SVC(gamma='auto')))\n",
    "\n",
    "results = []\n",
    "\n",
    "for name, model in models:\n",
    "    model.fit(X_train_res, y_train_res)\n",
    "    train_score = model.score(X_train_res, y_train_res)\n",
    "    test_score = model.score(X_test_scaled, y_test)\n",
    "    results.append((name, train_score, test_score))\n",
    "    msg = f\"{name} - train_score : {train_score:.6f}, test score : {test_score:.6f}\"\n",
    "    print(msg)\n",
    "\n",
    "# 결과 출력\n",
    "results_df = pd.DataFrame(results, columns=[\"Model\", \"Train Score\", \"Test Score\"])\n",
    "results_df"
   ]
  },
  {
   "cell_type": "code",
   "execution_count": 94,
   "metadata": {},
   "outputs": [
    {
     "data": {
      "text/plain": [
       "((2926, 590), (2926,))"
      ]
     },
     "execution_count": 94,
     "metadata": {},
     "output_type": "execute_result"
    }
   ],
   "source": [
    "X_train_res.shape, y_train_res.shape"
   ]
  },
  {
   "cell_type": "code",
   "execution_count": 95,
   "metadata": {},
   "outputs": [
    {
     "data": {
      "text/plain": [
       "Pass/Fail\n",
       "-1    1463\n",
       " 1    1463\n",
       "Name: count, dtype: int64"
      ]
     },
     "execution_count": 95,
     "metadata": {},
     "output_type": "execute_result"
    }
   ],
   "source": [
    "\n",
    "pd.Series(y_train_res).value_counts()"
   ]
  }
 ],
 "metadata": {
  "colab": {
   "provenance": [],
   "toc_visible": true
  },
  "kernelspec": {
   "display_name": "base",
   "language": "python",
   "name": "python3"
  },
  "language_info": {
   "codemirror_mode": {
    "name": "ipython",
    "version": 3
   },
   "file_extension": ".py",
   "mimetype": "text/x-python",
   "name": "python",
   "nbconvert_exporter": "python",
   "pygments_lexer": "ipython3",
   "version": "3.11.7"
  },
  "toc": {
   "base_numbering": 1,
   "nav_menu": {},
   "number_sections": false,
   "sideBar": true,
   "skip_h1_title": false,
   "title_cell": "Table of Contents",
   "title_sidebar": "Contents",
   "toc_cell": false,
   "toc_position": {
    "height": "calc(100% - 180px)",
    "left": "10px",
    "top": "150px",
    "width": "384px"
   },
   "toc_section_display": true,
   "toc_window_display": true
  },
  "varInspector": {
   "cols": {
    "lenName": 16,
    "lenType": 16,
    "lenVar": 40
   },
   "kernels_config": {
    "python": {
     "delete_cmd_postfix": "",
     "delete_cmd_prefix": "del ",
     "library": "var_list.py",
     "varRefreshCmd": "print(var_dic_list())"
    },
    "r": {
     "delete_cmd_postfix": ") ",
     "delete_cmd_prefix": "rm(",
     "library": "var_list.r",
     "varRefreshCmd": "cat(var_dic_list()) "
    }
   },
   "types_to_exclude": [
    "module",
    "function",
    "builtin_function_or_method",
    "instance",
    "_Feature"
   ],
   "window_display": false
  }
 },
 "nbformat": 4,
 "nbformat_minor": 0
}
