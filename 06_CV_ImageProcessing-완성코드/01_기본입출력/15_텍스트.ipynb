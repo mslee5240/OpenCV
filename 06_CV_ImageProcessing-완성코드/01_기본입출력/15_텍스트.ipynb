{
 "cells": [
  {
   "cell_type": "markdown",
   "metadata": {},
   "source": [
    "# 텍스트 "
   ]
  },
  {
   "cell_type": "markdown",
   "metadata": {},
   "source": [
    "- cv2.putText(img, 'Coding Simplex', (20, 50), cv2.FONT_HERSHEY_SIMPLEX, SCALE, COLOR, THICKNESS)\n",
    "    - 그릴 위치, 텍스트 내용, 시작위치, 폰트 종류, 크기, 색깔, 두께\n",
    "\n",
    "## OpenCV에서 사용하는 글꼴 종류\n",
    "\n",
    "1. cv2.FONT_HERSHEY_SIMPLEX : 보통 크기의 산 세리프(sans-serif)글꼴\n",
    "1. cv2.FONT_HERSHEY_PLAIN : 작은 크기의 산 세리프 글꼴\n",
    "1. cv2.FONT_HERSHEY_SCRIPT_SIMPLEX : 필기체 스타일 글꼴\n",
    "1. cv2.FONT_HERSHEY_TRIPLEX : 보통 크기의 산 세리프 글꼴\n",
    "1. cv2.FONT_ITALIC : 기울림(이탤릭체)"
   ]
  },
  {
   "cell_type": "code",
   "execution_count": null,
   "metadata": {},
   "outputs": [],
   "source": [
    "import numpy as np\n",
    "import cv2\n",
    "\n",
    "img = np.zeros((480, 640, 3), dtype=np.uint8)\n",
    "\n",
    "COLOR = (255, 255, 255) # 흰색\n",
    "THICKNESS = 1     # 두께\n",
    "SCALE = 1         # 크기\n",
    "\n",
    "# 그릴 위치, 텍스트 내용, 시작위치, 폰트 종류, 크기, 색깔, 두께\n",
    "cv2.putText(img, 'Coding Simplex', (20, 50), cv2.FONT_HERSHEY_SIMPLEX, SCALE, COLOR, THICKNESS) # 기본 폰트\n",
    "cv2.putText(img, 'Coding Simplex', (20, 150), cv2.FONT_HERSHEY_PLAIN, SCALE, COLOR, THICKNESS)  #.  코드 입력   # 단순한 폰트\n",
    "cv2.putText(img, 'Coding Simplex', (20, 250), cv2.FONT_HERSHEY_SCRIPT_SIMPLEX, SCALE, COLOR, THICKNESS) # 필기체 폰트\n",
    "cv2.putText(img, 'Coding Simplex', (20, 350), cv2.FONT_HERSHEY_TRIPLEX, SCALE, COLOR, THICKNESS) # 복잡한 필기체 폰트\n",
    "cv2.putText(img, 'Coding Simplex', (20, 450), cv2.FONT_HERSHEY_TRIPLEX | cv2.FONT_ITALIC, SCALE, COLOR, THICKNESS) # 이탤릭체는 같이 사용\n",
    "\n",
    "\n",
    "cv2.imshow('img', img)\n",
    "cv2.waitKey(0)\n",
    "cv2.destroyAllWindows()"
   ]
  },
  {
   "cell_type": "markdown",
   "metadata": {},
   "source": [
    "## 한글 지원안됨"
   ]
  },
  {
   "cell_type": "code",
   "execution_count": 3,
   "metadata": {},
   "outputs": [],
   "source": [
    "import numpy as np\n",
    "import cv2\n",
    "\n",
    "img = np.zeros((480, 640, 3), dtype=np.uint8)\n",
    "\n",
    "COLOR = (255, 255, 255) # 흰색\n",
    "THICKNESS = 1     # 두께\n",
    "SCALE = 1         # 크기\n",
    "\n",
    "cv2.putText(img, '코딩', (20, 50), cv2.FONT_HERSHEY_SIMPLEX, SCALE, COLOR, THICKNESS)\n",
    "# 그릴 위치, 텍스트 내용, 시작위치, 폰트 종류, 크기, 색깔, 두께\n",
    "\n",
    "cv2.imshow('img', img)\n",
    "cv2.waitKey(0)\n",
    "cv2.destroyAllWindows()"
   ]
  },
  {
   "cell_type": "markdown",
   "metadata": {},
   "source": [
    "## 한글 나타내기 - 우회 방법"
   ]
  },
  {
   "cell_type": "code",
   "execution_count": 4,
   "metadata": {},
   "outputs": [],
   "source": [
    "import numpy as np\n",
    "import cv2\n",
    "# PIL ( Python Image Library)\n",
    "from PIL import ImageFont, ImageDraw, Image\n",
    "\n",
    "def myPutText(src, text, pos, font_size, font_color):\n",
    "    img_pil = Image.fromarray(src)\n",
    "    draw = ImageDraw.Draw(img_pil)\n",
    "    font = ImageFont.truetype('font/gulim.ttc', font_size)\n",
    "    draw.text(pos, text, font=font, fill=font_color)\n",
    "    return np.array(img_pil)\n",
    "# OpenCV에서 한글 지원을 하지 않기 때문에 위 함수를 만들어 사용\n",
    "\n",
    "img = np.zeros((480, 640, 3), dtype=np.uint8)\n",
    "\n",
    "FONT_SIZE = 30\n",
    "COLOR = (255, 255, 255) # 흰색\n",
    "SCALE = 1         # 크기\n",
    "THICKNESS = 1     # 두께\n",
    "\n",
    "cv2.putText(img, 'Coding', (50, 50), cv2.FONT_HERSHEY_SIMPLEX, SCALE, COLOR, THICKNESS)\n",
    "cv2.putText(img, '코딩', (50, 100), cv2.FONT_HERSHEY_SIMPLEX, SCALE, COLOR, THICKNESS) # : 이렇게하면 폰트 깨짐\n",
    "# 그릴 위치, 텍스트 내용, 시작위치, 폰트 종류, 크기, 색깔, 두께 \n",
    "\n",
    "img1 = np.zeros((480, 640, 3), dtype=np.uint8)\n",
    "img1 = myPutText(img, \"코딩\", (50, 150), FONT_SIZE, COLOR)  # 함수르 사용하여 한글 지원cv2.imshow('img', img)\n",
    "cv2.imshow('img1', img1)\n",
    "\n",
    "cv2.waitKey(0)\n",
    "cv2.destroyAllWindows()"
   ]
  }
 ],
 "metadata": {
  "kernelspec": {
   "display_name": "base",
   "language": "python",
   "name": "python3"
  },
  "language_info": {
   "codemirror_mode": {
    "name": "ipython",
    "version": 3
   },
   "file_extension": ".py",
   "mimetype": "text/x-python",
   "name": "python",
   "nbconvert_exporter": "python",
   "pygments_lexer": "ipython3",
   "version": "3.11.7"
  }
 },
 "nbformat": 4,
 "nbformat_minor": 4
}
