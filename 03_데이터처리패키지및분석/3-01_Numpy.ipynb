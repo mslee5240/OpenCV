{
 "cells": [
  {
   "cell_type": "markdown",
   "metadata": {
    "id": "hRkzys9hFQeC"
   },
   "source": [
    "## numpy 개요\n",
    "### numpy 특징\n",
    "\n",
    "- 컴퓨터의 입력 값을 통해 계산이 반복될 때, 배열로 데이터를 나타내는 것이 장점이 많음\n",
    "- 배열을 다루기 좋은 구조로 제공하는 라이브러리임\n",
    "- Numpy 핵심은 C로 구현되어 있어 배열을 계산하고 처리하는데 효율적인 기능들을 제공하고 속도 또한 빠름\n",
    "- 대규모 다차원 배열과 행렬 연산에 필요한 다양한 함수를 제공\n",
    "- 메모리 버퍼에 배열 데이터를 저장하고 처리하는 효율적인 인터페이스를 제공  \n",
    "\n",
    "- 파이썬 리스트 데이터 구조  \n",
    "    + 여러가지 타입의 원소\n",
    "    + linked list 구현\n",
    "    - 메모리 용량이 크고 속도가 느림\n",
    "    - 벡터화 연산 불가\n",
    "\n",
    "- Numpy ndarray\n",
    "    - 동일 타입의 원소\n",
    "    - contiguous memory layout\n",
    "    -  `array` 명령으로 배열을 만들 때 자료형을 명시적으로 적용하려면 `dtype` 인수를 사용\n",
    "    - 만들어진 배열의 자료형을 알아내려면 `dtype` 속성\n",
    "    - 메모리 최적화, 계산 속도 향상\n",
    "    - 벡터화 연산 가능\n",
    "\n",
    "> 하지만 고수준의 데이터 분석 기능을 제공하지 않아 Pandas 를 이용해 분석 수행함\n",
    "\n",
    "### numpy 패키지 설치 및 불러오기\n",
    "- pip 명령이나 conda 명령을 사용하여 설치하기\n",
    "- 배열을 사용하기 위해 numpy 패키지를 import\n",
    "- numpy는 \"np\"라는 축약어 사용이 관례\n"
   ]
  },
  {
   "cell_type": "markdown",
   "metadata": {
    "id": "6nU_i9FgxV5O"
   },
   "source": [
    "## 목차\n",
    "1. numpy 개요  \n",
    "- 1.1 numpy 특징  \n",
    "- 1.2 numpy 패키지 설치   \n",
    "- 1.3 numpy 패키지 불러오기  \n",
    "<br>  \n",
    "2. 배열 (array)  \n",
    "- 2.1 1차원 배열  \n",
    "- 2.2 2차원 배열  \n",
    "- 2.3 3차원 배열  \n",
    "- 2.4 배열의 차원과 크기  \n",
    "- 2.5 벡터화 연산  \n",
    "- 2.6 조건연산(True, False)  \n",
    "<br>           \n",
    "3. 배열의 인덱싱(Indexing)  \n",
    "- 3.1 인덱싱(Indexing)  \n",
    "- 3.2 불리언 인덱싱(Blean Indexing)  \n",
    "- 3.3 슬라이싱(Slicing)  \n",
    "<br>          \n",
    "4. 데이터 타입  \n",
    "- 4.1 데이터 타입 확인  \n",
    "- 4.2 numpy inf와 non  \n",
    "<br>             \n",
    "5. 다양한 배열 생성 명령  \n",
    "- 5.1 zeros  \n",
    "- 5.2 ones & ones_like , zeros_like  \n",
    "- 5.3 arange & linspace & logspace  \n",
    "<br>           \n",
    "6. 배열의 형태변경  \n",
    "- 6.1 전치  \n",
    "- 6.2 배열의 크기 변환 - Reshape  \n",
    "<br>            \n",
    "7. 배열의 연산  \n",
    "- 7.1 벡터화 연산(vectorized operation)  \n",
    "- 7.2 벡터 연산 - 지수, 제곱, 로그함수  \n",
    "- 7.3 스칼라와 벡터 연산  \n",
    "- 7.4 브로드캐스팅(Broadcasting)  \n",
    "<br>          \n",
    "8. 차원축소 연산  \n",
    "- 8.1 1차원 배열의 차원축소 연산  \n",
    "- 8.2 2차원 배열의 차원숙소 연산  \n",
    "- 8.3 배열 연결 및 분할  \n",
    "<br>            \n",
    "9. numpy를 이용한 기술통계(descriptive statistics)  \n",
    "<br>              \n",
    "10. numpy 난수생성  "
   ]
  },
  {
   "cell_type": "code",
   "execution_count": 1,
   "metadata": {
    "id": "guiellH_WHla",
    "outputId": "e9c2aa37-bd8b-4681-c7ed-e657015b97ef"
   },
   "outputs": [
    {
     "name": "stdout",
     "output_type": "stream",
     "text": [
      "Requirement already satisfied: numpy in c:\\users\\stc\\anaconda3\\lib\\site-packages (1.26.4)\n"
     ]
    }
   ],
   "source": [
    "# 패키지를 설치한다. Colab에는 설치되어 있음\n",
    "!pip install numpy"
   ]
  },
  {
   "cell_type": "code",
   "execution_count": 2,
   "metadata": {
    "id": "yOCkMgdAWHlZ"
   },
   "outputs": [],
   "source": [
    "# 패키지를 가져온다.\n",
    "import numpy as np"
   ]
  },
  {
   "cell_type": "markdown",
   "metadata": {
    "id": "g-WTugnF28rx"
   },
   "source": [
    "## Numpy 배열과 for 반복문 속도 비교"
   ]
  },
  {
   "cell_type": "code",
   "execution_count": 3,
   "metadata": {
    "colab": {
     "base_uri": "https://localhost:8080/"
    },
    "executionInfo": {
     "elapsed": 5482,
     "status": "ok",
     "timestamp": 1720484521163,
     "user": {
      "displayName": "강희숙",
      "userId": "05520711596090317319"
     },
     "user_tz": -540
    },
    "id": "sWGLEf-m3T5R",
    "outputId": "edeb5359-6423-4658-a9b2-091098f7cd73"
   },
   "outputs": [
    {
     "name": "stdout",
     "output_type": "stream",
     "text": [
      "625 ns ± 6.91 ns per loop (mean ± std. dev. of 7 runs, 1,000,000 loops each)\n"
     ]
    }
   ],
   "source": [
    "# 배열 만들기\n",
    "arr = np.arange(1000)\n",
    "%timeit a2 = arr**2"
   ]
  },
  {
   "cell_type": "code",
   "execution_count": 4,
   "metadata": {
    "colab": {
     "base_uri": "https://localhost:8080/"
    },
    "executionInfo": {
     "elapsed": 3800,
     "status": "ok",
     "timestamp": 1720484527311,
     "user": {
      "displayName": "강희숙",
      "userId": "05520711596090317319"
     },
     "user_tz": -540
    },
    "id": "Aoy5SvO73Wip",
    "outputId": "32864a5a-d9ce-46a8-c0db-f333f828ecec"
   },
   "outputs": [
    {
     "name": "stdout",
     "output_type": "stream",
     "text": [
      "35.9 µs ± 452 ns per loop (mean ± std. dev. of 7 runs, 10,000 loops each)\n"
     ]
    }
   ],
   "source": [
    "# ndarray 를 리스트로 변환하기\n",
    "L = range(1000)\n",
    "%timeit L2 = [i**2 for i in L]"
   ]
  },
  {
   "cell_type": "markdown",
   "metadata": {
    "id": "cGeY-Art4woU"
   },
   "source": [
    "▲ 결과 : NumPy 배열이 리스트 컴프리헨션보다 약 73배 빠름. NumPy의 벡터화된 연산이 Python 리스트의 루프보다 훨씬 더 빠르다는 것을 보여줌.\n",
    "\n",
    "이 차이는 NumPy가 C로 구현되어 있어 저수준 최적화를 활용할 수 있는 반면, Python 리스트는 순차적으로 인터프리터에 의해 실행되기 때문에 발생함"
   ]
  },
  {
   "cell_type": "markdown",
   "metadata": {
    "id": "Ioj_hCfYd-rx"
   },
   "source": [
    "# 넘파이의 자료형"
   ]
  },
  {
   "cell_type": "markdown",
   "metadata": {
    "id": "8ezd2R3Yd_UD"
   },
   "source": [
    "넘파이의 배열 즉, `ndarray`클래스는 원소가 모두 같은 자료형이어야 한다. `array` 명령으로 배열을 만들 때 자료형을 명시적으로 적용하려면 `dtype` 인수를 사용한다. 만약 `dtype` 인수가 없으면 주어진 데이터를 저장할 수 있는 자료형을 스스로 유추한다. 만들어진 배열의 자료형을 알아내려면 `dtype` 속성을 보면 된다."
   ]
  },
  {
   "cell_type": "markdown",
   "metadata": {
    "id": "xv6uuhagWHlY"
   },
   "source": [
    "# 1.배열 (array)\n",
    "- numpy의 array라는 함수에 리스트[ ]를 넣으면 배열로 변환\n",
    "- 다차원 배열의 데이터 방향을 axis로 표현할 수 있습니다. 행방향(높이), 열방향(폭), 채널 방향은 각각 axis=0, axis=1 그리고 axis=2로 지정"
   ]
  },
  {
   "cell_type": "markdown",
   "metadata": {
    "id": "NyZ6v-ZKWHlZ"
   },
   "source": [
    "## 1.1 1차원 배열"
   ]
  },
  {
   "cell_type": "code",
   "execution_count": 5,
   "metadata": {
    "id": "sbm57JI3WHlb",
    "outputId": "3082a3d7-56e7-43cd-a827-46569d667e44"
   },
   "outputs": [
    {
     "data": {
      "text/plain": [
       "array([0, 1, 2, 3, 4, 5, 6, 7, 8, 9])"
      ]
     },
     "execution_count": 5,
     "metadata": {},
     "output_type": "execute_result"
    }
   ],
   "source": [
    "# 1차원 배열 생성\n",
    "arr = np.array([0, 1, 2, 3, 4, 5, 6, 7, 8, 9])\n",
    "arr"
   ]
  },
  {
   "cell_type": "code",
   "execution_count": 6,
   "metadata": {
    "id": "R6D3YHgYWHlc",
    "outputId": "cd8dd661-4b9a-49d3-f99d-b9a7b9f20f30",
    "scrolled": true
   },
   "outputs": [
    {
     "data": {
      "text/plain": [
       "numpy.ndarray"
      ]
     },
     "execution_count": 6,
     "metadata": {},
     "output_type": "execute_result"
    }
   ],
   "source": [
    "type(arr)"
   ]
  },
  {
   "cell_type": "code",
   "execution_count": 7,
   "metadata": {
    "id": "KGImddPXWHle",
    "outputId": "5cec5336-2e5c-46ca-a6a8-d4ee4b2bc819"
   },
   "outputs": [
    {
     "data": {
      "text/plain": [
       "dtype('int32')"
      ]
     },
     "execution_count": 7,
     "metadata": {},
     "output_type": "execute_result"
    }
   ],
   "source": [
    "arr.dtype"
   ]
  },
  {
   "cell_type": "code",
   "execution_count": 9,
   "metadata": {
    "id": "9u5-O33mWHlf",
    "outputId": "01b727dc-e529-4433-b46f-c3fd804537d2"
   },
   "outputs": [
    {
     "data": {
      "text/plain": [
       "[1, 2, 3, 4, 5]"
      ]
     },
     "execution_count": 9,
     "metadata": {},
     "output_type": "execute_result"
    }
   ],
   "source": [
    "data1 = [1,2,3,4,5]\n",
    "data1"
   ]
  },
  {
   "cell_type": "code",
   "execution_count": 10,
   "metadata": {
    "id": "9nip-LfnWHlf",
    "outputId": "aee6ab77-834e-4bf2-acab-ab394605cc28"
   },
   "outputs": [
    {
     "data": {
      "text/plain": [
       "list"
      ]
     },
     "execution_count": 10,
     "metadata": {},
     "output_type": "execute_result"
    }
   ],
   "source": [
    "type(data1)"
   ]
  },
  {
   "cell_type": "code",
   "execution_count": 11,
   "metadata": {
    "id": "vDsDILsPWHlg",
    "outputId": "a1ef420f-808d-4b7b-d428-a1111cc5cc01"
   },
   "outputs": [
    {
     "data": {
      "text/plain": [
       "array([1, 2, 3, 4, 5])"
      ]
     },
     "execution_count": 11,
     "metadata": {},
     "output_type": "execute_result"
    }
   ],
   "source": [
    "arr1 = np.array(data1)\n",
    "arr1"
   ]
  },
  {
   "cell_type": "code",
   "execution_count": 12,
   "metadata": {
    "id": "W2mFWLUUWHlg",
    "outputId": "9d5c2db7-218b-4b3b-aebc-75b8e7c16c0a"
   },
   "outputs": [
    {
     "data": {
      "text/plain": [
       "numpy.ndarray"
      ]
     },
     "execution_count": 12,
     "metadata": {},
     "output_type": "execute_result"
    }
   ],
   "source": [
    "type(arr1)"
   ]
  },
  {
   "cell_type": "code",
   "execution_count": 13,
   "metadata": {
    "id": "KGB4UV_sWHlh",
    "outputId": "4fc93a3b-6d6d-48b4-c844-64cc5641461b"
   },
   "outputs": [
    {
     "data": {
      "text/plain": [
       "dtype('int32')"
      ]
     },
     "execution_count": 13,
     "metadata": {},
     "output_type": "execute_result"
    }
   ],
   "source": [
    "arr1.dtype"
   ]
  },
  {
   "cell_type": "markdown",
   "metadata": {
    "id": "ma8QnqmAWHlh"
   },
   "source": [
    " ## 1.2 2차원 배열\n",
    "- 다차원 배열 자료 구조 ex) 1차원, 2차원, 3차원 배열\n",
    "- 2차원 배열은 행렬(matrix)로 가로줄 행(row)과 세로줄 열(column)로 구성"
   ]
  },
  {
   "cell_type": "code",
   "execution_count": 14,
   "metadata": {
    "id": "aCHnjnDvWHlh",
    "outputId": "b94a089e-dbcd-4451-ab2a-edd1d1322550"
   },
   "outputs": [
    {
     "data": {
      "text/plain": [
       "array([[0, 1, 2],\n",
       "       [3, 4, 5]])"
      ]
     },
     "execution_count": 14,
     "metadata": {},
     "output_type": "execute_result"
    }
   ],
   "source": [
    "# 2행 x 3열 2차원배열 생성\n",
    "c = np.array([[0, 1, 2], [3, 4, 5]])\n",
    "c"
   ]
  },
  {
   "cell_type": "markdown",
   "metadata": {
    "id": "Igi8hk0qXTLX"
   },
   "source": [
    "\n",
    "## **연습 문제 1**\n",
    "\n",
    "넘파이를 사용하여 다음과 같은 행렬을 만든다.\n",
    "\n",
    "```\n",
    "10 20 30 40\n",
    "50 60 70 80\n",
    "```\n",
    "- 2 x 4 행렬을 생성하여 k에 저장하고 k를 출력한다."
   ]
  },
  {
   "cell_type": "code",
   "execution_count": 16,
   "metadata": {
    "id": "pD7iJwA6X6kd",
    "outputId": "3f0efad7-e5a0-46f5-d948-73d38ead171f"
   },
   "outputs": [
    {
     "data": {
      "text/plain": [
       "array([[10, 20, 30, 40],\n",
       "       [50, 60, 70, 80]])"
      ]
     },
     "execution_count": 16,
     "metadata": {},
     "output_type": "execute_result"
    }
   ],
   "source": [
    "# 연습문제 1 - 코드 작성\n",
    "data = [[10, 20, 30, 40], [50, 60, 70, 80]]       # ... code here\n",
    "k = np.array(data)       # ... code here\n",
    "k"
   ]
  },
  {
   "cell_type": "code",
   "execution_count": null,
   "metadata": {
    "id": "hbJ7WjcmxV5U",
    "outputId": "5cd1292e-ef23-46e1-b8e4-6c518982d01b"
   },
   "outputs": [
    {
     "data": {
      "text/plain": [
       "(2, 4)"
      ]
     },
     "execution_count": 15,
     "metadata": {},
     "output_type": "execute_result"
    }
   ],
   "source": [
    "k.shape"
   ]
  },
  {
   "cell_type": "markdown",
   "metadata": {
    "id": "nZY1AJIjWHlj"
   },
   "source": [
    "## 1.3 3차원 배열\n",
    "바깥쪽 리스트의 길이부터 가장 안쪽 리스트 길이의 순서로 표시"
   ]
  },
  {
   "cell_type": "code",
   "execution_count": 17,
   "metadata": {
    "id": "W46JhhGfWHlj",
    "outputId": "912214a8-600b-4d5e-abe0-e86a106b2bef"
   },
   "outputs": [
    {
     "data": {
      "text/plain": [
       "array([[[ 1,  2,  3,  4],\n",
       "        [ 5,  6,  7,  8],\n",
       "        [ 9, 10, 11, 12]],\n",
       "\n",
       "       [[11, 12, 13, 14],\n",
       "        [15, 16, 17, 18],\n",
       "        [19, 20, 21, 22]]])"
      ]
     },
     "execution_count": 17,
     "metadata": {},
     "output_type": "execute_result"
    }
   ],
   "source": [
    " # 2 x 3 x 4 배열 생성\n",
    "d = np.array([[[1, 2, 3, 4],\n",
    "               [5, 6, 7, 8],\n",
    "               [9, 10, 11, 12]],\n",
    "              [[11, 12, 13, 14],\n",
    "               [15, 16, 17, 18],\n",
    "               [19, 20, 21, 22]]])\n",
    "d"
   ]
  },
  {
   "cell_type": "markdown",
   "metadata": {
    "id": "B8vvzY1PWHlk"
   },
   "source": [
    "## 1.4 배열의 차원과 크기\n",
    "- ndim 속성은 배열의 차원\n",
    "-  shape 속성은 배열의 크기를 반환( 데이터의 형태를 파악하는 명령 )"
   ]
  },
  {
   "cell_type": "code",
   "execution_count": 18,
   "metadata": {
    "id": "ngKbB5k0WHlk",
    "outputId": "26fe9028-418a-4d1c-9419-578ae432dd02"
   },
   "outputs": [
    {
     "data": {
      "text/plain": [
       "array([1, 2, 3])"
      ]
     },
     "execution_count": 18,
     "metadata": {},
     "output_type": "execute_result"
    }
   ],
   "source": [
    "# 1차원 배열 생성\n",
    "ab = np.array([1, 2, 3])\n",
    "ab"
   ]
  },
  {
   "cell_type": "code",
   "execution_count": 19,
   "metadata": {
    "id": "LnTtV-R5WHlk",
    "outputId": "d56bc958-9b53-49a1-c296-28acd936fdc6"
   },
   "outputs": [
    {
     "data": {
      "text/plain": [
       "1"
      ]
     },
     "execution_count": 19,
     "metadata": {},
     "output_type": "execute_result"
    }
   ],
   "source": [
    "ab.ndim"
   ]
  },
  {
   "cell_type": "code",
   "execution_count": 20,
   "metadata": {
    "id": "MxdzSnLgWHlk",
    "outputId": "f02ededf-06d7-44d8-ef96-8006d492841e"
   },
   "outputs": [
    {
     "data": {
      "text/plain": [
       "(3,)"
      ]
     },
     "execution_count": 20,
     "metadata": {},
     "output_type": "execute_result"
    }
   ],
   "source": [
    "ab.shape"
   ]
  },
  {
   "cell_type": "code",
   "execution_count": 21,
   "metadata": {
    "id": "4EZ2I6gYWHlk",
    "outputId": "4a582274-6f34-454e-8d50-35252c73f747"
   },
   "outputs": [
    {
     "data": {
      "text/plain": [
       "3"
      ]
     },
     "execution_count": 21,
     "metadata": {},
     "output_type": "execute_result"
    }
   ],
   "source": [
    "ab.size"
   ]
  },
  {
   "cell_type": "code",
   "execution_count": 22,
   "metadata": {
    "id": "eiI_9lJ2WHll",
    "outputId": "ec2af93a-4068-4bbf-f2cd-16cea2778f6d"
   },
   "outputs": [
    {
     "data": {
      "text/plain": [
       "dtype('int32')"
      ]
     },
     "execution_count": 22,
     "metadata": {},
     "output_type": "execute_result"
    }
   ],
   "source": [
    "ab.dtype"
   ]
  },
  {
   "cell_type": "code",
   "execution_count": 23,
   "metadata": {
    "id": "oMvLJlPDWHll",
    "outputId": "b6fec4a0-d951-4fe7-d454-241419aba8b4"
   },
   "outputs": [
    {
     "data": {
      "text/plain": [
       "array([[0, 1, 2],\n",
       "       [3, 4, 5]])"
      ]
     },
     "execution_count": 23,
     "metadata": {},
     "output_type": "execute_result"
    }
   ],
   "source": [
    "# 2차원 배열 생성(2X3)\n",
    "abc = np.array([[0, 1, 2], [3, 4, 5]])\n",
    "abc"
   ]
  },
  {
   "cell_type": "code",
   "execution_count": 24,
   "metadata": {
    "id": "5wu_y7T8WHll",
    "outputId": "75024488-6a37-403d-cf7c-d433294d8f97"
   },
   "outputs": [
    {
     "name": "stdout",
     "output_type": "stream",
     "text": [
      "2\n",
      "(2, 3)\n"
     ]
    }
   ],
   "source": [
    "print(abc.ndim)\n",
    "print(abc.shape)"
   ]
  },
  {
   "cell_type": "code",
   "execution_count": 25,
   "metadata": {
    "id": "yxiiiqqBWHll",
    "outputId": "0f1d8590-100b-4369-c09e-3822f5f2b032"
   },
   "outputs": [
    {
     "data": {
      "text/plain": [
       "array([[[ 1,  2,  3,  4],\n",
       "        [ 5,  6,  7,  8],\n",
       "        [ 9, 10, 11, 12]],\n",
       "\n",
       "       [[11, 12, 13, 14],\n",
       "        [15, 16, 17, 18],\n",
       "        [19, 20, 21, 22]]])"
      ]
     },
     "execution_count": 25,
     "metadata": {},
     "output_type": "execute_result"
    }
   ],
   "source": [
    "# 3차원 배열 생성(2x3x4)\n",
    "abcd = np.array([[[1, 2, 3, 4],\n",
    "               [5, 6, 7, 8],\n",
    "               [9, 10, 11, 12]],\n",
    "              [[11, 12, 13, 14],\n",
    "               [15, 16, 17, 18],\n",
    "               [19, 20, 21, 22]]])\n",
    "abcd"
   ]
  },
  {
   "cell_type": "code",
   "execution_count": null,
   "metadata": {
    "id": "nNVPiFjQWHll",
    "outputId": "b40055be-a2bc-44a0-fc89-b0023cdf29fc"
   },
   "outputs": [
    {
     "name": "stdout",
     "output_type": "stream",
     "text": [
      "3\n",
      "(2, 3, 4)\n"
     ]
    }
   ],
   "source": [
    "print(abcd.ndim)\n",
    "print(abcd.shape)"
   ]
  },
  {
   "cell_type": "code",
   "execution_count": null,
   "metadata": {
    "id": "8DQX-dm_WHlq",
    "outputId": "da91c6a0-4051-464b-fea7-2d9715e53bb9"
   },
   "outputs": [
    {
     "data": {
      "text/plain": [
       "array([0, 1, 2, 3, 4])"
      ]
     },
     "execution_count": 26,
     "metadata": {},
     "output_type": "execute_result"
    }
   ],
   "source": [
    "a = np.array([0, 1, 2, 3, 4])\n",
    "a"
   ]
  },
  {
   "cell_type": "markdown",
   "metadata": {
    "id": "rFGYC7YWxV5V"
   },
   "source": [
    "## 1.5.다양한 배열 생성\n",
    "- np.zeros() / np.ones()"
   ]
  },
  {
   "cell_type": "code",
   "execution_count": null,
   "metadata": {
    "id": "3YyC0wPPxV5Z",
    "outputId": "4182e469-5b7f-4734-d56d-7d9e8f9f7ab7"
   },
   "outputs": [
    {
     "name": "stdout",
     "output_type": "stream",
     "text": [
      "3x3 행렬 (zeros):\n",
      " [[0. 0. 0.]\n",
      " [0. 0. 0.]\n",
      " [0. 0. 0.]]\n",
      "3x3 행렬 (ones):\n",
      " [[1. 1. 1.]\n",
      " [1. 1. 1.]\n",
      " [1. 1. 1.]]\n"
     ]
    }
   ],
   "source": [
    "# 모든 요소가 0인 3x3 행렬 초기화\n",
    "zero_matrix = np.zeros((3, 3))\n",
    "print(\"3x3 행렬 (zeros):\\n\", zero_matrix)\n",
    "\n",
    "# 모든 요소가 1인 3x3 행렬 초기화\n",
    "one_matrix = np.ones((3, 3))\n",
    "print(\"3x3 행렬 (ones):\\n\", one_matrix)"
   ]
  },
  {
   "cell_type": "code",
   "execution_count": null,
   "metadata": {
    "id": "6GhaL20FxV5a",
    "outputId": "8135c5c6-cb52-413c-f43e-bfa657e6bbe4"
   },
   "outputs": [
    {
     "name": "stdout",
     "output_type": "stream",
     "text": [
      "초기화된 배열 (zeros): [0. 0. 0. 0. 0. 0. 0. 0. 0. 0.]\n",
      "채워진 배열: [ 0.  2.  4.  6.  8. 10. 12. 14. 16. 18.]\n"
     ]
    }
   ],
   "source": [
    "# 10개의 요소를 가진 1차원 배열을 0으로 초기화\n",
    "data = np.zeros(10)\n",
    "print(\"초기화된 배열 (zeros):\", data)\n",
    "\n",
    "# 배열에 값 채우기\n",
    "for i in range(10):\n",
    "    data[i] = i * 2\n",
    "print(\"채워진 배열:\", data)"
   ]
  },
  {
   "cell_type": "code",
   "execution_count": null,
   "metadata": {
    "id": "lpwPsO1nxV5a",
    "outputId": "0ceb9e00-bf54-4f31-bab3-77028d82bd08"
   },
   "outputs": [
    {
     "name": "stdout",
     "output_type": "stream",
     "text": [
      "마스크 배열:\n",
      " [[0. 1. 1.]\n",
      " [0. 0. 1.]\n",
      " [1. 0. 0.]]\n",
      "선택된 요소: [7 9 8 6]\n"
     ]
    }
   ],
   "source": [
    "# 3x3 배열 생성\n",
    "data = np.array([[5, 7, 9], [4, 3, 8], [6, 1, 2]])\n",
    "\n",
    "# 조건을 만족하는 요소에 대한 마스크 배열 생성\n",
    "mask = np.zeros(data.shape)\n",
    "mask[data > 5] = 1\n",
    "print(\"마스크 배열:\\n\", mask)\n",
    "\n",
    "# 마스크 배열을 사용하여 조건을 만족하는 요소 선택\n",
    "selected_elements = data[mask == 1]\n",
    "print(\"선택된 요소:\", selected_elements)"
   ]
  },
  {
   "cell_type": "markdown",
   "metadata": {
    "id": "ueLeUBu-WHlm"
   },
   "source": [
    "# 2.배열의 인덱싱(Indexing)"
   ]
  },
  {
   "cell_type": "code",
   "execution_count": null,
   "metadata": {
    "id": "qIeilXNYWHlq",
    "outputId": "4962d97b-3a74-4dc0-c654-6bdd3c191d87"
   },
   "outputs": [
    {
     "data": {
      "text/plain": [
       "2"
      ]
     },
     "execution_count": 30,
     "metadata": {},
     "output_type": "execute_result"
    }
   ],
   "source": [
    "a[2]"
   ]
  },
  {
   "cell_type": "code",
   "execution_count": null,
   "metadata": {
    "id": "WFtil03SWHlq",
    "outputId": "36b061c2-338f-473b-dcdb-2200502b16e1"
   },
   "outputs": [
    {
     "data": {
      "text/plain": [
       "4"
      ]
     },
     "execution_count": 31,
     "metadata": {},
     "output_type": "execute_result"
    }
   ],
   "source": [
    "a[-1]"
   ]
  },
  {
   "cell_type": "code",
   "execution_count": null,
   "metadata": {
    "id": "QmLIbp01WHlr",
    "outputId": "93f6e425-ab46-4b13-b877-33aefa51790d"
   },
   "outputs": [
    {
     "data": {
      "text/plain": [
       "array([[0, 1, 2],\n",
       "       [3, 4, 5]])"
      ]
     },
     "execution_count": 32,
     "metadata": {},
     "output_type": "execute_result"
    }
   ],
   "source": [
    "b = np.array([[0, 1, 2], [3, 4, 5]])\n",
    "b"
   ]
  },
  {
   "cell_type": "code",
   "execution_count": null,
   "metadata": {
    "id": "neBYYLoqWHlr",
    "outputId": "c09601f8-9b3a-4160-9919-22571a1ca461"
   },
   "outputs": [
    {
     "data": {
      "text/plain": [
       "(2, 3)"
      ]
     },
     "execution_count": 33,
     "metadata": {},
     "output_type": "execute_result"
    }
   ],
   "source": [
    "b.shape"
   ]
  },
  {
   "cell_type": "code",
   "execution_count": null,
   "metadata": {
    "id": "3Q7e4SY4WHlr",
    "outputId": "ac133ade-15a1-4622-c206-b268302d6093"
   },
   "outputs": [
    {
     "data": {
      "text/plain": [
       "0"
      ]
     },
     "execution_count": 34,
     "metadata": {},
     "output_type": "execute_result"
    }
   ],
   "source": [
    "b[0, 0]"
   ]
  },
  {
   "cell_type": "code",
   "execution_count": null,
   "metadata": {
    "id": "dsS-bq2lWHlr",
    "outputId": "96be9063-234a-4145-9606-ad8e83725e9f"
   },
   "outputs": [
    {
     "data": {
      "text/plain": [
       "1"
      ]
     },
     "execution_count": 35,
     "metadata": {},
     "output_type": "execute_result"
    }
   ],
   "source": [
    "b[0, 1]"
   ]
  },
  {
   "cell_type": "code",
   "execution_count": null,
   "metadata": {
    "id": "vILxvnFTWHlr",
    "outputId": "ac79d90f-2275-41bb-caf9-4e3324753944"
   },
   "outputs": [
    {
     "data": {
      "text/plain": [
       "5"
      ]
     },
     "execution_count": 36,
     "metadata": {},
     "output_type": "execute_result"
    }
   ],
   "source": [
    "b[-1, -1]"
   ]
  },
  {
   "cell_type": "markdown",
   "metadata": {
    "id": "3HMJrLWPWHls"
   },
   "source": [
    "# 3.슬라이싱(Slicing)"
   ]
  },
  {
   "cell_type": "code",
   "execution_count": null,
   "metadata": {
    "id": "C5aN7ByRWHls",
    "outputId": "9d68c245-6ca2-47a3-b756-8ceaa67bd1fd"
   },
   "outputs": [
    {
     "data": {
      "text/plain": [
       "array([[0, 1, 2, 3],\n",
       "       [4, 5, 6, 7]])"
      ]
     },
     "execution_count": 37,
     "metadata": {},
     "output_type": "execute_result"
    }
   ],
   "source": [
    "a = np.array([[0, 1, 2, 3],\n",
    "              [4, 5, 6, 7]])\n",
    "a"
   ]
  },
  {
   "cell_type": "code",
   "execution_count": null,
   "metadata": {
    "id": "o5RpjO6DWHls",
    "outputId": "10cd807b-48f5-4ce3-f698-778b881de248"
   },
   "outputs": [
    {
     "data": {
      "text/plain": [
       "array([0, 1, 2, 3])"
      ]
     },
     "execution_count": 38,
     "metadata": {},
     "output_type": "execute_result"
    }
   ],
   "source": [
    "a[0, :]"
   ]
  },
  {
   "cell_type": "code",
   "execution_count": null,
   "metadata": {
    "id": "hOVD9nukWHls",
    "outputId": "a9d6423c-a366-4543-cf82-8bbc7448d76f"
   },
   "outputs": [
    {
     "data": {
      "text/plain": [
       "array([5, 6, 7])"
      ]
     },
     "execution_count": 39,
     "metadata": {},
     "output_type": "execute_result"
    }
   ],
   "source": [
    "a[1, 1:]"
   ]
  },
  {
   "cell_type": "code",
   "execution_count": null,
   "metadata": {
    "id": "4Ilhgq_1WHlt",
    "outputId": "b613ae38-e989-427d-a131-3ce0cf00fc21",
    "scrolled": true
   },
   "outputs": [
    {
     "data": {
      "text/plain": [
       "array([[0, 1],\n",
       "       [4, 5]])"
      ]
     },
     "execution_count": 40,
     "metadata": {},
     "output_type": "execute_result"
    }
   ],
   "source": [
    "a[:2, :2]"
   ]
  },
  {
   "cell_type": "markdown",
   "metadata": {
    "id": "e-klgKmLXrjO"
   },
   "source": [
    "## **연습 문제 2**\n",
    "\n",
    "다음 행렬과 같은 행렬이 있다.\n",
    "\n",
    "```\n",
    "m = np.array([[ 0,  1,  2,  3,  4],\n",
    "            [ 5,  6,  7,  8,  9],\n",
    "            [10, 11, 12, 13, 14]])\n",
    "\n",
    "1. 이 행렬에서 값 7 을 인덱싱한다.\n",
    "2. 이 행렬에서 값 14 을 인덱싱한다.\n",
    "3. 이 행렬에서 배열 [6, 7] 을 슬라이싱한다.\n",
    "4. 이 행렬에서 배열 [7, 12] 을 슬라이싱한다.\n",
    "5. 이 행렬에서 배열 [[3, 4], [8, 9]] 을 슬라이싱한다.\n",
    "````"
   ]
  },
  {
   "cell_type": "code",
   "execution_count": null,
   "metadata": {
    "id": "FPoACyOsXwlm",
    "outputId": "1ec052a0-7954-4c8f-8c87-8e5a2008d45c"
   },
   "outputs": [
    {
     "name": "stdout",
     "output_type": "stream",
     "text": [
      "7\n",
      "14\n",
      "[6 7]\n",
      "[ 7 12]\n",
      "[[3 4]\n",
      " [8 9]]\n"
     ]
    }
   ],
   "source": [
    "# 연습문제 2 - 코드 작성\n",
    "\n",
    "m = np.array([[ 0,  1,  2,  3,  4],\n",
    "              [ 5,  6,  7,  8,  9],\n",
    "              [10, 11, 12, 13, 14]])\n",
    "\n",
    "\n",
    "#1. 이 행렬에서 값 7 을 인덱싱한다.\n",
    "...        # ... code here\n",
    "#2. 이 행렬에서 값 14 을 인덱싱한다.\n",
    "...        # ... code here\n",
    "#3. 이 행렬에서 배열 [6, 7] 을 슬라이싱한다.\n",
    "...        # ... code here\n",
    "#4. 이 행렬에서 배열 [7, 12] 을 슬라이싱한다.\n",
    "...        # ... code here\n",
    "#5. 이 행렬에서 배열 [[3, 4], [8, 9]] 을 슬라이싱한다.\n",
    "...        # ... code here"
   ]
  },
  {
   "cell_type": "markdown",
   "metadata": {
    "id": "HINxhp0xWHlt"
   },
   "source": [
    "# 4.배열의 형태 변환 - Reshape\n",
    "- 만들어진 배열의 내부 데이터는 보존한 채로 형태만 reshape 명령어나 메서드로 변형\n",
    "- 배열 형태( Array shape )를 변경함"
   ]
  },
  {
   "cell_type": "code",
   "execution_count": null,
   "metadata": {
    "id": "wQjwALHXWHlt",
    "outputId": "89710854-c4f5-469f-e4db-ac586c0a252d"
   },
   "outputs": [
    {
     "data": {
      "text/plain": [
       "array([ 0,  1,  2,  3,  4,  5,  6,  7,  8,  9, 10, 11])"
      ]
     },
     "execution_count": 42,
     "metadata": {},
     "output_type": "execute_result"
    }
   ],
   "source": [
    "# 12개 원소를 가진 1차원 배열 생성\n",
    "a = np.arange(12)\n",
    "a"
   ]
  },
  {
   "cell_type": "code",
   "execution_count": null,
   "metadata": {
    "id": "7NoRc4LyWHlt",
    "outputId": "ffdab751-fc6d-4bec-a543-028ca1d05800"
   },
   "outputs": [
    {
     "data": {
      "text/plain": [
       "array([[ 0,  1,  2,  3],\n",
       "       [ 4,  5,  6,  7],\n",
       "       [ 8,  9, 10, 11]])"
      ]
     },
     "execution_count": 43,
     "metadata": {},
     "output_type": "execute_result"
    }
   ],
   "source": [
    "# 1차원 배열을 reshape 매서드로 3x4 형태의 2차원 행렬로 변형\n",
    "# 데이터 변경 없이 형상만 변경하여 반환\n",
    "b = a.reshape(3, 4)\n",
    "b"
   ]
  },
  {
   "cell_type": "code",
   "execution_count": null,
   "metadata": {
    "id": "6D3N-iDKWHlu",
    "outputId": "c68e184b-4f66-40fc-d11e-f52cca711045"
   },
   "outputs": [
    {
     "data": {
      "text/plain": [
       "array([[ 0,  1,  2,  3],\n",
       "       [ 4,  5,  6,  7],\n",
       "       [ 8,  9, 10, 11]])"
      ]
     },
     "execution_count": 44,
     "metadata": {},
     "output_type": "execute_result"
    }
   ],
   "source": [
    "# -1을 사용하여 동일하게 변형 : 위와 같이 4를 지정안해도 알아서 계산되어 사용\n",
    "# 개좋네\n",
    "b.reshape(3, -1)"
   ]
  },
  {
   "cell_type": "code",
   "execution_count": null,
   "metadata": {
    "id": "8bWXvvIXWHlu",
    "outputId": "90f95312-416d-4375-c348-951540451c72"
   },
   "outputs": [
    {
     "data": {
      "text/plain": [
       "array([[[ 0,  1],\n",
       "        [ 2,  3],\n",
       "        [ 4,  5]],\n",
       "\n",
       "       [[ 6,  7],\n",
       "        [ 8,  9],\n",
       "        [10, 11]]])"
      ]
     },
     "execution_count": 45,
     "metadata": {},
     "output_type": "execute_result"
    }
   ],
   "source": [
    "b.reshape(2, -1, 2)"
   ]
  },
  {
   "cell_type": "code",
   "execution_count": null,
   "metadata": {
    "id": "0c0s4ivTxV5c",
    "outputId": "e7ff80fb-9036-4e12-ee89-fbb041e5acca"
   },
   "outputs": [
    {
     "name": "stdout",
     "output_type": "stream",
     "text": [
      "3차원 배열:\n",
      " [[[ 1  2  3]\n",
      "  [ 4  5  6]]\n",
      "\n",
      " [[ 7  8  9]\n",
      "  [10 11 12]]]\n",
      "2차원 배열로 변환:\n",
      " [[ 1  2  3]\n",
      " [ 4  5  6]\n",
      " [ 7  8  9]\n",
      " [10 11 12]]\n"
     ]
    }
   ],
   "source": [
    "# 3차원 배열 생성\n",
    "arr = np.arange(1, 13).reshape((2, 2, 3))\n",
    "\n",
    "# 2차원 배열로 변환\n",
    "reshaped_arr = np.reshape(arr, (4, 3))\n",
    "print(\"3차원 배열:\\n\", arr)\n",
    "print(\"2차원 배열로 변환:\\n\", reshaped_arr)\n"
   ]
  },
  {
   "cell_type": "code",
   "execution_count": null,
   "metadata": {
    "id": "WFajzYB-xV5c",
    "outputId": "9a83b4f1-bfdf-46de-9612-559f4371c813"
   },
   "outputs": [
    {
     "name": "stdout",
     "output_type": "stream",
     "text": [
      "1차원 배열: [ 1  2  3  4  5  6  7  8  9 10 11 12 13 14 15 16 17 18 19 20 21 22 23 24]\n",
      "3차원 배열로 변환:\n",
      " [[[ 1  2  3  4]\n",
      "  [ 5  6  7  8]\n",
      "  [ 9 10 11 12]]\n",
      "\n",
      " [[13 14 15 16]\n",
      "  [17 18 19 20]\n",
      "  [21 22 23 24]]]\n",
      "4차원 배열로 변환:\n",
      " [[[[ 1  2]\n",
      "   [ 3  4]\n",
      "   [ 5  6]]\n",
      "\n",
      "  [[ 7  8]\n",
      "   [ 9 10]\n",
      "   [11 12]]]\n",
      "\n",
      "\n",
      " [[[13 14]\n",
      "   [15 16]\n",
      "   [17 18]]\n",
      "\n",
      "  [[19 20]\n",
      "   [21 22]\n",
      "   [23 24]]]]\n"
     ]
    }
   ],
   "source": [
    "# 1차원 배열 생성\n",
    "arr = np.arange(1, 25)\n",
    "\n",
    "# 2x3x4 배열로 변환\n",
    "reshaped_arr = np.reshape(arr, (2, 3, 4))\n",
    "print(\"1차원 배열:\", arr)\n",
    "print(\"3차원 배열로 변환:\\n\", reshaped_arr)\n",
    "\n",
    "# 2x2x3x2 배열로 변환\n",
    "reshaped_arr_4d = np.reshape(arr, (2, 2, 3, 2))\n",
    "print(\"4차원 배열로 변환:\\n\", reshaped_arr_4d)\n"
   ]
  },
  {
   "cell_type": "code",
   "execution_count": null,
   "metadata": {
    "id": "_ZkngSFIWHlu",
    "outputId": "1aac645f-c757-4373-c208-8f79900635fa"
   },
   "outputs": [
    {
     "data": {
      "text/plain": [
       "array([ 0,  1,  2,  3,  4,  5,  6,  7,  8,  9, 10, 11])"
      ]
     },
     "execution_count": 48,
     "metadata": {},
     "output_type": "execute_result"
    }
   ],
   "source": [
    "# 다 차원 배열을 무조건 1차원으로 펼치는 메서드 : flatten, ravel\n",
    "b.flatten()   #1차원배열 복사본을 반환"
   ]
  },
  {
   "cell_type": "code",
   "execution_count": null,
   "metadata": {
    "id": "S-Z3BHGXWHlu",
    "outputId": "e62020eb-ffbe-4295-b9d9-3c6498a29f42"
   },
   "outputs": [
    {
     "data": {
      "text/plain": [
       "array([ 0,  1,  2,  3,  4,  5,  6,  7,  8,  9, 10, 11])"
      ]
     },
     "execution_count": 49,
     "metadata": {},
     "output_type": "execute_result"
    }
   ],
   "source": [
    "b.ravel()    # 1차원배열(contiguous flattened array)을 반환"
   ]
  },
  {
   "cell_type": "markdown",
   "metadata": {
    "id": "odPzVgNeWHlu"
   },
   "source": [
    "# 5.차원축소 연산\n",
    "차원 축소(Dimension Reduction) 연산은 행렬의 하나의 행에 있는 원소들을\n",
    "하나의 데이터 집합으로 보고 그 집합의 평균을 구하면 1차원 벡터가 반환\n",
    "#### numpy의 차원 축소 연산 메서드\n",
    "\n",
    "- 최대/최소: min, max, argmin, argmax\n",
    "- 통계: sum, mean, median, std, var\n",
    "- 불리언: all, any"
   ]
  },
  {
   "cell_type": "code",
   "execution_count": null,
   "metadata": {
    "id": "w8XxQNuDWHlv",
    "outputId": "c282cc2e-70d1-4fd5-de28-c63c5d94e279"
   },
   "outputs": [
    {
     "data": {
      "text/plain": [
       "array([1, 2, 3, 4])"
      ]
     },
     "execution_count": 50,
     "metadata": {},
     "output_type": "execute_result"
    }
   ],
   "source": [
    "x = np.array([1, 2, 3, 4])\n",
    "x"
   ]
  },
  {
   "cell_type": "code",
   "execution_count": null,
   "metadata": {
    "id": "RlnYZMm3WHlv",
    "outputId": "5f048302-ea49-4f43-b398-6eb3f611122a"
   },
   "outputs": [
    {
     "data": {
      "text/plain": [
       "10"
      ]
     },
     "execution_count": 51,
     "metadata": {},
     "output_type": "execute_result"
    }
   ],
   "source": [
    "# numpy 합계 sum\n",
    "np.sum(x)"
   ]
  },
  {
   "cell_type": "code",
   "execution_count": null,
   "metadata": {
    "id": "ikhUL07tWHlv",
    "outputId": "5e00c747-0e57-4cfc-9c79-aa1f8b45e4bb"
   },
   "outputs": [
    {
     "data": {
      "text/plain": [
       "10"
      ]
     },
     "execution_count": 52,
     "metadata": {},
     "output_type": "execute_result"
    }
   ],
   "source": [
    "# 합계 sum\n",
    "x.sum()"
   ]
  },
  {
   "cell_type": "code",
   "execution_count": null,
   "metadata": {
    "id": "CM5ZntUgWHlv",
    "outputId": "76844e0d-9f01-4ae5-94d5-42e7a5feca56"
   },
   "outputs": [
    {
     "data": {
      "text/plain": [
       "1"
      ]
     },
     "execution_count": 53,
     "metadata": {},
     "output_type": "execute_result"
    }
   ],
   "source": [
    "# 최소값\n",
    "x.min()"
   ]
  },
  {
   "cell_type": "markdown",
   "metadata": {
    "id": "WorSay2xdEFQ"
   },
   "source": [
    "# 6.연산"
   ]
  },
  {
   "cell_type": "code",
   "execution_count": null,
   "metadata": {
    "id": "zC7pJJ_9xV5c",
    "outputId": "a26f3b17-f77b-4d56-8f69-120254be4f2c"
   },
   "outputs": [
    {
     "name": "stdout",
     "output_type": "stream",
     "text": [
      "덧셈 결과: [5 7 9]\n",
      "뺄셈 결과: [-3 -3 -3]\n",
      "곱셈 결과: [ 4 10 18]\n",
      "나눗셈 결과: [0.25 0.4  0.5 ]\n"
     ]
    }
   ],
   "source": [
    "# 두 배열 생성\n",
    "arr1 = np.array([1, 2, 3])\n",
    "arr2 = np.array([4, 5, 6])\n",
    "\n",
    "# 덧셈\n",
    "add_result = arr1 + arr2\n",
    "print(\"덧셈 결과:\", add_result)\n",
    "\n",
    "# 뺄셈\n",
    "sub_result = arr1 - arr2\n",
    "print(\"뺄셈 결과:\", sub_result)\n",
    "\n",
    "# 곱셈\n",
    "mul_result = arr1 * arr2\n",
    "print(\"곱셈 결과:\", mul_result)\n",
    "\n",
    "# 나눗셈\n",
    "div_result = arr1 / arr2\n",
    "print(\"나눗셈 결과:\", div_result)\n"
   ]
  },
  {
   "cell_type": "code",
   "execution_count": null,
   "metadata": {
    "id": "lxG6BJdfxV5d",
    "outputId": "47d66c8f-b544-4813-be3e-cc8ec95485ab"
   },
   "outputs": [
    {
     "name": "stdout",
     "output_type": "stream",
     "text": [
      "브로드캐스팅 결과:\n",
      " [[2 4 6]\n",
      " [5 7 9]]\n"
     ]
    }
   ],
   "source": [
    "import numpy as np\n",
    "\n",
    "# 2차원 배열과 1차원 배열 생성\n",
    "arr1 = np.array([[1, 2, 3], [4, 5, 6]])\n",
    "arr2 = np.array([1, 2, 3])\n",
    "\n",
    "# 브로드캐스팅을 통한 덧셈\n",
    "result = arr1 + arr2\n",
    "print(\"브로드캐스팅 결과:\\n\", result)"
   ]
  },
  {
   "cell_type": "code",
   "execution_count": null,
   "metadata": {
    "id": "PozlZ_5vxV5d",
    "outputId": "42d8cf8b-fb28-4d98-bff6-85eed5a7484c"
   },
   "outputs": [
    {
     "name": "stdout",
     "output_type": "stream",
     "text": [
      "행렬 곱셈 결과:\n",
      " [[19 22]\n",
      " [43 50]]\n",
      "전치 행렬:\n",
      " [[1 3]\n",
      " [2 4]]\n",
      "역행렬:\n",
      " [[-2.   1. ]\n",
      " [ 1.5 -0.5]]\n",
      "행렬식: -2.0000000000000004\n"
     ]
    }
   ],
   "source": [
    "\n",
    "# 두 행렬 생성\n",
    "matrix1 = np.array([[1, 2], [3, 4]])\n",
    "matrix2 = np.array([[5, 6], [7, 8]])\n",
    "\n",
    "# 행렬 곱셈\n",
    "matrix_product = np.dot(matrix1, matrix2)\n",
    "print(\"행렬 곱셈 결과:\\n\", matrix_product)\n",
    "\n",
    "# 전치 행렬\n",
    "transpose_matrix = np.transpose(matrix1)\n",
    "print(\"전치 행렬:\\n\", transpose_matrix)\n",
    "\n",
    "# 역행렬\n",
    "inverse_matrix = np.linalg.inv(matrix1)\n",
    "print(\"역행렬:\\n\", inverse_matrix)\n",
    "\n",
    "# 행렬식\n",
    "det_matrix = np.linalg.det(matrix1)\n",
    "print(\"행렬식:\", det_matrix)"
   ]
  },
  {
   "cell_type": "markdown",
   "metadata": {
    "id": "UByu5LDbxV5d"
   },
   "source": [
    "## 연습 문제 3"
   ]
  },
  {
   "cell_type": "code",
   "execution_count": 26,
   "metadata": {
    "id": "c28KtAg6xV5d",
    "outputId": "80203bc8-46c8-459a-a014-68360de028e1"
   },
   "outputs": [
    {
     "name": "stdout",
     "output_type": "stream",
     "text": [
      "초기화된 배열:\n",
      "[[0. 0. 0. 0.]\n",
      " [0. 0. 0. 0.]\n",
      " [0. 0. 0. 0.]\n",
      " [0. 0. 0. 0.]]\n"
     ]
    }
   ],
   "source": [
    "import numpy as np\n",
    "\n",
    "# 1. 크기가 (4, 4)인 2차원 배열을 생성하고, 모든 요소를 0으로 초기화\n",
    "array = np.zeros((4, 4))        # ... code here\n",
    "print(\"초기화된 배열:\")\n",
    "print(array)"
   ]
  },
  {
   "cell_type": "code",
   "execution_count": 29,
   "metadata": {
    "id": "OkiZEKa0xV5d",
    "outputId": "6fc58656-145a-458c-dda1-da3246409312"
   },
   "outputs": [
    {
     "name": "stdout",
     "output_type": "stream",
     "text": [
      "\n",
      "대각선 요소를 1로 변경한 배열 (for 루프 사용):\n",
      "[[1. 0. 0. 0.]\n",
      " [0. 1. 0. 0.]\n",
      " [0. 0. 1. 0.]\n",
      " [0. 0. 0. 1.]]\n"
     ]
    }
   ],
   "source": [
    "# 2-1. 생성한 배열에서 대각선 요소를 1로 변경 (for 루프 사용)\n",
    "for i in range(4) :        # ... code here\n",
    "    array[i][i] = 1\n",
    "    \n",
    "# 교수님 답\n",
    "for i in range(len(array)) :\n",
    "    array[i, i] = 1\n",
    "\n",
    "\n",
    "print(\"\\n대각선 요소를 1로 변경한 배열 (for 루프 사용):\")\n",
    "print(array)"
   ]
  },
  {
   "cell_type": "code",
   "execution_count": 31,
   "metadata": {
    "id": "XPOD78ePxV5d",
    "outputId": "4bdedc49-319f-48cb-e7f2-cf07d30771eb"
   },
   "outputs": [
    {
     "name": "stdout",
     "output_type": "stream",
     "text": [
      "\n",
      "대각선 요소를 1로 변경한 배열:\n",
      "[[1. 0. 0. 0.]\n",
      " [0. 1. 0. 0.]\n",
      " [0. 0. 1. 0.]\n",
      " [0. 0. 0. 1.]]\n"
     ]
    }
   ],
   "source": [
    "# 2-2. 생성한 배열에서 대각선 요소를 1로 변경\n",
    "# 넘파이 매서드 \n",
    "np.fill_diagonal(array, 1)        # ... code here\n",
    "\n",
    "print(\"\\n대각선 요소를 1로 변경한 배열:\")\n",
    "print(array)"
   ]
  },
  {
   "cell_type": "code",
   "execution_count": 34,
   "metadata": {
    "id": "-T3vfcSyxV5e",
    "outputId": "a9c652ae-f5c7-40e2-ad2a-dc3ec27f99a0"
   },
   "outputs": [
    {
     "name": "stdout",
     "output_type": "stream",
     "text": [
      "\n",
      "각 행의 합: [1. 1. 1. 1.]\n",
      "각 열의 합: [1. 1. 1. 1.]\n"
     ]
    }
   ],
   "source": [
    "# 3. 배열의 각 행과 열의 합을 계산\n",
    "row_sums = np.sum(array, axis=0)      # 축의 방향으로 값이 생성되는 것! 더해지는 방향과 헷갈리지 말기!!\n",
    "col_sums = np.sum(array ,axis = 1)    # 축으로 값이 생성되는 것! 더해지는 방향 헷갈리지 말기!!\n",
    "print(\"\\n각 행의 합:\", row_sums)\n",
    "print(\"각 열의 합:\", col_sums)\n"
   ]
  },
  {
   "cell_type": "code",
   "execution_count": 36,
   "metadata": {
    "id": "BeT_Vo5txV5e",
    "outputId": "e2a0e17d-3f4c-4901-89e0-560c49a80cea"
   },
   "outputs": [
    {
     "name": "stdout",
     "output_type": "stream",
     "text": [
      "\n",
      "배열 전체의 평균: 0.25\n",
      "배열 전체의 표준편차: 0.4330127018922193\n"
     ]
    }
   ],
   "source": [
    "# 4. 배열 전체의 평균과 표준편차를 계산\n",
    "mean_value = np.mean(array)        # ... code here\n",
    "std_deviation = np.std(array)        # ... code here\n",
    "print(\"\\n배열 전체의 평균:\", mean_value)\n",
    "print(\"배열 전체의 표준편차:\", std_deviation)"
   ]
  },
  {
   "cell_type": "markdown",
   "metadata": {
    "id": "a6OqT5-uc0_y"
   },
   "source": [
    "# `Inf`와 `NaN`"
   ]
  },
  {
   "cell_type": "markdown",
   "metadata": {
    "id": "FB3qtQHUxV5d"
   },
   "source": [
    "넘파이에서는 무한대를 표현하기 위한 `np.inf`(infinity)와 정의할 수 없는 숫자를 나타내는 `np.nan`(not a number)을 사용할 수 있다. 다음 예와 같이 1을 0으로 나누려고 하거나 0에 대한 로그 값을 계산하면 무한대인 `np.inf`이 나온다. 0을 0으로 나누려고 시도하면 `np.nan`이 나온다.\n",
    "  \n",
    "![다운로드.jfif](data:image/jpeg;base64,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)"
   ]
  }
 ],
 "metadata": {
  "colab": {
   "provenance": [],
   "toc_visible": true
  },
  "kernelspec": {
   "display_name": "base",
   "language": "python",
   "name": "python3"
  },
  "language_info": {
   "codemirror_mode": {
    "name": "ipython",
    "version": 3
   },
   "file_extension": ".py",
   "mimetype": "text/x-python",
   "name": "python",
   "nbconvert_exporter": "python",
   "pygments_lexer": "ipython3",
   "version": "3.11.7"
  }
 },
 "nbformat": 4,
 "nbformat_minor": 0
}
