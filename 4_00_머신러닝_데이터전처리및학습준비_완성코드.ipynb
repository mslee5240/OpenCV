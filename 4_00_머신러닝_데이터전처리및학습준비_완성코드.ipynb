{
  "cells": [
    {
      "cell_type": "markdown",
      "metadata": {
        "id": "WvAK6UGD9k8s"
      },
      "source": [
        "## **기계학습을 위한 데이터 전처리**\n",
        "\n",
        "1. 데이터 정제 및 분리하기 - 결측값&이상치 처리하기\n",
        "2. 텍스트 데이터 숫자 데이터로 변환하기\n",
        "3. 숫자 데이터를 정규화, 표준화시키기\n"
      ]
    },
    {
      "cell_type": "markdown",
      "source": [
        "## **Step 0 : 파일 다운로드하기**\n",
        "- 아래 셀을 실행시켜 프로젝트에 사용할 데이터 파일을 colab 작업환경으로 다운로드한다."
      ],
      "metadata": {
        "id": "2W_Ux4-8fsyQ"
      }
    },
    {
      "cell_type": "code",
      "execution_count": 1,
      "metadata": {
        "id": "g-evBlCI9k8u",
        "colab": {
          "base_uri": "https://localhost:8080/"
        },
        "outputId": "def26cd9-25d9-4227-f669-861902e33565"
      },
      "outputs": [
        {
          "output_type": "stream",
          "name": "stdout",
          "text": [
            "Downloading...\n",
            "From: https://drive.google.com/uc?id=1MXPXwJujTCKuq8vWHZk0p_taefm4hhg9\n",
            "To: /content/titanic.csv\n",
            "\r  0% 0.00/61.2k [00:00<?, ?B/s]\r100% 61.2k/61.2k [00:00<00:00, 63.8MB/s]\n"
          ]
        }
      ],
      "source": [
        "# 구글 Colab에서 공유된 파일 다운로드해서 가져오기 - 타이타닉데이터\n",
        "!gdown 1MXPXwJujTCKuq8vWHZk0p_taefm4hhg9"
      ]
    },
    {
      "cell_type": "markdown",
      "source": [
        "## **Step 1 : 라이브러리 가져오기**\n",
        "- pandas 패키를 가져와 pd로 사용한다\n",
        "- numpy 패키지를 가져와 np로 사용한다"
      ],
      "metadata": {
        "id": "IEw01Awwf1o7"
      }
    },
    {
      "cell_type": "code",
      "source": [
        "import pandas as pd\n",
        "import numpy as np"
      ],
      "metadata": {
        "id": "tGG_ZnEkfzXQ"
      },
      "execution_count": null,
      "outputs": []
    },
    {
      "cell_type": "markdown",
      "source": [
        "## **Step 2 : 데이터 읽기 및 정보 파악하기**\n"
      ],
      "metadata": {
        "id": "m3Ro1hDEgByo"
      }
    },
    {
      "cell_type": "markdown",
      "source": [
        "#### 1) 파일 읽어 저장 후 상위5개 데이터 출력하기"
      ],
      "metadata": {
        "id": "WptGZ9blZ7JM"
      }
    },
    {
      "cell_type": "code",
      "execution_count": null,
      "metadata": {
        "id": "WOFWCN8v9k8v",
        "outputId": "84ae0288-9dfa-4e24-9edb-b41c7761e3eb"
      },
      "outputs": [
        {
          "data": {
            "text/html": [
              "<div>\n",
              "<style scoped>\n",
              "    .dataframe tbody tr th:only-of-type {\n",
              "        vertical-align: middle;\n",
              "    }\n",
              "\n",
              "    .dataframe tbody tr th {\n",
              "        vertical-align: top;\n",
              "    }\n",
              "\n",
              "    .dataframe thead th {\n",
              "        text-align: right;\n",
              "    }\n",
              "</style>\n",
              "<table border=\"1\" class=\"dataframe\">\n",
              "  <thead>\n",
              "    <tr style=\"text-align: right;\">\n",
              "      <th></th>\n",
              "      <th>PassengerId</th>\n",
              "      <th>Survived</th>\n",
              "      <th>Pclass</th>\n",
              "      <th>Name</th>\n",
              "      <th>Sex</th>\n",
              "      <th>Age</th>\n",
              "      <th>SibSp</th>\n",
              "      <th>Parch</th>\n",
              "      <th>Ticket</th>\n",
              "      <th>Fare</th>\n",
              "      <th>Cabin</th>\n",
              "      <th>Embarked</th>\n",
              "    </tr>\n",
              "  </thead>\n",
              "  <tbody>\n",
              "    <tr>\n",
              "      <th>0</th>\n",
              "      <td>1</td>\n",
              "      <td>0</td>\n",
              "      <td>3</td>\n",
              "      <td>Braund, Mr. Owen Harris</td>\n",
              "      <td>male</td>\n",
              "      <td>22.0</td>\n",
              "      <td>1</td>\n",
              "      <td>0</td>\n",
              "      <td>A/5 21171</td>\n",
              "      <td>7.2500</td>\n",
              "      <td>NaN</td>\n",
              "      <td>S</td>\n",
              "    </tr>\n",
              "    <tr>\n",
              "      <th>1</th>\n",
              "      <td>2</td>\n",
              "      <td>1</td>\n",
              "      <td>1</td>\n",
              "      <td>Cumings, Mrs. John Bradley (Florence Briggs Th...</td>\n",
              "      <td>female</td>\n",
              "      <td>38.0</td>\n",
              "      <td>1</td>\n",
              "      <td>0</td>\n",
              "      <td>PC 17599</td>\n",
              "      <td>71.2833</td>\n",
              "      <td>C85</td>\n",
              "      <td>C</td>\n",
              "    </tr>\n",
              "    <tr>\n",
              "      <th>2</th>\n",
              "      <td>3</td>\n",
              "      <td>1</td>\n",
              "      <td>3</td>\n",
              "      <td>Heikkinen, Miss. Laina</td>\n",
              "      <td>female</td>\n",
              "      <td>26.0</td>\n",
              "      <td>0</td>\n",
              "      <td>0</td>\n",
              "      <td>STON/O2. 3101282</td>\n",
              "      <td>7.9250</td>\n",
              "      <td>NaN</td>\n",
              "      <td>S</td>\n",
              "    </tr>\n",
              "    <tr>\n",
              "      <th>3</th>\n",
              "      <td>4</td>\n",
              "      <td>1</td>\n",
              "      <td>1</td>\n",
              "      <td>Futrelle, Mrs. Jacques Heath (Lily May Peel)</td>\n",
              "      <td>female</td>\n",
              "      <td>35.0</td>\n",
              "      <td>1</td>\n",
              "      <td>0</td>\n",
              "      <td>113803</td>\n",
              "      <td>53.1000</td>\n",
              "      <td>C123</td>\n",
              "      <td>S</td>\n",
              "    </tr>\n",
              "    <tr>\n",
              "      <th>4</th>\n",
              "      <td>5</td>\n",
              "      <td>0</td>\n",
              "      <td>3</td>\n",
              "      <td>Allen, Mr. William Henry</td>\n",
              "      <td>male</td>\n",
              "      <td>35.0</td>\n",
              "      <td>0</td>\n",
              "      <td>0</td>\n",
              "      <td>373450</td>\n",
              "      <td>8.0500</td>\n",
              "      <td>NaN</td>\n",
              "      <td>S</td>\n",
              "    </tr>\n",
              "  </tbody>\n",
              "</table>\n",
              "</div>"
            ],
            "text/plain": [
              "   PassengerId  Survived  Pclass  \\\n",
              "0            1         0       3   \n",
              "1            2         1       1   \n",
              "2            3         1       3   \n",
              "3            4         1       1   \n",
              "4            5         0       3   \n",
              "\n",
              "                                                Name     Sex   Age  SibSp  \\\n",
              "0                            Braund, Mr. Owen Harris    male  22.0      1   \n",
              "1  Cumings, Mrs. John Bradley (Florence Briggs Th...  female  38.0      1   \n",
              "2                             Heikkinen, Miss. Laina  female  26.0      0   \n",
              "3       Futrelle, Mrs. Jacques Heath (Lily May Peel)  female  35.0      1   \n",
              "4                           Allen, Mr. William Henry    male  35.0      0   \n",
              "\n",
              "   Parch            Ticket     Fare Cabin Embarked  \n",
              "0      0         A/5 21171   7.2500   NaN        S  \n",
              "1      0          PC 17599  71.2833   C85        C  \n",
              "2      0  STON/O2. 3101282   7.9250   NaN        S  \n",
              "3      0            113803  53.1000  C123        S  \n",
              "4      0            373450   8.0500   NaN        S  "
            ]
          },
          "execution_count": 82,
          "metadata": {},
          "output_type": "execute_result"
        }
      ],
      "source": [
        "# 1. 판다스 read_csv()를 사용하여'titanic.csv' 데이터를 읽어옵니다.\n",
        "\n",
        "df = ...          # ...code here\n",
        "df.head()     # df.iloc[0:5,:] - iloc를 사용 :df.head()와 실행결과 동일"
      ]
    },
    {
      "cell_type": "markdown",
      "source": [
        "**데이터 설명 :**\n",
        "\n",
        "|번호  |데이터명       |내용              |\n",
        "|------|---------------|------------------|\n",
        "| 0    | PassengerId | 승객번호 |\n",
        "| 1    | Survived\t   | 생존 여부 ( 1 : 생존, 0 : 아닌 경우 )\n",
        "| 2    | Pclass\t     | 승객 등급\n",
        "| 3    | Name\t       | 승객 이름\n",
        "| 4    | Gender        | 승객 성별\n",
        "| 5    | Age         | 승객 나이\n",
        "| 6    | SibSp       | 동승한 형제 또는 배우자 수\n",
        "| 7    | Parch       | 동승한 부모 또는 자녀 수\n",
        "| 8    | Ticket\t     | 티켓 번호\n",
        "| 9    | Fare        | 승객 지불 요금\n",
        "| 10   | Cabin\t     | 선실 이름\n",
        "| 11   | Embarked    | 승선한 항구 ( C : Cherbourg, Q : Queenstown, S : Southampton )"
      ],
      "metadata": {
        "id": "dzWeGWNHgcDs"
      }
    },
    {
      "cell_type": "markdown",
      "source": [
        "#### 2) 데이터 정보 파악하기"
      ],
      "metadata": {
        "id": "Khnqui9HgicT"
      }
    },
    {
      "cell_type": "code",
      "execution_count": null,
      "metadata": {
        "id": "g6sRCzUj9k8v",
        "outputId": "4a7a8a63-628f-487b-f517-7b0fefc83b32"
      },
      "outputs": [
        {
          "name": "stdout",
          "output_type": "stream",
          "text": [
            "<class 'pandas.core.frame.DataFrame'>\n",
            "RangeIndex: 891 entries, 0 to 890\n",
            "Data columns (total 12 columns):\n",
            "PassengerId    891 non-null int64\n",
            "Survived       891 non-null int64\n",
            "Pclass         891 non-null int64\n",
            "Name           891 non-null object\n",
            "Sex            891 non-null object\n",
            "Age            714 non-null float64\n",
            "SibSp          891 non-null int64\n",
            "Parch          891 non-null int64\n",
            "Ticket         891 non-null object\n",
            "Fare           891 non-null float64\n",
            "Cabin          204 non-null object\n",
            "Embarked       889 non-null object\n",
            "dtypes: float64(2), int64(5), object(5)\n",
            "memory usage: 83.6+ KB\n"
          ]
        }
      ],
      "source": [
        "# 읽어온 데이터 정보 파악하기\n",
        "...          # ...code here"
      ]
    },
    {
      "cell_type": "markdown",
      "source": [
        "## step3 : 데이터 전처리하기"
      ],
      "metadata": {
        "id": "FjGajzFUHbdT"
      }
    },
    {
      "cell_type": "markdown",
      "metadata": {
        "id": "yLyqH4fq9k8x"
      },
      "source": [
        "## 1.데이터 정제 및 분리하기 - 결측값&이상치 처리하기"
      ]
    },
    {
      "cell_type": "markdown",
      "metadata": {
        "id": "IqwJ28cv9k8x"
      },
      "source": [
        "### 1) 결측치 처리하기"
      ]
    },
    {
      "cell_type": "code",
      "execution_count": null,
      "metadata": {
        "id": "J94_ADqk9k8x",
        "outputId": "c5745c9e-059d-4591-9c00-dc9c3ad8b7f3"
      },
      "outputs": [
        {
          "data": {
            "text/plain": [
              "PassengerId      0\n",
              "Survived         0\n",
              "Pclass           0\n",
              "Name             0\n",
              "Sex              0\n",
              "Age            177\n",
              "SibSp            0\n",
              "Parch            0\n",
              "Ticket           0\n",
              "Fare             0\n",
              "Cabin          687\n",
              "Embarked         2\n",
              "dtype: int64"
            ]
          },
          "execution_count": 90,
          "metadata": {},
          "output_type": "execute_result"
        }
      ],
      "source": [
        "# 결측치 파악하여 갯수 구해보기 - isnull(), sum()사용\n",
        "...          # ...code here"
      ]
    },
    {
      "cell_type": "code",
      "execution_count": null,
      "metadata": {
        "id": "BD4YUDi_9k8x",
        "outputId": "dd7aa48b-30ea-4ae2-fffb-2160c9790080"
      },
      "outputs": [
        {
          "name": "stdout",
          "output_type": "stream",
          "text": [
            "<class 'pandas.core.frame.DataFrame'>\n",
            "RangeIndex: 891 entries, 0 to 890\n",
            "Data columns (total 12 columns):\n",
            "PassengerId    891 non-null int64\n",
            "Survived       891 non-null int64\n",
            "Pclass         891 non-null int64\n",
            "Name           891 non-null object\n",
            "Sex            891 non-null int64\n",
            "Age            714 non-null float64\n",
            "SibSp          891 non-null int64\n",
            "Parch          891 non-null int64\n",
            "Ticket         891 non-null object\n",
            "Fare           891 non-null float64\n",
            "Cabin          204 non-null object\n",
            "Embarked       889 non-null object\n",
            "dtypes: float64(2), int64(6), object(4)\n",
            "memory usage: 83.6+ KB\n"
          ]
        }
      ],
      "source": [
        "# 데이터 변경을 고려하여 df 를 df_1에 복사하기\n",
        "df_1 = df.copy()\n",
        "df_1.info()"
      ]
    },
    {
      "cell_type": "code",
      "execution_count": null,
      "metadata": {
        "id": "48YUXWb69k8x",
        "outputId": "eed1f973-3ada-4096-96fe-a4b0311293e0"
      },
      "outputs": [
        {
          "name": "stdout",
          "output_type": "stream",
          "text": [
            "<class 'pandas.core.frame.DataFrame'>\n",
            "RangeIndex: 891 entries, 0 to 890\n",
            "Data columns (total 11 columns):\n",
            "PassengerId    891 non-null int64\n",
            "Survived       891 non-null int64\n",
            "Pclass         891 non-null int64\n",
            "Name           891 non-null object\n",
            "Sex            891 non-null int64\n",
            "Age            714 non-null float64\n",
            "SibSp          891 non-null int64\n",
            "Parch          891 non-null int64\n",
            "Ticket         891 non-null object\n",
            "Fare           891 non-null float64\n",
            "Embarked       889 non-null object\n",
            "dtypes: float64(2), int64(6), object(3)\n",
            "memory usage: 76.6+ KB\n"
          ]
        }
      ],
      "source": [
        "# 결측치가 너무 많은  Cabin 변수를 제거합니다.- drop() 사용\n",
        "df_1 = ...          # ...core here\n",
        "df_1.info()"
      ]
    },
    {
      "cell_type": "code",
      "execution_count": null,
      "metadata": {
        "id": "6nX2iBYJ9k8x",
        "outputId": "57bd4e9c-21bf-4ce9-d4fe-6b055f265545"
      },
      "outputs": [
        {
          "data": {
            "text/plain": [
              "PassengerId      0\n",
              "Survived         0\n",
              "Pclass           0\n",
              "Name             0\n",
              "Sex              0\n",
              "Age            177\n",
              "SibSp            0\n",
              "Parch            0\n",
              "Ticket           0\n",
              "Fare             0\n",
              "Embarked         2\n",
              "dtype: int64"
            ]
          },
          "execution_count": 102,
          "metadata": {},
          "output_type": "execute_result"
        }
      ],
      "source": [
        "# 결측치 다시 한 번 확인하기\n",
        "df_1.isnull().sum()"
      ]
    },
    {
      "cell_type": "code",
      "source": [
        "# 가장 빈도가 높은 값으로 채우기\n",
        "df_1['Embarked'].fillna(df_1['Embarked'].mode()[0], inplace=True)"
      ],
      "metadata": {
        "id": "2WAhIKg7hgpC"
      },
      "execution_count": null,
      "outputs": []
    },
    {
      "cell_type": "code",
      "execution_count": null,
      "metadata": {
        "id": "8mdhPJG19k8x",
        "outputId": "7da6d61b-b1f1-4aab-fbaa-920c0c72c157"
      },
      "outputs": [
        {
          "data": {
            "text/plain": [
              "PassengerId    0\n",
              "Survived       0\n",
              "Pclass         0\n",
              "Name           0\n",
              "Sex            0\n",
              "Age            0\n",
              "SibSp          0\n",
              "Parch          0\n",
              "Ticket         0\n",
              "Fare           0\n",
              "Embarked       0\n",
              "dtype: int64"
            ]
          },
          "execution_count": 103,
          "metadata": {},
          "output_type": "execute_result"
        }
      ],
      "source": [
        "# 결측값이 존재하는 샘플 제거하고 null이 있는지 확인하고 그 합계 구하기 -isnull(),sum()\n",
        "...          # ...core here\n",
        "df_1.isnull().sum()"
      ]
    },
    {
      "cell_type": "code",
      "execution_count": null,
      "metadata": {
        "id": "hkoM35CY9k8y",
        "outputId": "130ebae1-e6b2-461f-c305-6094176d896a"
      },
      "outputs": [
        {
          "name": "stdout",
          "output_type": "stream",
          "text": [
            "<class 'pandas.core.frame.DataFrame'>\n",
            "Int64Index: 712 entries, 0 to 890\n",
            "Data columns (total 8 columns):\n",
            "Survived    712 non-null int64\n",
            "Pclass      712 non-null int64\n",
            "Sex         712 non-null int64\n",
            "Age         712 non-null float64\n",
            "SibSp       712 non-null int64\n",
            "Parch       712 non-null int64\n",
            "Fare        712 non-null float64\n",
            "Embarked    712 non-null object\n",
            "dtypes: float64(2), int64(5), object(1)\n",
            "memory usage: 50.1+ KB\n"
          ]
        }
      ],
      "source": [
        "df_1.info()"
      ]
    },
    {
      "cell_type": "markdown",
      "metadata": {
        "id": "5m4KW2tr9k8y"
      },
      "source": [
        "### 2)이상치 확인하기"
      ]
    },
    {
      "cell_type": "code",
      "execution_count": null,
      "metadata": {
        "id": "ngG_ofZj9k8y",
        "outputId": "1be069a6-b78b-4b8f-ac9c-46775195ff5a"
      },
      "outputs": [
        {
          "data": {
            "text/plain": [
              "0      22.0\n",
              "1      38.0\n",
              "2      26.0\n",
              "3      35.0\n",
              "4      35.0\n",
              "6      54.0\n",
              "7       2.0\n",
              "8      27.0\n",
              "9      14.0\n",
              "10      4.0\n",
              "11     58.0\n",
              "12     20.0\n",
              "13     39.0\n",
              "14     14.0\n",
              "15     55.0\n",
              "16      2.0\n",
              "18     31.0\n",
              "20     35.0\n",
              "21     34.0\n",
              "22     15.0\n",
              "23     28.0\n",
              "24      8.0\n",
              "25     38.0\n",
              "27     19.0\n",
              "30     40.0\n",
              "33     66.0\n",
              "34     28.0\n",
              "35     42.0\n",
              "37     21.0\n",
              "38     18.0\n",
              "       ... \n",
              "856    45.0\n",
              "857    51.0\n",
              "858    24.0\n",
              "860    41.0\n",
              "861    21.0\n",
              "862    48.0\n",
              "864    24.0\n",
              "865    42.0\n",
              "866    27.0\n",
              "867    31.0\n",
              "869     4.0\n",
              "870    26.0\n",
              "871    47.0\n",
              "872    33.0\n",
              "873    47.0\n",
              "874    28.0\n",
              "875    15.0\n",
              "876    20.0\n",
              "877    19.0\n",
              "879    56.0\n",
              "880    25.0\n",
              "881    33.0\n",
              "882    22.0\n",
              "883    28.0\n",
              "884    25.0\n",
              "885    39.0\n",
              "886    27.0\n",
              "887    19.0\n",
              "889    26.0\n",
              "890    32.0\n",
              "Name: Age, Length: 712, dtype: float64"
            ]
          },
          "execution_count": 104,
          "metadata": {},
          "output_type": "execute_result"
        }
      ],
      "source": [
        "# 'Age' 이상치 확인\n",
        "df_1['Age']"
      ]
    },
    {
      "cell_type": "code",
      "execution_count": null,
      "metadata": {
        "id": "we4juvD99k8y",
        "outputId": "7de5fa53-1f74-444e-bc2a-ed87166fbc34"
      },
      "outputs": [
        {
          "name": "stdout",
          "output_type": "stream",
          "text": [
            "소수점을 갖는 Age 변수 이상치\n",
            "57     28.50\n",
            "78      0.83\n",
            "111    14.50\n",
            "116    70.50\n",
            "122    32.50\n",
            "123    32.50\n",
            "148    36.50\n",
            "152    55.50\n",
            "153    40.50\n",
            "203    45.50\n",
            "227    20.50\n",
            "296    23.50\n",
            "305     0.92\n",
            "331    45.50\n",
            "469     0.75\n",
            "525    40.50\n",
            "644     0.75\n",
            "676    24.50\n",
            "735    28.50\n",
            "755     0.67\n",
            "767    30.50\n",
            "803     0.42\n",
            "814    30.50\n",
            "831     0.83\n",
            "843    34.50\n",
            "Name: Age, dtype: float64\n",
            "이상치 처리 전 샘플 개수: 712\n",
            "이상치 개수: 25\n",
            "이상치 처리 후 샘플 개수: 687\n"
          ]
        },
        {
          "data": {
            "text/plain": [
              "0    22.0\n",
              "1    38.0\n",
              "2    26.0\n",
              "3    35.0\n",
              "4    35.0\n",
              "Name: Age, dtype: float64"
            ]
          },
          "execution_count": 107,
          "metadata": {},
          "output_type": "execute_result"
        }
      ],
      "source": [
        "# (Age 값 - 내림 Age 값) 0 보다 크다면 소수점을 갖는 데이터로 분류합니다.\n",
        "outlier = df_1[df_1['Age']-np.floor(df_1['Age']) > 0 ]['Age']\n",
        "\n",
        "print('소수점을 갖는 Age 변수 이상치')\n",
        "print(outlier)\n",
        "print('이상치 처리 전 샘플 개수: %d' %(len(df_1)))\n",
        "print('이상치 개수: %d' %(len(outlier)))\n",
        "\n",
        "# 이상치를 처리합니다.\n",
        "df_2 = df_1[df_1['Age']-np.floor(df_1['Age']) == 0 ]\n",
        "print('이상치 처리 후 샘플 개수: %d' %(len(df_2)))\n",
        "df_2 = np.floor(df_2['Age'])\n",
        "df_2.head()"
      ]
    },
    {
      "cell_type": "code",
      "source": [
        "df_1['Age'].plot.box()"
      ],
      "metadata": {
        "id": "oNv6g7KPFXQ9"
      },
      "execution_count": null,
      "outputs": []
    },
    {
      "cell_type": "code",
      "source": [
        "#*IQR(Interquartile Range)을 사용하여 이상치를 제거\n",
        "# Q1 = df_2['Age'].quantile(0.25)\n",
        "# Q3 = df_2['Age'].quantile(0.75)\n",
        "# IQR = Q3 - Q1\n",
        "# df_3 = df_2[(df_2['Age'] >= Q1 - 1.5 * IQR) & (df_2['Age'] <= Q3 + 1.5 * IQR)]"
      ],
      "metadata": {
        "id": "W6po8FalcNGn"
      },
      "execution_count": null,
      "outputs": []
    },
    {
      "cell_type": "markdown",
      "metadata": {
        "id": "TACNjpdn9k8v"
      },
      "source": [
        "## 2.텍스트 데이터 숫자 데이터로 변환하기"
      ]
    },
    {
      "cell_type": "markdown",
      "metadata": {
        "id": "hMYop5gc9k8w"
      },
      "source": [
        "### 1) replace() 사용하여 데이터 값을 바꾸기"
      ]
    },
    {
      "cell_type": "code",
      "execution_count": null,
      "metadata": {
        "id": "qCyGJAGQ9k8w",
        "outputId": "c5d0fcfb-6b18-426e-8d21-eb679526f4b6"
      },
      "outputs": [
        {
          "name": "stdout",
          "output_type": "stream",
          "text": [
            "변환 전: \n",
            " 0      male\n",
            "1    female\n",
            "2    female\n",
            "3    female\n",
            "4      male\n",
            "Name: Sex, dtype: object\n"
          ]
        },
        {
          "data": {
            "text/plain": [
              "male      577\n",
              "female    314\n",
              "Name: Sex, dtype: int64"
            ]
          },
          "execution_count": 84,
          "metadata": {},
          "output_type": "execute_result"
        }
      ],
      "source": [
        "# 'Sex' 컬럼 상위 5개 불러오고 컬럼 카테고리 파악하기\n",
        "print('변환 전: \\n',df['Sex'].head())\n",
        "df['Sex'].value_counts()"
      ]
    },
    {
      "cell_type": "code",
      "execution_count": null,
      "metadata": {
        "id": "mzcRimBw9k8w",
        "outputId": "ece5001b-e224-49ff-e082-51516e9c44e7"
      },
      "outputs": [
        {
          "name": "stdout",
          "output_type": "stream",
          "text": [
            "\n",
            "변환 후: \n",
            " 0    0\n",
            "1    1\n",
            "2    1\n",
            "3    1\n",
            "4    0\n",
            "Name: Sex, dtype: int64\n"
          ]
        }
      ],
      "source": [
        "# replace()를 사용하여 male -> 1, female -> 0로 변환합니다.\n",
        "df = ...          # ...core here\n",
        "\n",
        "# 변환한 성별 데이터를 출력합니다.\n",
        "print('\\n변환 후: \\n',df['Sex'].head())"
      ]
    },
    {
      "cell_type": "markdown",
      "metadata": {
        "id": "CcwEPErR9k8w"
      },
      "source": [
        "### 2) get_dummies() 사용하여 원핫인코딩하기"
      ]
    },
    {
      "cell_type": "code",
      "execution_count": null,
      "metadata": {
        "id": "vvxg-OvE9k8w",
        "outputId": "c00a84f3-2479-47c3-9ef9-30a1f8de6732"
      },
      "outputs": [
        {
          "name": "stdout",
          "output_type": "stream",
          "text": [
            "변환 전: \n",
            " 0    S\n",
            "1    C\n",
            "2    S\n",
            "3    S\n",
            "4    S\n",
            "Name: Embarked, dtype: object\n"
          ]
        },
        {
          "data": {
            "text/plain": [
              "S    644\n",
              "C    168\n",
              "Q     77\n",
              "Name: Embarked, dtype: int64"
            ]
          },
          "execution_count": 86,
          "metadata": {},
          "output_type": "execute_result"
        }
      ],
      "source": [
        "# 'Embarked' 컬럼 상위 5개 불러오고 컬럼 카테고리 파악하기\n",
        "print('변환 전: \\n',df['Embarked'].head())\n",
        "df['Embarked'].value_counts()"
      ]
    },
    {
      "cell_type": "code",
      "execution_count": null,
      "metadata": {
        "id": "y35QyO6B9k8w",
        "outputId": "c67fbf39-47f6-4abe-df06-796cffd7ffff"
      },
      "outputs": [
        {
          "name": "stdout",
          "output_type": "stream",
          "text": [
            "\n",
            "변환 후: \n",
            "    Embarked_C  Embarked_Q  Embarked_S\n",
            "0           0           0           1\n",
            "1           1           0           0\n",
            "2           0           0           1\n",
            "3           0           0           1\n",
            "4           0           0           1\n"
          ]
        }
      ],
      "source": [
        "# get_dummies()를 사용하여  'Embarked' 컬럼 변환합니다.\n",
        "dummies = ...          # ...core here\n",
        "\n",
        "# 변환한 Embarked 데이터를 출력합니다.\n",
        "print('\\n변환 후: \\n',dummies.head())"
      ]
    },
    {
      "cell_type": "markdown",
      "metadata": {
        "id": "lcg_-cE99k8w"
      },
      "source": [
        "## 3.숫자 데이터를 정규화, 표준화시키기\n",
        "데이터의 컬럼 별 단위 또는 범위를 통일시켜주기 위해서임.\n",
        "컬럼별로 뭐 시간, km, kg 등 다양한 단위를 가지는데 이러면 직접적인 비교가 불가능하다.  \n",
        "\n",
        "머신러닝에 사용되는 데이터는 그 값이 너무 크거나 작지 않고 적당한 범위 (-1에서 ~ 1사이)에 있어야 모델의 정확도가 높아진다고 알려져있다\n",
        "\n",
        "머신러닝에서 정규화 또는 표준화 중 무엇을 해야하는지는 2개를 비교해보고 결정해야한다.\n",
        "\n",
        "어느 모델에선 정규화를 한 데이터가 값이 더 높을 수도 있고 표준화를 한 데이터가 값이 더 높을 수가 있기 때문에  둘 다 비교해 보는 것을 추천한다."
      ]
    },
    {
      "cell_type": "markdown",
      "metadata": {
        "id": "dtUpe8o29k8x"
      },
      "source": [
        "### 1) 정규화(Normalization)\n",
        "\n",
        "- 데이터를 특정 구간으로 바꾸는 척도법이다. 즉 값의 범위를 0~1사이로 옮겨준다.  (ex. 0~1 or 0~100).\n",
        "- 식 : (측정값 - 최소값) / (최대값 - 최소값)\n",
        "- 모든 데이터의 단위가 모두 0~1사이로 옮겨지게 해주는 것이다.\n",
        "- 이러면 데이터의 컬럼들이 평등하게 0~1사이로 놓여지기 때문에 기계가 학습하기에 어느 컬럼에 중점을 두고 학습하기보단 평등하게 컬럼들을 보고 학습시킨다."
      ]
    },
    {
      "cell_type": "code",
      "execution_count": null,
      "metadata": {
        "id": "-q6s4hCs9k8x",
        "outputId": "add5c359-eaab-4c4b-dfa1-e0cb303eff75"
      },
      "outputs": [
        {
          "name": "stdout",
          "output_type": "stream",
          "text": [
            "변환 전: \n",
            " 0     7.2500\n",
            "1    71.2833\n",
            "2     7.9250\n",
            "3    53.1000\n",
            "4     8.0500\n",
            "Name: Fare, dtype: float64\n",
            "\n",
            "변환 후: \n",
            " 0    0.014151\n",
            "1    0.139136\n",
            "2    0.015469\n",
            "3    0.103644\n",
            "4    0.015713\n",
            "Name: Fare, dtype: float64\n"
          ]
        }
      ],
      "source": [
        "# 1) 정규화를 수행하는 함수를 구현합니다.\n",
        "def normal(data):\n",
        "    data =(data- data.min()) / (data.max()- data.min())\n",
        "    return data\n",
        "\n",
        "print('변환 전: \\n',df['Fare'].head())\n",
        "\n",
        "# normal 함수를 사용하여 정규화합니다.\n",
        "Fare = normal(df['Fare'])\n",
        "\n",
        "# 변환한 Fare 데이터를 출력합니다.\n",
        "print('\\n변환 후: \\n',Fare.head())"
      ]
    },
    {
      "cell_type": "markdown",
      "metadata": {
        "id": "GLTqCbam9k8x"
      },
      "source": [
        "### 2)표준화(Standardization)\n",
        "\n",
        "- 데이터를 0을 중심으로 양쪽으로 데이터를 분포시키는 방법이다. 표준화를 하게 되면 각 데이터들은 평균을 기준으로 얼마나 떨여져 있는지를 나타내는 값으로 변환된다.\n",
        "- 식 (Z-score 표준화) : (측정값 - 평균) / 표준편차\n",
        "- 변환된 데이터는 다소 평평하게 만드는 특성을 가진다 (진폭의 감소). 진폭의 감소로 각 데이터의 간격이 감소하게 된다 (ex. 10000의 단위에서 0.1 단위로 감소).\n",
        "\n",
        "- 표준화는 먼저 데이터가 정규분포를 따른다는 가정하에 실시된다.(정규분포는 종모양 분포임)\n",
        "\n",
        "- 정규분포를 따른다는 가정하에 데이터를 평균은 0, 표준편차는 1이 되도록 만들어준다. 그렇기에 변한 값이 0~1사이로 바뀌지는 않는다. 하지만 평균은 0이니깐 0의 근처로 많이 잡힐 것이다."
      ]
    },
    {
      "cell_type": "code",
      "source": [
        "# 2) 표준화를 수행하는 함수를 구현합니다.\n",
        "def standard(data):\n",
        "    data = (data - data.mean()) / data.std()\n",
        "    return data\n",
        "\n",
        "print('변환 전: \\n',df['Fare'].head())\n",
        "\n",
        "# standard 함수를 사용하여 표준화합니다.\n",
        "Fare = standard(df['Fare'])\n",
        "\n",
        "# 변환한 Fare 데이터를 출력합니다.\n",
        "print('\\n변환 후: \\n',Fare.head())"
      ],
      "metadata": {
        "id": "cg8EXZts-hL5"
      },
      "execution_count": null,
      "outputs": []
    },
    {
      "cell_type": "code",
      "source": [
        "# sklearn 라이브러리를 사용한 표준화 적용\n",
        "from sklearn.preprocessing import StandardScaler\n",
        "\n",
        "def standard(column):\n",
        "    scaler = StandardScaler()\n",
        "    return scaler.fit_transform(column.values.reshape(-1, 1)).flatten()"
      ],
      "metadata": {
        "id": "WtlDMj7FhI-B"
      },
      "execution_count": null,
      "outputs": []
    },
    {
      "cell_type": "markdown",
      "source": [
        "## 통합 코드"
      ],
      "metadata": {
        "id": "LrdVpuUVjFrM"
      }
    },
    {
      "cell_type": "code",
      "execution_count": null,
      "metadata": {
        "id": "NJHjeYbl9k8y"
      },
      "outputs": [],
      "source": [
        "import pandas as pd\n",
        "import numpy as np\n",
        "from sklearn.preprocessing import StandardScaler\n",
        "\n",
        "# 1. 데이터 로드\n",
        "df = pd.read_csv('titanic.csv')\n",
        "\n",
        "# 2. 불필요한 열 제거\n",
        "df_1 = df.drop(columns=['Cabin', 'PassengerId', 'Name', 'Ticket'])\n",
        "\n",
        "# 3. 결측값 처리\n",
        "df_1['Embarked'] = df_1['Embarked'].fillna(df_1['Embarked'].mode()[0])\n",
        "df_2 = df_1.dropna()\n",
        "\n",
        "# 4. 이상치 처리 (IQR 사용)\n",
        "Q1 = df_2['Age'].quantile(0.25)\n",
        "Q3 = df_2['Age'].quantile(0.75)\n",
        "IQR = Q3 - Q1\n",
        "df_3 = df_2[(df_2['Age'] >= Q1 - 1.5 * IQR) & (df_2['Age'] <= Q3 + 1.5 * IQR)]\n",
        "\n",
        "# 5. 텍스트 데이터를 숫자로 변환 (원핫 인코딩 사용)\n",
        "df_4 = pd.get_dummies(df_3, columns=['Sex', 'Embarked'], drop_first=True, dtype='int')\n",
        "\n",
        "# 6. 데이터 정규화\n",
        "scaler = StandardScaler()\n",
        "df_4['Fare'] = scaler.fit_transform(df_4[['Fare']])\n",
        "df_4['Age'] = scaler.fit_transform(df_4[['Age']])\n",
        "\n",
        "# 최종 데이터 확인\n",
        "df_4.head()"
      ]
    },
    {
      "cell_type": "markdown",
      "source": [
        "## 전처리된 파일 내보내기"
      ],
      "metadata": {
        "id": "3LXxJ9QxaaSd"
      }
    },
    {
      "cell_type": "code",
      "execution_count": null,
      "metadata": {
        "id": "Ht6_OfHQ9k8y"
      },
      "outputs": [],
      "source": [
        "# index=False 주어야 기존 인덱스 값이 저장되지 않음\n",
        "df_4.to_csv('./titanic_save.csv', index=False)"
      ]
    },
    {
      "cell_type": "markdown",
      "source": [
        "\n",
        "## **기계학습 구현 준비**\n",
        "1. 특성 및 타겟 항목 지정\n",
        "2. 학습용/테스트용 데이터셋 분리하기\n"
      ],
      "metadata": {
        "id": "u26OK_lNaYhU"
      }
    },
    {
      "cell_type": "code",
      "execution_count": null,
      "metadata": {
        "id": "lUI3b_IY9k8y"
      },
      "outputs": [],
      "source": [
        "# 2. feature 데이터와 label 데이터를 분리하기\n",
        "\n",
        "X = df_4.drop(columns=['Survived'])\n",
        "y = df_4['Survived']\n",
        "print(f'X 데이터 Shape: {X.shape}')\n",
        "print(f'y 데이터 Shape: {y.shape}')"
      ]
    },
    {
      "cell_type": "code",
      "execution_count": null,
      "metadata": {
        "id": "pSZjvGU69k8y",
        "outputId": "60137fef-7867-4289-85c4-ff69c0573cde"
      },
      "outputs": [
        {
          "name": "stdout",
          "output_type": "stream",
          "text": [
            "학습용 데이터 개수: 480\n",
            "평가용 데이터 개수: 207\n"
          ]
        }
      ],
      "source": [
        "# 3. 학습용, 평가용 데이터셋으로 분리하기\n",
        "from sklearn.model_selection import train_test_split\n",
        "X_train, X_test, y_train, y_test = train_test_split(X, y, test_size=0.3, random_state=42)\n",
        "\n",
        "# 분리한 데이터의 개수를 출력합니다.\n",
        "print('학습용 데이터 개수: %d' %(len(X_train)))\n",
        "print('평가용 데이터 개수: %d' %(len(X_test)))"
      ]
    }
  ],
  "metadata": {
    "kernelspec": {
      "display_name": "Python 3",
      "language": "python",
      "name": "python3"
    },
    "language_info": {
      "codemirror_mode": {
        "name": "ipython",
        "version": 3
      },
      "file_extension": ".py",
      "mimetype": "text/x-python",
      "name": "python",
      "nbconvert_exporter": "python",
      "pygments_lexer": "ipython3",
      "version": "3.6.4"
    },
    "colab": {
      "provenance": []
    }
  },
  "nbformat": 4,
  "nbformat_minor": 0
}