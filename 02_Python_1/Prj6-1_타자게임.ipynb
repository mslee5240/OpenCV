{
 "cells": [
  {
   "cell_type": "markdown",
   "metadata": {
    "id": "E1WkyDEYpRa0"
   },
   "source": [
    "# 타자 연습 게임\n",
    "1.단어 로드\n",
    "- word.txt 파일에서 단어를 읽어와 리스트에 저장\n",
    "\n",
    "2.게임 준비\n",
    "- 사용자가 Enter 키를 누르면 게임이 시작됨\n",
    "\n",
    "3.게임 진행\n",
    "- 랜덤으로 단어를 선택하여 출력하고, 사용자는 해당 단어를 입력함\n",
    "- 5번의 문제를 출제하며, 정답 여부를 확인합니다.\n",
    "- 옵션 : 재미효과를 위해 맞으면 'data/good.mp3' 틀리면 'data/bad.mp3' 가 동작되게 한다.\n",
    "\n",
    "4.게임 종료:\n",
    "- 사용자의 정답 개수를 기준으로 합격 또는 불합격을 판단합니다.\n",
    "- 총 소요 시간과 정답 개수를 출력합니다."
   ]
  },
  {
   "cell_type": "code",
   "execution_count": null,
   "metadata": {
    "id": "WlH-_YwRyjSq"
   },
   "outputs": [],
   "source": [
    "# 수업에 사용할 데이터 관련 압축 파일 다운로드 후 압축 해제하기\n",
    "# 'files.zip'\n",
    "# !gdown 1EBvFg9yiGIUJNC3FeHqBQxKGNzt8HU6E\n",
    "# !unzip -qq files.zip"
   ]
  },
  {
   "cell_type": "code",
   "execution_count": 2,
   "metadata": {},
   "outputs": [
    {
     "name": "stdout",
     "output_type": "stream",
     "text": [
      "단어 리스트 로드 완료. 단어 개수: 9859\n",
      "\n",
      "* Question # 1\n",
      "soonest\n",
      "Pass!\n",
      "\n",
      "* Question # 2\n",
      "dodge\n",
      "Pass!\n",
      "\n",
      "* Question # 3\n",
      "montreal\n",
      "Pass!\n",
      "\n",
      "* Question # 4\n",
      "chain\n",
      "Pass!\n",
      "\n",
      "* Question # 5\n",
      "reporter\n",
      "Wrong!\n",
      "\n",
      "결과: 합격\n",
      "게임 시간: 10.881 초, 정답 개수: 4\n"
     ]
    }
   ],
   "source": [
    "import random\n",
    "import time\n",
    "\n",
    "# 1. 영어 단어 리스트 생성\n",
    "words = []  # 단어를 저장할 리스트\n",
    "\n",
    "# 2. 텍스트 파일에서 단어 로드\n",
    "with open('files/word.txt', 'r') as f:\n",
    "    for c in f:\n",
    "        words.append(c.strip())  # 각 단어의 공백 제거 후 리스트에 추가\n",
    "\n",
    "# 3. 게임 준비\n",
    "print(\"단어 리스트 로드 완료. 단어 개수:\", len(words))  # 단어 리스트 확인\n",
    "input(\"Ready? Press Enter Key!\")  # Enter 키 입력 시 게임 시작\n",
    "\n",
    "# 4. 게임 초기화\n",
    "n = 1  # 시도 횟수\n",
    "cor_cnt = 0  # 정답 개수\n",
    "start = time.time()  # 게임 시작 시간 기록\n",
    "\n",
    "# 5. 게임 실행 (5회 반복)\n",
    "while n <= 5:\n",
    "    random.shuffle(words)  # 단어 리스트 섞기\n",
    "    q = random.choice(words)  # 랜덤으로 단어 하나 선택\n",
    "    print(f\"\\n* Question # {n}\")\n",
    "    print(q)  # 문제 출력\n",
    "\n",
    "    x = input(\"타이핑: \")  # 사용자 입력\n",
    "\n",
    "    if q.strip() == x.strip():  # 정답 비교 (공백 제거)\n",
    "        print(\"Pass!\")\n",
    "        cor_cnt += 1  # 정답일 경우 카운트 증가\n",
    "    else:\n",
    "        print(\"Wrong!\")\n",
    "\n",
    "    n += 1  # 다음 문제로 이동\n",
    "\n",
    "# 6. 게임 종료\n",
    "end = time.time()  # 게임 종료 시간 기록\n",
    "et = end - start  # 총 소요 시간 계산\n",
    "et = format(et, \".3f\")  # 소수점 셋째 자리까지 출력\n",
    "\n",
    "# 7. 결과 출력\n",
    "if cor_cnt >= 3:  # 정답이 3개 이상일 경우 합격\n",
    "    print(\"\\n결과: 합격\")\n",
    "else:\n",
    "    print(\"\\n결과: 불합격\")\n",
    "\n",
    "# 8. 통계 출력\n",
    "print(f\"게임 시간: {et} 초, 정답 개수: {cor_cnt}\")\n"
   ]
  },
  {
   "cell_type": "code",
   "execution_count": null,
   "metadata": {},
   "outputs": [
    {
     "name": "stdout",
     "output_type": "stream",
     "text": [
      "단어 리스트 로드 완료. 단어 개수: 9859\n"
     ]
    },
    {
     "name": "stdout",
     "output_type": "stream",
     "text": [
      "Ready? Press Enter Key! \n"
     ]
    },
    {
     "name": "stdout",
     "output_type": "stream",
     "text": [
      "\n",
      "* Question # 1\n",
      "cable\n"
     ]
    },
    {
     "name": "stdout",
     "output_type": "stream",
     "text": [
      "타이핑:  cable\n"
     ]
    },
    {
     "name": "stdout",
     "output_type": "stream",
     "text": [
      "Pass!\n",
      "\n",
      "* Question # 2\n",
      "rack\n"
     ]
    },
    {
     "name": "stdout",
     "output_type": "stream",
     "text": [
      "타이핑:  rack\n"
     ]
    },
    {
     "name": "stdout",
     "output_type": "stream",
     "text": [
      "Pass!\n",
      "\n",
      "* Question # 3\n",
      "specializing\n"
     ]
    },
    {
     "name": "stdout",
     "output_type": "stream",
     "text": [
      "타이핑:  spe\n"
     ]
    },
    {
     "name": "stdout",
     "output_type": "stream",
     "text": [
      "Wrong!\n",
      "\n",
      "* Question # 4\n",
      "mini\n"
     ]
    },
    {
     "name": "stdout",
     "output_type": "stream",
     "text": [
      "타이핑:  mini\n"
     ]
    },
    {
     "name": "stdout",
     "output_type": "stream",
     "text": [
      "Pass!\n",
      "\n",
      "* Question # 5\n",
      "suggestions\n"
     ]
    },
    {
     "name": "stdout",
     "output_type": "stream",
     "text": [
      "타이핑:  sugg\n"
     ]
    },
    {
     "name": "stdout",
     "output_type": "stream",
     "text": [
      "Wrong!\n",
      "\n",
      "결과: 합격\n",
      "게임 시간: 19.857 초, 정답 개수: 3\n"
     ]
    }
   ],
   "source": [
    "import random\n",
    "import time\n",
    "\n",
    "# 1. 영어 단어 리스트 생성\n",
    "...   # ... 단어를 저장할 리스트\n",
    "\n",
    "# 2. 텍스트 파일에서 단어 로드\n",
    "with open('files/word.txt', 'r') as f:\n",
    "    for c in f:\n",
    "        ...      # ...각 단어의 공백 제거 후 리스트에 추가\n",
    "\n",
    "# 3. 게임 준비\n",
    "print(\"단어 리스트 로드 완료. 단어 개수:\", len(words))  # 단어 리스트 확인\n",
    "input(\"Ready? Press Enter Key!\")  # Enter 키 입력 시 게임 시작\n",
    "\n",
    "# 4. 게임 초기화\n",
    "n = 1  # 시도 횟수\n",
    "cor_cnt = 0  # 정답 개수\n",
    "start = time.time()  # 게임 시작 시간 기록\n",
    "\n",
    "# 5. 게임 실행 (5회 반복)\n",
    "while n <= 5:\n",
    "    ...       # ...단어 리스트 섞기\n",
    "    q = ...  # ...랜덤으로 단어 하나 선택\n",
    "    print(f\"\\n* Question # {n}\")\n",
    "    print(q)  # 문제 출력\n",
    "\n",
    "    x = input(\"타이핑: \")  # 사용자 입력\n",
    "\n",
    "    if ... == ...:  # ... 정답 비교 (공백 제거)\n",
    "        print(\"Pass!\")\n",
    "        cor_cnt += 1  # 정답일 경우 카운트 증가\n",
    "    else:\n",
    "        print(\"Wrong!\")\n",
    "\n",
    "    n += 1  # 다음 문제로 이동\n",
    "\n",
    "# 6. 게임 종료\n",
    "end = time.time()  # 게임 종료 시간 기록\n",
    "et = ...   # ...총 소요 시간 계산\n",
    "et = format(et, \".3f\")  # 소수점 셋째 자리까지 출력\n",
    "\n",
    "# 7. 결과 출력\n",
    "if cor_cnt >= 3:  # 정답이 3개 이상일 경우 합격\n",
    "    print(\"\\n결과: 합격\")\n",
    "else:\n",
    "    print(\"\\n결과: 불합격\")\n",
    "\n",
    "# 8. 통계 출력\n",
    "print(f\"게임 시간: {...} 초, 정답 개수: {...}\")"
   ]
  }
 ],
 "metadata": {
  "colab": {
   "authorship_tag": "ABX9TyOab6P4aK3PmWrn6RkWhiY7",
   "private_outputs": true,
   "provenance": []
  },
  "kernelspec": {
   "display_name": "envtest",
   "language": "python",
   "name": "python3"
  },
  "language_info": {
   "codemirror_mode": {
    "name": "ipython",
    "version": 3
   },
   "file_extension": ".py",
   "mimetype": "text/x-python",
   "name": "python",
   "nbconvert_exporter": "python",
   "pygments_lexer": "ipython3",
   "version": "3.10.16"
  }
 },
 "nbformat": 4,
 "nbformat_minor": 4
}
