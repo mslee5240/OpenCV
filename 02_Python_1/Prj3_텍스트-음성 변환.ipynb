{
 "cells": [
  {
   "cell_type": "markdown",
   "metadata": {
    "id": "O6YFkL1pOuWD"
   },
   "source": [
    "# **음성변환 프로그램**"
   ]
  },
  {
   "cell_type": "markdown",
   "metadata": {
    "id": "4QzCQS3xRPRk"
   },
   "source": [
    "## **1.gtts 모듈 설치**"
   ]
  },
  {
   "cell_type": "code",
   "execution_count": null,
   "metadata": {
    "id": "Q1WcKSz48BdV"
   },
   "outputs": [],
   "source": [
    "# https://gtts.readthedocs.io/en/latest/index.html\n",
    "!pip install gtts"
   ]
  },
  {
   "cell_type": "markdown",
   "metadata": {
    "id": "PFZGh-zxRVKW"
   },
   "source": [
    "## **2.필요한 패키지 가져오기**"
   ]
  },
  {
   "cell_type": "code",
   "execution_count": null,
   "metadata": {
    "id": "qWX1R2HG6ETk"
   },
   "outputs": [],
   "source": [
    "import os\n",
    "import gtts\n",
    "from gtts import gTTS\n",
    "import IPython.display"
   ]
  },
  {
   "cell_type": "code",
   "execution_count": null,
   "metadata": {
    "id": "ILSuVP9pMLqo"
   },
   "outputs": [],
   "source": [
    "help(gtts)"
   ]
  },
  {
   "cell_type": "markdown",
   "metadata": {
    "id": "Y2BfxwdtRhMp"
   },
   "source": [
    "## **3.텍스트를 음성으로 변환**"
   ]
  },
  {
   "cell_type": "markdown",
   "metadata": {
    "id": "EvaBXcLIRdHw"
   },
   "source": [
    "- 지원 언어 확인하기"
   ]
  },
  {
   "cell_type": "code",
   "execution_count": null,
   "metadata": {
    "id": "y0ZcygwNRfEB"
   },
   "outputs": [],
   "source": [
    "print(gtts.lang.tts_langs())"
   ]
  },
  {
   "cell_type": "markdown",
   "metadata": {
    "id": "Yx5v22Wl_3MR"
   },
   "source": [
    "- 텍스트를 음성으로 변환하기"
   ]
  },
  {
   "cell_type": "code",
   "execution_count": null,
   "metadata": {
    "id": "xlYBDBRv6Qbe"
   },
   "outputs": [],
   "source": [
    "text = \"안녕. 파이썬 수업입니다.\"\n",
    "\n",
    "tts = gTTS(text=text, lang='ko')\n",
    "tts.save(\"tts_file.mp3\")"
   ]
  },
  {
   "cell_type": "code",
   "execution_count": null,
   "metadata": {
    "id": "Jt65cJlO8-3a"
   },
   "outputs": [],
   "source": [
    "sound_file = 'tts_file.mp3'\n",
    "wn = IPython.display.Audio(sound_file, autoplay=True)\n",
    "IPython.display.display(wn)"
   ]
  },
  {
   "cell_type": "markdown",
   "metadata": {
    "id": "z0p6iafjRqwV"
   },
   "source": [
    "### **3.1 텍스트 파일 읽기**"
   ]
  },
  {
   "cell_type": "code",
   "execution_count": null,
   "metadata": {
    "id": "xO7SVuNktWla"
   },
   "outputs": [],
   "source": [
    "# 한글파일.txt 파일 공유폴더에서 다운로드하기\n",
    "# !gdown 1usB2x7TnN5fgOQItn-7JFFyhNYpkVuxq"
   ]
  },
  {
   "cell_type": "code",
   "execution_count": null,
   "metadata": {
    "id": "rZ6xlNGUR9Go"
   },
   "outputs": [],
   "source": [
    "file_path = '한글파일.txt'\n",
    "with open(file_path, 'rt', encoding='UTF8') as f :\n",
    "    read_file = f.read()\n",
    "    print(read_file)"
   ]
  },
  {
   "cell_type": "markdown",
   "metadata": {
    "id": "p4Ok-vfPSLlN"
   },
   "source": [
    "### **3.2 텍스트 파일 읽어 음성 변환**"
   ]
  },
  {
   "cell_type": "code",
   "execution_count": null,
   "metadata": {
    "id": "TiFdteE-_Q8L"
   },
   "outputs": [],
   "source": [
    "file_name = '한글파일.txt'\n",
    "with open(file_name, 'rt', encoding='UTF8') as f :\n",
    "    read_file = f.read()\n",
    "\n",
    "tts = gtts.gTTS(text=read_file, lang='ko')\n",
    "tts.save(\"myText.mp3\")\n",
    "\n",
    "wn = IPython.display.Audio('myText.mp3', autoplay=True)\n",
    "IPython.display.display(wn)"
   ]
  },
  {
   "cell_type": "markdown",
   "metadata": {
    "id": "v84V7wAUf2Kf"
   },
   "source": [
    "##**연습 문제**\n",
    "- 영어 텍스트를 영어 음성으로 변환하도록 작성하시오."
   ]
  },
  {
   "cell_type": "code",
   "execution_count": null,
   "metadata": {
    "id": "r6SmYnrqOmwu"
   },
   "outputs": [],
   "source": [
    "# '영어파일.txt' 파일 다운로드하기\n",
    "# !gdown 1ALkjh74n4SpPZbPHCpeYkhprx2YiIORU"
   ]
  },
  {
   "cell_type": "code",
   "execution_count": null,
   "metadata": {
    "id": "HGn2oKW7Qtoh"
   },
   "outputs": [],
   "source": [
    "# Code here\n",
    "\n",
    "\n",
    "\n",
    "\n",
    "\n",
    "\n",
    "\n",
    "\n"
   ]
  },
  {
   "cell_type": "markdown",
   "metadata": {
    "id": "q0ft81gSEC9q"
   },
   "source": [
    "# **텍스트 변환 프로그램 : SpeechRecognition 사용**"
   ]
  },
  {
   "cell_type": "markdown",
   "metadata": {
    "id": "SWLhvl15xqum"
   },
   "source": [
    "## 0.필요한 라이브러리 설치하기"
   ]
  },
  {
   "cell_type": "code",
   "execution_count": null,
   "metadata": {
    "id": "D6UxKE01vj7E"
   },
   "outputs": [],
   "source": [
    "!pip install SpeechRecognition pydub"
   ]
  },
  {
   "cell_type": "markdown",
   "metadata": {
    "id": "3te201rMxjoE"
   },
   "source": [
    "## 1.음성파일 생성하기"
   ]
  },
  {
   "cell_type": "code",
   "execution_count": null,
   "metadata": {
    "id": "HC52GH9ywmQP"
   },
   "outputs": [],
   "source": [
    "from gtts import gTTS\n",
    "\n",
    "tts = gTTS(text = \"안녕하세요! 음성 변환 프로그램 실습 중입니다.\", lang=\"ko\")\n",
    "tts.save('output.mp3')"
   ]
  },
  {
   "cell_type": "markdown",
   "metadata": {
    "id": "eKiAQfexxuzk"
   },
   "source": [
    "## 2.필요한 패키지 가져오기"
   ]
  },
  {
   "cell_type": "code",
   "execution_count": null,
   "metadata": {
    "id": "juKqFZ4zvj-l"
   },
   "outputs": [],
   "source": [
    "import speech_recognition as sr\n",
    "from pydub import AudioSegment"
   ]
  },
  {
   "cell_type": "markdown",
   "metadata": {
    "id": "Es21FWiAxyyC"
   },
   "source": [
    "## 3.오디오 파일 형식 변환하기"
   ]
  },
  {
   "cell_type": "code",
   "execution_count": null,
   "metadata": {
    "id": "vgmdcYdtw1wE"
   },
   "outputs": [],
   "source": [
    "# 오디오 파일을 wav 형식으로 변환 (필요한 경우)\n",
    "filename = \"output.mp3\"\n",
    "audio = AudioSegment.from_file(filename)\n",
    "audio.export(\"converted.wav\", format=\"wav\")"
   ]
  },
  {
   "cell_type": "markdown",
   "metadata": {
    "id": "9GJ092wWx4Dn"
   },
   "source": [
    "## 4.음성인식하기"
   ]
  },
  {
   "cell_type": "code",
   "execution_count": null,
   "metadata": {
    "id": "YrTzXn4Sw3Xj"
   },
   "outputs": [],
   "source": [
    "# SpeechRecognition을 사용하여 음성 인식\n",
    "r = sr.Recognizer()\n",
    "with sr.AudioFile(\"converted.wav\") as source:\n",
    "    print(\"파일에서 음성을 받아오는 중...\")\n",
    "    audio_data = r.record(source)"
   ]
  },
  {
   "cell_type": "markdown",
   "metadata": {
    "id": "WoZJ-uVcx75S"
   },
   "source": [
    "## 5.텍스트 추출하기"
   ]
  },
  {
   "cell_type": "code",
   "execution_count": null,
   "metadata": {
    "id": "u1fuVPg8w5Dt"
   },
   "outputs": [],
   "source": [
    "# 인식된 음성에서 텍스트 추출하기\n",
    "try:\n",
    "    text = r.recognize_google(audio_data, language='ko-KR')\n",
    "    print(\"인식된 텍스트:\", text)\n",
    "except sr.UnknownValueError:\n",
    "    print(\"음성을 인식할 수 없습니다.\")\n",
    "except sr.RequestError as e:\n",
    "    print(f\"음성 인식 서비스에 요청하는 동안 오류가 발생했습니다: {e}\")"
   ]
  }
 ],
 "metadata": {
  "colab": {
   "private_outputs": true,
   "provenance": [],
   "toc_visible": true
  },
  "kernelspec": {
   "display_name": "Python 3 (ipykernel)",
   "language": "python",
   "name": "python3"
  },
  "language_info": {
   "codemirror_mode": {
    "name": "ipython",
    "version": 3
   },
   "file_extension": ".py",
   "mimetype": "text/x-python",
   "name": "python",
   "nbconvert_exporter": "python",
   "pygments_lexer": "ipython3",
   "version": "3.11.7"
  }
 },
 "nbformat": 4,
 "nbformat_minor": 4
}
