{
 "cells": [
  {
   "cell_type": "markdown",
   "metadata": {
    "id": "HYNlElYxoxz2"
   },
   "source": [
    "# 단어 암기 프로그램"
   ]
  },
  {
   "cell_type": "markdown",
   "metadata": {
    "id": "o718ZsJ6o2r9"
   },
   "source": [
    "## 1.필요한 라이브러리 가져오기"
   ]
  },
  {
   "cell_type": "code",
   "execution_count": null,
   "metadata": {
    "id": "D0b_T_dPo6Bh"
   },
   "outputs": [],
   "source": [
    "# random 모듈을 import합니다.\n",
    "import random"
   ]
  },
  {
   "cell_type": "markdown",
   "metadata": {
    "id": "qAeLOgcjo747"
   },
   "source": [
    "## 2.영어 단어 사전 정의하기"
   ]
  },
  {
   "cell_type": "code",
   "execution_count": null,
   "metadata": {
    "id": "mRMm9lKVpD5e"
   },
   "outputs": [],
   "source": [
    "# 영어 단어와 뜻이 들어있는 dictionary를 만듭니다.\n",
    "dictionary = {\n",
    "    \"apple\": \"사과\",\n",
    "    \"banana\": \"바나나\",\n",
    "    \"carrot\": \"당근\",\n",
    "    \"dog\": \"개\",\n",
    "    \"elephant\": \"코끼리\",\n",
    "    \"flower\": \"꽃\",\n",
    "    \"guitar\": \"기타\",\n",
    "    \"house\": \"집\",\n",
    "    \"ice cream\": \"아이스크림\",\n",
    "    \"jacket\": \"재킷\"\n",
    "}"
   ]
  },
  {
   "cell_type": "markdown",
   "metadata": {
    "id": "eNeV3vgUpCk8"
   },
   "source": [
    "## 3.퀴즈 함수 정의(quiz())하고 호출하여 실행하기"
   ]
  },
  {
   "cell_type": "code",
   "execution_count": null,
   "metadata": {
    "id": "YYLbLfeiFxQz"
   },
   "outputs": [],
   "source": [
    "# 퀴즈를 만드는 함수를 정의합니다.\n",
    "def quiz():\n",
    "    # dictionary에서 무작위로 단어와 뜻을 선택합니다.\n",
    "    word, meaning = ...   # ... 코드입력\n",
    "\n",
    "    # 사용자에게 단어의 뜻을 물어봅니다.\n",
    "    answer = input(f\"{word}의 뜻은 무엇일까요? \")\n",
    "\n",
    "    # 사용자가 입력한 답과 정답을 비교하여 결과를 출력합니다. ( if/else 문 사용)\n",
    "    ...   # ... 코드입력\n",
    "    ...   # ... 코드입력\n",
    "    ...   # ... 코드입력\n",
    "    ...   # ... 코드입력\n",
    "\n",
    "# 퀴즈 함수 호출하여 실행하기\n",
    "for i in range(3):\n",
    "    ...   # ... 코드입력"
   ]
  },
  {
   "cell_type": "markdown",
   "metadata": {
    "id": "1EoUvAfyGkNE"
   },
   "source": [
    "## **< 연습문제>**\n",
    "- '단어.txt' 파일을 읽어 딕셔너리에 단어 목록을 저장하고 단어 목록 딕셔너리를 읽어서 단어 암기 프로그램이 동작되도록 코드를 변경해 보세요!!"
   ]
  },
  {
   "cell_type": "code",
   "execution_count": null,
   "metadata": {
    "id": "xLSICKVErtF1"
   },
   "outputs": [],
   "source": [
    "# 파일 다운로드하기 : 'word_list.txt'\n",
    "!gdown 1ZVwQOPfn-ib0Y2c2n-iTMBAAFk0Yfoya"
   ]
  },
  {
   "cell_type": "code",
   "execution_count": null,
   "metadata": {
    "id": "ny9J4yM3G2rL"
   },
   "outputs": [],
   "source": [
    "# 1. 패키지 가져오기\n",
    "# 코드 작성\n",
    "\n",
    "# 2. 파일에서 단어 가져오는 함수 : load_words(filename) / return : words\n",
    "# 코드 작성\n",
    "\n",
    "\n",
    "\n",
    "\n",
    "\n",
    "# 3. 퀴즈 함수 : quiz(words, num_question=3)\n",
    "# 코드 작성\n",
    "\n",
    "\n",
    "\n",
    "\n",
    "\n",
    "# 4. word_list.txt 파일 읽어서 퀴즈 진행하기\n",
    "filename = \"word_list.txt\"\n",
    "words = ...   # ... 코드 작성\n",
    "quiz(words, 5)"
   ]
  }
 ],
 "metadata": {
  "colab": {
   "authorship_tag": "ABX9TyM6xQxUe7fw5i1oEQv8ngMf",
   "private_outputs": true,
   "provenance": []
  },
  "kernelspec": {
   "display_name": "envtest",
   "language": "python",
   "name": "python3"
  },
  "language_info": {
   "name": "python",
   "version": "3.10.16"
  }
 },
 "nbformat": 4,
 "nbformat_minor": 0
}
